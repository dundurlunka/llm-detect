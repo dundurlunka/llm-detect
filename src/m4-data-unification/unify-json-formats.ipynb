{
 "cells": [
  {
   "cell_type": "markdown",
   "metadata": {},
   "source": [
    "## Imports"
   ]
  },
  {
   "cell_type": "code",
   "execution_count": 1,
   "metadata": {},
   "outputs": [],
   "source": [
    "import os\n",
    "import pandas as pd\n",
    "\n",
    "from pathlib import Path"
   ]
  },
  {
   "cell_type": "markdown",
   "metadata": {},
   "source": [
    "## Constants"
   ]
  },
  {
   "cell_type": "code",
   "execution_count": 2,
   "metadata": {},
   "outputs": [],
   "source": [
    "M4_FOLDER_PATH = '../../data/raw/m4'\n",
    "M4_UNIFIED_FOLDER_PATH = '../../data/raw/m4-unified'"
   ]
  },
  {
   "cell_type": "markdown",
   "metadata": {},
   "source": [
    "## Get all jsonl files"
   ]
  },
  {
   "cell_type": "code",
   "execution_count": 45,
   "metadata": {},
   "outputs": [],
   "source": [
    "pathlist = Path(M4_FOLDER_PATH).glob('**/*.jsonl')"
   ]
  },
  {
   "cell_type": "markdown",
   "metadata": {},
   "source": [
    "## Extract data from files"
   ]
  },
  {
   "cell_type": "code",
   "execution_count": 36,
   "metadata": {},
   "outputs": [],
   "source": [
    "def get_json_machine_text_field_name(file_name):\n",
    "    json_text_field = 'machine_text'\n",
    "    if file_name == 'reddit_bloomz.jsonl':\n",
    "        json_text_field = 'machine_answer'\n",
    "    elif file_name == 'arxiv_bloomz.jsonl':\n",
    "        json_text_field = 'machine_abstract'\n",
    "    elif file_name == 'wikihow_bloomz.jsonl':\n",
    "        json_text_field = 'machine_abstract'\n",
    "    elif file_name == 'wikipedia_bloomz.jsonl':\n",
    "        json_text_field = 'machine_abstract'\n",
    "\n",
    "    return json_text_field"
   ]
  },
  {
   "cell_type": "code",
   "execution_count": 46,
   "metadata": {},
   "outputs": [],
   "source": [
    "for path in pathlist:\n",
    "    path_str, file_name= os.path.split(path)\n",
    "\n",
    "    json_machine_text_field = get_json_machine_text_field_name(file_name)\n",
    "    folder_name = file_name.split('_')[0]\n",
    "\n",
    "    input_df = pd.read_json(path_or_buf=path, lines=True)\n",
    "\n",
    "    unified_df = pd.DataFrame(columns=['text'])\n",
    "    unified_df['text'] = input_df[json_machine_text_field]\n",
    "\n",
    "    output_folder = f'{M4_UNIFIED_FOLDER_PATH}/{folder_name}'\n",
    "    if not os.path.exists(output_folder):\n",
    "        os.mkdir(output_folder)\n",
    "        \n",
    "    unified_df.to_json(f'{output_folder}/{file_name}', orient='records', lines=True)"
   ]
  },
  {
   "cell_type": "markdown",
   "metadata": {},
   "source": [
    "## Extract human texts per domain from ChatGPT datasets"
   ]
  },
  {
   "cell_type": "code",
   "execution_count": 13,
   "metadata": {},
   "outputs": [],
   "source": [
    "chat_gpt_datasets_paths = Path(M4_FOLDER_PATH).glob('**/*_chatGPT.jsonl')"
   ]
  },
  {
   "cell_type": "code",
   "execution_count": 5,
   "metadata": {},
   "outputs": [
    {
     "data": {
      "text/plain": [
       "[WindowsPath('../../data/raw/m4/arxiv/arxiv_chatGPT.jsonl'),\n",
       " WindowsPath('../../data/raw/m4/reddit/reddit_chatGPT.jsonl'),\n",
       " WindowsPath('../../data/raw/m4/wikihow/wikihow_chatGPT.jsonl'),\n",
       " WindowsPath('../../data/raw/m4/wikipedia/wikipedia_chatgpt.jsonl')]"
      ]
     },
     "execution_count": 5,
     "metadata": {},
     "output_type": "execute_result"
    }
   ],
   "source": [
    "list(chat_gpt_datasets_paths)"
   ]
  },
  {
   "cell_type": "code",
   "execution_count": 14,
   "metadata": {},
   "outputs": [],
   "source": [
    "for path in chat_gpt_datasets_paths:\n",
    "    path_str, file_name= os.path.split(path)\n",
    "    folder_name = file_name.split('_')[0]\n",
    "\n",
    "    input_df = pd.read_json(path_or_buf=path, lines=True)\n",
    "    \n",
    "    json_human_text_field = 'human_text'\n",
    "    unified_df = pd.DataFrame(columns=['text'])\n",
    "    unified_df['text'] = input_df[json_human_text_field]\n",
    "    \n",
    "    output_folder = f'{M4_UNIFIED_FOLDER_PATH}/{folder_name}'\n",
    "    unified_df.to_json(f'{output_folder}/{folder_name}_human.jsonl', orient='records', lines=True)"
   ]
  }
 ],
 "metadata": {
  "kernelspec": {
   "display_name": "llm-detect",
   "language": "python",
   "name": "python3"
  },
  "language_info": {
   "codemirror_mode": {
    "name": "ipython",
    "version": 3
   },
   "file_extension": ".py",
   "mimetype": "text/x-python",
   "name": "python",
   "nbconvert_exporter": "python",
   "pygments_lexer": "ipython3",
   "version": "3.11.8"
  }
 },
 "nbformat": 4,
 "nbformat_minor": 2
}
