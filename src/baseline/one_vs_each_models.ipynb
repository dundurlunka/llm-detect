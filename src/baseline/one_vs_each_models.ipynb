{
  "cells": [
    {
      "cell_type": "markdown",
      "metadata": {
        "id": "J6BYeghPMyOX"
      },
      "source": [
        "## Imports"
      ]
    },
    {
      "cell_type": "code",
      "execution_count": 1,
      "metadata": {
        "id": "XUjqpUheMyOZ"
      },
      "outputs": [
        {
          "name": "stderr",
          "output_type": "stream",
          "text": [
            "c:\\Users\\boyan.bogdanov\\.conda\\envs\\llm-detect\\Lib\\site-packages\\tqdm\\auto.py:21: TqdmWarning: IProgress not found. Please update jupyter and ipywidgets. See https://ipywidgets.readthedocs.io/en/stable/user_install.html\n",
            "  from .autonotebook import tqdm as notebook_tqdm\n"
          ]
        }
      ],
      "source": [
        "import pandas as pd\n",
        "import numpy as np\n",
        "import torch\n",
        "import json\n",
        "\n",
        "from tqdm import tqdm\n",
        "from torch import nn\n",
        "from transformers import AutoTokenizer\n",
        "from torch.utils.data import Dataset, DataLoader\n",
        "from timeit import default_timer as timer\n",
        "from os import walk\n",
        "from pathlib import Path\n",
        "from sklearn.model_selection import train_test_split\n",
        "from sklearn.metrics import f1_score, roc_curve, auc, brier_score_loss"
      ]
    },
    {
      "cell_type": "markdown",
      "metadata": {
        "id": "gafxVAFwMyOb"
      },
      "source": [
        "## Data"
      ]
    },
    {
      "cell_type": "code",
      "execution_count": 2,
      "metadata": {
        "id": "J5XIgPhLMyOb"
      },
      "outputs": [],
      "source": [
        "ROOT_DATA_RAW = '../../data/raw'\n",
        "HUMAN_JSON_FILE_NAME = 'human.jsonl'\n",
        "HUMAN_JSON_PATH = f'{ROOT_DATA_RAW}/{HUMAN_JSON_FILE_NAME}'\n",
        "MODELS_JSON_FOLDER_PATH = f'{ROOT_DATA_RAW}/machines'"
      ]
    },
    {
      "cell_type": "code",
      "execution_count": 3,
      "metadata": {
        "id": "VKplUXm6MyOb"
      },
      "outputs": [],
      "source": [
        "BATCH_SIZE = 32\n",
        "LSTM_UNITS = 256\n",
        "LSTM_LAYERS = 5\n",
        "EMBEDDING_SIZE = 512"
      ]
    },
    {
      "cell_type": "code",
      "execution_count": 4,
      "metadata": {
        "id": "Fy7yGY_PMyOb"
      },
      "outputs": [],
      "source": [
        "TEST_SET_FRACTION = 0.3"
      ]
    },
    {
      "cell_type": "code",
      "execution_count": 5,
      "metadata": {},
      "outputs": [],
      "source": [
        "def extract_topic(id):\n",
        "    try:\n",
        "        dash_indices = [i for i, char in enumerate(id) if char == '-']\n",
        "        second_last_dash_index = dash_indices[-2]\n",
        "        last_slash_index = id.rindex('/')\n",
        "        \n",
        "        # Extract the text between the second-to-last \"-\" and the last \"/\"\n",
        "        result = id[second_last_dash_index + 1:last_slash_index]\n",
        "        return result\n",
        "    except ValueError:\n",
        "        # In case \"-\" or \"/\" are not found, return None\n",
        "        return None"
      ]
    },
    {
      "cell_type": "code",
      "execution_count": 6,
      "metadata": {
        "id": "TdmbjseUMyOb"
      },
      "outputs": [],
      "source": [
        "df = pd.read_json(path_or_buf=HUMAN_JSON_PATH, lines=True)\n",
        "df['text_index'] = df.index\n",
        "df['is_llm'] = 0\n",
        "df['topic'] = df['id'].apply(extract_topic)"
      ]
    },
    {
      "cell_type": "code",
      "execution_count": 7,
      "metadata": {
        "id": "joRLX4rPMyOc"
      },
      "outputs": [],
      "source": [
        "dir_path, dir_names, file_names = next(walk(MODELS_JSON_FOLDER_PATH))\n",
        "\n",
        "for file_name in file_names:\n",
        "    temp_df = pd.read_json(path_or_buf=f'{MODELS_JSON_FOLDER_PATH}/{file_name}', lines=True)\n",
        "    temp_df['text_index'] = temp_df.index\n",
        "    temp_df['is_llm'] = 1\n",
        "    temp_df['topic'] = temp_df['id'].apply(extract_topic)\n",
        "\n",
        "    df = pd.concat([df, temp_df], ignore_index=True)\n",
        "\n",
        "df.drop(labels=['id'], inplace=True, axis='columns')"
      ]
    },
    {
      "cell_type": "code",
      "execution_count": 8,
      "metadata": {
        "colab": {
          "base_uri": "https://localhost:8080/",
          "height": 206
        },
        "id": "Yu4nL5ahMyOc",
        "outputId": "233c38d1-4e25-4758-e99b-82d2c9e16ebf"
      },
      "outputs": [
        {
          "data": {
            "text/html": [
              "<div>\n",
              "<style scoped>\n",
              "    .dataframe tbody tr th:only-of-type {\n",
              "        vertical-align: middle;\n",
              "    }\n",
              "\n",
              "    .dataframe tbody tr th {\n",
              "        vertical-align: top;\n",
              "    }\n",
              "\n",
              "    .dataframe thead th {\n",
              "        text-align: right;\n",
              "    }\n",
              "</style>\n",
              "<table border=\"1\" class=\"dataframe\">\n",
              "  <thead>\n",
              "    <tr style=\"text-align: right;\">\n",
              "      <th></th>\n",
              "      <th>text</th>\n",
              "      <th>text_index</th>\n",
              "      <th>is_llm</th>\n",
              "      <th>topic</th>\n",
              "    </tr>\n",
              "  </thead>\n",
              "  <tbody>\n",
              "    <tr>\n",
              "      <th>15213</th>\n",
              "      <td>'The Disappearance of Gabby Petito' – A Compre...</td>\n",
              "      <td>1082</td>\n",
              "      <td>1</td>\n",
              "      <td>wyominggabbypetito</td>\n",
              "    </tr>\n",
              "    <tr>\n",
              "      <th>15214</th>\n",
              "      <td>Utah State Police Search for Gabby Petito, Tra...</td>\n",
              "      <td>1083</td>\n",
              "      <td>1</td>\n",
              "      <td>wyominggabbypetito</td>\n",
              "    </tr>\n",
              "    <tr>\n",
              "      <th>15215</th>\n",
              "      <td>McKenna's Lost Friend: Debunking the Evidence ...</td>\n",
              "      <td>1084</td>\n",
              "      <td>1</td>\n",
              "      <td>wyominggabbypetito</td>\n",
              "    </tr>\n",
              "    <tr>\n",
              "      <th>15216</th>\n",
              "      <td>\"Gunshots Found in Florida Nature Preserve: A ...</td>\n",
              "      <td>1085</td>\n",
              "      <td>1</td>\n",
              "      <td>wyominggabbypetito</td>\n",
              "    </tr>\n",
              "    <tr>\n",
              "      <th>15217</th>\n",
              "      <td>A Very Kind and Sweet Woman in Long Island Sho...</td>\n",
              "      <td>1086</td>\n",
              "      <td>1</td>\n",
              "      <td>wyominggabbypetito</td>\n",
              "    </tr>\n",
              "  </tbody>\n",
              "</table>\n",
              "</div>"
            ],
            "text/plain": [
              "                                                    text  text_index  is_llm  \\\n",
              "15213  'The Disappearance of Gabby Petito' – A Compre...        1082       1   \n",
              "15214  Utah State Police Search for Gabby Petito, Tra...        1083       1   \n",
              "15215  McKenna's Lost Friend: Debunking the Evidence ...        1084       1   \n",
              "15216  \"Gunshots Found in Florida Nature Preserve: A ...        1085       1   \n",
              "15217  A Very Kind and Sweet Woman in Long Island Sho...        1086       1   \n",
              "\n",
              "                    topic  \n",
              "15213  wyominggabbypetito  \n",
              "15214  wyominggabbypetito  \n",
              "15215  wyominggabbypetito  \n",
              "15216  wyominggabbypetito  \n",
              "15217  wyominggabbypetito  "
            ]
          },
          "execution_count": 8,
          "metadata": {},
          "output_type": "execute_result"
        }
      ],
      "source": [
        "df.tail()"
      ]
    },
    {
      "cell_type": "markdown",
      "metadata": {
        "id": "WjddZEVUMyOd"
      },
      "source": [
        "### Tokenize"
      ]
    },
    {
      "cell_type": "code",
      "execution_count": 9,
      "metadata": {
        "colab": {
          "base_uri": "https://localhost:8080/",
          "height": 304,
          "referenced_widgets": [
            "0e5d1f82bd4e4c5e9b77b3e7b4e1825d",
            "fb3496851d4240df8adafced7f6294f1",
            "ca4ffb80734349c38894e6a1466aa48e",
            "a1616df8431846cb86f86907cf2e4198",
            "4b9a350bd0f8484daec7175a5501e8cd",
            "67f951f9d98945c0be9247ef2e2be5d8",
            "c38c3592b76d49f39d81275b1282ed87",
            "8d23deaff63644c29803b721583cc601",
            "fbcae6fdd6264d918a508a67ee9f25ce",
            "96450211d3d441e0a35a88fde55cd45e",
            "dba8390fdf7f483aad35bab1fcde9414",
            "cd32caa2cc1343efaa9a8dbf5ed626c6",
            "99707ce659d3434d804c1e614e69ba61",
            "58eb56cc8c2c42bb8d8ed893cd31bbe0",
            "f89a48c8596949c1b6789b9195b569b7",
            "44ee402fd993472486d8b182e02939c2",
            "de509d9d939f464092384acf57a63667",
            "df70372fe7704fe2a6c9b5f3ff898bd9",
            "93fe8415a0214089bcedfa1e88c97f4c",
            "dbb93fab19394a369fc2c535e0f1c270",
            "28cfc025ee684f0bb65e994d5040e2f5",
            "a1e1768246c7432e979dd25ac9ba9139",
            "36b6b8c4fa2048479335a049475bd11a",
            "df85f13f05c643c483fb5a9020d4eb2e",
            "0392a28cce1c411eb589a2a830de9f81",
            "954d67adf5a44d42a1b7494208c62f90",
            "c7932bac22e4474980b7550d5e549710",
            "cce3be99a3d44628a60a2ccd5aa93851",
            "aa54d61e08144063aa05f510b75bfb50",
            "1d1b05bcccc74fb9a05d254c02e70ecf",
            "a97591a5da36414291443f0c072f7aef",
            "198be5934fa54ee2ac2ba8c2de2d0495",
            "bb94427c56d143ec9beea5f77afc869b",
            "205787b9a44e45548bbf3eea10442671",
            "16325d80e6784518a46da6df47624241",
            "8b52c56ce26d49ceb33be24ba4d7fa91",
            "64083f9a1384455ea37109cf9b002e6a",
            "4b874b0fdf604cf992166c370eef87a8",
            "ef74c0ece2494ae9b2841fdce4cc70a6",
            "b93827186b71413cbceee4f1d60ca712",
            "dfd7e55521cc4de38139027cdbe2d70f",
            "a14ebacbc5624ec1b45c06e01bcba260",
            "23a0951ed1a04765a5acd609bb2d5149",
            "2414bc4f499f4af4b5d1c879ff96ebdc"
          ]
        },
        "id": "0MmueNB4MyOd",
        "outputId": "224dfc20-8669-4aae-da39-fba2aaa93339"
      },
      "outputs": [],
      "source": [
        "checkpoint = 'distilbert-base-cased'\n",
        "tokenizer = AutoTokenizer.from_pretrained(checkpoint)"
      ]
    },
    {
      "cell_type": "code",
      "execution_count": 10,
      "metadata": {
        "colab": {
          "base_uri": "https://localhost:8080/"
        },
        "id": "nzBYtPt2MyOd",
        "outputId": "98081407-0195-46c7-e3e1-d99eb6af721b"
      },
      "outputs": [
        {
          "name": "stderr",
          "output_type": "stream",
          "text": [
            "Token indices sequence length is longer than the specified maximum sequence length for this model (843 > 512). Running this sequence through the model will result in indexing errors\n"
          ]
        }
      ],
      "source": [
        "df['tokenized_text'] = tokenizer(list(df['text'].to_list()))['input_ids']"
      ]
    },
    {
      "cell_type": "code",
      "execution_count": 19,
      "metadata": {},
      "outputs": [
        {
          "data": {
            "text/html": [
              "<div>\n",
              "<style scoped>\n",
              "    .dataframe tbody tr th:only-of-type {\n",
              "        vertical-align: middle;\n",
              "    }\n",
              "\n",
              "    .dataframe tbody tr th {\n",
              "        vertical-align: top;\n",
              "    }\n",
              "\n",
              "    .dataframe thead th {\n",
              "        text-align: right;\n",
              "    }\n",
              "</style>\n",
              "<table border=\"1\" class=\"dataframe\">\n",
              "  <thead>\n",
              "    <tr style=\"text-align: right;\">\n",
              "      <th></th>\n",
              "      <th>text</th>\n",
              "      <th>text_index</th>\n",
              "      <th>is_llm</th>\n",
              "      <th>topic</th>\n",
              "      <th>tokenized_text</th>\n",
              "    </tr>\n",
              "  </thead>\n",
              "  <tbody>\n",
              "    <tr>\n",
              "      <th>0</th>\n",
              "      <td>Inaugural Address by President Joseph R. Biden...</td>\n",
              "      <td>0</td>\n",
              "      <td>0</td>\n",
              "      <td>bideninauguration</td>\n",
              "      <td>[101, 1130, 3984, 13830, 4412, 24930, 18380, 1...</td>\n",
              "    </tr>\n",
              "    <tr>\n",
              "      <th>1</th>\n",
              "      <td>Fact check: Biden inauguration impacted by pan...</td>\n",
              "      <td>1</td>\n",
              "      <td>0</td>\n",
              "      <td>bideninauguration</td>\n",
              "      <td>[101, 143, 11179, 4031, 131, 139, 26859, 20105...</td>\n",
              "    </tr>\n",
              "    <tr>\n",
              "      <th>2</th>\n",
              "      <td>Highlights from Joe Biden's 2021 inauguration\\...</td>\n",
              "      <td>2</td>\n",
              "      <td>0</td>\n",
              "      <td>bideninauguration</td>\n",
              "      <td>[101, 1693, 13231, 1121, 2658, 139, 26859, 112...</td>\n",
              "    </tr>\n",
              "    <tr>\n",
              "      <th>3</th>\n",
              "      <td>Biden takes the helm, appeals for unity to tak...</td>\n",
              "      <td>3</td>\n",
              "      <td>0</td>\n",
              "      <td>bideninauguration</td>\n",
              "      <td>[101, 139, 26859, 2274, 1103, 22778, 117, 1599...</td>\n",
              "    </tr>\n",
              "    <tr>\n",
              "      <th>4</th>\n",
              "      <td>'The Hill We Climb': Read Amanda Gorman's inau...</td>\n",
              "      <td>4</td>\n",
              "      <td>0</td>\n",
              "      <td>bideninauguration</td>\n",
              "      <td>[101, 112, 1109, 2404, 1284, 140, 24891, 1830,...</td>\n",
              "    </tr>\n",
              "    <tr>\n",
              "      <th>...</th>\n",
              "      <td>...</td>\n",
              "      <td>...</td>\n",
              "      <td>...</td>\n",
              "      <td>...</td>\n",
              "      <td>...</td>\n",
              "    </tr>\n",
              "    <tr>\n",
              "      <th>15174</th>\n",
              "      <td>'Massive Impact of Winter Storm in Houston'\\n\\...</td>\n",
              "      <td>1043</td>\n",
              "      <td>1</td>\n",
              "      <td>winterstormtexas</td>\n",
              "      <td>[101, 112, 8718, 2109, 13788, 1104, 4591, 7007...</td>\n",
              "    </tr>\n",
              "    <tr>\n",
              "      <th>15175</th>\n",
              "      <td>Ken Paxton's Accusations of Shifting Weather E...</td>\n",
              "      <td>1044</td>\n",
              "      <td>1</td>\n",
              "      <td>winterstormtexas</td>\n",
              "      <td>[101, 5928, 19585, 14933, 112, 188, 138, 19515...</td>\n",
              "    </tr>\n",
              "    <tr>\n",
              "      <th>15176</th>\n",
              "      <td>Two Fires Have Emerged in Austin After Extreme...</td>\n",
              "      <td>1045</td>\n",
              "      <td>1</td>\n",
              "      <td>winterstormtexas</td>\n",
              "      <td>[101, 1960, 4266, 1116, 4373, 18653, 1200, 366...</td>\n",
              "    </tr>\n",
              "    <tr>\n",
              "      <th>15177</th>\n",
              "      <td>Sugar Land Fire: A Story Conquered by Children...</td>\n",
              "      <td>1046</td>\n",
              "      <td>1</td>\n",
              "      <td>winterstormtexas</td>\n",
              "      <td>[101, 10619, 4026, 4266, 131, 138, 5145, 16752...</td>\n",
              "    </tr>\n",
              "    <tr>\n",
              "      <th>15178</th>\n",
              "      <td>The National Weather Service warns of a second...</td>\n",
              "      <td>1047</td>\n",
              "      <td>1</td>\n",
              "      <td>winterstormtexas</td>\n",
              "      <td>[101, 1109, 1305, 14263, 2516, 21310, 1104, 17...</td>\n",
              "    </tr>\n",
              "  </tbody>\n",
              "</table>\n",
              "<p>14672 rows × 5 columns</p>\n",
              "</div>"
            ],
            "text/plain": [
              "                                                    text  text_index  is_llm  \\\n",
              "0      Inaugural Address by President Joseph R. Biden...           0       0   \n",
              "1      Fact check: Biden inauguration impacted by pan...           1       0   \n",
              "2      Highlights from Joe Biden's 2021 inauguration\\...           2       0   \n",
              "3      Biden takes the helm, appeals for unity to tak...           3       0   \n",
              "4      'The Hill We Climb': Read Amanda Gorman's inau...           4       0   \n",
              "...                                                  ...         ...     ...   \n",
              "15174  'Massive Impact of Winter Storm in Houston'\\n\\...        1043       1   \n",
              "15175  Ken Paxton's Accusations of Shifting Weather E...        1044       1   \n",
              "15176  Two Fires Have Emerged in Austin After Extreme...        1045       1   \n",
              "15177  Sugar Land Fire: A Story Conquered by Children...        1046       1   \n",
              "15178  The National Weather Service warns of a second...        1047       1   \n",
              "\n",
              "                   topic                                     tokenized_text  \n",
              "0      bideninauguration  [101, 1130, 3984, 13830, 4412, 24930, 18380, 1...  \n",
              "1      bideninauguration  [101, 143, 11179, 4031, 131, 139, 26859, 20105...  \n",
              "2      bideninauguration  [101, 1693, 13231, 1121, 2658, 139, 26859, 112...  \n",
              "3      bideninauguration  [101, 139, 26859, 2274, 1103, 22778, 117, 1599...  \n",
              "4      bideninauguration  [101, 112, 1109, 2404, 1284, 140, 24891, 1830,...  \n",
              "...                  ...                                                ...  \n",
              "15174   winterstormtexas  [101, 112, 8718, 2109, 13788, 1104, 4591, 7007...  \n",
              "15175   winterstormtexas  [101, 5928, 19585, 14933, 112, 188, 138, 19515...  \n",
              "15176   winterstormtexas  [101, 1960, 4266, 1116, 4373, 18653, 1200, 366...  \n",
              "15177   winterstormtexas  [101, 10619, 4026, 4266, 131, 138, 5145, 16752...  \n",
              "15178   winterstormtexas  [101, 1109, 1305, 14263, 2516, 21310, 1104, 17...  \n",
              "\n",
              "[14672 rows x 5 columns]"
            ]
          },
          "execution_count": 19,
          "metadata": {},
          "output_type": "execute_result"
        }
      ],
      "source": []
    },
    {
      "cell_type": "markdown",
      "metadata": {
        "id": "c8LGVtIFMyOe"
      },
      "source": [
        "## Model"
      ]
    },
    {
      "cell_type": "code",
      "execution_count": 11,
      "metadata": {
        "colab": {
          "base_uri": "https://localhost:8080/"
        },
        "id": "Tp9WLZmFMyOe",
        "outputId": "60b35abe-759b-4123-df59-c9fafe7e5874"
      },
      "outputs": [
        {
          "name": "stdout",
          "output_type": "stream",
          "text": [
            "cpu\n"
          ]
        }
      ],
      "source": [
        "device = torch.device('cuda' if torch.cuda.is_available() else 'cpu')\n",
        "print(device)"
      ]
    },
    {
      "cell_type": "code",
      "execution_count": 12,
      "metadata": {
        "id": "XpuUaFxyMyOe"
      },
      "outputs": [],
      "source": [
        "class RNN(nn.Module):\n",
        "    def __init__(self, vocab_size, embedding_size, hidden_size, layers_num, device, output_size=1, dropout=0):\n",
        "        super().__init__()\n",
        "\n",
        "        self.vocab_size = vocab_size\n",
        "        self.embedding_size = embedding_size\n",
        "        self.hidden_size = hidden_size\n",
        "        self.layers_num = layers_num\n",
        "        self.output_size= output_size\n",
        "        self.dropout = dropout\n",
        "        self.device = device\n",
        "\n",
        "        self.embed = nn.Embedding(self.vocab_size, self.embedding_size, device=self.device)\n",
        "\n",
        "        self.lstm = nn.LSTM(\n",
        "            input_size=self.embedding_size,\n",
        "            hidden_size=self.hidden_size,\n",
        "            num_layers=self.layers_num,\n",
        "            batch_first=True,\n",
        "            dropout=self.dropout,\n",
        "            device=self.device\n",
        "        )\n",
        "\n",
        "        self.fc = nn.Linear(\n",
        "            self.hidden_size,\n",
        "            self.output_size\n",
        "        )\n",
        "\n",
        "    def forward(self, X, lengths):\n",
        "        embeddings = self.embed(X)\n",
        "\n",
        "        seq_output, (h_n, c_n) = self.lstm(embeddings)\n",
        "\n",
        "        out = seq_output.sum(dim=1).div(lengths.float().unsqueeze(dim=1))\n",
        "        logits = self.fc(out)\n",
        "        return logits"
      ]
    },
    {
      "cell_type": "markdown",
      "metadata": {
        "id": "ub-xK5D9MyOe"
      },
      "source": [
        "## Dataset"
      ]
    },
    {
      "cell_type": "code",
      "execution_count": 13,
      "metadata": {
        "id": "jIeWGotfMyOf"
      },
      "outputs": [],
      "source": [
        "class TextDataset(Dataset):\n",
        "    def __init__(self, X, y):\n",
        "        self.X = X\n",
        "        self.y = y\n",
        "\n",
        "    def __len__(self):\n",
        "        return self.X.size\n",
        "\n",
        "    def __getitem__(self, index):\n",
        "        return (\n",
        "            self.X.iloc[index],\n",
        "            self.y.iloc[index]\n",
        "        )"
      ]
    },
    {
      "cell_type": "code",
      "execution_count": 14,
      "metadata": {
        "id": "la1D3dIwMyOf"
      },
      "outputs": [],
      "source": [
        "def collate_fn(batch):\n",
        "  # We want to sort the batch by seq length,\n",
        "  # in order to make the computation more efficient\n",
        "  batch = sorted(batch, key=lambda x: len(x[0]), reverse=True)\n",
        "\n",
        "  inputs = [torch.LongTensor(x[0]).to(device) for x in batch]\n",
        "  padded_input = nn.utils.rnn.pad_sequence(inputs, batch_first=True)\n",
        "\n",
        "  lengths = torch.LongTensor([len(x[0]) for x in batch]).to(device)\n",
        "\n",
        "  y = torch.FloatTensor(np.array([x[1] for x in batch])).reshape(-1, 1).to(device)\n",
        "\n",
        "  return padded_input, lengths, y"
      ]
    },
    {
      "cell_type": "markdown",
      "metadata": {
        "id": "vQ3z2zK-MyOf"
      },
      "source": [
        "## Train and test functions"
      ]
    },
    {
      "cell_type": "code",
      "execution_count": 15,
      "metadata": {
        "id": "P6ghG7B4MyOf"
      },
      "outputs": [],
      "source": [
        "def calculate_accuracy(y_true, y_hat):\n",
        "    correct_pred = torch.eq(torch.sigmoid(y_hat).round(), y_true).sum().item()\n",
        "    return (correct_pred / len(y_hat)) * 100\n",
        "\n",
        "def calculate_f1(y_true, y_hat):\n",
        "    y_pred = torch.sigmoid(y_hat).round()\n",
        "    return f1_score(y_true, y_pred)\n",
        "\n",
        "def calculate_brier(y_true, y_hat):\n",
        "    y_prob = torch.sigmoid(y_hat)\n",
        "    return brier_score_loss(y_true, y_prob)\n",
        "\n",
        "def calculate_auc(y_true, y_hat):\n",
        "    y_prob = torch.sigmoid(y_hat)\n",
        "\n",
        "    false_positive_rates, true_positive_rates, _ = roc_curve(y_true, y_prob)\n",
        "    roc_auc = auc(false_positive_rates, true_positive_rates)\n",
        "\n",
        "    return roc_auc, false_positive_rates, true_positive_rates\n",
        "\n",
        "def train_step(model, dataloader, loss_fn, optimizer, device):\n",
        "\n",
        "    model.train()\n",
        "\n",
        "    train_loss, train_acc = 0, 0\n",
        "    steps = 0\n",
        "\n",
        "    for X, lengths, y in dataloader:\n",
        "        X, y = X.to(device), y.to(device)\n",
        "\n",
        "        y_hat = model(X, lengths)\n",
        "\n",
        "        loss = loss_fn(y_hat, y)\n",
        "        train_loss += loss.item()\n",
        "\n",
        "        optimizer.zero_grad()\n",
        "        loss.backward()\n",
        "        optimizer.step()\n",
        "\n",
        "        train_acc += calculate_accuracy(y_true=y, y_hat=y_hat)\n",
        "        steps += 1\n",
        "\n",
        "    return train_loss / steps, train_acc / steps\n",
        "\n",
        "\n",
        "def test_step(model, dataloader, loss_fn, device):\n",
        "\n",
        "    model.eval()\n",
        "\n",
        "    all_y_true = []\n",
        "    all_y_hat = []\n",
        "\n",
        "    test_loss = 0\n",
        "    steps = 0\n",
        "\n",
        "    with torch.inference_mode():\n",
        "        for X, lengths, y in dataloader:\n",
        "\n",
        "            X, y = X.to(device), y.to(device)\n",
        "\n",
        "            y_hat = model(X, lengths)\n",
        "\n",
        "            all_y_true.extend(y)\n",
        "            all_y_hat.extend(y_hat)\n",
        "\n",
        "            loss = loss_fn(y_hat, y)\n",
        "            test_loss += loss.item()\n",
        "\n",
        "            steps += 1\n",
        "\n",
        "        all_y_true = torch.FloatTensor(all_y_true)\n",
        "        all_y_hat = torch.FloatTensor(all_y_hat)\n",
        "\n",
        "        test_accuracy = calculate_accuracy(all_y_true, all_y_hat)\n",
        "        test_f1 = calculate_f1(all_y_true, all_y_hat)\n",
        "        test_brier = calculate_brier(all_y_true, all_y_hat)\n",
        "        test_auc_tuple = calculate_auc(all_y_true, all_y_hat)\n",
        "\n",
        "    return test_loss / steps, test_accuracy, test_f1, test_brier, test_auc_tuple\n",
        "\n",
        "def train(model,\n",
        "          train_dataloader,\n",
        "          test_dataloader,\n",
        "          optimizer,\n",
        "          loss_fn,\n",
        "          epochs,\n",
        "          device):\n",
        "\n",
        "    results = {\n",
        "        \"train_loss\": [],\n",
        "        \"train_acc\": [],\n",
        "        \"test_loss\": [],\n",
        "        \"test_acc\": [],\n",
        "        \"test_f1\": [],\n",
        "        \"test_brier\": [],\n",
        "        \"test_auc_tuple\": []\n",
        "    }\n",
        "\n",
        "    model.to(device)\n",
        "\n",
        "    for epoch in tqdm(range(epochs)):\n",
        "\n",
        "        start_time = timer()\n",
        "        train_loss, train_acc = train_step(\n",
        "            model=model,\n",
        "            dataloader=train_dataloader,\n",
        "            loss_fn=loss_fn,\n",
        "            optimizer=optimizer,\n",
        "            device=device,\n",
        "        )\n",
        "        end_time = timer()\n",
        "\n",
        "        test_loss, test_acc, test_f1, test_brier, test_auc_tuple = test_step(\n",
        "            model=model,\n",
        "            dataloader=test_dataloader,\n",
        "            loss_fn=loss_fn,\n",
        "            device=device,\n",
        "        )\n",
        "\n",
        "        results[\"train_loss\"].append(train_loss)\n",
        "        results[\"train_acc\"].append(train_acc)\n",
        "        results[\"test_loss\"].append(test_loss)\n",
        "        results[\"test_acc\"].append(test_acc)\n",
        "        results[\"test_f1\"].append(test_f1)\n",
        "        results[\"test_brier\"].append(test_brier),\n",
        "        results[\"test_auc_tuple\"].append(test_auc_tuple)\n",
        "\n",
        "        print(\n",
        "            f\"Epoch: {epoch+1} | \"\n",
        "            f\"train_loss: {train_loss:.4f} | \"\n",
        "            f\"train_acc: {train_acc:.4f} | \"\n",
        "            f\"test_loss: {test_loss:.4f} | \"\n",
        "            f\"test_acc: {test_acc:.4f} | \"\n",
        "            f\"test_f1: {test_f1:.4f} | \"\n",
        "            f\"test_brier: {test_brier:.4f} | \"\n",
        "            f\"time: {(end_time-start_time):.4f}\"\n",
        "        )\n",
        "\n",
        "    return results"
      ]
    },
    {
      "cell_type": "markdown",
      "metadata": {
        "id": "dWxletJxMyOf"
      },
      "source": [
        "## Train on each LLM dataset separately and test against all others"
      ]
    },
    {
      "cell_type": "code",
      "execution_count": 21,
      "metadata": {},
      "outputs": [],
      "source": [
        "def test_against_all(model, topic, df, loss_fn, device):\n",
        "    all_results = []\n",
        "\n",
        "    print(topic)\n",
        "\n",
        "    for other_topic in df['topic'].unique():\n",
        "        if other_topic == topic:\n",
        "            continue\n",
        "\n",
        "        other_topics_df = df.loc[df['topic'] == other_topic]\n",
        "        print(other_topic, other_topics_df.shape[0])\n",
        "        test_dataset = TextDataset(other_topics_df['tokenized_text'], other_topics_df['is_llm'])\n",
        "        test_dataloader = DataLoader(\n",
        "            test_dataset,\n",
        "            batch_size=BATCH_SIZE,\n",
        "            shuffle=False,\n",
        "            drop_last=False,\n",
        "            collate_fn=collate_fn\n",
        "        )\n",
        "\n",
        "        results = test_step(\n",
        "            model,\n",
        "            test_dataloader,\n",
        "            loss_fn,\n",
        "            device\n",
        "        )\n",
        "\n",
        "        all_results.append({\n",
        "            topic: results\n",
        "        })\n",
        "\n",
        "    return all_results"
      ]
    },
    {
      "cell_type": "code",
      "execution_count": 17,
      "metadata": {
        "id": "L-T6c5-XSaTf"
      },
      "outputs": [],
      "source": [
        "human_df = df.loc[df['is_llm'] == 0]\n",
        "human_train_df, human_test_df = train_test_split(human_df, test_size=TEST_SET_FRACTION, random_state=69)"
      ]
    },
    {
      "cell_type": "code",
      "execution_count": 22,
      "metadata": {
        "colab": {
          "base_uri": "https://localhost:8080/",
          "height": 775
        },
        "id": "6tjl2x_gMyOg",
        "outputId": "d9204b3e-46cc-4fc5-f2c0-306fb048d972"
      },
      "outputs": [
        {
          "name": "stdout",
          "output_type": "stream",
          "text": [
            "Training model for bideninauguration...\n"
          ]
        },
        {
          "name": "stderr",
          "output_type": "stream",
          "text": [
            " 25%|██▌       | 1/4 [00:53<02:41, 53.68s/it]"
          ]
        },
        {
          "name": "stdout",
          "output_type": "stream",
          "text": [
            "Epoch: 1 | train_loss: 0.6205 | train_acc: 93.9732 | test_loss: 0.5578 | test_acc: 91.1602 | test_f1: 0.9538 | test_brier: 0.1863 | time: 49.4866\n"
          ]
        },
        {
          "name": "stderr",
          "output_type": "stream",
          "text": [
            " 50%|█████     | 2/4 [01:48<01:48, 54.32s/it]"
          ]
        },
        {
          "name": "stdout",
          "output_type": "stream",
          "text": [
            "Epoch: 2 | train_loss: 0.4640 | train_acc: 92.7679 | test_loss: 0.3497 | test_acc: 91.1602 | test_f1: 0.9538 | test_brier: 0.1016 | time: 49.7563\n"
          ]
        },
        {
          "name": "stderr",
          "output_type": "stream",
          "text": [
            " 75%|███████▌  | 3/4 [02:46<00:55, 55.81s/it]"
          ]
        },
        {
          "name": "stdout",
          "output_type": "stream",
          "text": [
            "Epoch: 3 | train_loss: 0.3103 | train_acc: 91.5625 | test_loss: 0.3330 | test_acc: 91.1602 | test_f1: 0.9538 | test_brier: 0.0801 | time: 52.4649\n"
          ]
        },
        {
          "name": "stderr",
          "output_type": "stream",
          "text": [
            "100%|██████████| 4/4 [03:46<00:00, 56.68s/it]"
          ]
        },
        {
          "name": "stdout",
          "output_type": "stream",
          "text": [
            "Epoch: 4 | train_loss: 0.2573 | train_acc: 93.9732 | test_loss: 0.3094 | test_acc: 91.1602 | test_f1: 0.9538 | test_brier: 0.0801 | time: 55.1378\n",
            "Finished training model for bideninauguration\n",
            "Testing against all for bideninauguration...\n",
            "bideninauguration\n",
            "capitolriot 630\n"
          ]
        },
        {
          "name": "stderr",
          "output_type": "stream",
          "text": [
            "\n"
          ]
        },
        {
          "name": "stdout",
          "output_type": "stream",
          "text": [
            "citibank500millionmistake 210\n",
            "cnnchriscuomo 644\n",
            "colinpowelldead 560\n",
            "colonialpipelinehack 756\n",
            "covid19 854\n",
            "evergreensuezcanal 644\n",
            "facebookoutage 644\n",
            "georgefloydderekchauvin 490\n",
            "harryandmeghan 714\n",
            "hurricaneida 686\n",
            "kabulairportattack 812\n",
            "kamalaharrisvicepresident 588\n",
            "kylerittenhousenotguilty 756\n",
            "michiganhighschoolshooting 728\n",
            "rustmoviesetshooting 616\n",
            "stimuluscheck 672\n",
            "tigerwoodsaccident 728\n",
            "tombradysuperbowl 630\n",
            "trumpimpeachment 574\n",
            "twitterbanstrump 728\n",
            "winterstormtexas 406\n",
            "wyominggabbypetito 546\n",
            "Finished testing against all for bideninauguration\n",
            "Training model for capitolriot...\n"
          ]
        },
        {
          "name": "stderr",
          "output_type": "stream",
          "text": [
            " 25%|██▌       | 1/4 [01:29<04:27, 89.18s/it]"
          ]
        },
        {
          "name": "stdout",
          "output_type": "stream",
          "text": [
            "Epoch: 1 | train_loss: 0.6120 | train_acc: 93.4018 | test_loss: 0.5381 | test_acc: 91.5344 | test_f1: 0.9558 | test_brier: 0.1754 | time: 83.2272\n"
          ]
        },
        {
          "name": "stderr",
          "output_type": "stream",
          "text": [
            " 50%|█████     | 2/4 [02:51<02:50, 85.17s/it]"
          ]
        },
        {
          "name": "stdout",
          "output_type": "stream",
          "text": [
            "Epoch: 2 | train_loss: 0.4597 | train_acc: 93.4018 | test_loss: 0.3176 | test_acc: 91.5344 | test_f1: 0.9558 | test_brier: 0.0881 | time: 76.6354\n"
          ]
        },
        {
          "name": "stderr",
          "output_type": "stream",
          "text": [
            " 75%|███████▌  | 3/4 [04:20<01:26, 86.91s/it]"
          ]
        },
        {
          "name": "stdout",
          "output_type": "stream",
          "text": [
            "Epoch: 3 | train_loss: 0.2696 | train_acc: 93.3393 | test_loss: 0.3527 | test_acc: 91.5344 | test_f1: 0.9558 | test_brier: 0.0782 | time: 83.1898\n"
          ]
        },
        {
          "name": "stderr",
          "output_type": "stream",
          "text": [
            "100%|██████████| 4/4 [05:50<00:00, 87.60s/it]"
          ]
        },
        {
          "name": "stdout",
          "output_type": "stream",
          "text": [
            "Epoch: 4 | train_loss: 0.2755 | train_acc: 93.4643 | test_loss: 0.3067 | test_acc: 91.5344 | test_f1: 0.9558 | test_brier: 0.0759 | time: 83.2108\n",
            "Finished training model for capitolriot\n",
            "Testing against all for capitolriot...\n",
            "capitolriot\n",
            "bideninauguration 602\n"
          ]
        },
        {
          "name": "stderr",
          "output_type": "stream",
          "text": [
            "\n"
          ]
        },
        {
          "name": "stdout",
          "output_type": "stream",
          "text": [
            "citibank500millionmistake 210\n",
            "cnnchriscuomo 644\n",
            "colinpowelldead 560\n",
            "colonialpipelinehack 756\n",
            "covid19 854\n",
            "evergreensuezcanal 644\n",
            "facebookoutage 644\n",
            "georgefloydderekchauvin 490\n",
            "harryandmeghan 714\n",
            "hurricaneida 686\n",
            "kabulairportattack 812\n",
            "kamalaharrisvicepresident 588\n",
            "kylerittenhousenotguilty 756\n",
            "michiganhighschoolshooting 728\n",
            "rustmoviesetshooting 616\n",
            "stimuluscheck 672\n",
            "tigerwoodsaccident 728\n",
            "tombradysuperbowl 630\n",
            "trumpimpeachment 574\n",
            "twitterbanstrump 728\n",
            "winterstormtexas 406\n",
            "wyominggabbypetito 546\n",
            "Finished testing against all for capitolriot\n",
            "Training model for citibank500millionmistake...\n"
          ]
        },
        {
          "name": "stderr",
          "output_type": "stream",
          "text": [
            " 25%|██▌       | 1/4 [00:30<01:30, 30.29s/it]"
          ]
        },
        {
          "name": "stdout",
          "output_type": "stream",
          "text": [
            "Epoch: 1 | train_loss: 0.6945 | train_acc: 38.7171 | test_loss: 0.6460 | test_acc: 92.0635 | test_f1: 0.9580 | test_brier: 0.2266 | time: 27.2315\n"
          ]
        },
        {
          "name": "stderr",
          "output_type": "stream",
          "text": [
            " 50%|█████     | 2/4 [01:01<01:01, 30.59s/it]"
          ]
        },
        {
          "name": "stdout",
          "output_type": "stream",
          "text": [
            "Epoch: 2 | train_loss: 0.6544 | train_acc: 93.7500 | test_loss: 0.5854 | test_acc: 92.0635 | test_f1: 0.9587 | test_brier: 0.1980 | time: 28.3022\n"
          ]
        },
        {
          "name": "stderr",
          "output_type": "stream",
          "text": [
            " 75%|███████▌  | 3/4 [01:32<00:30, 30.85s/it]"
          ]
        },
        {
          "name": "stdout",
          "output_type": "stream",
          "text": [
            "Epoch: 3 | train_loss: 0.6081 | train_acc: 93.3224 | test_loss: 0.5167 | test_acc: 92.0635 | test_f1: 0.9587 | test_brier: 0.1679 | time: 28.6181\n"
          ]
        },
        {
          "name": "stderr",
          "output_type": "stream",
          "text": [
            "100%|██████████| 4/4 [02:04<00:00, 31.04s/it]"
          ]
        },
        {
          "name": "stdout",
          "output_type": "stream",
          "text": [
            "Epoch: 4 | train_loss: 0.5497 | train_acc: 92.8947 | test_loss: 0.4356 | test_acc: 92.0635 | test_f1: 0.9587 | test_brier: 0.1342 | time: 29.4472\n",
            "Finished training model for citibank500millionmistake\n",
            "Testing against all for citibank500millionmistake...\n",
            "citibank500millionmistake\n",
            "bideninauguration 602\n"
          ]
        },
        {
          "name": "stderr",
          "output_type": "stream",
          "text": [
            "\n"
          ]
        },
        {
          "name": "stdout",
          "output_type": "stream",
          "text": [
            "capitolriot 630\n",
            "cnnchriscuomo 644\n",
            "colinpowelldead 560\n",
            "colonialpipelinehack 756\n",
            "covid19 854\n",
            "evergreensuezcanal 644\n",
            "facebookoutage 644\n",
            "georgefloydderekchauvin 490\n",
            "harryandmeghan 714\n",
            "hurricaneida 686\n",
            "kabulairportattack 812\n",
            "kamalaharrisvicepresident 588\n",
            "kylerittenhousenotguilty 756\n",
            "michiganhighschoolshooting 728\n",
            "rustmoviesetshooting 616\n",
            "stimuluscheck 672\n",
            "tigerwoodsaccident 728\n",
            "tombradysuperbowl 630\n",
            "trumpimpeachment 574\n",
            "twitterbanstrump 728\n",
            "winterstormtexas 406\n",
            "wyominggabbypetito 546\n",
            "Finished testing against all for citibank500millionmistake\n",
            "Training model for cnnchriscuomo...\n"
          ]
        },
        {
          "name": "stderr",
          "output_type": "stream",
          "text": [
            " 25%|██▌       | 1/4 [01:25<04:15, 85.23s/it]"
          ]
        },
        {
          "name": "stdout",
          "output_type": "stream",
          "text": [
            "Epoch: 1 | train_loss: 0.6085 | train_acc: 93.5417 | test_loss: 0.5494 | test_acc: 92.2680 | test_f1: 0.9598 | test_brier: 0.1769 | time: 80.2431\n"
          ]
        },
        {
          "name": "stderr",
          "output_type": "stream",
          "text": [
            " 50%|█████     | 2/4 [02:49<02:48, 84.41s/it]"
          ]
        },
        {
          "name": "stdout",
          "output_type": "stream",
          "text": [
            "Epoch: 2 | train_loss: 0.4435 | train_acc: 93.5417 | test_loss: 0.3257 | test_acc: 92.2680 | test_f1: 0.9598 | test_brier: 0.0851 | time: 79.0019\n"
          ]
        },
        {
          "name": "stderr",
          "output_type": "stream",
          "text": [
            " 75%|███████▌  | 3/4 [04:12<01:24, 84.04s/it]"
          ]
        },
        {
          "name": "stdout",
          "output_type": "stream",
          "text": [
            "Epoch: 3 | train_loss: 0.2477 | train_acc: 93.5417 | test_loss: 0.2911 | test_acc: 92.2680 | test_f1: 0.9598 | test_brier: 0.0710 | time: 78.7654\n"
          ]
        },
        {
          "name": "stderr",
          "output_type": "stream",
          "text": [
            "100%|██████████| 4/4 [05:35<00:00, 83.79s/it]"
          ]
        },
        {
          "name": "stdout",
          "output_type": "stream",
          "text": [
            "Epoch: 4 | train_loss: 0.2754 | train_acc: 93.5417 | test_loss: 0.2686 | test_acc: 92.2680 | test_f1: 0.9598 | test_brier: 0.0698 | time: 77.7852\n",
            "Finished training model for cnnchriscuomo\n",
            "Testing against all for cnnchriscuomo...\n",
            "cnnchriscuomo\n",
            "bideninauguration 602\n"
          ]
        },
        {
          "name": "stderr",
          "output_type": "stream",
          "text": [
            "\n"
          ]
        },
        {
          "name": "stdout",
          "output_type": "stream",
          "text": [
            "capitolriot 630\n",
            "citibank500millionmistake 210\n",
            "colinpowelldead 560\n",
            "colonialpipelinehack 756\n",
            "covid19 854\n",
            "evergreensuezcanal 644\n",
            "facebookoutage 644\n",
            "georgefloydderekchauvin 490\n",
            "harryandmeghan 714\n",
            "hurricaneida 686\n",
            "kabulairportattack 812\n",
            "kamalaharrisvicepresident 588\n",
            "kylerittenhousenotguilty 756\n",
            "michiganhighschoolshooting 728\n",
            "rustmoviesetshooting 616\n",
            "stimuluscheck 672\n",
            "tigerwoodsaccident 728\n",
            "tombradysuperbowl 630\n",
            "trumpimpeachment 574\n",
            "twitterbanstrump 728\n",
            "winterstormtexas 406\n",
            "wyominggabbypetito 546\n",
            "Finished testing against all for cnnchriscuomo\n",
            "Training model for colinpowelldead...\n"
          ]
        },
        {
          "name": "stderr",
          "output_type": "stream",
          "text": [
            " 25%|██▌       | 1/4 [01:07<03:23, 67.96s/it]"
          ]
        },
        {
          "name": "stdout",
          "output_type": "stream",
          "text": [
            "Epoch: 1 | train_loss: 0.6487 | train_acc: 93.9904 | test_loss: 0.5965 | test_acc: 89.8810 | test_f1: 0.9467 | test_brier: 0.2027 | time: 63.8189\n"
          ]
        },
        {
          "name": "stderr",
          "output_type": "stream",
          "text": [
            " 50%|█████     | 2/4 [02:17<02:17, 68.82s/it]"
          ]
        },
        {
          "name": "stdout",
          "output_type": "stream",
          "text": [
            "Epoch: 2 | train_loss: 0.5852 | train_acc: 94.4712 | test_loss: 0.5192 | test_acc: 89.8810 | test_f1: 0.9467 | test_brier: 0.1683 | time: 65.2470\n"
          ]
        },
        {
          "name": "stderr",
          "output_type": "stream",
          "text": [
            " 75%|███████▌  | 3/4 [03:23<01:07, 67.80s/it]"
          ]
        },
        {
          "name": "stdout",
          "output_type": "stream",
          "text": [
            "Epoch: 3 | train_loss: 0.5836 | train_acc: 94.4712 | test_loss: 0.3955 | test_acc: 89.8810 | test_f1: 0.9467 | test_brier: 0.1196 | time: 62.6653\n"
          ]
        },
        {
          "name": "stderr",
          "output_type": "stream",
          "text": [
            "100%|██████████| 4/4 [04:31<00:00, 67.90s/it]"
          ]
        },
        {
          "name": "stdout",
          "output_type": "stream",
          "text": [
            "Epoch: 4 | train_loss: 0.4878 | train_acc: 94.4712 | test_loss: 0.3754 | test_acc: 89.8810 | test_f1: 0.9467 | test_brier: 0.1116 | time: 63.5988\n",
            "Finished training model for colinpowelldead\n",
            "Testing against all for colinpowelldead...\n",
            "colinpowelldead\n",
            "bideninauguration 602\n"
          ]
        },
        {
          "name": "stderr",
          "output_type": "stream",
          "text": [
            "\n"
          ]
        },
        {
          "name": "stdout",
          "output_type": "stream",
          "text": [
            "capitolriot 630\n",
            "citibank500millionmistake 210\n",
            "cnnchriscuomo 644\n",
            "colonialpipelinehack 756\n",
            "covid19 854\n",
            "evergreensuezcanal 644\n",
            "facebookoutage 644\n",
            "georgefloydderekchauvin 490\n",
            "harryandmeghan 714\n",
            "hurricaneida 686\n",
            "kabulairportattack 812\n",
            "kamalaharrisvicepresident 588\n",
            "kylerittenhousenotguilty 756\n",
            "michiganhighschoolshooting 728\n",
            "rustmoviesetshooting 616\n",
            "stimuluscheck 672\n",
            "tigerwoodsaccident 728\n",
            "tombradysuperbowl 630\n",
            "trumpimpeachment 574\n",
            "twitterbanstrump 728\n",
            "winterstormtexas 406\n",
            "wyominggabbypetito 546\n",
            "Finished testing against all for colinpowelldead\n",
            "Training model for colonialpipelinehack...\n"
          ]
        },
        {
          "name": "stderr",
          "output_type": "stream",
          "text": [
            " 25%|██▌       | 1/4 [01:53<05:39, 113.05s/it]"
          ]
        },
        {
          "name": "stdout",
          "output_type": "stream",
          "text": [
            "Epoch: 1 | train_loss: 0.6251 | train_acc: 89.1760 | test_loss: 0.5558 | test_acc: 92.5110 | test_f1: 0.9611 | test_brier: 0.1830 | time: 107.6923\n"
          ]
        },
        {
          "name": "stderr",
          "output_type": "stream",
          "text": [
            " 50%|█████     | 2/4 [03:24<03:20, 100.18s/it]"
          ]
        },
        {
          "name": "stdout",
          "output_type": "stream",
          "text": [
            "Epoch: 2 | train_loss: 0.4195 | train_acc: 93.1985 | test_loss: 0.2858 | test_acc: 92.5110 | test_f1: 0.9611 | test_brier: 0.0788 | time: 85.7370\n"
          ]
        },
        {
          "name": "stderr",
          "output_type": "stream",
          "text": [
            " 75%|███████▌  | 3/4 [04:57<01:36, 96.86s/it] "
          ]
        },
        {
          "name": "stdout",
          "output_type": "stream",
          "text": [
            "Epoch: 3 | train_loss: 0.3043 | train_acc: 93.0363 | test_loss: 0.2569 | test_acc: 92.5110 | test_f1: 0.9611 | test_brier: 0.0694 | time: 87.5040\n"
          ]
        },
        {
          "name": "stderr",
          "output_type": "stream",
          "text": [
            "100%|██████████| 4/4 [06:28<00:00, 97.23s/it]"
          ]
        },
        {
          "name": "stdout",
          "output_type": "stream",
          "text": [
            "Epoch: 4 | train_loss: 0.2755 | train_acc: 93.0363 | test_loss: 0.2530 | test_acc: 92.5110 | test_f1: 0.9611 | test_brier: 0.0702 | time: 86.5589\n",
            "Finished training model for colonialpipelinehack\n",
            "Testing against all for colonialpipelinehack...\n",
            "colonialpipelinehack\n",
            "bideninauguration 602\n"
          ]
        },
        {
          "name": "stderr",
          "output_type": "stream",
          "text": [
            "\n"
          ]
        },
        {
          "name": "stdout",
          "output_type": "stream",
          "text": [
            "capitolriot 630\n",
            "citibank500millionmistake 210\n",
            "cnnchriscuomo 644\n",
            "colinpowelldead 560\n",
            "covid19 854\n",
            "evergreensuezcanal 644\n",
            "facebookoutage 644\n",
            "georgefloydderekchauvin 490\n",
            "harryandmeghan 714\n",
            "hurricaneida 686\n",
            "kabulairportattack 812\n",
            "kamalaharrisvicepresident 588\n",
            "kylerittenhousenotguilty 756\n",
            "michiganhighschoolshooting 728\n",
            "rustmoviesetshooting 616\n",
            "stimuluscheck 672\n",
            "tigerwoodsaccident 728\n",
            "tombradysuperbowl 630\n",
            "trumpimpeachment 574\n",
            "twitterbanstrump 728\n",
            "winterstormtexas 406\n",
            "wyominggabbypetito 546\n",
            "Finished testing against all for colonialpipelinehack\n",
            "Training model for covid19...\n"
          ]
        },
        {
          "name": "stderr",
          "output_type": "stream",
          "text": [
            " 25%|██▌       | 1/4 [01:42<05:07, 102.64s/it]"
          ]
        },
        {
          "name": "stdout",
          "output_type": "stream",
          "text": [
            "Epoch: 1 | train_loss: 0.6180 | train_acc: 85.5968 | test_loss: 0.5148 | test_acc: 92.6070 | test_f1: 0.9616 | test_brier: 0.1614 | time: 96.4392\n"
          ]
        },
        {
          "name": "stderr",
          "output_type": "stream",
          "text": [
            " 50%|█████     | 2/4 [03:23<03:22, 101.38s/it]"
          ]
        },
        {
          "name": "stdout",
          "output_type": "stream",
          "text": [
            "Epoch: 2 | train_loss: 0.3521 | train_acc: 93.0060 | test_loss: 0.3314 | test_acc: 92.6070 | test_f1: 0.9616 | test_brier: 0.0696 | time: 94.3004\n"
          ]
        },
        {
          "name": "stderr",
          "output_type": "stream",
          "text": [
            " 75%|███████▌  | 3/4 [05:07<01:42, 102.53s/it]"
          ]
        },
        {
          "name": "stdout",
          "output_type": "stream",
          "text": [
            "Epoch: 3 | train_loss: 0.2741 | train_acc: 93.0060 | test_loss: 0.3048 | test_acc: 92.6070 | test_f1: 0.9616 | test_brier: 0.0698 | time: 97.5890\n"
          ]
        },
        {
          "name": "stderr",
          "output_type": "stream",
          "text": [
            "100%|██████████| 4/4 [06:50<00:00, 102.57s/it]"
          ]
        },
        {
          "name": "stdout",
          "output_type": "stream",
          "text": [
            "Epoch: 4 | train_loss: 0.2673 | train_acc: 92.7475 | test_loss: 0.2894 | test_acc: 92.6070 | test_f1: 0.9616 | test_brier: 0.0690 | time: 96.8856\n",
            "Finished training model for covid19\n",
            "Testing against all for covid19...\n",
            "covid19\n",
            "bideninauguration 602\n"
          ]
        },
        {
          "name": "stderr",
          "output_type": "stream",
          "text": [
            "\n"
          ]
        },
        {
          "name": "stdout",
          "output_type": "stream",
          "text": [
            "capitolriot 630\n",
            "citibank500millionmistake 210\n",
            "cnnchriscuomo 644\n",
            "colinpowelldead 560\n",
            "colonialpipelinehack 756\n",
            "evergreensuezcanal 644\n",
            "facebookoutage 644\n",
            "georgefloydderekchauvin 490\n",
            "harryandmeghan 714\n",
            "hurricaneida 686\n",
            "kabulairportattack 812\n",
            "kamalaharrisvicepresident 588\n",
            "kylerittenhousenotguilty 756\n",
            "michiganhighschoolshooting 728\n",
            "rustmoviesetshooting 616\n",
            "stimuluscheck 672\n",
            "tigerwoodsaccident 728\n",
            "tombradysuperbowl 630\n",
            "trumpimpeachment 574\n",
            "twitterbanstrump 728\n",
            "winterstormtexas 406\n",
            "wyominggabbypetito 546\n",
            "Finished testing against all for covid19\n",
            "Training model for evergreensuezcanal...\n"
          ]
        },
        {
          "name": "stderr",
          "output_type": "stream",
          "text": [
            " 25%|██▌       | 1/4 [01:18<03:54, 78.09s/it]"
          ]
        },
        {
          "name": "stdout",
          "output_type": "stream",
          "text": [
            "Epoch: 1 | train_loss: 0.6348 | train_acc: 88.9583 | test_loss: 0.5543 | test_acc: 92.2680 | test_f1: 0.9598 | test_brier: 0.1794 | time: 73.4221\n"
          ]
        },
        {
          "name": "stderr",
          "output_type": "stream",
          "text": [
            " 50%|█████     | 2/4 [02:35<02:35, 77.87s/it]"
          ]
        },
        {
          "name": "stdout",
          "output_type": "stream",
          "text": [
            "Epoch: 2 | train_loss: 0.4499 | train_acc: 93.5417 | test_loss: 0.2922 | test_acc: 92.2680 | test_f1: 0.9598 | test_brier: 0.0779 | time: 72.7814\n"
          ]
        },
        {
          "name": "stderr",
          "output_type": "stream",
          "text": [
            " 75%|███████▌  | 3/4 [03:54<01:18, 78.22s/it]"
          ]
        },
        {
          "name": "stdout",
          "output_type": "stream",
          "text": [
            "Epoch: 3 | train_loss: 0.2562 | train_acc: 93.5417 | test_loss: 0.2826 | test_acc: 92.2680 | test_f1: 0.9598 | test_brier: 0.0718 | time: 73.8256\n"
          ]
        },
        {
          "name": "stderr",
          "output_type": "stream",
          "text": [
            "100%|██████████| 4/4 [05:13<00:00, 78.33s/it]"
          ]
        },
        {
          "name": "stdout",
          "output_type": "stream",
          "text": [
            "Epoch: 4 | train_loss: 0.2536 | train_acc: 93.5417 | test_loss: 0.2505 | test_acc: 92.2680 | test_f1: 0.9598 | test_brier: 0.0693 | time: 74.3617\n",
            "Finished training model for evergreensuezcanal\n",
            "Testing against all for evergreensuezcanal...\n",
            "evergreensuezcanal\n",
            "bideninauguration 602\n"
          ]
        },
        {
          "name": "stderr",
          "output_type": "stream",
          "text": [
            "\n"
          ]
        },
        {
          "name": "stdout",
          "output_type": "stream",
          "text": [
            "capitolriot 630\n",
            "citibank500millionmistake 210\n",
            "cnnchriscuomo 644\n",
            "colinpowelldead 560\n",
            "colonialpipelinehack 756\n",
            "covid19 854\n",
            "facebookoutage 644\n",
            "georgefloydderekchauvin 490\n",
            "harryandmeghan 714\n",
            "hurricaneida 686\n",
            "kabulairportattack 812\n",
            "kamalaharrisvicepresident 588\n",
            "kylerittenhousenotguilty 756\n",
            "michiganhighschoolshooting 728\n",
            "rustmoviesetshooting 616\n",
            "stimuluscheck 672\n",
            "tigerwoodsaccident 728\n",
            "tombradysuperbowl 630\n",
            "trumpimpeachment 574\n",
            "twitterbanstrump 728\n",
            "winterstormtexas 406\n",
            "wyominggabbypetito 546\n",
            "Finished testing against all for evergreensuezcanal\n",
            "Training model for facebookoutage...\n"
          ]
        },
        {
          "name": "stderr",
          "output_type": "stream",
          "text": [
            " 25%|██▌       | 1/4 [01:12<03:36, 72.26s/it]"
          ]
        },
        {
          "name": "stdout",
          "output_type": "stream",
          "text": [
            "Epoch: 1 | train_loss: 0.5932 | train_acc: 90.4167 | test_loss: 0.5312 | test_acc: 92.2680 | test_f1: 0.9598 | test_brier: 0.1679 | time: 68.0810\n"
          ]
        },
        {
          "name": "stderr",
          "output_type": "stream",
          "text": [
            " 50%|█████     | 2/4 [02:27<02:27, 73.96s/it]"
          ]
        },
        {
          "name": "stdout",
          "output_type": "stream",
          "text": [
            "Epoch: 2 | train_loss: 0.4194 | train_acc: 93.5417 | test_loss: 0.3401 | test_acc: 92.2680 | test_f1: 0.9598 | test_brier: 0.0840 | time: 70.7837\n"
          ]
        },
        {
          "name": "stderr",
          "output_type": "stream",
          "text": [
            " 75%|███████▌  | 3/4 [03:39<01:12, 72.93s/it]"
          ]
        },
        {
          "name": "stdout",
          "output_type": "stream",
          "text": [
            "Epoch: 3 | train_loss: 0.2718 | train_acc: 93.5417 | test_loss: 0.3337 | test_acc: 92.2680 | test_f1: 0.9598 | test_brier: 0.0729 | time: 67.3124\n"
          ]
        },
        {
          "name": "stderr",
          "output_type": "stream",
          "text": [
            "100%|██████████| 4/4 [04:53<00:00, 73.31s/it]"
          ]
        },
        {
          "name": "stdout",
          "output_type": "stream",
          "text": [
            "Epoch: 4 | train_loss: 0.2657 | train_acc: 93.5417 | test_loss: 0.2968 | test_acc: 92.2680 | test_f1: 0.9598 | test_brier: 0.0723 | time: 69.8792\n",
            "Finished training model for facebookoutage\n",
            "Testing against all for facebookoutage...\n",
            "facebookoutage\n",
            "bideninauguration 602\n"
          ]
        },
        {
          "name": "stderr",
          "output_type": "stream",
          "text": [
            "\n"
          ]
        },
        {
          "name": "stdout",
          "output_type": "stream",
          "text": [
            "capitolriot 630\n",
            "citibank500millionmistake 210\n",
            "cnnchriscuomo 644\n",
            "colinpowelldead 560\n",
            "colonialpipelinehack 756\n",
            "covid19 854\n",
            "evergreensuezcanal 644\n",
            "georgefloydderekchauvin 490\n",
            "harryandmeghan 714\n",
            "hurricaneida 686\n",
            "kabulairportattack 812\n",
            "kamalaharrisvicepresident 588\n",
            "kylerittenhousenotguilty 756\n",
            "michiganhighschoolshooting 728\n",
            "rustmoviesetshooting 616\n",
            "stimuluscheck 672\n",
            "tigerwoodsaccident 728\n",
            "tombradysuperbowl 630\n",
            "trumpimpeachment 574\n",
            "twitterbanstrump 728\n",
            "winterstormtexas 406\n",
            "wyominggabbypetito 546\n",
            "Finished testing against all for facebookoutage\n",
            "Training model for georgefloydderekchauvin...\n"
          ]
        },
        {
          "name": "stderr",
          "output_type": "stream",
          "text": [
            " 25%|██▌       | 1/4 [01:00<03:02, 60.88s/it]"
          ]
        },
        {
          "name": "stdout",
          "output_type": "stream",
          "text": [
            "Epoch: 1 | train_loss: 0.6780 | train_acc: 57.2752 | test_loss: 0.6502 | test_acc: 85.7143 | test_f1: 0.9231 | test_brier: 0.2280 | time: 57.1001\n"
          ]
        },
        {
          "name": "stderr",
          "output_type": "stream",
          "text": [
            " 50%|█████     | 2/4 [02:03<02:03, 61.65s/it]"
          ]
        },
        {
          "name": "stdout",
          "output_type": "stream",
          "text": [
            "Epoch: 2 | train_loss: 0.6104 | train_acc: 96.0227 | test_loss: 0.5740 | test_acc: 85.7143 | test_f1: 0.9231 | test_brier: 0.1921 | time: 58.5629\n"
          ]
        },
        {
          "name": "stderr",
          "output_type": "stream",
          "text": [
            " 75%|███████▌  | 3/4 [03:06<01:02, 62.40s/it]"
          ]
        },
        {
          "name": "stdout",
          "output_type": "stream",
          "text": [
            "Epoch: 3 | train_loss: 0.4894 | train_acc: 96.0227 | test_loss: 0.4114 | test_acc: 85.7143 | test_f1: 0.9231 | test_brier: 0.1284 | time: 59.4893\n"
          ]
        },
        {
          "name": "stderr",
          "output_type": "stream",
          "text": [
            "100%|██████████| 4/4 [04:08<00:00, 62.18s/it]"
          ]
        },
        {
          "name": "stdout",
          "output_type": "stream",
          "text": [
            "Epoch: 4 | train_loss: 0.2886 | train_acc: 96.0227 | test_loss: 0.3665 | test_acc: 85.7143 | test_f1: 0.9231 | test_brier: 0.1135 | time: 58.3536\n",
            "Finished training model for georgefloydderekchauvin\n",
            "Testing against all for georgefloydderekchauvin...\n",
            "georgefloydderekchauvin\n",
            "bideninauguration 602\n"
          ]
        },
        {
          "name": "stderr",
          "output_type": "stream",
          "text": [
            "\n"
          ]
        },
        {
          "name": "stdout",
          "output_type": "stream",
          "text": [
            "capitolriot 630\n",
            "citibank500millionmistake 210\n",
            "cnnchriscuomo 644\n",
            "colinpowelldead 560\n",
            "colonialpipelinehack 756\n",
            "covid19 854\n",
            "evergreensuezcanal 644\n",
            "facebookoutage 644\n",
            "harryandmeghan 714\n",
            "hurricaneida 686\n",
            "kabulairportattack 812\n",
            "kamalaharrisvicepresident 588\n",
            "kylerittenhousenotguilty 756\n",
            "michiganhighschoolshooting 728\n",
            "rustmoviesetshooting 616\n",
            "stimuluscheck 672\n",
            "tigerwoodsaccident 728\n",
            "tombradysuperbowl 630\n",
            "trumpimpeachment 574\n",
            "twitterbanstrump 728\n",
            "winterstormtexas 406\n",
            "wyominggabbypetito 546\n",
            "Finished testing against all for georgefloydderekchauvin\n",
            "Training model for harryandmeghan...\n"
          ]
        },
        {
          "name": "stderr",
          "output_type": "stream",
          "text": [
            " 25%|██▌       | 1/4 [01:20<04:00, 80.31s/it]"
          ]
        },
        {
          "name": "stdout",
          "output_type": "stream",
          "text": [
            "Epoch: 1 | train_loss: 0.6523 | train_acc: 75.0617 | test_loss: 0.5747 | test_acc: 92.5581 | test_f1: 0.9614 | test_brier: 0.1923 | time: 75.4115\n"
          ]
        },
        {
          "name": "stderr",
          "output_type": "stream",
          "text": [
            " 50%|█████     | 2/4 [02:40<02:40, 80.43s/it]"
          ]
        },
        {
          "name": "stdout",
          "output_type": "stream",
          "text": [
            "Epoch: 2 | train_loss: 0.4470 | train_acc: 92.7632 | test_loss: 0.3126 | test_acc: 92.5581 | test_f1: 0.9614 | test_brier: 0.0875 | time: 75.2276\n"
          ]
        },
        {
          "name": "stderr",
          "output_type": "stream",
          "text": [
            " 75%|███████▌  | 3/4 [04:00<01:19, 79.98s/it]"
          ]
        },
        {
          "name": "stdout",
          "output_type": "stream",
          "text": [
            "Epoch: 3 | train_loss: 0.2867 | train_acc: 93.0304 | test_loss: 0.2934 | test_acc: 92.5581 | test_f1: 0.9614 | test_brier: 0.0716 | time: 74.6365\n"
          ]
        },
        {
          "name": "stderr",
          "output_type": "stream",
          "text": [
            "100%|██████████| 4/4 [05:18<00:00, 79.64s/it]"
          ]
        },
        {
          "name": "stdout",
          "output_type": "stream",
          "text": [
            "Epoch: 4 | train_loss: 0.2609 | train_acc: 93.0304 | test_loss: 0.2740 | test_acc: 92.5581 | test_f1: 0.9614 | test_brier: 0.0721 | time: 73.3947\n",
            "Finished training model for harryandmeghan\n",
            "Testing against all for harryandmeghan...\n",
            "harryandmeghan\n",
            "bideninauguration 602\n"
          ]
        },
        {
          "name": "stderr",
          "output_type": "stream",
          "text": [
            "\n"
          ]
        },
        {
          "name": "stdout",
          "output_type": "stream",
          "text": [
            "capitolriot 630\n",
            "citibank500millionmistake 210\n",
            "cnnchriscuomo 644\n",
            "colinpowelldead 560\n",
            "colonialpipelinehack 756\n",
            "covid19 854\n",
            "evergreensuezcanal 644\n",
            "facebookoutage 644\n",
            "georgefloydderekchauvin 490\n",
            "hurricaneida 686\n",
            "kabulairportattack 812\n",
            "kamalaharrisvicepresident 588\n",
            "kylerittenhousenotguilty 756\n",
            "michiganhighschoolshooting 728\n",
            "rustmoviesetshooting 616\n",
            "stimuluscheck 672\n",
            "tigerwoodsaccident 728\n",
            "tombradysuperbowl 630\n",
            "trumpimpeachment 574\n",
            "twitterbanstrump 728\n",
            "winterstormtexas 406\n",
            "wyominggabbypetito 546\n",
            "Finished testing against all for harryandmeghan\n",
            "Training model for hurricaneida...\n"
          ]
        },
        {
          "name": "stderr",
          "output_type": "stream",
          "text": [
            " 25%|██▌       | 1/4 [01:25<04:17, 85.98s/it]"
          ]
        },
        {
          "name": "stdout",
          "output_type": "stream",
          "text": [
            "Epoch: 1 | train_loss: 0.6042 | train_acc: 93.1250 | test_loss: 0.5452 | test_acc: 92.2330 | test_f1: 0.9596 | test_brier: 0.1790 | time: 81.0411\n"
          ]
        },
        {
          "name": "stderr",
          "output_type": "stream",
          "text": [
            " 50%|█████     | 2/4 [02:48<02:47, 83.73s/it]"
          ]
        },
        {
          "name": "stdout",
          "output_type": "stream",
          "text": [
            "Epoch: 2 | train_loss: 0.4230 | train_acc: 93.1250 | test_loss: 0.2983 | test_acc: 92.2330 | test_f1: 0.9596 | test_brier: 0.0833 | time: 77.2446\n"
          ]
        },
        {
          "name": "stderr",
          "output_type": "stream",
          "text": [
            " 75%|███████▌  | 3/4 [04:11<01:23, 83.46s/it]"
          ]
        },
        {
          "name": "stdout",
          "output_type": "stream",
          "text": [
            "Epoch: 3 | train_loss: 0.2743 | train_acc: 93.1250 | test_loss: 0.2945 | test_acc: 92.2330 | test_f1: 0.9596 | test_brier: 0.0715 | time: 77.9198\n"
          ]
        },
        {
          "name": "stderr",
          "output_type": "stream",
          "text": [
            "100%|██████████| 4/4 [05:35<00:00, 83.86s/it]"
          ]
        },
        {
          "name": "stdout",
          "output_type": "stream",
          "text": [
            "Epoch: 4 | train_loss: 0.2571 | train_acc: 93.1250 | test_loss: 0.2660 | test_acc: 92.2330 | test_f1: 0.9596 | test_brier: 0.0714 | time: 79.0341\n",
            "Finished training model for hurricaneida\n",
            "Testing against all for hurricaneida...\n",
            "hurricaneida\n",
            "bideninauguration 602\n"
          ]
        },
        {
          "name": "stderr",
          "output_type": "stream",
          "text": [
            "\n"
          ]
        },
        {
          "name": "stdout",
          "output_type": "stream",
          "text": [
            "capitolriot 630\n",
            "citibank500millionmistake 210\n",
            "cnnchriscuomo 644\n",
            "colinpowelldead 560\n",
            "colonialpipelinehack 756\n",
            "covid19 854\n",
            "evergreensuezcanal 644\n",
            "facebookoutage 644\n",
            "georgefloydderekchauvin 490\n",
            "harryandmeghan 714\n",
            "kabulairportattack 812\n",
            "kamalaharrisvicepresident 588\n",
            "kylerittenhousenotguilty 756\n",
            "michiganhighschoolshooting 728\n",
            "rustmoviesetshooting 616\n",
            "stimuluscheck 672\n",
            "tigerwoodsaccident 728\n",
            "tombradysuperbowl 630\n",
            "trumpimpeachment 574\n",
            "twitterbanstrump 728\n",
            "winterstormtexas 406\n",
            "wyominggabbypetito 546\n",
            "Finished testing against all for hurricaneida\n",
            "Training model for kabulairportattack...\n"
          ]
        },
        {
          "name": "stderr",
          "output_type": "stream",
          "text": [
            " 25%|██▌       | 1/4 [01:43<05:11, 103.76s/it]"
          ]
        },
        {
          "name": "stdout",
          "output_type": "stream",
          "text": [
            "Epoch: 1 | train_loss: 0.5968 | train_acc: 93.1713 | test_loss: 0.4996 | test_acc: 92.2131 | test_f1: 0.9595 | test_brier: 0.1579 | time: 98.0985\n"
          ]
        },
        {
          "name": "stderr",
          "output_type": "stream",
          "text": [
            " 50%|█████     | 2/4 [03:23<03:23, 101.68s/it]"
          ]
        },
        {
          "name": "stdout",
          "output_type": "stream",
          "text": [
            "Epoch: 2 | train_loss: 0.3829 | train_acc: 93.0556 | test_loss: 0.2658 | test_acc: 92.2131 | test_f1: 0.9595 | test_brier: 0.0716 | time: 94.3961\n"
          ]
        },
        {
          "name": "stderr",
          "output_type": "stream",
          "text": [
            " 75%|███████▌  | 3/4 [05:02<01:40, 100.29s/it]"
          ]
        },
        {
          "name": "stdout",
          "output_type": "stream",
          "text": [
            "Epoch: 3 | train_loss: 0.2751 | train_acc: 93.1134 | test_loss: 0.2597 | test_acc: 92.2131 | test_f1: 0.9595 | test_brier: 0.0691 | time: 92.9570\n"
          ]
        },
        {
          "name": "stderr",
          "output_type": "stream",
          "text": [
            "100%|██████████| 4/4 [06:42<00:00, 100.56s/it]"
          ]
        },
        {
          "name": "stdout",
          "output_type": "stream",
          "text": [
            "Epoch: 4 | train_loss: 0.2614 | train_acc: 93.1713 | test_loss: 0.2562 | test_acc: 92.2131 | test_f1: 0.9595 | test_brier: 0.0689 | time: 93.6995\n",
            "Finished training model for kabulairportattack\n",
            "Testing against all for kabulairportattack...\n",
            "kabulairportattack\n",
            "bideninauguration 602\n"
          ]
        },
        {
          "name": "stderr",
          "output_type": "stream",
          "text": [
            "\n"
          ]
        },
        {
          "name": "stdout",
          "output_type": "stream",
          "text": [
            "capitolriot 630\n",
            "citibank500millionmistake 210\n",
            "cnnchriscuomo 644\n",
            "colinpowelldead 560\n",
            "colonialpipelinehack 756\n",
            "covid19 854\n",
            "evergreensuezcanal 644\n",
            "facebookoutage 644\n",
            "georgefloydderekchauvin 490\n",
            "harryandmeghan 714\n",
            "hurricaneida 686\n",
            "kamalaharrisvicepresident 588\n",
            "kylerittenhousenotguilty 756\n",
            "michiganhighschoolshooting 728\n",
            "rustmoviesetshooting 616\n",
            "stimuluscheck 672\n",
            "tigerwoodsaccident 728\n",
            "tombradysuperbowl 630\n",
            "trumpimpeachment 574\n",
            "twitterbanstrump 728\n",
            "winterstormtexas 406\n",
            "wyominggabbypetito 546\n",
            "Finished testing against all for kabulairportattack\n",
            "Training model for kamalaharrisvicepresident...\n"
          ]
        },
        {
          "name": "stderr",
          "output_type": "stream",
          "text": [
            " 25%|██▌       | 1/4 [01:07<03:22, 67.64s/it]"
          ]
        },
        {
          "name": "stdout",
          "output_type": "stream",
          "text": [
            "Epoch: 1 | train_loss: 0.6084 | train_acc: 93.7055 | test_loss: 0.5397 | test_acc: 90.9605 | test_f1: 0.9527 | test_brier: 0.1765 | time: 63.0248\n"
          ]
        },
        {
          "name": "stderr",
          "output_type": "stream",
          "text": [
            " 50%|█████     | 2/4 [02:18<02:18, 69.50s/it]"
          ]
        },
        {
          "name": "stdout",
          "output_type": "stream",
          "text": [
            "Epoch: 2 | train_loss: 0.4696 | train_acc: 93.6610 | test_loss: 0.3323 | test_acc: 90.9605 | test_f1: 0.9527 | test_brier: 0.0956 | time: 66.3645\n"
          ]
        },
        {
          "name": "stderr",
          "output_type": "stream",
          "text": [
            " 75%|███████▌  | 3/4 [03:26<01:09, 69.02s/it]"
          ]
        },
        {
          "name": "stdout",
          "output_type": "stream",
          "text": [
            "Epoch: 3 | train_loss: 0.2970 | train_acc: 93.6610 | test_loss: 0.3024 | test_acc: 90.9605 | test_f1: 0.9527 | test_brier: 0.0797 | time: 64.2187\n"
          ]
        },
        {
          "name": "stderr",
          "output_type": "stream",
          "text": [
            "100%|██████████| 4/4 [04:35<00:00, 68.77s/it]"
          ]
        },
        {
          "name": "stdout",
          "output_type": "stream",
          "text": [
            "Epoch: 4 | train_loss: 0.2694 | train_acc: 93.7055 | test_loss: 0.2932 | test_acc: 90.9605 | test_f1: 0.9527 | test_brier: 0.0797 | time: 63.8315\n",
            "Finished training model for kamalaharrisvicepresident\n",
            "Testing against all for kamalaharrisvicepresident...\n",
            "kamalaharrisvicepresident\n",
            "bideninauguration 602\n"
          ]
        },
        {
          "name": "stderr",
          "output_type": "stream",
          "text": [
            "\n"
          ]
        },
        {
          "name": "stdout",
          "output_type": "stream",
          "text": [
            "capitolriot 630\n",
            "citibank500millionmistake 210\n",
            "cnnchriscuomo 644\n",
            "colinpowelldead 560\n",
            "colonialpipelinehack 756\n",
            "covid19 854\n",
            "evergreensuezcanal 644\n",
            "facebookoutage 644\n",
            "georgefloydderekchauvin 490\n",
            "harryandmeghan 714\n",
            "hurricaneida 686\n",
            "kabulairportattack 812\n",
            "kylerittenhousenotguilty 756\n",
            "michiganhighschoolshooting 728\n",
            "rustmoviesetshooting 616\n",
            "stimuluscheck 672\n",
            "tigerwoodsaccident 728\n",
            "tombradysuperbowl 630\n",
            "trumpimpeachment 574\n",
            "twitterbanstrump 728\n",
            "winterstormtexas 406\n",
            "wyominggabbypetito 546\n",
            "Finished testing against all for kamalaharrisvicepresident\n",
            "Training model for kylerittenhousenotguilty...\n"
          ]
        },
        {
          "name": "stderr",
          "output_type": "stream",
          "text": [
            " 25%|██▌       | 1/4 [01:32<04:36, 92.26s/it]"
          ]
        },
        {
          "name": "stdout",
          "output_type": "stream",
          "text": [
            "Epoch: 1 | train_loss: 0.5986 | train_acc: 92.6687 | test_loss: 0.4932 | test_acc: 92.5110 | test_f1: 0.9611 | test_brier: 0.1566 | time: 86.5597\n"
          ]
        },
        {
          "name": "stderr",
          "output_type": "stream",
          "text": [
            " 50%|█████     | 2/4 [03:02<03:01, 90.90s/it]"
          ]
        },
        {
          "name": "stdout",
          "output_type": "stream",
          "text": [
            "Epoch: 2 | train_loss: 0.3832 | train_acc: 93.0363 | test_loss: 0.2804 | test_acc: 92.5110 | test_f1: 0.9611 | test_brier: 0.0757 | time: 84.3454\n"
          ]
        },
        {
          "name": "stderr",
          "output_type": "stream",
          "text": [
            " 75%|███████▌  | 3/4 [04:31<01:30, 90.13s/it]"
          ]
        },
        {
          "name": "stdout",
          "output_type": "stream",
          "text": [
            "Epoch: 3 | train_loss: 0.3113 | train_acc: 93.0363 | test_loss: 0.2667 | test_acc: 92.5110 | test_f1: 0.9611 | test_brier: 0.0720 | time: 83.8627\n"
          ]
        },
        {
          "name": "stderr",
          "output_type": "stream",
          "text": [
            "100%|██████████| 4/4 [06:00<00:00, 90.02s/it]"
          ]
        },
        {
          "name": "stdout",
          "output_type": "stream",
          "text": [
            "Epoch: 4 | train_loss: 0.2851 | train_acc: 93.0363 | test_loss: 0.2567 | test_acc: 92.5110 | test_f1: 0.9611 | test_brier: 0.0723 | time: 83.1345\n",
            "Finished training model for kylerittenhousenotguilty\n",
            "Testing against all for kylerittenhousenotguilty...\n",
            "kylerittenhousenotguilty\n",
            "bideninauguration 602\n"
          ]
        },
        {
          "name": "stderr",
          "output_type": "stream",
          "text": [
            "\n"
          ]
        },
        {
          "name": "stdout",
          "output_type": "stream",
          "text": [
            "capitolriot 630\n",
            "citibank500millionmistake 210\n",
            "cnnchriscuomo 644\n",
            "colinpowelldead 560\n",
            "colonialpipelinehack 756\n",
            "covid19 854\n",
            "evergreensuezcanal 644\n",
            "facebookoutage 644\n",
            "georgefloydderekchauvin 490\n",
            "harryandmeghan 714\n",
            "hurricaneida 686\n",
            "kabulairportattack 812\n",
            "kamalaharrisvicepresident 588\n",
            "michiganhighschoolshooting 728\n",
            "rustmoviesetshooting 616\n",
            "stimuluscheck 672\n",
            "tigerwoodsaccident 728\n",
            "tombradysuperbowl 630\n",
            "trumpimpeachment 574\n",
            "twitterbanstrump 728\n",
            "winterstormtexas 406\n",
            "wyominggabbypetito 546\n",
            "Finished testing against all for kylerittenhousenotguilty\n",
            "Training model for michiganhighschoolshooting...\n"
          ]
        },
        {
          "name": "stderr",
          "output_type": "stream",
          "text": [
            " 25%|██▌       | 1/4 [01:20<04:01, 80.41s/it]"
          ]
        },
        {
          "name": "stdout",
          "output_type": "stream",
          "text": [
            "Epoch: 1 | train_loss: 0.6280 | train_acc: 90.3691 | test_loss: 0.5489 | test_acc: 92.6941 | test_f1: 0.9621 | test_brier: 0.1810 | time: 75.5543\n"
          ]
        },
        {
          "name": "stderr",
          "output_type": "stream",
          "text": [
            " 50%|█████     | 2/4 [02:43<02:43, 81.90s/it]"
          ]
        },
        {
          "name": "stdout",
          "output_type": "stream",
          "text": [
            "Epoch: 2 | train_loss: 0.4259 | train_acc: 92.9081 | test_loss: 0.3041 | test_acc: 92.6941 | test_f1: 0.9621 | test_brier: 0.0813 | time: 77.6841\n"
          ]
        },
        {
          "name": "stderr",
          "output_type": "stream",
          "text": [
            " 75%|███████▌  | 3/4 [04:08<01:23, 83.55s/it]"
          ]
        },
        {
          "name": "stdout",
          "output_type": "stream",
          "text": [
            "Epoch: 3 | train_loss: 0.2637 | train_acc: 92.8879 | test_loss: 0.2955 | test_acc: 92.6941 | test_f1: 0.9621 | test_brier: 0.0694 | time: 80.0917\n"
          ]
        },
        {
          "name": "stderr",
          "output_type": "stream",
          "text": [
            "100%|██████████| 4/4 [05:28<00:00, 82.15s/it]"
          ]
        },
        {
          "name": "stdout",
          "output_type": "stream",
          "text": [
            "Epoch: 4 | train_loss: 0.2694 | train_acc: 92.9485 | test_loss: 0.2735 | test_acc: 92.6941 | test_f1: 0.9621 | test_brier: 0.0699 | time: 74.5909\n",
            "Finished training model for michiganhighschoolshooting\n",
            "Testing against all for michiganhighschoolshooting...\n",
            "michiganhighschoolshooting\n",
            "bideninauguration 602\n"
          ]
        },
        {
          "name": "stderr",
          "output_type": "stream",
          "text": [
            "\n"
          ]
        },
        {
          "name": "stdout",
          "output_type": "stream",
          "text": [
            "capitolriot 630\n",
            "citibank500millionmistake 210\n",
            "cnnchriscuomo 644\n",
            "colinpowelldead 560\n",
            "colonialpipelinehack 756\n",
            "covid19 854\n",
            "evergreensuezcanal 644\n",
            "facebookoutage 644\n",
            "georgefloydderekchauvin 490\n",
            "harryandmeghan 714\n",
            "hurricaneida 686\n",
            "kabulairportattack 812\n",
            "kamalaharrisvicepresident 588\n",
            "kylerittenhousenotguilty 756\n",
            "rustmoviesetshooting 616\n",
            "stimuluscheck 672\n",
            "tigerwoodsaccident 728\n",
            "tombradysuperbowl 630\n",
            "trumpimpeachment 574\n",
            "twitterbanstrump 728\n",
            "winterstormtexas 406\n",
            "wyominggabbypetito 546\n",
            "Finished testing against all for michiganhighschoolshooting\n",
            "Training model for rustmoviesetshooting...\n"
          ]
        },
        {
          "name": "stderr",
          "output_type": "stream",
          "text": [
            " 25%|██▌       | 1/4 [01:10<03:31, 70.47s/it]"
          ]
        },
        {
          "name": "stdout",
          "output_type": "stream",
          "text": [
            "Epoch: 1 | train_loss: 0.6694 | train_acc: 60.0446 | test_loss: 0.5794 | test_acc: 91.3514 | test_f1: 0.9548 | test_brier: 0.1959 | time: 66.1332\n"
          ]
        },
        {
          "name": "stderr",
          "output_type": "stream",
          "text": [
            " 50%|█████     | 2/4 [02:18<02:18, 69.02s/it]"
          ]
        },
        {
          "name": "stdout",
          "output_type": "stream",
          "text": [
            "Epoch: 2 | train_loss: 0.5041 | train_acc: 93.2440 | test_loss: 0.3218 | test_acc: 91.3514 | test_f1: 0.9548 | test_brier: 0.0939 | time: 63.7997\n"
          ]
        },
        {
          "name": "stderr",
          "output_type": "stream",
          "text": [
            " 75%|███████▌  | 3/4 [03:26<01:08, 68.70s/it]"
          ]
        },
        {
          "name": "stdout",
          "output_type": "stream",
          "text": [
            "Epoch: 3 | train_loss: 0.3128 | train_acc: 93.2440 | test_loss: 0.3087 | test_acc: 91.3514 | test_f1: 0.9548 | test_brier: 0.0786 | time: 64.0027\n"
          ]
        },
        {
          "name": "stderr",
          "output_type": "stream",
          "text": [
            "100%|██████████| 4/4 [04:36<00:00, 69.18s/it]"
          ]
        },
        {
          "name": "stdout",
          "output_type": "stream",
          "text": [
            "Epoch: 4 | train_loss: 0.2681 | train_acc: 93.7500 | test_loss: 0.2701 | test_acc: 91.3514 | test_f1: 0.9548 | test_brier: 0.0751 | time: 65.6358\n",
            "Finished training model for rustmoviesetshooting\n",
            "Testing against all for rustmoviesetshooting...\n",
            "rustmoviesetshooting\n",
            "bideninauguration 602\n"
          ]
        },
        {
          "name": "stderr",
          "output_type": "stream",
          "text": [
            "\n"
          ]
        },
        {
          "name": "stdout",
          "output_type": "stream",
          "text": [
            "capitolriot 630\n",
            "citibank500millionmistake 210\n",
            "cnnchriscuomo 644\n",
            "colinpowelldead 560\n",
            "colonialpipelinehack 756\n",
            "covid19 854\n",
            "evergreensuezcanal 644\n",
            "facebookoutage 644\n",
            "georgefloydderekchauvin 490\n",
            "harryandmeghan 714\n",
            "hurricaneida 686\n",
            "kabulairportattack 812\n",
            "kamalaharrisvicepresident 588\n",
            "kylerittenhousenotguilty 756\n",
            "michiganhighschoolshooting 728\n",
            "stimuluscheck 672\n",
            "tigerwoodsaccident 728\n",
            "tombradysuperbowl 630\n",
            "trumpimpeachment 574\n",
            "twitterbanstrump 728\n",
            "winterstormtexas 406\n",
            "wyominggabbypetito 546\n",
            "Finished testing against all for rustmoviesetshooting\n",
            "Training model for stimuluscheck...\n"
          ]
        },
        {
          "name": "stderr",
          "output_type": "stream",
          "text": [
            " 25%|██▌       | 1/4 [01:14<03:44, 74.74s/it]"
          ]
        },
        {
          "name": "stdout",
          "output_type": "stream",
          "text": [
            "Epoch: 1 | train_loss: 0.6118 | train_acc: 92.8409 | test_loss: 0.5565 | test_acc: 92.5743 | test_f1: 0.9614 | test_brier: 0.1830 | time: 70.4746\n"
          ]
        },
        {
          "name": "stderr",
          "output_type": "stream",
          "text": [
            " 50%|█████     | 2/4 [02:29<02:29, 74.77s/it]"
          ]
        },
        {
          "name": "stdout",
          "output_type": "stream",
          "text": [
            "Epoch: 2 | train_loss: 0.4372 | train_acc: 93.1250 | test_loss: 0.3258 | test_acc: 92.5743 | test_f1: 0.9614 | test_brier: 0.0927 | time: 70.4937\n"
          ]
        },
        {
          "name": "stderr",
          "output_type": "stream",
          "text": [
            " 75%|███████▌  | 3/4 [03:45<01:15, 75.28s/it]"
          ]
        },
        {
          "name": "stdout",
          "output_type": "stream",
          "text": [
            "Epoch: 3 | train_loss: 0.2749 | train_acc: 93.1250 | test_loss: 0.2626 | test_acc: 92.5743 | test_f1: 0.9614 | test_brier: 0.0704 | time: 71.4579\n"
          ]
        },
        {
          "name": "stderr",
          "output_type": "stream",
          "text": [
            "100%|██████████| 4/4 [05:02<00:00, 75.72s/it]"
          ]
        },
        {
          "name": "stdout",
          "output_type": "stream",
          "text": [
            "Epoch: 4 | train_loss: 0.2618 | train_acc: 92.9356 | test_loss: 0.2562 | test_acc: 92.5743 | test_f1: 0.9614 | test_brier: 0.0707 | time: 73.1146\n",
            "Finished training model for stimuluscheck\n",
            "Testing against all for stimuluscheck...\n",
            "stimuluscheck\n",
            "bideninauguration 602\n"
          ]
        },
        {
          "name": "stderr",
          "output_type": "stream",
          "text": [
            "\n"
          ]
        },
        {
          "name": "stdout",
          "output_type": "stream",
          "text": [
            "capitolriot 630\n",
            "citibank500millionmistake 210\n",
            "cnnchriscuomo 644\n",
            "colinpowelldead 560\n",
            "colonialpipelinehack 756\n",
            "covid19 854\n",
            "evergreensuezcanal 644\n",
            "facebookoutage 644\n",
            "georgefloydderekchauvin 490\n",
            "harryandmeghan 714\n",
            "hurricaneida 686\n",
            "kabulairportattack 812\n",
            "kamalaharrisvicepresident 588\n",
            "kylerittenhousenotguilty 756\n",
            "michiganhighschoolshooting 728\n",
            "rustmoviesetshooting 616\n",
            "tigerwoodsaccident 728\n",
            "tombradysuperbowl 630\n",
            "trumpimpeachment 574\n",
            "twitterbanstrump 728\n",
            "winterstormtexas 406\n",
            "wyominggabbypetito 546\n",
            "Finished testing against all for stimuluscheck\n",
            "Training model for tigerwoodsaccident...\n"
          ]
        },
        {
          "name": "stderr",
          "output_type": "stream",
          "text": [
            " 25%|██▌       | 1/4 [01:31<04:35, 91.78s/it]"
          ]
        },
        {
          "name": "stdout",
          "output_type": "stream",
          "text": [
            "Epoch: 1 | train_loss: 0.6513 | train_acc: 64.6484 | test_loss: 0.5689 | test_acc: 92.6941 | test_f1: 0.9621 | test_brier: 0.1903 | time: 85.9113\n"
          ]
        },
        {
          "name": "stderr",
          "output_type": "stream",
          "text": [
            " 50%|█████     | 2/4 [03:04<03:04, 92.18s/it]"
          ]
        },
        {
          "name": "stdout",
          "output_type": "stream",
          "text": [
            "Epoch: 2 | train_loss: 0.4509 | train_acc: 92.9485 | test_loss: 0.2844 | test_acc: 92.6941 | test_f1: 0.9621 | test_brier: 0.0787 | time: 86.9422\n"
          ]
        },
        {
          "name": "stderr",
          "output_type": "stream",
          "text": [
            " 75%|███████▌  | 3/4 [04:34<01:31, 91.27s/it]"
          ]
        },
        {
          "name": "stdout",
          "output_type": "stream",
          "text": [
            "Epoch: 3 | train_loss: 0.2571 | train_acc: 92.9688 | test_loss: 0.2662 | test_acc: 92.6941 | test_f1: 0.9621 | test_brier: 0.0665 | time: 84.9038\n"
          ]
        },
        {
          "name": "stderr",
          "output_type": "stream",
          "text": [
            "100%|██████████| 4/4 [06:03<00:00, 90.92s/it]"
          ]
        },
        {
          "name": "stdout",
          "output_type": "stream",
          "text": [
            "Epoch: 4 | train_loss: 0.2576 | train_acc: 92.9283 | test_loss: 0.2481 | test_acc: 92.6941 | test_f1: 0.9621 | test_brier: 0.0659 | time: 83.8207\n",
            "Finished training model for tigerwoodsaccident\n",
            "Testing against all for tigerwoodsaccident...\n",
            "tigerwoodsaccident\n",
            "bideninauguration 602\n"
          ]
        },
        {
          "name": "stderr",
          "output_type": "stream",
          "text": [
            "\n"
          ]
        },
        {
          "name": "stdout",
          "output_type": "stream",
          "text": [
            "capitolriot 630\n",
            "citibank500millionmistake 210\n",
            "cnnchriscuomo 644\n",
            "colinpowelldead 560\n",
            "colonialpipelinehack 756\n",
            "covid19 854\n",
            "evergreensuezcanal 644\n",
            "facebookoutage 644\n",
            "georgefloydderekchauvin 490\n",
            "harryandmeghan 714\n",
            "hurricaneida 686\n",
            "kabulairportattack 812\n",
            "kamalaharrisvicepresident 588\n",
            "kylerittenhousenotguilty 756\n",
            "michiganhighschoolshooting 728\n",
            "rustmoviesetshooting 616\n",
            "stimuluscheck 672\n",
            "tombradysuperbowl 630\n",
            "trumpimpeachment 574\n",
            "twitterbanstrump 728\n",
            "winterstormtexas 406\n",
            "wyominggabbypetito 546\n",
            "Finished testing against all for tigerwoodsaccident\n",
            "Training model for tombradysuperbowl...\n"
          ]
        },
        {
          "name": "stderr",
          "output_type": "stream",
          "text": [
            " 25%|██▌       | 1/4 [01:21<04:05, 81.94s/it]"
          ]
        },
        {
          "name": "stdout",
          "output_type": "stream",
          "text": [
            "Epoch: 1 | train_loss: 0.6439 | train_acc: 80.9643 | test_loss: 0.5795 | test_acc: 91.5344 | test_f1: 0.9558 | test_brier: 0.1951 | time: 77.4560\n"
          ]
        },
        {
          "name": "stderr",
          "output_type": "stream",
          "text": [
            " 50%|█████     | 2/4 [02:37<02:36, 78.22s/it]"
          ]
        },
        {
          "name": "stdout",
          "output_type": "stream",
          "text": [
            "Epoch: 2 | train_loss: 0.4741 | train_acc: 93.3393 | test_loss: 0.3640 | test_acc: 91.5344 | test_f1: 0.9558 | test_brier: 0.1063 | time: 71.4347\n"
          ]
        },
        {
          "name": "stderr",
          "output_type": "stream",
          "text": [
            " 75%|███████▌  | 3/4 [03:58<01:19, 79.28s/it]"
          ]
        },
        {
          "name": "stdout",
          "output_type": "stream",
          "text": [
            "Epoch: 3 | train_loss: 0.2666 | train_acc: 93.4018 | test_loss: 0.3149 | test_acc: 91.5344 | test_f1: 0.9558 | test_brier: 0.0774 | time: 75.9181\n"
          ]
        },
        {
          "name": "stderr",
          "output_type": "stream",
          "text": [
            "100%|██████████| 4/4 [05:23<00:00, 80.91s/it]"
          ]
        },
        {
          "name": "stdout",
          "output_type": "stream",
          "text": [
            "Epoch: 4 | train_loss: 0.2407 | train_acc: 93.5268 | test_loss: 0.2834 | test_acc: 91.5344 | test_f1: 0.9558 | test_brier: 0.0757 | time: 80.5213\n",
            "Finished training model for tombradysuperbowl\n",
            "Testing against all for tombradysuperbowl...\n",
            "tombradysuperbowl\n",
            "bideninauguration 602\n"
          ]
        },
        {
          "name": "stderr",
          "output_type": "stream",
          "text": [
            "\n"
          ]
        },
        {
          "name": "stdout",
          "output_type": "stream",
          "text": [
            "capitolriot 630\n",
            "citibank500millionmistake 210\n",
            "cnnchriscuomo 644\n",
            "colinpowelldead 560\n",
            "colonialpipelinehack 756\n",
            "covid19 854\n",
            "evergreensuezcanal 644\n",
            "facebookoutage 644\n",
            "georgefloydderekchauvin 490\n",
            "harryandmeghan 714\n",
            "hurricaneida 686\n",
            "kabulairportattack 812\n",
            "kamalaharrisvicepresident 588\n",
            "kylerittenhousenotguilty 756\n",
            "michiganhighschoolshooting 728\n",
            "rustmoviesetshooting 616\n",
            "stimuluscheck 672\n",
            "tigerwoodsaccident 728\n",
            "trumpimpeachment 574\n",
            "twitterbanstrump 728\n",
            "winterstormtexas 406\n",
            "wyominggabbypetito 546\n",
            "Finished testing against all for tombradysuperbowl\n",
            "Training model for trumpimpeachment...\n"
          ]
        },
        {
          "name": "stderr",
          "output_type": "stream",
          "text": [
            " 25%|██▌       | 1/4 [01:21<04:05, 81.94s/it]"
          ]
        },
        {
          "name": "stdout",
          "output_type": "stream",
          "text": [
            "Epoch: 1 | train_loss: 0.6725 | train_acc: 60.1244 | test_loss: 0.5995 | test_acc: 89.5954 | test_f1: 0.9451 | test_brier: 0.2061 | time: 76.7036\n"
          ]
        },
        {
          "name": "stderr",
          "output_type": "stream",
          "text": [
            " 50%|█████     | 2/4 [02:41<02:41, 80.69s/it]"
          ]
        },
        {
          "name": "stdout",
          "output_type": "stream",
          "text": [
            "Epoch: 2 | train_loss: 0.5147 | train_acc: 94.4712 | test_loss: 0.4243 | test_acc: 89.5954 | test_f1: 0.9451 | test_brier: 0.1309 | time: 74.7693\n"
          ]
        },
        {
          "name": "stderr",
          "output_type": "stream",
          "text": [
            " 75%|███████▌  | 3/4 [04:00<01:19, 79.93s/it]"
          ]
        },
        {
          "name": "stdout",
          "output_type": "stream",
          "text": [
            "Epoch: 3 | train_loss: 0.3065 | train_acc: 93.8348 | test_loss: 0.4754 | test_acc: 89.5954 | test_f1: 0.9451 | test_brier: 0.0987 | time: 73.9513\n"
          ]
        },
        {
          "name": "stderr",
          "output_type": "stream",
          "text": [
            "100%|██████████| 4/4 [05:21<00:00, 80.27s/it]"
          ]
        },
        {
          "name": "stdout",
          "output_type": "stream",
          "text": [
            "Epoch: 4 | train_loss: 0.1975 | train_acc: 94.4712 | test_loss: 0.4706 | test_acc: 89.5954 | test_f1: 0.9451 | test_brier: 0.0984 | time: 75.3728\n",
            "Finished training model for trumpimpeachment\n",
            "Testing against all for trumpimpeachment...\n",
            "trumpimpeachment\n",
            "bideninauguration 602\n"
          ]
        },
        {
          "name": "stderr",
          "output_type": "stream",
          "text": [
            "\n"
          ]
        },
        {
          "name": "stdout",
          "output_type": "stream",
          "text": [
            "capitolriot 630\n",
            "citibank500millionmistake 210\n",
            "cnnchriscuomo 644\n",
            "colinpowelldead 560\n",
            "colonialpipelinehack 756\n",
            "covid19 854\n",
            "evergreensuezcanal 644\n",
            "facebookoutage 644\n",
            "georgefloydderekchauvin 490\n",
            "harryandmeghan 714\n",
            "hurricaneida 686\n",
            "kabulairportattack 812\n",
            "kamalaharrisvicepresident 588\n",
            "kylerittenhousenotguilty 756\n",
            "michiganhighschoolshooting 728\n",
            "rustmoviesetshooting 616\n",
            "stimuluscheck 672\n",
            "tigerwoodsaccident 728\n",
            "tombradysuperbowl 630\n",
            "twitterbanstrump 728\n",
            "winterstormtexas 406\n",
            "wyominggabbypetito 546\n",
            "Finished testing against all for trumpimpeachment\n",
            "Training model for twitterbanstrump...\n"
          ]
        },
        {
          "name": "stderr",
          "output_type": "stream",
          "text": [
            " 25%|██▌       | 1/4 [01:35<04:45, 95.19s/it]"
          ]
        },
        {
          "name": "stdout",
          "output_type": "stream",
          "text": [
            "Epoch: 1 | train_loss: 0.6511 | train_acc: 68.3594 | test_loss: 0.6071 | test_acc: 92.6941 | test_f1: 0.9621 | test_brier: 0.1937 | time: 88.4477\n"
          ]
        },
        {
          "name": "stderr",
          "output_type": "stream",
          "text": [
            " 50%|█████     | 2/4 [03:09<03:09, 94.60s/it]"
          ]
        },
        {
          "name": "stdout",
          "output_type": "stream",
          "text": [
            "Epoch: 2 | train_loss: 0.4411 | train_acc: 92.9688 | test_loss: 0.7003 | test_acc: 92.6941 | test_f1: 0.9621 | test_brier: 0.0805 | time: 87.9880\n"
          ]
        },
        {
          "name": "stderr",
          "output_type": "stream",
          "text": [
            " 75%|███████▌  | 3/4 [04:45<01:35, 95.51s/it]"
          ]
        },
        {
          "name": "stdout",
          "output_type": "stream",
          "text": [
            "Epoch: 3 | train_loss: 0.2620 | train_acc: 92.9688 | test_loss: 0.9095 | test_acc: 92.6941 | test_f1: 0.9621 | test_brier: 0.0688 | time: 89.7671\n"
          ]
        },
        {
          "name": "stderr",
          "output_type": "stream",
          "text": [
            "100%|██████████| 4/4 [06:22<00:00, 95.68s/it]"
          ]
        },
        {
          "name": "stdout",
          "output_type": "stream",
          "text": [
            "Epoch: 4 | train_loss: 0.2462 | train_acc: 92.9081 | test_loss: 0.7814 | test_acc: 92.6941 | test_f1: 0.9621 | test_brier: 0.0683 | time: 89.7120\n",
            "Finished training model for twitterbanstrump\n",
            "Testing against all for twitterbanstrump...\n",
            "twitterbanstrump\n",
            "bideninauguration 602\n"
          ]
        },
        {
          "name": "stderr",
          "output_type": "stream",
          "text": [
            "\n"
          ]
        },
        {
          "name": "stdout",
          "output_type": "stream",
          "text": [
            "capitolriot 630\n",
            "citibank500millionmistake 210\n",
            "cnnchriscuomo 644\n",
            "colinpowelldead 560\n",
            "colonialpipelinehack 756\n",
            "covid19 854\n",
            "evergreensuezcanal 644\n",
            "facebookoutage 644\n",
            "georgefloydderekchauvin 490\n",
            "harryandmeghan 714\n",
            "hurricaneida 686\n",
            "kabulairportattack 812\n",
            "kamalaharrisvicepresident 588\n",
            "kylerittenhousenotguilty 756\n",
            "michiganhighschoolshooting 728\n",
            "rustmoviesetshooting 616\n",
            "stimuluscheck 672\n",
            "tigerwoodsaccident 728\n",
            "tombradysuperbowl 630\n",
            "trumpimpeachment 574\n",
            "winterstormtexas 406\n",
            "wyominggabbypetito 546\n",
            "Finished testing against all for twitterbanstrump\n",
            "Training model for winterstormtexas...\n"
          ]
        },
        {
          "name": "stderr",
          "output_type": "stream",
          "text": [
            " 25%|██▌       | 1/4 [00:52<02:38, 52.85s/it]"
          ]
        },
        {
          "name": "stdout",
          "output_type": "stream",
          "text": [
            "Epoch: 1 | train_loss: 0.6802 | train_acc: 57.5397 | test_loss: 0.6360 | test_acc: 86.0656 | test_f1: 0.9251 | test_brier: 0.2217 | time: 49.1815\n"
          ]
        },
        {
          "name": "stderr",
          "output_type": "stream",
          "text": [
            " 50%|█████     | 2/4 [01:42<01:42, 51.06s/it]"
          ]
        },
        {
          "name": "stdout",
          "output_type": "stream",
          "text": [
            "Epoch: 2 | train_loss: 0.5910 | train_acc: 95.7341 | test_loss: 0.5319 | test_acc: 86.0656 | test_f1: 0.9251 | test_brier: 0.1754 | time: 45.9781\n"
          ]
        },
        {
          "name": "stderr",
          "output_type": "stream",
          "text": [
            " 75%|███████▌  | 3/4 [02:32<00:50, 50.71s/it]"
          ]
        },
        {
          "name": "stdout",
          "output_type": "stream",
          "text": [
            "Epoch: 3 | train_loss: 0.4432 | train_acc: 95.7837 | test_loss: 0.4088 | test_acc: 86.0656 | test_f1: 0.9251 | test_brier: 0.1251 | time: 46.6292\n"
          ]
        },
        {
          "name": "stderr",
          "output_type": "stream",
          "text": [
            "100%|██████████| 4/4 [03:22<00:00, 50.63s/it]"
          ]
        },
        {
          "name": "stdout",
          "output_type": "stream",
          "text": [
            "Epoch: 4 | train_loss: 0.2800 | train_acc: 95.7341 | test_loss: 0.5122 | test_acc: 86.0656 | test_f1: 0.9251 | test_brier: 0.1198 | time: 45.5460\n",
            "Finished training model for winterstormtexas\n",
            "Testing against all for winterstormtexas...\n",
            "winterstormtexas\n",
            "bideninauguration 602\n"
          ]
        },
        {
          "name": "stderr",
          "output_type": "stream",
          "text": [
            "\n"
          ]
        },
        {
          "name": "stdout",
          "output_type": "stream",
          "text": [
            "capitolriot 630\n",
            "citibank500millionmistake 210\n",
            "cnnchriscuomo 644\n",
            "colinpowelldead 560\n",
            "colonialpipelinehack 756\n",
            "covid19 854\n",
            "evergreensuezcanal 644\n",
            "facebookoutage 644\n",
            "georgefloydderekchauvin 490\n",
            "harryandmeghan 714\n",
            "hurricaneida 686\n",
            "kabulairportattack 812\n",
            "kamalaharrisvicepresident 588\n",
            "kylerittenhousenotguilty 756\n",
            "michiganhighschoolshooting 728\n",
            "rustmoviesetshooting 616\n",
            "stimuluscheck 672\n",
            "tigerwoodsaccident 728\n",
            "tombradysuperbowl 630\n",
            "trumpimpeachment 574\n",
            "twitterbanstrump 728\n",
            "wyominggabbypetito 546\n",
            "Finished testing against all for winterstormtexas\n",
            "Training model for wyominggabbypetito...\n"
          ]
        },
        {
          "name": "stderr",
          "output_type": "stream",
          "text": [
            " 25%|██▌       | 1/4 [01:20<04:01, 80.35s/it]"
          ]
        },
        {
          "name": "stdout",
          "output_type": "stream",
          "text": [
            "Epoch: 1 | train_loss: 0.6355 | train_acc: 93.4549 | test_loss: 0.5862 | test_acc: 89.0244 | test_f1: 0.9419 | test_brier: 0.1997 | time: 76.1284\n"
          ]
        },
        {
          "name": "stderr",
          "output_type": "stream",
          "text": [
            " 50%|█████     | 2/4 [02:36<02:36, 78.14s/it]"
          ]
        },
        {
          "name": "stdout",
          "output_type": "stream",
          "text": [
            "Epoch: 2 | train_loss: 0.5100 | train_acc: 94.4965 | test_loss: 0.4327 | test_acc: 89.0244 | test_f1: 0.9419 | test_brier: 0.1361 | time: 72.2737\n"
          ]
        },
        {
          "name": "stderr",
          "output_type": "stream",
          "text": [
            " 75%|███████▌  | 3/4 [03:52<01:17, 77.12s/it]"
          ]
        },
        {
          "name": "stdout",
          "output_type": "stream",
          "text": [
            "Epoch: 3 | train_loss: 0.3086 | train_acc: 94.4965 | test_loss: 0.3506 | test_acc: 89.0244 | test_f1: 0.9419 | test_brier: 0.0967 | time: 71.5841\n"
          ]
        },
        {
          "name": "stderr",
          "output_type": "stream",
          "text": [
            "100%|██████████| 4/4 [05:12<00:00, 78.04s/it]"
          ]
        },
        {
          "name": "stdout",
          "output_type": "stream",
          "text": [
            "Epoch: 4 | train_loss: 0.2413 | train_acc: 94.4792 | test_loss: 0.3721 | test_acc: 89.0244 | test_f1: 0.9419 | test_brier: 0.1001 | time: 74.9245\n",
            "Finished training model for wyominggabbypetito\n",
            "Testing against all for wyominggabbypetito...\n",
            "wyominggabbypetito\n",
            "bideninauguration 602\n"
          ]
        },
        {
          "name": "stderr",
          "output_type": "stream",
          "text": [
            "\n"
          ]
        },
        {
          "name": "stdout",
          "output_type": "stream",
          "text": [
            "capitolriot 630\n",
            "citibank500millionmistake 210\n",
            "cnnchriscuomo 644\n",
            "colinpowelldead 560\n",
            "colonialpipelinehack 756\n",
            "covid19 854\n",
            "evergreensuezcanal 644\n",
            "facebookoutage 644\n",
            "georgefloydderekchauvin 490\n",
            "harryandmeghan 714\n",
            "hurricaneida 686\n",
            "kabulairportattack 812\n",
            "kamalaharrisvicepresident 588\n",
            "kylerittenhousenotguilty 756\n",
            "michiganhighschoolshooting 728\n",
            "rustmoviesetshooting 616\n",
            "stimuluscheck 672\n",
            "tigerwoodsaccident 728\n",
            "tombradysuperbowl 630\n",
            "trumpimpeachment 574\n",
            "twitterbanstrump 728\n",
            "winterstormtexas 406\n",
            "Finished testing against all for wyominggabbypetito\n"
          ]
        }
      ],
      "source": [
        "final_results = []\n",
        "\n",
        "for topic in df['topic'].unique():\n",
        "    topic_df = df.loc[df['topic'] == topic]\n",
        "    topic_train_df, topic_test_df = train_test_split(topic_df, test_size=TEST_SET_FRACTION, random_state=69)\n",
        "\n",
        "    train_dataset = TextDataset(topic_train_df['tokenized_text'], topic_train_df['is_llm'])\n",
        "    test_dataset = TextDataset(topic_test_df['tokenized_text'], topic_test_df['is_llm'])\n",
        "\n",
        "    train_dataloader = DataLoader(\n",
        "        train_dataset,\n",
        "        batch_size=BATCH_SIZE,\n",
        "        shuffle=True,\n",
        "        drop_last=False,\n",
        "        collate_fn=collate_fn\n",
        "    )\n",
        "\n",
        "    test_dataloader = DataLoader(\n",
        "        test_dataset,\n",
        "        batch_size=BATCH_SIZE,\n",
        "        shuffle=False,\n",
        "        drop_last=False,\n",
        "        collate_fn=collate_fn\n",
        "    )\n",
        "\n",
        "    model = RNN(tokenizer.vocab_size, EMBEDDING_SIZE, LSTM_UNITS, LSTM_LAYERS, device, dropout=0.6).to(device)\n",
        "    optimizer = torch.optim.Adam(model.parameters(), lr=0.00008)\n",
        "    loss_fn = nn.BCEWithLogitsLoss()\n",
        "\n",
        "    print(f'Training model for {topic}...')\n",
        "\n",
        "    current_results = train(\n",
        "        model,\n",
        "        train_dataloader,\n",
        "        test_dataloader,\n",
        "        optimizer,\n",
        "        loss_fn,\n",
        "        epochs=4,\n",
        "        device=device\n",
        "    )    \n",
        "\n",
        "    print(f'Finished training model for {topic}')\n",
        "\n",
        "    print(f'Testing against all for {topic}...')\n",
        "    \n",
        "    results_against_all = test_against_all(\n",
        "        model,\n",
        "        topic,\n",
        "        df,\n",
        "        loss_fn,\n",
        "        device\n",
        "    )\n",
        "\n",
        "    final_results.append({\n",
        "        'results_against_itself': current_results,\n",
        "        'results_against_all': results_against_all\n",
        "    })\n",
        "\n",
        "    print(f'Finished testing against all for {topic}')"
      ]
    },
    {
      "cell_type": "code",
      "execution_count": 134,
      "metadata": {},
      "outputs": [
        {
          "data": {
            "text/plain": [
              "['bideninauguration',\n",
              " 'capitolriot',\n",
              " 'citibank500millionmistake',\n",
              " 'cnnchriscuomo',\n",
              " 'colinpowelldead',\n",
              " 'colonialpipelinehack',\n",
              " 'covid19',\n",
              " 'evergreensuezcanal',\n",
              " 'facebookoutage',\n",
              " 'georgefloydderekchauvin',\n",
              " 'harryandmeghan',\n",
              " 'hurricaneida',\n",
              " 'kabulairportattack',\n",
              " 'kamalaharrisvicepresident',\n",
              " 'kylerittenhousenotguilty',\n",
              " 'michiganhighschoolshooting',\n",
              " 'rustmoviesetshooting',\n",
              " 'stimuluscheck',\n",
              " 'tigerwoodsaccident',\n",
              " 'tombradysuperbowl',\n",
              " 'trumpimpeachment',\n",
              " 'twitterbanstrump',\n",
              " 'winterstormtexas',\n",
              " 'wyominggabbypetito']"
            ]
          },
          "execution_count": 134,
          "metadata": {},
          "output_type": "execute_result"
        }
      ],
      "source": [
        "results_copy = final_results[:]\n",
        "\n",
        "topics = df['topic'].unique().tolist()\n",
        "topics"
      ]
    },
    {
      "cell_type": "code",
      "execution_count": 131,
      "metadata": {},
      "outputs": [
        {
          "ename": "RuntimeError",
          "evalue": "dictionary changed size during iteration",
          "output_type": "error",
          "traceback": [
            "\u001b[1;31m---------------------------------------------------------------------------\u001b[0m",
            "\u001b[1;31mRuntimeError\u001b[0m                              Traceback (most recent call last)",
            "Cell \u001b[1;32mIn[131], line 3\u001b[0m\n\u001b[0;32m      1\u001b[0m \u001b[38;5;28;01mfor\u001b[39;00m row \u001b[38;5;129;01min\u001b[39;00m results_copy:\n\u001b[0;32m      2\u001b[0m     \u001b[38;5;28miter\u001b[39m \u001b[38;5;241m=\u001b[39m row[\u001b[38;5;124m'\u001b[39m\u001b[38;5;124mresults_against_all\u001b[39m\u001b[38;5;124m'\u001b[39m][:]\n\u001b[1;32m----> 3\u001b[0m \u001b[43m    \u001b[49m\u001b[38;5;28;43;01mfor\u001b[39;49;00m\u001b[43m \u001b[49m\u001b[43mi\u001b[49m\u001b[43m,\u001b[49m\u001b[43m \u001b[49m\u001b[43mx\u001b[49m\u001b[43m \u001b[49m\u001b[38;5;129;43;01min\u001b[39;49;00m\u001b[43m \u001b[49m\u001b[38;5;28;43menumerate\u001b[39;49m\u001b[43m(\u001b[49m\u001b[43mrow\u001b[49m\u001b[43m[\u001b[49m\u001b[38;5;124;43m'\u001b[39;49m\u001b[38;5;124;43mresults_against_all\u001b[39;49m\u001b[38;5;124;43m'\u001b[39;49m\u001b[43m]\u001b[49m\u001b[43m[\u001b[49m\u001b[43m:\u001b[49m\u001b[43m]\u001b[49m\u001b[43m[\u001b[49m\u001b[38;5;241;43m0\u001b[39;49m\u001b[43m]\u001b[49m\u001b[38;5;241;43m.\u001b[39;49m\u001b[43mkeys\u001b[49m\u001b[43m(\u001b[49m\u001b[43m)\u001b[49m\u001b[43m)\u001b[49m\u001b[43m:\u001b[49m\n\u001b[0;32m      4\u001b[0m \u001b[43m        \u001b[49m\u001b[38;5;28;43miter\u001b[39;49m\u001b[43m[\u001b[49m\u001b[38;5;241;43m0\u001b[39;49m\u001b[43m]\u001b[49m\u001b[43m[\u001b[49m\u001b[43mtopics\u001b[49m\u001b[43m[\u001b[49m\u001b[43mi\u001b[49m\u001b[43m]\u001b[49m\u001b[43m]\u001b[49m\u001b[43m \u001b[49m\u001b[38;5;241;43m=\u001b[39;49m\u001b[43m \u001b[49m\u001b[38;5;28;43miter\u001b[39;49m\u001b[43m[\u001b[49m\u001b[38;5;241;43m0\u001b[39;49m\u001b[43m]\u001b[49m\u001b[43m[\u001b[49m\u001b[43mx\u001b[49m\u001b[43m]\u001b[49m\n\u001b[0;32m      5\u001b[0m     row[\u001b[38;5;124m'\u001b[39m\u001b[38;5;124mresults_against_all\u001b[39m\u001b[38;5;124m'\u001b[39m][\u001b[38;5;241m0\u001b[39m] \u001b[38;5;241m=\u001b[39m \u001b[38;5;28miter\u001b[39m    \n",
            "\u001b[1;31mRuntimeError\u001b[0m: dictionary changed size during iteration"
          ]
        }
      ],
      "source": [
        "for row in results_copy:\n",
        "    iter = row['results_against_all'][:]\n",
        "    for i, x in enumerate(row['results_against_all'][:][0].keys()):\n",
        "        iter[0][topics[i]] = iter[0][x]\n",
        "    row['results_against_all'][0] = iter    "
      ]
    },
    {
      "cell_type": "code",
      "execution_count": 111,
      "metadata": {},
      "outputs": [
        {
          "data": {
            "text/plain": [
              "[{'bideninauguration': (0.3489207586756459,\n",
              "   92.85714285714286,\n",
              "   0.9629629629629629,\n",
              "   0.0793907960174134)},\n",
              " {'bideninauguration': (0.32285482196935583,\n",
              "   92.85714285714286,\n",
              "   0.9629629629629629,\n",
              "   0.0775852310544822)},\n",
              " {'bideninauguration': (0.30391925892659594,\n",
              "   92.85714285714286,\n",
              "   0.9629629629629629,\n",
              "   0.0756026320439937)},\n",
              " {'bideninauguration': (0.28682881221175194,\n",
              "   92.85714285714286,\n",
              "   0.9629629629629629,\n",
              "   0.07332814442912951)},\n",
              " {'bideninauguration': (0.3266417782591737,\n",
              "   92.85714285714286,\n",
              "   0.9629629629629629,\n",
              "   0.0764303416747718)},\n",
              " {'bideninauguration': (0.3167598830028014,\n",
              "   92.85714285714286,\n",
              "   0.9629629629629629,\n",
              "   0.07653539716091126)},\n",
              " {'bideninauguration': (0.40827500354498625,\n",
              "   92.85714285714286,\n",
              "   0.9629629629629629,\n",
              "   0.08376447079317795)},\n",
              " {'bideninauguration': (0.3796791381349689,\n",
              "   92.85714285714286,\n",
              "   0.9629629629629629,\n",
              "   0.0777435294284679)},\n",
              " {'bideninauguration': (0.3062702782141666,\n",
              "   92.85714285714286,\n",
              "   0.9629629629629629,\n",
              "   0.07633943969848428)},\n",
              " {'bideninauguration': (0.2944439596132092,\n",
              "   92.85714285714286,\n",
              "   0.9629629629629629,\n",
              "   0.07478891368942016)},\n",
              " {'bideninauguration': (0.31043787896633146,\n",
              "   92.85714285714286,\n",
              "   0.9629629629629629,\n",
              "   0.07533422685358847)},\n",
              " {'bideninauguration': (0.29851532851656276,\n",
              "   92.85714285714286,\n",
              "   0.9629629629629629,\n",
              "   0.07402471169239286)},\n",
              " {'bideninauguration': (0.2949826410445182,\n",
              "   92.85714285714286,\n",
              "   0.9629629629629629,\n",
              "   0.07534689952634724)},\n",
              " {'bideninauguration': (0.33477113079279663,\n",
              "   92.85714285714286,\n",
              "   0.9629629629629629,\n",
              "   0.07756439944139634)},\n",
              " {'bideninauguration': (0.2837972806559669,\n",
              "   92.85714285714286,\n",
              "   0.9629629629629629,\n",
              "   0.0723896821313309)},\n",
              " {'bideninauguration': (0.5116738931316397,\n",
              "   92.85714285714286,\n",
              "   0.9629629629629629,\n",
              "   0.08026085262186843)},\n",
              " {'bideninauguration': (0.3705886345929824,\n",
              "   92.85714285714286,\n",
              "   0.9629629629629629,\n",
              "   0.07846419539466247)},\n",
              " {'bideninauguration': (0.27146444883611465,\n",
              "   92.85714285714286,\n",
              "   0.9629629629629629,\n",
              "   0.07133705182083976)}]"
            ]
          },
          "execution_count": 111,
          "metadata": {},
          "output_type": "execute_result"
        }
      ],
      "source": [
        "results_copy[0]['results_against_all']"
      ]
    },
    {
      "cell_type": "code",
      "execution_count": 108,
      "metadata": {},
      "outputs": [
        {
          "ename": "ValueError",
          "evalue": "list.remove(x): x not in list",
          "output_type": "error",
          "traceback": [
            "\u001b[1;31m---------------------------------------------------------------------------\u001b[0m",
            "\u001b[1;31mValueError\u001b[0m                                Traceback (most recent call last)",
            "Cell \u001b[1;32mIn[108], line 2\u001b[0m\n\u001b[0;32m      1\u001b[0m \u001b[38;5;28;01mfor\u001b[39;00m r \u001b[38;5;129;01min\u001b[39;00m results_copy:\n\u001b[1;32m----> 2\u001b[0m     \u001b[43mr\u001b[49m\u001b[43m[\u001b[49m\u001b[38;5;124;43m'\u001b[39;49m\u001b[38;5;124;43mresults_against_all\u001b[39;49m\u001b[38;5;124;43m'\u001b[39;49m\u001b[43m]\u001b[49m\u001b[38;5;241;43m.\u001b[39;49m\u001b[43mremove\u001b[49m\u001b[43m(\u001b[49m\u001b[38;5;241;43m0\u001b[39;49m\u001b[43m)\u001b[49m\n",
            "\u001b[1;31mValueError\u001b[0m: list.remove(x): x not in list"
          ]
        }
      ],
      "source": [
        "for r in results_copy:\n",
        "    for item in r['results_against_all']:\n",
        "        print(item)\n"
      ]
    },
    {
      "cell_type": "code",
      "execution_count": 135,
      "metadata": {},
      "outputs": [],
      "source": [
        "with open('topic-data.json', 'w') as f:\n",
        "    json.dump(final_results, f)"
      ]
    },
    {
      "cell_type": "code",
      "execution_count": null,
      "metadata": {},
      "outputs": [],
      "source": []
    }
  ],
  "metadata": {
    "accelerator": "GPU",
    "colab": {
      "gpuType": "T4",
      "provenance": []
    },
    "kernelspec": {
      "display_name": "Python 3",
      "name": "python3"
    },
    "language_info": {
      "codemirror_mode": {
        "name": "ipython",
        "version": 3
      },
      "file_extension": ".py",
      "mimetype": "text/x-python",
      "name": "python",
      "nbconvert_exporter": "python",
      "pygments_lexer": "ipython3",
      "version": "3.11.8"
    },
    "widgets": {
      "application/vnd.jupyter.widget-state+json": {
        "0392a28cce1c411eb589a2a830de9f81": {
          "model_module": "@jupyter-widgets/controls",
          "model_module_version": "1.5.0",
          "model_name": "FloatProgressModel",
          "state": {
            "_dom_classes": [],
            "_model_module": "@jupyter-widgets/controls",
            "_model_module_version": "1.5.0",
            "_model_name": "FloatProgressModel",
            "_view_count": null,
            "_view_module": "@jupyter-widgets/controls",
            "_view_module_version": "1.5.0",
            "_view_name": "ProgressView",
            "bar_style": "success",
            "description": "",
            "description_tooltip": null,
            "layout": "IPY_MODEL_1d1b05bcccc74fb9a05d254c02e70ecf",
            "max": 213450,
            "min": 0,
            "orientation": "horizontal",
            "style": "IPY_MODEL_a97591a5da36414291443f0c072f7aef",
            "value": 213450
          }
        },
        "0e5d1f82bd4e4c5e9b77b3e7b4e1825d": {
          "model_module": "@jupyter-widgets/controls",
          "model_module_version": "1.5.0",
          "model_name": "HBoxModel",
          "state": {
            "_dom_classes": [],
            "_model_module": "@jupyter-widgets/controls",
            "_model_module_version": "1.5.0",
            "_model_name": "HBoxModel",
            "_view_count": null,
            "_view_module": "@jupyter-widgets/controls",
            "_view_module_version": "1.5.0",
            "_view_name": "HBoxView",
            "box_style": "",
            "children": [
              "IPY_MODEL_fb3496851d4240df8adafced7f6294f1",
              "IPY_MODEL_ca4ffb80734349c38894e6a1466aa48e",
              "IPY_MODEL_a1616df8431846cb86f86907cf2e4198"
            ],
            "layout": "IPY_MODEL_4b9a350bd0f8484daec7175a5501e8cd"
          }
        },
        "16325d80e6784518a46da6df47624241": {
          "model_module": "@jupyter-widgets/controls",
          "model_module_version": "1.5.0",
          "model_name": "HTMLModel",
          "state": {
            "_dom_classes": [],
            "_model_module": "@jupyter-widgets/controls",
            "_model_module_version": "1.5.0",
            "_model_name": "HTMLModel",
            "_view_count": null,
            "_view_module": "@jupyter-widgets/controls",
            "_view_module_version": "1.5.0",
            "_view_name": "HTMLView",
            "description": "",
            "description_tooltip": null,
            "layout": "IPY_MODEL_ef74c0ece2494ae9b2841fdce4cc70a6",
            "placeholder": "​",
            "style": "IPY_MODEL_b93827186b71413cbceee4f1d60ca712",
            "value": "tokenizer.json: 100%"
          }
        },
        "198be5934fa54ee2ac2ba8c2de2d0495": {
          "model_module": "@jupyter-widgets/base",
          "model_module_version": "1.2.0",
          "model_name": "LayoutModel",
          "state": {
            "_model_module": "@jupyter-widgets/base",
            "_model_module_version": "1.2.0",
            "_model_name": "LayoutModel",
            "_view_count": null,
            "_view_module": "@jupyter-widgets/base",
            "_view_module_version": "1.2.0",
            "_view_name": "LayoutView",
            "align_content": null,
            "align_items": null,
            "align_self": null,
            "border": null,
            "bottom": null,
            "display": null,
            "flex": null,
            "flex_flow": null,
            "grid_area": null,
            "grid_auto_columns": null,
            "grid_auto_flow": null,
            "grid_auto_rows": null,
            "grid_column": null,
            "grid_gap": null,
            "grid_row": null,
            "grid_template_areas": null,
            "grid_template_columns": null,
            "grid_template_rows": null,
            "height": null,
            "justify_content": null,
            "justify_items": null,
            "left": null,
            "margin": null,
            "max_height": null,
            "max_width": null,
            "min_height": null,
            "min_width": null,
            "object_fit": null,
            "object_position": null,
            "order": null,
            "overflow": null,
            "overflow_x": null,
            "overflow_y": null,
            "padding": null,
            "right": null,
            "top": null,
            "visibility": null,
            "width": null
          }
        },
        "1d1b05bcccc74fb9a05d254c02e70ecf": {
          "model_module": "@jupyter-widgets/base",
          "model_module_version": "1.2.0",
          "model_name": "LayoutModel",
          "state": {
            "_model_module": "@jupyter-widgets/base",
            "_model_module_version": "1.2.0",
            "_model_name": "LayoutModel",
            "_view_count": null,
            "_view_module": "@jupyter-widgets/base",
            "_view_module_version": "1.2.0",
            "_view_name": "LayoutView",
            "align_content": null,
            "align_items": null,
            "align_self": null,
            "border": null,
            "bottom": null,
            "display": null,
            "flex": null,
            "flex_flow": null,
            "grid_area": null,
            "grid_auto_columns": null,
            "grid_auto_flow": null,
            "grid_auto_rows": null,
            "grid_column": null,
            "grid_gap": null,
            "grid_row": null,
            "grid_template_areas": null,
            "grid_template_columns": null,
            "grid_template_rows": null,
            "height": null,
            "justify_content": null,
            "justify_items": null,
            "left": null,
            "margin": null,
            "max_height": null,
            "max_width": null,
            "min_height": null,
            "min_width": null,
            "object_fit": null,
            "object_position": null,
            "order": null,
            "overflow": null,
            "overflow_x": null,
            "overflow_y": null,
            "padding": null,
            "right": null,
            "top": null,
            "visibility": null,
            "width": null
          }
        },
        "205787b9a44e45548bbf3eea10442671": {
          "model_module": "@jupyter-widgets/controls",
          "model_module_version": "1.5.0",
          "model_name": "HBoxModel",
          "state": {
            "_dom_classes": [],
            "_model_module": "@jupyter-widgets/controls",
            "_model_module_version": "1.5.0",
            "_model_name": "HBoxModel",
            "_view_count": null,
            "_view_module": "@jupyter-widgets/controls",
            "_view_module_version": "1.5.0",
            "_view_name": "HBoxView",
            "box_style": "",
            "children": [
              "IPY_MODEL_16325d80e6784518a46da6df47624241",
              "IPY_MODEL_8b52c56ce26d49ceb33be24ba4d7fa91",
              "IPY_MODEL_64083f9a1384455ea37109cf9b002e6a"
            ],
            "layout": "IPY_MODEL_4b874b0fdf604cf992166c370eef87a8"
          }
        },
        "23a0951ed1a04765a5acd609bb2d5149": {
          "model_module": "@jupyter-widgets/base",
          "model_module_version": "1.2.0",
          "model_name": "LayoutModel",
          "state": {
            "_model_module": "@jupyter-widgets/base",
            "_model_module_version": "1.2.0",
            "_model_name": "LayoutModel",
            "_view_count": null,
            "_view_module": "@jupyter-widgets/base",
            "_view_module_version": "1.2.0",
            "_view_name": "LayoutView",
            "align_content": null,
            "align_items": null,
            "align_self": null,
            "border": null,
            "bottom": null,
            "display": null,
            "flex": null,
            "flex_flow": null,
            "grid_area": null,
            "grid_auto_columns": null,
            "grid_auto_flow": null,
            "grid_auto_rows": null,
            "grid_column": null,
            "grid_gap": null,
            "grid_row": null,
            "grid_template_areas": null,
            "grid_template_columns": null,
            "grid_template_rows": null,
            "height": null,
            "justify_content": null,
            "justify_items": null,
            "left": null,
            "margin": null,
            "max_height": null,
            "max_width": null,
            "min_height": null,
            "min_width": null,
            "object_fit": null,
            "object_position": null,
            "order": null,
            "overflow": null,
            "overflow_x": null,
            "overflow_y": null,
            "padding": null,
            "right": null,
            "top": null,
            "visibility": null,
            "width": null
          }
        },
        "2414bc4f499f4af4b5d1c879ff96ebdc": {
          "model_module": "@jupyter-widgets/controls",
          "model_module_version": "1.5.0",
          "model_name": "DescriptionStyleModel",
          "state": {
            "_model_module": "@jupyter-widgets/controls",
            "_model_module_version": "1.5.0",
            "_model_name": "DescriptionStyleModel",
            "_view_count": null,
            "_view_module": "@jupyter-widgets/base",
            "_view_module_version": "1.2.0",
            "_view_name": "StyleView",
            "description_width": ""
          }
        },
        "28cfc025ee684f0bb65e994d5040e2f5": {
          "model_module": "@jupyter-widgets/base",
          "model_module_version": "1.2.0",
          "model_name": "LayoutModel",
          "state": {
            "_model_module": "@jupyter-widgets/base",
            "_model_module_version": "1.2.0",
            "_model_name": "LayoutModel",
            "_view_count": null,
            "_view_module": "@jupyter-widgets/base",
            "_view_module_version": "1.2.0",
            "_view_name": "LayoutView",
            "align_content": null,
            "align_items": null,
            "align_self": null,
            "border": null,
            "bottom": null,
            "display": null,
            "flex": null,
            "flex_flow": null,
            "grid_area": null,
            "grid_auto_columns": null,
            "grid_auto_flow": null,
            "grid_auto_rows": null,
            "grid_column": null,
            "grid_gap": null,
            "grid_row": null,
            "grid_template_areas": null,
            "grid_template_columns": null,
            "grid_template_rows": null,
            "height": null,
            "justify_content": null,
            "justify_items": null,
            "left": null,
            "margin": null,
            "max_height": null,
            "max_width": null,
            "min_height": null,
            "min_width": null,
            "object_fit": null,
            "object_position": null,
            "order": null,
            "overflow": null,
            "overflow_x": null,
            "overflow_y": null,
            "padding": null,
            "right": null,
            "top": null,
            "visibility": null,
            "width": null
          }
        },
        "36b6b8c4fa2048479335a049475bd11a": {
          "model_module": "@jupyter-widgets/controls",
          "model_module_version": "1.5.0",
          "model_name": "HBoxModel",
          "state": {
            "_dom_classes": [],
            "_model_module": "@jupyter-widgets/controls",
            "_model_module_version": "1.5.0",
            "_model_name": "HBoxModel",
            "_view_count": null,
            "_view_module": "@jupyter-widgets/controls",
            "_view_module_version": "1.5.0",
            "_view_name": "HBoxView",
            "box_style": "",
            "children": [
              "IPY_MODEL_df85f13f05c643c483fb5a9020d4eb2e",
              "IPY_MODEL_0392a28cce1c411eb589a2a830de9f81",
              "IPY_MODEL_954d67adf5a44d42a1b7494208c62f90"
            ],
            "layout": "IPY_MODEL_c7932bac22e4474980b7550d5e549710"
          }
        },
        "44ee402fd993472486d8b182e02939c2": {
          "model_module": "@jupyter-widgets/base",
          "model_module_version": "1.2.0",
          "model_name": "LayoutModel",
          "state": {
            "_model_module": "@jupyter-widgets/base",
            "_model_module_version": "1.2.0",
            "_model_name": "LayoutModel",
            "_view_count": null,
            "_view_module": "@jupyter-widgets/base",
            "_view_module_version": "1.2.0",
            "_view_name": "LayoutView",
            "align_content": null,
            "align_items": null,
            "align_self": null,
            "border": null,
            "bottom": null,
            "display": null,
            "flex": null,
            "flex_flow": null,
            "grid_area": null,
            "grid_auto_columns": null,
            "grid_auto_flow": null,
            "grid_auto_rows": null,
            "grid_column": null,
            "grid_gap": null,
            "grid_row": null,
            "grid_template_areas": null,
            "grid_template_columns": null,
            "grid_template_rows": null,
            "height": null,
            "justify_content": null,
            "justify_items": null,
            "left": null,
            "margin": null,
            "max_height": null,
            "max_width": null,
            "min_height": null,
            "min_width": null,
            "object_fit": null,
            "object_position": null,
            "order": null,
            "overflow": null,
            "overflow_x": null,
            "overflow_y": null,
            "padding": null,
            "right": null,
            "top": null,
            "visibility": null,
            "width": null
          }
        },
        "4b874b0fdf604cf992166c370eef87a8": {
          "model_module": "@jupyter-widgets/base",
          "model_module_version": "1.2.0",
          "model_name": "LayoutModel",
          "state": {
            "_model_module": "@jupyter-widgets/base",
            "_model_module_version": "1.2.0",
            "_model_name": "LayoutModel",
            "_view_count": null,
            "_view_module": "@jupyter-widgets/base",
            "_view_module_version": "1.2.0",
            "_view_name": "LayoutView",
            "align_content": null,
            "align_items": null,
            "align_self": null,
            "border": null,
            "bottom": null,
            "display": null,
            "flex": null,
            "flex_flow": null,
            "grid_area": null,
            "grid_auto_columns": null,
            "grid_auto_flow": null,
            "grid_auto_rows": null,
            "grid_column": null,
            "grid_gap": null,
            "grid_row": null,
            "grid_template_areas": null,
            "grid_template_columns": null,
            "grid_template_rows": null,
            "height": null,
            "justify_content": null,
            "justify_items": null,
            "left": null,
            "margin": null,
            "max_height": null,
            "max_width": null,
            "min_height": null,
            "min_width": null,
            "object_fit": null,
            "object_position": null,
            "order": null,
            "overflow": null,
            "overflow_x": null,
            "overflow_y": null,
            "padding": null,
            "right": null,
            "top": null,
            "visibility": null,
            "width": null
          }
        },
        "4b9a350bd0f8484daec7175a5501e8cd": {
          "model_module": "@jupyter-widgets/base",
          "model_module_version": "1.2.0",
          "model_name": "LayoutModel",
          "state": {
            "_model_module": "@jupyter-widgets/base",
            "_model_module_version": "1.2.0",
            "_model_name": "LayoutModel",
            "_view_count": null,
            "_view_module": "@jupyter-widgets/base",
            "_view_module_version": "1.2.0",
            "_view_name": "LayoutView",
            "align_content": null,
            "align_items": null,
            "align_self": null,
            "border": null,
            "bottom": null,
            "display": null,
            "flex": null,
            "flex_flow": null,
            "grid_area": null,
            "grid_auto_columns": null,
            "grid_auto_flow": null,
            "grid_auto_rows": null,
            "grid_column": null,
            "grid_gap": null,
            "grid_row": null,
            "grid_template_areas": null,
            "grid_template_columns": null,
            "grid_template_rows": null,
            "height": null,
            "justify_content": null,
            "justify_items": null,
            "left": null,
            "margin": null,
            "max_height": null,
            "max_width": null,
            "min_height": null,
            "min_width": null,
            "object_fit": null,
            "object_position": null,
            "order": null,
            "overflow": null,
            "overflow_x": null,
            "overflow_y": null,
            "padding": null,
            "right": null,
            "top": null,
            "visibility": null,
            "width": null
          }
        },
        "58eb56cc8c2c42bb8d8ed893cd31bbe0": {
          "model_module": "@jupyter-widgets/controls",
          "model_module_version": "1.5.0",
          "model_name": "FloatProgressModel",
          "state": {
            "_dom_classes": [],
            "_model_module": "@jupyter-widgets/controls",
            "_model_module_version": "1.5.0",
            "_model_name": "FloatProgressModel",
            "_view_count": null,
            "_view_module": "@jupyter-widgets/controls",
            "_view_module_version": "1.5.0",
            "_view_name": "ProgressView",
            "bar_style": "success",
            "description": "",
            "description_tooltip": null,
            "layout": "IPY_MODEL_93fe8415a0214089bcedfa1e88c97f4c",
            "max": 465,
            "min": 0,
            "orientation": "horizontal",
            "style": "IPY_MODEL_dbb93fab19394a369fc2c535e0f1c270",
            "value": 465
          }
        },
        "64083f9a1384455ea37109cf9b002e6a": {
          "model_module": "@jupyter-widgets/controls",
          "model_module_version": "1.5.0",
          "model_name": "HTMLModel",
          "state": {
            "_dom_classes": [],
            "_model_module": "@jupyter-widgets/controls",
            "_model_module_version": "1.5.0",
            "_model_name": "HTMLModel",
            "_view_count": null,
            "_view_module": "@jupyter-widgets/controls",
            "_view_module_version": "1.5.0",
            "_view_name": "HTMLView",
            "description": "",
            "description_tooltip": null,
            "layout": "IPY_MODEL_23a0951ed1a04765a5acd609bb2d5149",
            "placeholder": "​",
            "style": "IPY_MODEL_2414bc4f499f4af4b5d1c879ff96ebdc",
            "value": " 436k/436k [00:00&lt;00:00, 1.78MB/s]"
          }
        },
        "67f951f9d98945c0be9247ef2e2be5d8": {
          "model_module": "@jupyter-widgets/base",
          "model_module_version": "1.2.0",
          "model_name": "LayoutModel",
          "state": {
            "_model_module": "@jupyter-widgets/base",
            "_model_module_version": "1.2.0",
            "_model_name": "LayoutModel",
            "_view_count": null,
            "_view_module": "@jupyter-widgets/base",
            "_view_module_version": "1.2.0",
            "_view_name": "LayoutView",
            "align_content": null,
            "align_items": null,
            "align_self": null,
            "border": null,
            "bottom": null,
            "display": null,
            "flex": null,
            "flex_flow": null,
            "grid_area": null,
            "grid_auto_columns": null,
            "grid_auto_flow": null,
            "grid_auto_rows": null,
            "grid_column": null,
            "grid_gap": null,
            "grid_row": null,
            "grid_template_areas": null,
            "grid_template_columns": null,
            "grid_template_rows": null,
            "height": null,
            "justify_content": null,
            "justify_items": null,
            "left": null,
            "margin": null,
            "max_height": null,
            "max_width": null,
            "min_height": null,
            "min_width": null,
            "object_fit": null,
            "object_position": null,
            "order": null,
            "overflow": null,
            "overflow_x": null,
            "overflow_y": null,
            "padding": null,
            "right": null,
            "top": null,
            "visibility": null,
            "width": null
          }
        },
        "8b52c56ce26d49ceb33be24ba4d7fa91": {
          "model_module": "@jupyter-widgets/controls",
          "model_module_version": "1.5.0",
          "model_name": "FloatProgressModel",
          "state": {
            "_dom_classes": [],
            "_model_module": "@jupyter-widgets/controls",
            "_model_module_version": "1.5.0",
            "_model_name": "FloatProgressModel",
            "_view_count": null,
            "_view_module": "@jupyter-widgets/controls",
            "_view_module_version": "1.5.0",
            "_view_name": "ProgressView",
            "bar_style": "success",
            "description": "",
            "description_tooltip": null,
            "layout": "IPY_MODEL_dfd7e55521cc4de38139027cdbe2d70f",
            "max": 435797,
            "min": 0,
            "orientation": "horizontal",
            "style": "IPY_MODEL_a14ebacbc5624ec1b45c06e01bcba260",
            "value": 435797
          }
        },
        "8d23deaff63644c29803b721583cc601": {
          "model_module": "@jupyter-widgets/base",
          "model_module_version": "1.2.0",
          "model_name": "LayoutModel",
          "state": {
            "_model_module": "@jupyter-widgets/base",
            "_model_module_version": "1.2.0",
            "_model_name": "LayoutModel",
            "_view_count": null,
            "_view_module": "@jupyter-widgets/base",
            "_view_module_version": "1.2.0",
            "_view_name": "LayoutView",
            "align_content": null,
            "align_items": null,
            "align_self": null,
            "border": null,
            "bottom": null,
            "display": null,
            "flex": null,
            "flex_flow": null,
            "grid_area": null,
            "grid_auto_columns": null,
            "grid_auto_flow": null,
            "grid_auto_rows": null,
            "grid_column": null,
            "grid_gap": null,
            "grid_row": null,
            "grid_template_areas": null,
            "grid_template_columns": null,
            "grid_template_rows": null,
            "height": null,
            "justify_content": null,
            "justify_items": null,
            "left": null,
            "margin": null,
            "max_height": null,
            "max_width": null,
            "min_height": null,
            "min_width": null,
            "object_fit": null,
            "object_position": null,
            "order": null,
            "overflow": null,
            "overflow_x": null,
            "overflow_y": null,
            "padding": null,
            "right": null,
            "top": null,
            "visibility": null,
            "width": null
          }
        },
        "93fe8415a0214089bcedfa1e88c97f4c": {
          "model_module": "@jupyter-widgets/base",
          "model_module_version": "1.2.0",
          "model_name": "LayoutModel",
          "state": {
            "_model_module": "@jupyter-widgets/base",
            "_model_module_version": "1.2.0",
            "_model_name": "LayoutModel",
            "_view_count": null,
            "_view_module": "@jupyter-widgets/base",
            "_view_module_version": "1.2.0",
            "_view_name": "LayoutView",
            "align_content": null,
            "align_items": null,
            "align_self": null,
            "border": null,
            "bottom": null,
            "display": null,
            "flex": null,
            "flex_flow": null,
            "grid_area": null,
            "grid_auto_columns": null,
            "grid_auto_flow": null,
            "grid_auto_rows": null,
            "grid_column": null,
            "grid_gap": null,
            "grid_row": null,
            "grid_template_areas": null,
            "grid_template_columns": null,
            "grid_template_rows": null,
            "height": null,
            "justify_content": null,
            "justify_items": null,
            "left": null,
            "margin": null,
            "max_height": null,
            "max_width": null,
            "min_height": null,
            "min_width": null,
            "object_fit": null,
            "object_position": null,
            "order": null,
            "overflow": null,
            "overflow_x": null,
            "overflow_y": null,
            "padding": null,
            "right": null,
            "top": null,
            "visibility": null,
            "width": null
          }
        },
        "954d67adf5a44d42a1b7494208c62f90": {
          "model_module": "@jupyter-widgets/controls",
          "model_module_version": "1.5.0",
          "model_name": "HTMLModel",
          "state": {
            "_dom_classes": [],
            "_model_module": "@jupyter-widgets/controls",
            "_model_module_version": "1.5.0",
            "_model_name": "HTMLModel",
            "_view_count": null,
            "_view_module": "@jupyter-widgets/controls",
            "_view_module_version": "1.5.0",
            "_view_name": "HTMLView",
            "description": "",
            "description_tooltip": null,
            "layout": "IPY_MODEL_198be5934fa54ee2ac2ba8c2de2d0495",
            "placeholder": "​",
            "style": "IPY_MODEL_bb94427c56d143ec9beea5f77afc869b",
            "value": " 213k/213k [00:00&lt;00:00, 1.30MB/s]"
          }
        },
        "96450211d3d441e0a35a88fde55cd45e": {
          "model_module": "@jupyter-widgets/base",
          "model_module_version": "1.2.0",
          "model_name": "LayoutModel",
          "state": {
            "_model_module": "@jupyter-widgets/base",
            "_model_module_version": "1.2.0",
            "_model_name": "LayoutModel",
            "_view_count": null,
            "_view_module": "@jupyter-widgets/base",
            "_view_module_version": "1.2.0",
            "_view_name": "LayoutView",
            "align_content": null,
            "align_items": null,
            "align_self": null,
            "border": null,
            "bottom": null,
            "display": null,
            "flex": null,
            "flex_flow": null,
            "grid_area": null,
            "grid_auto_columns": null,
            "grid_auto_flow": null,
            "grid_auto_rows": null,
            "grid_column": null,
            "grid_gap": null,
            "grid_row": null,
            "grid_template_areas": null,
            "grid_template_columns": null,
            "grid_template_rows": null,
            "height": null,
            "justify_content": null,
            "justify_items": null,
            "left": null,
            "margin": null,
            "max_height": null,
            "max_width": null,
            "min_height": null,
            "min_width": null,
            "object_fit": null,
            "object_position": null,
            "order": null,
            "overflow": null,
            "overflow_x": null,
            "overflow_y": null,
            "padding": null,
            "right": null,
            "top": null,
            "visibility": null,
            "width": null
          }
        },
        "99707ce659d3434d804c1e614e69ba61": {
          "model_module": "@jupyter-widgets/controls",
          "model_module_version": "1.5.0",
          "model_name": "HTMLModel",
          "state": {
            "_dom_classes": [],
            "_model_module": "@jupyter-widgets/controls",
            "_model_module_version": "1.5.0",
            "_model_name": "HTMLModel",
            "_view_count": null,
            "_view_module": "@jupyter-widgets/controls",
            "_view_module_version": "1.5.0",
            "_view_name": "HTMLView",
            "description": "",
            "description_tooltip": null,
            "layout": "IPY_MODEL_de509d9d939f464092384acf57a63667",
            "placeholder": "​",
            "style": "IPY_MODEL_df70372fe7704fe2a6c9b5f3ff898bd9",
            "value": "config.json: 100%"
          }
        },
        "a14ebacbc5624ec1b45c06e01bcba260": {
          "model_module": "@jupyter-widgets/controls",
          "model_module_version": "1.5.0",
          "model_name": "ProgressStyleModel",
          "state": {
            "_model_module": "@jupyter-widgets/controls",
            "_model_module_version": "1.5.0",
            "_model_name": "ProgressStyleModel",
            "_view_count": null,
            "_view_module": "@jupyter-widgets/base",
            "_view_module_version": "1.2.0",
            "_view_name": "StyleView",
            "bar_color": null,
            "description_width": ""
          }
        },
        "a1616df8431846cb86f86907cf2e4198": {
          "model_module": "@jupyter-widgets/controls",
          "model_module_version": "1.5.0",
          "model_name": "HTMLModel",
          "state": {
            "_dom_classes": [],
            "_model_module": "@jupyter-widgets/controls",
            "_model_module_version": "1.5.0",
            "_model_name": "HTMLModel",
            "_view_count": null,
            "_view_module": "@jupyter-widgets/controls",
            "_view_module_version": "1.5.0",
            "_view_name": "HTMLView",
            "description": "",
            "description_tooltip": null,
            "layout": "IPY_MODEL_96450211d3d441e0a35a88fde55cd45e",
            "placeholder": "​",
            "style": "IPY_MODEL_dba8390fdf7f483aad35bab1fcde9414",
            "value": " 49.0/49.0 [00:00&lt;00:00, 3.49kB/s]"
          }
        },
        "a1e1768246c7432e979dd25ac9ba9139": {
          "model_module": "@jupyter-widgets/controls",
          "model_module_version": "1.5.0",
          "model_name": "DescriptionStyleModel",
          "state": {
            "_model_module": "@jupyter-widgets/controls",
            "_model_module_version": "1.5.0",
            "_model_name": "DescriptionStyleModel",
            "_view_count": null,
            "_view_module": "@jupyter-widgets/base",
            "_view_module_version": "1.2.0",
            "_view_name": "StyleView",
            "description_width": ""
          }
        },
        "a97591a5da36414291443f0c072f7aef": {
          "model_module": "@jupyter-widgets/controls",
          "model_module_version": "1.5.0",
          "model_name": "ProgressStyleModel",
          "state": {
            "_model_module": "@jupyter-widgets/controls",
            "_model_module_version": "1.5.0",
            "_model_name": "ProgressStyleModel",
            "_view_count": null,
            "_view_module": "@jupyter-widgets/base",
            "_view_module_version": "1.2.0",
            "_view_name": "StyleView",
            "bar_color": null,
            "description_width": ""
          }
        },
        "aa54d61e08144063aa05f510b75bfb50": {
          "model_module": "@jupyter-widgets/controls",
          "model_module_version": "1.5.0",
          "model_name": "DescriptionStyleModel",
          "state": {
            "_model_module": "@jupyter-widgets/controls",
            "_model_module_version": "1.5.0",
            "_model_name": "DescriptionStyleModel",
            "_view_count": null,
            "_view_module": "@jupyter-widgets/base",
            "_view_module_version": "1.2.0",
            "_view_name": "StyleView",
            "description_width": ""
          }
        },
        "b93827186b71413cbceee4f1d60ca712": {
          "model_module": "@jupyter-widgets/controls",
          "model_module_version": "1.5.0",
          "model_name": "DescriptionStyleModel",
          "state": {
            "_model_module": "@jupyter-widgets/controls",
            "_model_module_version": "1.5.0",
            "_model_name": "DescriptionStyleModel",
            "_view_count": null,
            "_view_module": "@jupyter-widgets/base",
            "_view_module_version": "1.2.0",
            "_view_name": "StyleView",
            "description_width": ""
          }
        },
        "bb94427c56d143ec9beea5f77afc869b": {
          "model_module": "@jupyter-widgets/controls",
          "model_module_version": "1.5.0",
          "model_name": "DescriptionStyleModel",
          "state": {
            "_model_module": "@jupyter-widgets/controls",
            "_model_module_version": "1.5.0",
            "_model_name": "DescriptionStyleModel",
            "_view_count": null,
            "_view_module": "@jupyter-widgets/base",
            "_view_module_version": "1.2.0",
            "_view_name": "StyleView",
            "description_width": ""
          }
        },
        "c38c3592b76d49f39d81275b1282ed87": {
          "model_module": "@jupyter-widgets/controls",
          "model_module_version": "1.5.0",
          "model_name": "DescriptionStyleModel",
          "state": {
            "_model_module": "@jupyter-widgets/controls",
            "_model_module_version": "1.5.0",
            "_model_name": "DescriptionStyleModel",
            "_view_count": null,
            "_view_module": "@jupyter-widgets/base",
            "_view_module_version": "1.2.0",
            "_view_name": "StyleView",
            "description_width": ""
          }
        },
        "c7932bac22e4474980b7550d5e549710": {
          "model_module": "@jupyter-widgets/base",
          "model_module_version": "1.2.0",
          "model_name": "LayoutModel",
          "state": {
            "_model_module": "@jupyter-widgets/base",
            "_model_module_version": "1.2.0",
            "_model_name": "LayoutModel",
            "_view_count": null,
            "_view_module": "@jupyter-widgets/base",
            "_view_module_version": "1.2.0",
            "_view_name": "LayoutView",
            "align_content": null,
            "align_items": null,
            "align_self": null,
            "border": null,
            "bottom": null,
            "display": null,
            "flex": null,
            "flex_flow": null,
            "grid_area": null,
            "grid_auto_columns": null,
            "grid_auto_flow": null,
            "grid_auto_rows": null,
            "grid_column": null,
            "grid_gap": null,
            "grid_row": null,
            "grid_template_areas": null,
            "grid_template_columns": null,
            "grid_template_rows": null,
            "height": null,
            "justify_content": null,
            "justify_items": null,
            "left": null,
            "margin": null,
            "max_height": null,
            "max_width": null,
            "min_height": null,
            "min_width": null,
            "object_fit": null,
            "object_position": null,
            "order": null,
            "overflow": null,
            "overflow_x": null,
            "overflow_y": null,
            "padding": null,
            "right": null,
            "top": null,
            "visibility": null,
            "width": null
          }
        },
        "ca4ffb80734349c38894e6a1466aa48e": {
          "model_module": "@jupyter-widgets/controls",
          "model_module_version": "1.5.0",
          "model_name": "FloatProgressModel",
          "state": {
            "_dom_classes": [],
            "_model_module": "@jupyter-widgets/controls",
            "_model_module_version": "1.5.0",
            "_model_name": "FloatProgressModel",
            "_view_count": null,
            "_view_module": "@jupyter-widgets/controls",
            "_view_module_version": "1.5.0",
            "_view_name": "ProgressView",
            "bar_style": "success",
            "description": "",
            "description_tooltip": null,
            "layout": "IPY_MODEL_8d23deaff63644c29803b721583cc601",
            "max": 49,
            "min": 0,
            "orientation": "horizontal",
            "style": "IPY_MODEL_fbcae6fdd6264d918a508a67ee9f25ce",
            "value": 49
          }
        },
        "cce3be99a3d44628a60a2ccd5aa93851": {
          "model_module": "@jupyter-widgets/base",
          "model_module_version": "1.2.0",
          "model_name": "LayoutModel",
          "state": {
            "_model_module": "@jupyter-widgets/base",
            "_model_module_version": "1.2.0",
            "_model_name": "LayoutModel",
            "_view_count": null,
            "_view_module": "@jupyter-widgets/base",
            "_view_module_version": "1.2.0",
            "_view_name": "LayoutView",
            "align_content": null,
            "align_items": null,
            "align_self": null,
            "border": null,
            "bottom": null,
            "display": null,
            "flex": null,
            "flex_flow": null,
            "grid_area": null,
            "grid_auto_columns": null,
            "grid_auto_flow": null,
            "grid_auto_rows": null,
            "grid_column": null,
            "grid_gap": null,
            "grid_row": null,
            "grid_template_areas": null,
            "grid_template_columns": null,
            "grid_template_rows": null,
            "height": null,
            "justify_content": null,
            "justify_items": null,
            "left": null,
            "margin": null,
            "max_height": null,
            "max_width": null,
            "min_height": null,
            "min_width": null,
            "object_fit": null,
            "object_position": null,
            "order": null,
            "overflow": null,
            "overflow_x": null,
            "overflow_y": null,
            "padding": null,
            "right": null,
            "top": null,
            "visibility": null,
            "width": null
          }
        },
        "cd32caa2cc1343efaa9a8dbf5ed626c6": {
          "model_module": "@jupyter-widgets/controls",
          "model_module_version": "1.5.0",
          "model_name": "HBoxModel",
          "state": {
            "_dom_classes": [],
            "_model_module": "@jupyter-widgets/controls",
            "_model_module_version": "1.5.0",
            "_model_name": "HBoxModel",
            "_view_count": null,
            "_view_module": "@jupyter-widgets/controls",
            "_view_module_version": "1.5.0",
            "_view_name": "HBoxView",
            "box_style": "",
            "children": [
              "IPY_MODEL_99707ce659d3434d804c1e614e69ba61",
              "IPY_MODEL_58eb56cc8c2c42bb8d8ed893cd31bbe0",
              "IPY_MODEL_f89a48c8596949c1b6789b9195b569b7"
            ],
            "layout": "IPY_MODEL_44ee402fd993472486d8b182e02939c2"
          }
        },
        "dba8390fdf7f483aad35bab1fcde9414": {
          "model_module": "@jupyter-widgets/controls",
          "model_module_version": "1.5.0",
          "model_name": "DescriptionStyleModel",
          "state": {
            "_model_module": "@jupyter-widgets/controls",
            "_model_module_version": "1.5.0",
            "_model_name": "DescriptionStyleModel",
            "_view_count": null,
            "_view_module": "@jupyter-widgets/base",
            "_view_module_version": "1.2.0",
            "_view_name": "StyleView",
            "description_width": ""
          }
        },
        "dbb93fab19394a369fc2c535e0f1c270": {
          "model_module": "@jupyter-widgets/controls",
          "model_module_version": "1.5.0",
          "model_name": "ProgressStyleModel",
          "state": {
            "_model_module": "@jupyter-widgets/controls",
            "_model_module_version": "1.5.0",
            "_model_name": "ProgressStyleModel",
            "_view_count": null,
            "_view_module": "@jupyter-widgets/base",
            "_view_module_version": "1.2.0",
            "_view_name": "StyleView",
            "bar_color": null,
            "description_width": ""
          }
        },
        "de509d9d939f464092384acf57a63667": {
          "model_module": "@jupyter-widgets/base",
          "model_module_version": "1.2.0",
          "model_name": "LayoutModel",
          "state": {
            "_model_module": "@jupyter-widgets/base",
            "_model_module_version": "1.2.0",
            "_model_name": "LayoutModel",
            "_view_count": null,
            "_view_module": "@jupyter-widgets/base",
            "_view_module_version": "1.2.0",
            "_view_name": "LayoutView",
            "align_content": null,
            "align_items": null,
            "align_self": null,
            "border": null,
            "bottom": null,
            "display": null,
            "flex": null,
            "flex_flow": null,
            "grid_area": null,
            "grid_auto_columns": null,
            "grid_auto_flow": null,
            "grid_auto_rows": null,
            "grid_column": null,
            "grid_gap": null,
            "grid_row": null,
            "grid_template_areas": null,
            "grid_template_columns": null,
            "grid_template_rows": null,
            "height": null,
            "justify_content": null,
            "justify_items": null,
            "left": null,
            "margin": null,
            "max_height": null,
            "max_width": null,
            "min_height": null,
            "min_width": null,
            "object_fit": null,
            "object_position": null,
            "order": null,
            "overflow": null,
            "overflow_x": null,
            "overflow_y": null,
            "padding": null,
            "right": null,
            "top": null,
            "visibility": null,
            "width": null
          }
        },
        "df70372fe7704fe2a6c9b5f3ff898bd9": {
          "model_module": "@jupyter-widgets/controls",
          "model_module_version": "1.5.0",
          "model_name": "DescriptionStyleModel",
          "state": {
            "_model_module": "@jupyter-widgets/controls",
            "_model_module_version": "1.5.0",
            "_model_name": "DescriptionStyleModel",
            "_view_count": null,
            "_view_module": "@jupyter-widgets/base",
            "_view_module_version": "1.2.0",
            "_view_name": "StyleView",
            "description_width": ""
          }
        },
        "df85f13f05c643c483fb5a9020d4eb2e": {
          "model_module": "@jupyter-widgets/controls",
          "model_module_version": "1.5.0",
          "model_name": "HTMLModel",
          "state": {
            "_dom_classes": [],
            "_model_module": "@jupyter-widgets/controls",
            "_model_module_version": "1.5.0",
            "_model_name": "HTMLModel",
            "_view_count": null,
            "_view_module": "@jupyter-widgets/controls",
            "_view_module_version": "1.5.0",
            "_view_name": "HTMLView",
            "description": "",
            "description_tooltip": null,
            "layout": "IPY_MODEL_cce3be99a3d44628a60a2ccd5aa93851",
            "placeholder": "​",
            "style": "IPY_MODEL_aa54d61e08144063aa05f510b75bfb50",
            "value": "vocab.txt: 100%"
          }
        },
        "dfd7e55521cc4de38139027cdbe2d70f": {
          "model_module": "@jupyter-widgets/base",
          "model_module_version": "1.2.0",
          "model_name": "LayoutModel",
          "state": {
            "_model_module": "@jupyter-widgets/base",
            "_model_module_version": "1.2.0",
            "_model_name": "LayoutModel",
            "_view_count": null,
            "_view_module": "@jupyter-widgets/base",
            "_view_module_version": "1.2.0",
            "_view_name": "LayoutView",
            "align_content": null,
            "align_items": null,
            "align_self": null,
            "border": null,
            "bottom": null,
            "display": null,
            "flex": null,
            "flex_flow": null,
            "grid_area": null,
            "grid_auto_columns": null,
            "grid_auto_flow": null,
            "grid_auto_rows": null,
            "grid_column": null,
            "grid_gap": null,
            "grid_row": null,
            "grid_template_areas": null,
            "grid_template_columns": null,
            "grid_template_rows": null,
            "height": null,
            "justify_content": null,
            "justify_items": null,
            "left": null,
            "margin": null,
            "max_height": null,
            "max_width": null,
            "min_height": null,
            "min_width": null,
            "object_fit": null,
            "object_position": null,
            "order": null,
            "overflow": null,
            "overflow_x": null,
            "overflow_y": null,
            "padding": null,
            "right": null,
            "top": null,
            "visibility": null,
            "width": null
          }
        },
        "ef74c0ece2494ae9b2841fdce4cc70a6": {
          "model_module": "@jupyter-widgets/base",
          "model_module_version": "1.2.0",
          "model_name": "LayoutModel",
          "state": {
            "_model_module": "@jupyter-widgets/base",
            "_model_module_version": "1.2.0",
            "_model_name": "LayoutModel",
            "_view_count": null,
            "_view_module": "@jupyter-widgets/base",
            "_view_module_version": "1.2.0",
            "_view_name": "LayoutView",
            "align_content": null,
            "align_items": null,
            "align_self": null,
            "border": null,
            "bottom": null,
            "display": null,
            "flex": null,
            "flex_flow": null,
            "grid_area": null,
            "grid_auto_columns": null,
            "grid_auto_flow": null,
            "grid_auto_rows": null,
            "grid_column": null,
            "grid_gap": null,
            "grid_row": null,
            "grid_template_areas": null,
            "grid_template_columns": null,
            "grid_template_rows": null,
            "height": null,
            "justify_content": null,
            "justify_items": null,
            "left": null,
            "margin": null,
            "max_height": null,
            "max_width": null,
            "min_height": null,
            "min_width": null,
            "object_fit": null,
            "object_position": null,
            "order": null,
            "overflow": null,
            "overflow_x": null,
            "overflow_y": null,
            "padding": null,
            "right": null,
            "top": null,
            "visibility": null,
            "width": null
          }
        },
        "f89a48c8596949c1b6789b9195b569b7": {
          "model_module": "@jupyter-widgets/controls",
          "model_module_version": "1.5.0",
          "model_name": "HTMLModel",
          "state": {
            "_dom_classes": [],
            "_model_module": "@jupyter-widgets/controls",
            "_model_module_version": "1.5.0",
            "_model_name": "HTMLModel",
            "_view_count": null,
            "_view_module": "@jupyter-widgets/controls",
            "_view_module_version": "1.5.0",
            "_view_name": "HTMLView",
            "description": "",
            "description_tooltip": null,
            "layout": "IPY_MODEL_28cfc025ee684f0bb65e994d5040e2f5",
            "placeholder": "​",
            "style": "IPY_MODEL_a1e1768246c7432e979dd25ac9ba9139",
            "value": " 465/465 [00:00&lt;00:00, 29.0kB/s]"
          }
        },
        "fb3496851d4240df8adafced7f6294f1": {
          "model_module": "@jupyter-widgets/controls",
          "model_module_version": "1.5.0",
          "model_name": "HTMLModel",
          "state": {
            "_dom_classes": [],
            "_model_module": "@jupyter-widgets/controls",
            "_model_module_version": "1.5.0",
            "_model_name": "HTMLModel",
            "_view_count": null,
            "_view_module": "@jupyter-widgets/controls",
            "_view_module_version": "1.5.0",
            "_view_name": "HTMLView",
            "description": "",
            "description_tooltip": null,
            "layout": "IPY_MODEL_67f951f9d98945c0be9247ef2e2be5d8",
            "placeholder": "​",
            "style": "IPY_MODEL_c38c3592b76d49f39d81275b1282ed87",
            "value": "tokenizer_config.json: 100%"
          }
        },
        "fbcae6fdd6264d918a508a67ee9f25ce": {
          "model_module": "@jupyter-widgets/controls",
          "model_module_version": "1.5.0",
          "model_name": "ProgressStyleModel",
          "state": {
            "_model_module": "@jupyter-widgets/controls",
            "_model_module_version": "1.5.0",
            "_model_name": "ProgressStyleModel",
            "_view_count": null,
            "_view_module": "@jupyter-widgets/base",
            "_view_module_version": "1.2.0",
            "_view_name": "StyleView",
            "bar_color": null,
            "description_width": ""
          }
        }
      }
    }
  },
  "nbformat": 4,
  "nbformat_minor": 0
}
