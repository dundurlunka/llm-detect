{
  "cells": [
    {
      "cell_type": "markdown",
      "metadata": {
        "id": "J6BYeghPMyOX"
      },
      "source": [
        "## Imports"
      ]
    },
    {
      "cell_type": "code",
      "execution_count": 1,
      "metadata": {
        "id": "XUjqpUheMyOZ"
      },
      "outputs": [],
      "source": [
        "import pandas as pd\n",
        "import numpy as np\n",
        "import torch\n",
        "import json\n",
        "\n",
        "from tqdm import tqdm\n",
        "from torch import nn\n",
        "from transformers import AutoTokenizer\n",
        "from torch.utils.data import Dataset, DataLoader\n",
        "from timeit import default_timer as timer\n",
        "from os import walk\n",
        "from pathlib import Path\n",
        "from sklearn.model_selection import train_test_split\n",
        "from sklearn.metrics import f1_score, roc_curve, auc, brier_score_loss"
      ]
    },
    {
      "cell_type": "markdown",
      "metadata": {
        "id": "gafxVAFwMyOb"
      },
      "source": [
        "## Data"
      ]
    },
    {
      "cell_type": "code",
      "execution_count": 2,
      "metadata": {
        "id": "J5XIgPhLMyOb"
      },
      "outputs": [],
      "source": [
        "ROOT_DATA_RAW = './'\n",
        "HUMAN_JSON_FILE_NAME = 'human.jsonl'\n",
        "HUMAN_JSON_PATH = f'{ROOT_DATA_RAW}/{HUMAN_JSON_FILE_NAME}'\n",
        "MODELS_JSON_FOLDER_PATH = f'{ROOT_DATA_RAW}/machines'"
      ]
    },
    {
      "cell_type": "code",
      "execution_count": 3,
      "metadata": {
        "id": "VKplUXm6MyOb"
      },
      "outputs": [],
      "source": [
        "BATCH_SIZE = 32\n",
        "LSTM_UNITS = 256\n",
        "LSTM_LAYERS = 5\n",
        "EMBEDDING_SIZE = 512"
      ]
    },
    {
      "cell_type": "code",
      "execution_count": 4,
      "metadata": {
        "id": "Fy7yGY_PMyOb"
      },
      "outputs": [],
      "source": [
        "TEST_SET_FRACTION = 0.3"
      ]
    },
    {
      "cell_type": "code",
      "execution_count": 5,
      "metadata": {
        "id": "TdmbjseUMyOb"
      },
      "outputs": [],
      "source": [
        "df = pd.read_json(path_or_buf=HUMAN_JSON_PATH, lines=True)\n",
        "df['text_index'] = df.index\n",
        "df['is_llm'] = 0\n",
        "df['dataset_name'] = Path(HUMAN_JSON_FILE_NAME).stem"
      ]
    },
    {
      "cell_type": "code",
      "execution_count": 6,
      "metadata": {
        "id": "joRLX4rPMyOc"
      },
      "outputs": [],
      "source": [
        "dir_path, dir_names, file_names = next(walk(MODELS_JSON_FOLDER_PATH))\n",
        "\n",
        "for file_name in file_names:\n",
        "    temp_df = pd.read_json(path_or_buf=f'{MODELS_JSON_FOLDER_PATH}/{file_name}', lines=True)\n",
        "    temp_df['text_index'] = temp_df.index\n",
        "    temp_df['is_llm'] = 1\n",
        "    temp_df['dataset_name'] = Path(file_name).stem\n",
        "\n",
        "    df = pd.concat([df, temp_df], ignore_index=True)\n",
        "\n",
        "df.drop(labels=['id'], inplace=True, axis='columns')"
      ]
    },
    {
      "cell_type": "code",
      "execution_count": 7,
      "metadata": {
        "colab": {
          "base_uri": "https://localhost:8080/",
          "height": 206
        },
        "id": "Yu4nL5ahMyOc",
        "outputId": "233c38d1-4e25-4758-e99b-82d2c9e16ebf"
      },
      "outputs": [
        {
          "data": {
            "application/vnd.google.colaboratory.intrinsic+json": {
              "summary": "{\n  \"name\": \"df\",\n  \"rows\": 5,\n  \"fields\": [\n    {\n      \"column\": \"text\",\n      \"properties\": {\n        \"dtype\": \"string\",\n        \"num_unique_values\": 5,\n        \"samples\": [\n          \"Search Intensifies for Missing Woman Gabby Petito Last Seen in Utah\\n\\nSALT LAKE CITY \\u2013 Authorities are urgently searching for 22-year-old Gabby Petito, a young woman last seen traveling through Utah and Wyoming with her boyfriend, Brian Laundrie. Petito's disappearance has sparked a nationwide effort to locate her, with law enforcement agencies and the public joining forces to unravel the mystery surrounding her whereabouts.\\n\\nA Cross-Country Adventure Gone Silent\\n\\nGabby Petito and Brian Laundrie embarked on an exciting cross-country road trip on July 2, setting off from Blue Point, New York, with dreams of exploring the wonders of the American West. Their journey took them through picturesque landscapes, including Colorado, Southern Utah, Arches National Park, and Canyonlands National Park. The couple documented their adventures on social media, sharing breathtaking photographs and heartfelt captions that captured the essence of their shared experiences.\\n\\nDiminishing Social Media Presence and Growing Concern\\n\\nHowever, as August drew to a close, Petito's Instagram posts began to slow down, and her last communication on August 30 raised concerns among her loved ones. The uncertainty surrounding her well-being prompted her family to take action, initiating a desperate search for answers.\\n\\nLast Known Location: Salt Lake City\\n\\nThe last confirmed sighting of Gabby Petito was in Salt Lake City on August 21. This information was corroborated by an Uber Eats order placed by her father, Joseph Petito, who had been in touch with his daughter regularly during the trip.\\n\\nThe Grand Teton Mystery\\n\\nPetito's parents believe that the couple left Salt Lake City for Grand Teton National Park around August 24. However, their stay in the park is believed to have been brief, lasting no more than two days.\\n\\nSporadic Communication and Relationship Concerns\\n\\nAfter August 24, communication between Petito and her mother, Nichole Schmidt, became sporadic and concerning. The nature of Petito's relationship with her boyfriend also raised questions, adding another layer of complexity to the investigation.\\n\\nVan Found, Boyfriend Missing\\n\\nIn a significant development, the Suffolk County Police Department confirmed the retrieval of the van used by Petito and Laundrie during their cross-country trip. However, no information has been released regarding Laundrie's whereabouts, further fueling speculation and intensifying the search efforts.\\n\\nOfficial Investigation Underway\\n\\nThe Suffolk County Police Department has officially opened a case surrounding Gabby Petito's disappearance, and they are actively seeking information from the public that could assist in locating her.\\n\\nFamily's Appeal for Help\\n\\nPetito's parents have established a Facebook page, \\\"Find Gabby,\\\" to provide updates on the search and to facilitate communication with the public. They have also set up a GoFundMe page to help cover the expenses related to the search efforts.\\n\\nPublic's Role in Solving the Mystery\\n\\nThe public is urged to come forward with any information that could aid in the investigation. Even the smallest detail could prove crucial in piecing together the events leading up to Petito's disappearance.\",\n          \"Gabby Petito Remembered as a 'Super Kind-Hearted' Girl by Long Island Surf Shop Owner\\n\\nLong Island, New York - Gabby Petito, the 22-year-old woman whose remains were found in Wyoming's Teton-Bridger National Forest, was remembered as a \\\"super kind-hearted, sweet girl\\\" by the owner of a surf shop in her Long Island hometown.\\n\\nThe surf shop owner, who wished to remain anonymous, told reporters that Petito was a longtime customer who was always smiling. \\\"She was just a really nice girl,\\\" the owner said. \\\"She always had a smile on her face.\\\"\\n\\nPetito's remains were found on September 19, nearly a month after she was reported missing while on a cross-country trip with her fianc\\u00e9, Brian Laundrie. The Teton County Coroner ruled her death a homicide, but the cause of death has not yet been released.\\n\\nPetito and Laundrie started their road trip in June, traveling from Florida to New York and then towards western national parks. Petito visited the surf shop before leaving Long Island in early July, buying a shirt for Laundrie.\\n\\n\\\"She was excited about the trip,\\\" the surf shop owner recalled. \\\"She said they were going to be gone for a few months, and she was really looking forward to it.\\\"\\n\\nLaundrie returned to Florida on September 1 without Petito and has been named a person of interest in her disappearance. He has refused to cooperate with law enforcement and has since disappeared.\\n\\nPetito's white van was seized from Laundrie's family home on September 11. Authorities are searching for Laundrie in a Florida nature reserve and other locations.\\n\\nFriends and family of Petito describe her as creative, artistic, and someone who wanted to live life to the fullest. Her mother, Nichole Schmidt, told reporters that her daughter was \\\"a beautiful soul\\\" who \\\"lived every day to the fullest.\\\"\\n\\n\\\"She was just a happy, positive person,\\\" Schmidt said. \\\"She loved life, she loved people, she loved animals.\\\"\\n\\nPetito's disappearance and death have captured national attention, with many people following the case closely on social media. A GoFundMe page set up to help Petito's family has raised over $100,000.\\n\\nThe search for Laundrie continues, and authorities are asking for the public's help in locating him. Anyone with information about Laundrie's whereabouts is urged to contact the FBI.\",\n          \"University of Wisconsin Oshkosh Student Claims Encounter with Brian Laundrie in Grand Teton National Park\\n\\nWYOMING (WBAY) \\u2013 A University of Wisconsin Oshkosh student, Miranda Baker, has come forward with a startling revelation, claiming that she and her boyfriend gave a ride to Brian Laundrie, the person of interest in the Gabby Petito case, in Grand Teton National Park on August 29. This development adds a new layer of intrigue to the ongoing investigation surrounding Petito's disappearance and subsequent discovery of her body on September 19.\\n\\nBaker shared her experience through a TikTok video, which garnered significant attention and prompted her to contact the authorities to assist with the investigation. According to Baker, Laundrie approached her and her boyfriend while they were parked at the Spread Creek Dispersed Camping Area in Grand Teton National Park.\\n\\n\\\"He came up to our car and asked for a ride,\\\" Baker recounted. \\\"He said he was hiking and had been separated from his fianc\\u00e9e, who was working on their social media page back at their van.\\\"\\n\\nWhat struck Baker as unusual was Laundrie's offer to pay $200 for a ride that would cover a mere 10-mile journey. She described Laundrie as appearing \\\"dirty\\\" and \\\"disheveled,\\\" with an unkempt beard and wearing a baseball cap.\\n\\nBaker's account further reveals that Laundrie mentioned he had been camping for several days without his fianc\\u00e9e, who was supposedly working on their social media page back at their van. However, when Baker mentioned that they were headed to Jackson, Laundrie urgently requested to be let out of the vehicle.\\n\\n\\\"He said, 'Oh, I need to get out here. This is where I need to get out,'\\\" Baker recalled.\\n\\nBaker and her boyfriend obliged, dropping Laundrie off at around 6:09 p.m. on August 29 near Jackson Dam, close to Colter Bay. This was the last time they saw Laundrie.\\n\\nBaker's encounter with Laundrie took place just two days before Petito's family reported her missing on September 11. Laundrie, who returned to his home in North Port, Florida, on September 1, has not cooperated with authorities in the investigation.\\n\\nThe case took a tragic turn when Petito's body was discovered on September 19 in Grand Teton National Park, not far from where Baker and her boyfriend had encountered Laundrie. The Teton County Coroner's Office ruled her death a homicide, but the cause of death has not yet been released.\\n\\nAdding another layer of complexity to the case is an incident that occurred on August 12 in Utah, where a domestic violence incident involving Petito and Laundrie was reported. Bodycam footage captured the incident, but no charges were filed.\\n\\nBaker's account provides crucial information that could aid in piecing together the timeline of events leading up to Petito's disappearance and death. Her willingness to come forward and share her experience demonstrates the importance of public involvement in assisting law enforcement investigations.\\n\\nAs the investigation continues, authorities are working diligently to gather evidence and determine the circumstances surrounding Petito's death. The involvement of Miranda Baker and her boyfriend as witnesses adds a significant element to the case, potentially shedding light on Laundrie's movements and actions during the critical period before Petito's disappearance.\"\n        ],\n        \"semantic_type\": \"\",\n        \"description\": \"\"\n      }\n    },\n    {\n      \"column\": \"text_index\",\n      \"properties\": {\n        \"dtype\": \"number\",\n        \"std\": 1,\n        \"min\": 1082,\n        \"max\": 1086,\n        \"num_unique_values\": 5,\n        \"samples\": [\n          1083,\n          1086,\n          1084\n        ],\n        \"semantic_type\": \"\",\n        \"description\": \"\"\n      }\n    },\n    {\n      \"column\": \"is_llm\",\n      \"properties\": {\n        \"dtype\": \"number\",\n        \"std\": 0,\n        \"min\": 1,\n        \"max\": 1,\n        \"num_unique_values\": 1,\n        \"samples\": [\n          1\n        ],\n        \"semantic_type\": \"\",\n        \"description\": \"\"\n      }\n    },\n    {\n      \"column\": \"dataset_name\",\n      \"properties\": {\n        \"dtype\": \"category\",\n        \"num_unique_values\": 1,\n        \"samples\": [\n          \"text-bison-002\"\n        ],\n        \"semantic_type\": \"\",\n        \"description\": \"\"\n      }\n    }\n  ]\n}",
              "type": "dataframe"
            },
            "text/html": [
              "\n",
              "  <div id=\"df-4156e979-8830-45f1-b201-e7cd34b1a7bf\" class=\"colab-df-container\">\n",
              "    <div>\n",
              "<style scoped>\n",
              "    .dataframe tbody tr th:only-of-type {\n",
              "        vertical-align: middle;\n",
              "    }\n",
              "\n",
              "    .dataframe tbody tr th {\n",
              "        vertical-align: top;\n",
              "    }\n",
              "\n",
              "    .dataframe thead th {\n",
              "        text-align: right;\n",
              "    }\n",
              "</style>\n",
              "<table border=\"1\" class=\"dataframe\">\n",
              "  <thead>\n",
              "    <tr style=\"text-align: right;\">\n",
              "      <th></th>\n",
              "      <th>text</th>\n",
              "      <th>text_index</th>\n",
              "      <th>is_llm</th>\n",
              "      <th>dataset_name</th>\n",
              "    </tr>\n",
              "  </thead>\n",
              "  <tbody>\n",
              "    <tr>\n",
              "      <th>5430</th>\n",
              "      <td>Gabby Petito Case: Social Media Detectives and...</td>\n",
              "      <td>1082</td>\n",
              "      <td>1</td>\n",
              "      <td>text-bison-002</td>\n",
              "    </tr>\n",
              "    <tr>\n",
              "      <th>5431</th>\n",
              "      <td>Search Intensifies for Missing Woman Gabby Pet...</td>\n",
              "      <td>1083</td>\n",
              "      <td>1</td>\n",
              "      <td>text-bison-002</td>\n",
              "    </tr>\n",
              "    <tr>\n",
              "      <th>5432</th>\n",
              "      <td>University of Wisconsin Oshkosh Student Claims...</td>\n",
              "      <td>1084</td>\n",
              "      <td>1</td>\n",
              "      <td>text-bison-002</td>\n",
              "    </tr>\n",
              "    <tr>\n",
              "      <th>5433</th>\n",
              "      <td>Gabby Petito Case: The Internet's Role in a Tr...</td>\n",
              "      <td>1085</td>\n",
              "      <td>1</td>\n",
              "      <td>text-bison-002</td>\n",
              "    </tr>\n",
              "    <tr>\n",
              "      <th>5434</th>\n",
              "      <td>Gabby Petito Remembered as a 'Super Kind-Heart...</td>\n",
              "      <td>1086</td>\n",
              "      <td>1</td>\n",
              "      <td>text-bison-002</td>\n",
              "    </tr>\n",
              "  </tbody>\n",
              "</table>\n",
              "</div>\n",
              "    <div class=\"colab-df-buttons\">\n",
              "\n",
              "  <div class=\"colab-df-container\">\n",
              "    <button class=\"colab-df-convert\" onclick=\"convertToInteractive('df-4156e979-8830-45f1-b201-e7cd34b1a7bf')\"\n",
              "            title=\"Convert this dataframe to an interactive table.\"\n",
              "            style=\"display:none;\">\n",
              "\n",
              "  <svg xmlns=\"http://www.w3.org/2000/svg\" height=\"24px\" viewBox=\"0 -960 960 960\">\n",
              "    <path d=\"M120-120v-720h720v720H120Zm60-500h600v-160H180v160Zm220 220h160v-160H400v160Zm0 220h160v-160H400v160ZM180-400h160v-160H180v160Zm440 0h160v-160H620v160ZM180-180h160v-160H180v160Zm440 0h160v-160H620v160Z\"/>\n",
              "  </svg>\n",
              "    </button>\n",
              "\n",
              "  <style>\n",
              "    .colab-df-container {\n",
              "      display:flex;\n",
              "      gap: 12px;\n",
              "    }\n",
              "\n",
              "    .colab-df-convert {\n",
              "      background-color: #E8F0FE;\n",
              "      border: none;\n",
              "      border-radius: 50%;\n",
              "      cursor: pointer;\n",
              "      display: none;\n",
              "      fill: #1967D2;\n",
              "      height: 32px;\n",
              "      padding: 0 0 0 0;\n",
              "      width: 32px;\n",
              "    }\n",
              "\n",
              "    .colab-df-convert:hover {\n",
              "      background-color: #E2EBFA;\n",
              "      box-shadow: 0px 1px 2px rgba(60, 64, 67, 0.3), 0px 1px 3px 1px rgba(60, 64, 67, 0.15);\n",
              "      fill: #174EA6;\n",
              "    }\n",
              "\n",
              "    .colab-df-buttons div {\n",
              "      margin-bottom: 4px;\n",
              "    }\n",
              "\n",
              "    [theme=dark] .colab-df-convert {\n",
              "      background-color: #3B4455;\n",
              "      fill: #D2E3FC;\n",
              "    }\n",
              "\n",
              "    [theme=dark] .colab-df-convert:hover {\n",
              "      background-color: #434B5C;\n",
              "      box-shadow: 0px 1px 3px 1px rgba(0, 0, 0, 0.15);\n",
              "      filter: drop-shadow(0px 1px 2px rgba(0, 0, 0, 0.3));\n",
              "      fill: #FFFFFF;\n",
              "    }\n",
              "  </style>\n",
              "\n",
              "    <script>\n",
              "      const buttonEl =\n",
              "        document.querySelector('#df-4156e979-8830-45f1-b201-e7cd34b1a7bf button.colab-df-convert');\n",
              "      buttonEl.style.display =\n",
              "        google.colab.kernel.accessAllowed ? 'block' : 'none';\n",
              "\n",
              "      async function convertToInteractive(key) {\n",
              "        const element = document.querySelector('#df-4156e979-8830-45f1-b201-e7cd34b1a7bf');\n",
              "        const dataTable =\n",
              "          await google.colab.kernel.invokeFunction('convertToInteractive',\n",
              "                                                    [key], {});\n",
              "        if (!dataTable) return;\n",
              "\n",
              "        const docLinkHtml = 'Like what you see? Visit the ' +\n",
              "          '<a target=\"_blank\" href=https://colab.research.google.com/notebooks/data_table.ipynb>data table notebook</a>'\n",
              "          + ' to learn more about interactive tables.';\n",
              "        element.innerHTML = '';\n",
              "        dataTable['output_type'] = 'display_data';\n",
              "        await google.colab.output.renderOutput(dataTable, element);\n",
              "        const docLink = document.createElement('div');\n",
              "        docLink.innerHTML = docLinkHtml;\n",
              "        element.appendChild(docLink);\n",
              "      }\n",
              "    </script>\n",
              "  </div>\n",
              "\n",
              "\n",
              "<div id=\"df-361e4038-b176-4b24-8b23-fa2f9ea38220\">\n",
              "  <button class=\"colab-df-quickchart\" onclick=\"quickchart('df-361e4038-b176-4b24-8b23-fa2f9ea38220')\"\n",
              "            title=\"Suggest charts\"\n",
              "            style=\"display:none;\">\n",
              "\n",
              "<svg xmlns=\"http://www.w3.org/2000/svg\" height=\"24px\"viewBox=\"0 0 24 24\"\n",
              "     width=\"24px\">\n",
              "    <g>\n",
              "        <path d=\"M19 3H5c-1.1 0-2 .9-2 2v14c0 1.1.9 2 2 2h14c1.1 0 2-.9 2-2V5c0-1.1-.9-2-2-2zM9 17H7v-7h2v7zm4 0h-2V7h2v10zm4 0h-2v-4h2v4z\"/>\n",
              "    </g>\n",
              "</svg>\n",
              "  </button>\n",
              "\n",
              "<style>\n",
              "  .colab-df-quickchart {\n",
              "      --bg-color: #E8F0FE;\n",
              "      --fill-color: #1967D2;\n",
              "      --hover-bg-color: #E2EBFA;\n",
              "      --hover-fill-color: #174EA6;\n",
              "      --disabled-fill-color: #AAA;\n",
              "      --disabled-bg-color: #DDD;\n",
              "  }\n",
              "\n",
              "  [theme=dark] .colab-df-quickchart {\n",
              "      --bg-color: #3B4455;\n",
              "      --fill-color: #D2E3FC;\n",
              "      --hover-bg-color: #434B5C;\n",
              "      --hover-fill-color: #FFFFFF;\n",
              "      --disabled-bg-color: #3B4455;\n",
              "      --disabled-fill-color: #666;\n",
              "  }\n",
              "\n",
              "  .colab-df-quickchart {\n",
              "    background-color: var(--bg-color);\n",
              "    border: none;\n",
              "    border-radius: 50%;\n",
              "    cursor: pointer;\n",
              "    display: none;\n",
              "    fill: var(--fill-color);\n",
              "    height: 32px;\n",
              "    padding: 0;\n",
              "    width: 32px;\n",
              "  }\n",
              "\n",
              "  .colab-df-quickchart:hover {\n",
              "    background-color: var(--hover-bg-color);\n",
              "    box-shadow: 0 1px 2px rgba(60, 64, 67, 0.3), 0 1px 3px 1px rgba(60, 64, 67, 0.15);\n",
              "    fill: var(--button-hover-fill-color);\n",
              "  }\n",
              "\n",
              "  .colab-df-quickchart-complete:disabled,\n",
              "  .colab-df-quickchart-complete:disabled:hover {\n",
              "    background-color: var(--disabled-bg-color);\n",
              "    fill: var(--disabled-fill-color);\n",
              "    box-shadow: none;\n",
              "  }\n",
              "\n",
              "  .colab-df-spinner {\n",
              "    border: 2px solid var(--fill-color);\n",
              "    border-color: transparent;\n",
              "    border-bottom-color: var(--fill-color);\n",
              "    animation:\n",
              "      spin 1s steps(1) infinite;\n",
              "  }\n",
              "\n",
              "  @keyframes spin {\n",
              "    0% {\n",
              "      border-color: transparent;\n",
              "      border-bottom-color: var(--fill-color);\n",
              "      border-left-color: var(--fill-color);\n",
              "    }\n",
              "    20% {\n",
              "      border-color: transparent;\n",
              "      border-left-color: var(--fill-color);\n",
              "      border-top-color: var(--fill-color);\n",
              "    }\n",
              "    30% {\n",
              "      border-color: transparent;\n",
              "      border-left-color: var(--fill-color);\n",
              "      border-top-color: var(--fill-color);\n",
              "      border-right-color: var(--fill-color);\n",
              "    }\n",
              "    40% {\n",
              "      border-color: transparent;\n",
              "      border-right-color: var(--fill-color);\n",
              "      border-top-color: var(--fill-color);\n",
              "    }\n",
              "    60% {\n",
              "      border-color: transparent;\n",
              "      border-right-color: var(--fill-color);\n",
              "    }\n",
              "    80% {\n",
              "      border-color: transparent;\n",
              "      border-right-color: var(--fill-color);\n",
              "      border-bottom-color: var(--fill-color);\n",
              "    }\n",
              "    90% {\n",
              "      border-color: transparent;\n",
              "      border-bottom-color: var(--fill-color);\n",
              "    }\n",
              "  }\n",
              "</style>\n",
              "\n",
              "  <script>\n",
              "    async function quickchart(key) {\n",
              "      const quickchartButtonEl =\n",
              "        document.querySelector('#' + key + ' button');\n",
              "      quickchartButtonEl.disabled = true;  // To prevent multiple clicks.\n",
              "      quickchartButtonEl.classList.add('colab-df-spinner');\n",
              "      try {\n",
              "        const charts = await google.colab.kernel.invokeFunction(\n",
              "            'suggestCharts', [key], {});\n",
              "      } catch (error) {\n",
              "        console.error('Error during call to suggestCharts:', error);\n",
              "      }\n",
              "      quickchartButtonEl.classList.remove('colab-df-spinner');\n",
              "      quickchartButtonEl.classList.add('colab-df-quickchart-complete');\n",
              "    }\n",
              "    (() => {\n",
              "      let quickchartButtonEl =\n",
              "        document.querySelector('#df-361e4038-b176-4b24-8b23-fa2f9ea38220 button');\n",
              "      quickchartButtonEl.style.display =\n",
              "        google.colab.kernel.accessAllowed ? 'block' : 'none';\n",
              "    })();\n",
              "  </script>\n",
              "</div>\n",
              "    </div>\n",
              "  </div>\n"
            ],
            "text/plain": [
              "                                                   text  text_index  is_llm  \\\n",
              "5430  Gabby Petito Case: Social Media Detectives and...        1082       1   \n",
              "5431  Search Intensifies for Missing Woman Gabby Pet...        1083       1   \n",
              "5432  University of Wisconsin Oshkosh Student Claims...        1084       1   \n",
              "5433  Gabby Petito Case: The Internet's Role in a Tr...        1085       1   \n",
              "5434  Gabby Petito Remembered as a 'Super Kind-Heart...        1086       1   \n",
              "\n",
              "        dataset_name  \n",
              "5430  text-bison-002  \n",
              "5431  text-bison-002  \n",
              "5432  text-bison-002  \n",
              "5433  text-bison-002  \n",
              "5434  text-bison-002  "
            ]
          },
          "execution_count": 7,
          "metadata": {},
          "output_type": "execute_result"
        }
      ],
      "source": [
        "df.tail()"
      ]
    },
    {
      "cell_type": "markdown",
      "metadata": {
        "id": "WjddZEVUMyOd"
      },
      "source": [
        "### Tokenize"
      ]
    },
    {
      "cell_type": "code",
      "execution_count": 8,
      "metadata": {
        "colab": {
          "base_uri": "https://localhost:8080/",
          "height": 304,
          "referenced_widgets": [
            "0e5d1f82bd4e4c5e9b77b3e7b4e1825d",
            "fb3496851d4240df8adafced7f6294f1",
            "ca4ffb80734349c38894e6a1466aa48e",
            "a1616df8431846cb86f86907cf2e4198",
            "4b9a350bd0f8484daec7175a5501e8cd",
            "67f951f9d98945c0be9247ef2e2be5d8",
            "c38c3592b76d49f39d81275b1282ed87",
            "8d23deaff63644c29803b721583cc601",
            "fbcae6fdd6264d918a508a67ee9f25ce",
            "96450211d3d441e0a35a88fde55cd45e",
            "dba8390fdf7f483aad35bab1fcde9414",
            "cd32caa2cc1343efaa9a8dbf5ed626c6",
            "99707ce659d3434d804c1e614e69ba61",
            "58eb56cc8c2c42bb8d8ed893cd31bbe0",
            "f89a48c8596949c1b6789b9195b569b7",
            "44ee402fd993472486d8b182e02939c2",
            "de509d9d939f464092384acf57a63667",
            "df70372fe7704fe2a6c9b5f3ff898bd9",
            "93fe8415a0214089bcedfa1e88c97f4c",
            "dbb93fab19394a369fc2c535e0f1c270",
            "28cfc025ee684f0bb65e994d5040e2f5",
            "a1e1768246c7432e979dd25ac9ba9139",
            "36b6b8c4fa2048479335a049475bd11a",
            "df85f13f05c643c483fb5a9020d4eb2e",
            "0392a28cce1c411eb589a2a830de9f81",
            "954d67adf5a44d42a1b7494208c62f90",
            "c7932bac22e4474980b7550d5e549710",
            "cce3be99a3d44628a60a2ccd5aa93851",
            "aa54d61e08144063aa05f510b75bfb50",
            "1d1b05bcccc74fb9a05d254c02e70ecf",
            "a97591a5da36414291443f0c072f7aef",
            "198be5934fa54ee2ac2ba8c2de2d0495",
            "bb94427c56d143ec9beea5f77afc869b",
            "205787b9a44e45548bbf3eea10442671",
            "16325d80e6784518a46da6df47624241",
            "8b52c56ce26d49ceb33be24ba4d7fa91",
            "64083f9a1384455ea37109cf9b002e6a",
            "4b874b0fdf604cf992166c370eef87a8",
            "ef74c0ece2494ae9b2841fdce4cc70a6",
            "b93827186b71413cbceee4f1d60ca712",
            "dfd7e55521cc4de38139027cdbe2d70f",
            "a14ebacbc5624ec1b45c06e01bcba260",
            "23a0951ed1a04765a5acd609bb2d5149",
            "2414bc4f499f4af4b5d1c879ff96ebdc"
          ]
        },
        "id": "0MmueNB4MyOd",
        "outputId": "224dfc20-8669-4aae-da39-fba2aaa93339"
      },
      "outputs": [
        {
          "name": "stderr",
          "output_type": "stream",
          "text": [
            "/usr/local/lib/python3.10/dist-packages/huggingface_hub/utils/_token.py:89: UserWarning: \n",
            "The secret `HF_TOKEN` does not exist in your Colab secrets.\n",
            "To authenticate with the Hugging Face Hub, create a token in your settings tab (https://huggingface.co/settings/tokens), set it as secret in your Google Colab and restart your session.\n",
            "You will be able to reuse this secret in all of your notebooks.\n",
            "Please note that authentication is recommended but still optional to access public models or datasets.\n",
            "  warnings.warn(\n"
          ]
        },
        {
          "data": {
            "application/vnd.jupyter.widget-view+json": {
              "model_id": "0e5d1f82bd4e4c5e9b77b3e7b4e1825d",
              "version_major": 2,
              "version_minor": 0
            },
            "text/plain": [
              "tokenizer_config.json:   0%|          | 0.00/49.0 [00:00<?, ?B/s]"
            ]
          },
          "metadata": {},
          "output_type": "display_data"
        },
        {
          "name": "stderr",
          "output_type": "stream",
          "text": [
            "/usr/local/lib/python3.10/dist-packages/huggingface_hub/file_download.py:1132: FutureWarning: `resume_download` is deprecated and will be removed in version 1.0.0. Downloads always resume when possible. If you want to force a new download, use `force_download=True`.\n",
            "  warnings.warn(\n"
          ]
        },
        {
          "data": {
            "application/vnd.jupyter.widget-view+json": {
              "model_id": "cd32caa2cc1343efaa9a8dbf5ed626c6",
              "version_major": 2,
              "version_minor": 0
            },
            "text/plain": [
              "config.json:   0%|          | 0.00/465 [00:00<?, ?B/s]"
            ]
          },
          "metadata": {},
          "output_type": "display_data"
        },
        {
          "data": {
            "application/vnd.jupyter.widget-view+json": {
              "model_id": "36b6b8c4fa2048479335a049475bd11a",
              "version_major": 2,
              "version_minor": 0
            },
            "text/plain": [
              "vocab.txt:   0%|          | 0.00/213k [00:00<?, ?B/s]"
            ]
          },
          "metadata": {},
          "output_type": "display_data"
        },
        {
          "data": {
            "application/vnd.jupyter.widget-view+json": {
              "model_id": "205787b9a44e45548bbf3eea10442671",
              "version_major": 2,
              "version_minor": 0
            },
            "text/plain": [
              "tokenizer.json:   0%|          | 0.00/436k [00:00<?, ?B/s]"
            ]
          },
          "metadata": {},
          "output_type": "display_data"
        }
      ],
      "source": [
        "checkpoint = 'distilbert-base-cased'\n",
        "tokenizer = AutoTokenizer.from_pretrained(checkpoint)"
      ]
    },
    {
      "cell_type": "code",
      "execution_count": 9,
      "metadata": {
        "colab": {
          "base_uri": "https://localhost:8080/"
        },
        "id": "nzBYtPt2MyOd",
        "outputId": "98081407-0195-46c7-e3e1-d99eb6af721b"
      },
      "outputs": [
        {
          "name": "stderr",
          "output_type": "stream",
          "text": [
            "Token indices sequence length is longer than the specified maximum sequence length for this model (843 > 512). Running this sequence through the model will result in indexing errors\n"
          ]
        }
      ],
      "source": [
        "df['tokenized_text'] = tokenizer(list(df['text'].to_list()))['input_ids']"
      ]
    },
    {
      "cell_type": "markdown",
      "metadata": {
        "id": "c8LGVtIFMyOe"
      },
      "source": [
        "## Model"
      ]
    },
    {
      "cell_type": "code",
      "execution_count": 10,
      "metadata": {
        "colab": {
          "base_uri": "https://localhost:8080/"
        },
        "id": "Tp9WLZmFMyOe",
        "outputId": "60b35abe-759b-4123-df59-c9fafe7e5874"
      },
      "outputs": [
        {
          "name": "stdout",
          "output_type": "stream",
          "text": [
            "cuda\n"
          ]
        }
      ],
      "source": [
        "device = torch.device('cuda' if torch.cuda.is_available() else 'cpu')\n",
        "print(device)"
      ]
    },
    {
      "cell_type": "code",
      "execution_count": 11,
      "metadata": {
        "id": "XpuUaFxyMyOe"
      },
      "outputs": [],
      "source": [
        "class RNN(nn.Module):\n",
        "    def __init__(self, vocab_size, embedding_size, hidden_size, layers_num, device, output_size=1, dropout=0):\n",
        "        super().__init__()\n",
        "\n",
        "        self.vocab_size = vocab_size\n",
        "        self.embedding_size = embedding_size\n",
        "        self.hidden_size = hidden_size\n",
        "        self.layers_num = layers_num\n",
        "        self.output_size= output_size\n",
        "        self.dropout = dropout\n",
        "        self.device = device\n",
        "\n",
        "        self.embed = nn.Embedding(self.vocab_size, self.embedding_size, device=self.device)\n",
        "\n",
        "        self.lstm = nn.LSTM(\n",
        "            input_size=self.embedding_size,\n",
        "            hidden_size=self.hidden_size,\n",
        "            num_layers=self.layers_num,\n",
        "            batch_first=True,\n",
        "            dropout=self.dropout,\n",
        "            device=self.device\n",
        "        )\n",
        "\n",
        "        self.fc = nn.Linear(\n",
        "            self.hidden_size,\n",
        "            self.output_size\n",
        "        )\n",
        "\n",
        "    def forward(self, X, lengths):\n",
        "        embeddings = self.embed(X)\n",
        "\n",
        "        seq_output, (h_n, c_n) = self.lstm(embeddings)\n",
        "\n",
        "        out = seq_output.sum(dim=1).div(lengths.float().unsqueeze(dim=1))\n",
        "        logits = self.fc(out)\n",
        "        return logits"
      ]
    },
    {
      "cell_type": "markdown",
      "metadata": {
        "id": "ub-xK5D9MyOe"
      },
      "source": [
        "## Dataset"
      ]
    },
    {
      "cell_type": "code",
      "execution_count": 12,
      "metadata": {
        "id": "jIeWGotfMyOf"
      },
      "outputs": [],
      "source": [
        "class TextDataset(Dataset):\n",
        "    def __init__(self, X, y):\n",
        "        self.X = X\n",
        "        self.y = y\n",
        "\n",
        "    def __len__(self):\n",
        "        return self.X.size\n",
        "\n",
        "    def __getitem__(self, index):\n",
        "        return (\n",
        "            self.X[index],\n",
        "            self.y[index]\n",
        "        )"
      ]
    },
    {
      "cell_type": "code",
      "execution_count": 13,
      "metadata": {
        "id": "la1D3dIwMyOf"
      },
      "outputs": [],
      "source": [
        "def collate_fn(batch):\n",
        "  # We want to sort the batch by seq length,\n",
        "  # in order to make the computation more efficient\n",
        "  batch = sorted(batch, key=lambda x: len(x[0]), reverse=True)\n",
        "\n",
        "  inputs = [torch.LongTensor(x[0]).to(device) for x in batch]\n",
        "  padded_input = nn.utils.rnn.pad_sequence(inputs, batch_first=True)\n",
        "\n",
        "  lengths = torch.LongTensor([len(x[0]) for x in batch]).to(device)\n",
        "\n",
        "  y = torch.FloatTensor(np.array([x[1] for x in batch])).reshape(-1, 1).to(device)\n",
        "\n",
        "  return padded_input, lengths, y"
      ]
    },
    {
      "cell_type": "markdown",
      "metadata": {
        "id": "vQ3z2zK-MyOf"
      },
      "source": [
        "## Train and test functions"
      ]
    },
    {
      "cell_type": "code",
      "execution_count": 20,
      "metadata": {
        "id": "P6ghG7B4MyOf"
      },
      "outputs": [],
      "source": [
        "def calculate_accuracy(y_true, y_hat):\n",
        "    correct_pred = torch.eq(torch.sigmoid(y_hat).round(), y_true).sum().item()\n",
        "    return (correct_pred / len(y_hat)) * 100\n",
        "\n",
        "def calculate_f1(y_true, y_hat):\n",
        "    y_pred = torch.sigmoid(y_hat).round()\n",
        "    return f1_score(y_true, y_pred)\n",
        "\n",
        "def calculate_brier(y_true, y_hat):\n",
        "    y_prob = torch.sigmoid(y_hat)\n",
        "    return brier_score_loss(y_true, y_prob)\n",
        "\n",
        "def calculate_auc(y_true, y_hat):\n",
        "    y_prob = torch.sigmoid(y_hat)\n",
        "\n",
        "    false_positive_rates, true_positive_rates, _ = roc_curve(y_true, y_prob)\n",
        "    roc_auc = auc(false_positive_rates, true_positive_rates)\n",
        "\n",
        "    return roc_auc, false_positive_rates, true_positive_rates\n",
        "\n",
        "def train_step(model, dataloader, loss_fn, optimizer, device):\n",
        "\n",
        "    model.train()\n",
        "\n",
        "    train_loss, train_acc = 0, 0\n",
        "    steps = 0\n",
        "\n",
        "    for X, lengths, y in dataloader:\n",
        "        X, y = X.to(device), y.to(device)\n",
        "\n",
        "        y_hat = model(X, lengths)\n",
        "\n",
        "        loss = loss_fn(y_hat, y)\n",
        "        train_loss += loss.item()\n",
        "\n",
        "        optimizer.zero_grad()\n",
        "        loss.backward()\n",
        "        optimizer.step()\n",
        "\n",
        "        train_acc += calculate_accuracy(y_true=y, y_hat=y_hat)\n",
        "        steps += 1\n",
        "\n",
        "    return train_loss / steps, train_acc / steps\n",
        "\n",
        "\n",
        "def test_step(model, dataloader, loss_fn, device):\n",
        "\n",
        "    model.eval()\n",
        "\n",
        "    all_y_true = []\n",
        "    all_y_hat = []\n",
        "\n",
        "    test_loss = 0\n",
        "    steps = 0\n",
        "\n",
        "    with torch.inference_mode():\n",
        "        for X, lengths, y in dataloader:\n",
        "\n",
        "            X, y = X.to(device), y.to(device)\n",
        "\n",
        "            y_hat = model(X, lengths)\n",
        "\n",
        "            all_y_true.extend(y)\n",
        "            all_y_hat.extend(y_hat)\n",
        "\n",
        "            loss = loss_fn(y_hat, y)\n",
        "            test_loss += loss.item()\n",
        "\n",
        "            steps += 1\n",
        "\n",
        "        all_y_true = torch.FloatTensor(all_y_true)\n",
        "        all_y_hat = torch.FloatTensor(all_y_hat)\n",
        "\n",
        "        test_accuracy = calculate_accuracy(all_y_true, all_y_hat)\n",
        "        test_f1 = calculate_f1(all_y_true, all_y_hat)\n",
        "        test_brier = calculate_brier(all_y_true, all_y_hat)\n",
        "        test_auc_tuple = calculate_auc(all_y_true, all_y_hat)\n",
        "\n",
        "    return test_loss / steps, test_accuracy, test_f1, test_brier, test_auc_tuple\n",
        "\n",
        "def train(model,\n",
        "          train_dataloader,\n",
        "          test_dataloader,\n",
        "          optimizer,\n",
        "          loss_fn,\n",
        "          epochs,\n",
        "          device):\n",
        "\n",
        "    results = {\n",
        "        \"train_loss\": [],\n",
        "        \"train_acc\": [],\n",
        "        \"test_loss\": [],\n",
        "        \"test_acc\": [],\n",
        "        \"test_f1\": [],\n",
        "        \"test_brier\": [],\n",
        "        \"test_auc_tuple\": []\n",
        "    }\n",
        "\n",
        "    model.to(device)\n",
        "\n",
        "    for epoch in tqdm(range(epochs)):\n",
        "\n",
        "        start_time = timer()\n",
        "        train_loss, train_acc = train_step(\n",
        "            model=model,\n",
        "            dataloader=train_dataloader,\n",
        "            loss_fn=loss_fn,\n",
        "            optimizer=optimizer,\n",
        "            device=device,\n",
        "        )\n",
        "        end_time = timer()\n",
        "\n",
        "        test_loss, test_acc, test_f1, test_brier, test_auc_tuple = test_step(\n",
        "            model=model,\n",
        "            dataloader=test_dataloader,\n",
        "            loss_fn=loss_fn,\n",
        "            device=device,\n",
        "        )\n",
        "\n",
        "        results[\"train_loss\"].append(train_loss)\n",
        "        results[\"train_acc\"].append(train_acc)\n",
        "        results[\"test_loss\"].append(test_loss)\n",
        "        results[\"test_acc\"].append(test_acc)\n",
        "        results[\"test_f1\"].append(test_f1)\n",
        "        results[\"test_brier\"].append(test_brier),\n",
        "        results[\"test_auc_tuple\"].append(test_auc_tuple)\n",
        "\n",
        "        print(\n",
        "            f\"Epoch: {epoch+1} | \"\n",
        "            f\"train_loss: {train_loss:.4f} | \"\n",
        "            f\"train_acc: {train_acc:.4f} | \"\n",
        "            f\"test_loss: {test_loss:.4f} | \"\n",
        "            f\"test_acc: {test_acc:.4f} | \"\n",
        "            f\"test_f1: {test_f1:.4f} | \"\n",
        "            f\"test_brier: {test_brier:.4f} | \"\n",
        "            f\"time: {(end_time-start_time):.4f}\"\n",
        "        )\n",
        "\n",
        "    return results"
      ]
    },
    {
      "cell_type": "markdown",
      "metadata": {
        "id": "dWxletJxMyOf"
      },
      "source": [
        "## Train on each LLM dataset separately and test against all others"
      ]
    },
    {
      "cell_type": "code",
      "execution_count": null,
      "metadata": {},
      "outputs": [],
      "source": [
        "def test_against_all(model, trained_llm_name, human_test_df, df, loss_fn, device):\n",
        "    all_results = []\n",
        "\n",
        "    for dataset_name in df['dataset_name'].unique():\n",
        "        if dataset_name in [trained_llm_name, Path(HUMAN_JSON_FILE_NAME).stem]:\n",
        "            continue\n",
        "\n",
        "        llm_df = df.loc[df['dataset_name'] == dataset_name]\n",
        "        test_df = pd.concat([human_test_df, llm_df], ignore_index=True)\n",
        "\n",
        "        test_dataset = TextDataset(test_df['tokenized_text'], test_df['is_llm'])\n",
        "        test_dataloader = DataLoader(\n",
        "            test_dataset,\n",
        "            batch_size=BATCH_SIZE,\n",
        "            shuffle=False,\n",
        "            drop_last=False,\n",
        "            collate_fn=collate_fn\n",
        "        )\n",
        "\n",
        "        results = test_step(\n",
        "            model,\n",
        "            test_dataloader,\n",
        "            loss_fn,\n",
        "            device\n",
        "        )\n",
        "\n",
        "        all_results.append({\n",
        "            dataset_name: results\n",
        "        })\n",
        "\n",
        "    return all_results"
      ]
    },
    {
      "cell_type": "code",
      "execution_count": 18,
      "metadata": {
        "id": "L-T6c5-XSaTf"
      },
      "outputs": [],
      "source": [
        "human_df = df.loc[df['is_llm'] == 0]\n",
        "human_train_df, human_test_df = train_test_split(human_df, test_size=TEST_SET_FRACTION, random_state=69)"
      ]
    },
    {
      "cell_type": "code",
      "execution_count": 21,
      "metadata": {
        "colab": {
          "base_uri": "https://localhost:8080/",
          "height": 775
        },
        "id": "6tjl2x_gMyOg",
        "outputId": "d9204b3e-46cc-4fc5-f2c0-306fb048d972"
      },
      "outputs": [
        {
          "name": "stdout",
          "output_type": "stream",
          "text": [
            "Training model for vicgalle-gpt2-open-instruct-v1...\n"
          ]
        },
        {
          "name": "stderr",
          "output_type": "stream",
          "text": [
            " 10%|█         | 1/10 [00:16<02:25, 16.22s/it]"
          ]
        },
        {
          "name": "stdout",
          "output_type": "stream",
          "text": [
            "Epoch: 1 | train_loss: 0.6938 | train_acc: 50.1302 | test_loss: 0.6969 | test_acc: 50.0000 | test_f1: 0.6667 | test_brier: 0.2521 | time: 14.4865\n"
          ]
        },
        {
          "name": "stderr",
          "output_type": "stream",
          "text": [
            "\r 20%|██        | 2/10 [00:31<02:05, 15.69s/it]"
          ]
        },
        {
          "name": "stdout",
          "output_type": "stream",
          "text": [
            "Epoch: 2 | train_loss: 0.6933 | train_acc: 49.7396 | test_loss: 0.6984 | test_acc: 50.0000 | test_f1: 0.6667 | test_brier: 0.2526 | time: 13.5820\n"
          ]
        },
        {
          "name": "stderr",
          "output_type": "stream",
          "text": [
            "\r 30%|███       | 3/10 [00:47<01:51, 15.87s/it]"
          ]
        },
        {
          "name": "stdout",
          "output_type": "stream",
          "text": [
            "Epoch: 3 | train_loss: 0.6938 | train_acc: 50.0000 | test_loss: 0.6975 | test_acc: 50.0000 | test_f1: 0.6667 | test_brier: 0.2518 | time: 14.2837\n"
          ]
        },
        {
          "name": "stderr",
          "output_type": "stream",
          "text": [
            "\r 40%|████      | 4/10 [01:03<01:36, 16.01s/it]"
          ]
        },
        {
          "name": "stdout",
          "output_type": "stream",
          "text": [
            "Epoch: 4 | train_loss: 0.6663 | train_acc: 58.9844 | test_loss: 0.6112 | test_acc: 63.4557 | test_f1: 0.4323 | test_brier: 0.2045 | time: 14.4276\n"
          ]
        },
        {
          "name": "stderr",
          "output_type": "stream",
          "text": [
            "\r 50%|█████     | 5/10 [01:19<01:20, 16.03s/it]"
          ]
        },
        {
          "name": "stdout",
          "output_type": "stream",
          "text": [
            "Epoch: 5 | train_loss: 0.4505 | train_acc: 84.2448 | test_loss: 0.5810 | test_acc: 81.8043 | test_f1: 0.7886 | test_brier: 0.1447 | time: 14.3034\n"
          ]
        },
        {
          "name": "stderr",
          "output_type": "stream",
          "text": [
            "\r 60%|██████    | 6/10 [01:37<01:05, 16.48s/it]"
          ]
        },
        {
          "name": "stdout",
          "output_type": "stream",
          "text": [
            "Epoch: 6 | train_loss: 0.3428 | train_acc: 90.6901 | test_loss: 0.5947 | test_acc: 83.9450 | test_f1: 0.8161 | test_brier: 0.1328 | time: 15.5773\n"
          ]
        },
        {
          "name": "stderr",
          "output_type": "stream",
          "text": [
            "\r 70%|███████   | 7/10 [01:53<00:49, 16.36s/it]"
          ]
        },
        {
          "name": "stdout",
          "output_type": "stream",
          "text": [
            "Epoch: 7 | train_loss: 0.2351 | train_acc: 93.4896 | test_loss: 0.5389 | test_acc: 86.3914 | test_f1: 0.8562 | test_brier: 0.1105 | time: 14.3313\n"
          ]
        },
        {
          "name": "stderr",
          "output_type": "stream",
          "text": [
            "\r 80%|████████  | 8/10 [02:09<00:32, 16.20s/it]"
          ]
        },
        {
          "name": "stdout",
          "output_type": "stream",
          "text": [
            "Epoch: 8 | train_loss: 0.2658 | train_acc: 92.7734 | test_loss: 0.5412 | test_acc: 85.3211 | test_f1: 0.8554 | test_brier: 0.1180 | time: 14.0748\n"
          ]
        },
        {
          "name": "stderr",
          "output_type": "stream",
          "text": [
            "\r 90%|█████████ | 9/10 [02:24<00:16, 16.06s/it]"
          ]
        },
        {
          "name": "stdout",
          "output_type": "stream",
          "text": [
            "Epoch: 9 | train_loss: 0.3974 | train_acc: 88.7370 | test_loss: 0.9531 | test_acc: 80.2752 | test_f1: 0.7749 | test_brier: 0.1726 | time: 14.0117\n"
          ]
        },
        {
          "name": "stderr",
          "output_type": "stream",
          "text": [
            "100%|██████████| 10/10 [02:40<00:00, 16.08s/it]\n"
          ]
        },
        {
          "name": "stdout",
          "output_type": "stream",
          "text": [
            "Epoch: 10 | train_loss: 0.4433 | train_acc: 85.2214 | test_loss: 0.8186 | test_acc: 81.6514 | test_f1: 0.7849 | test_brier: 0.1686 | time: 14.0602\n",
            "Finished training model for vicgalle-gpt2-open-instruct-v1\n",
            "Training model for qwen-qwen1.5-72b-chat-8bit...\n"
          ]
        },
        {
          "name": "stderr",
          "output_type": "stream",
          "text": [
            " 10%|█         | 1/10 [00:16<02:25, 16.11s/it]"
          ]
        },
        {
          "name": "stdout",
          "output_type": "stream",
          "text": [
            "Epoch: 1 | train_loss: 0.6939 | train_acc: 46.4193 | test_loss: 0.6950 | test_acc: 50.0000 | test_f1: 0.6667 | test_brier: 0.2512 | time: 14.2872\n"
          ]
        },
        {
          "name": "stderr",
          "output_type": "stream",
          "text": [
            "\r 20%|██        | 2/10 [00:35<02:25, 18.21s/it]"
          ]
        },
        {
          "name": "stdout",
          "output_type": "stream",
          "text": [
            "Epoch: 2 | train_loss: 0.6935 | train_acc: 50.0651 | test_loss: 0.6925 | test_acc: 50.1529 | test_f1: 0.6673 | test_brier: 0.2499 | time: 17.8740\n"
          ]
        },
        {
          "name": "stderr",
          "output_type": "stream",
          "text": [
            "\r 30%|███       | 3/10 [00:51<02:00, 17.17s/it]"
          ]
        },
        {
          "name": "stdout",
          "output_type": "stream",
          "text": [
            "Epoch: 3 | train_loss: 0.6932 | train_acc: 49.6745 | test_loss: 0.6900 | test_acc: 56.4220 | test_f1: 0.6965 | test_brier: 0.2485 | time: 14.0598\n"
          ]
        },
        {
          "name": "stderr",
          "output_type": "stream",
          "text": [
            "\r 40%|████      | 4/10 [01:08<01:42, 17.04s/it]"
          ]
        },
        {
          "name": "stdout",
          "output_type": "stream",
          "text": [
            "Epoch: 4 | train_loss: 0.6857 | train_acc: 54.7526 | test_loss: 0.6288 | test_acc: 55.6575 | test_f1: 0.2033 | test_brier: 0.2171 | time: 15.0069\n"
          ]
        },
        {
          "name": "stderr",
          "output_type": "stream",
          "text": [
            "\r 50%|█████     | 5/10 [01:24<01:23, 16.61s/it]"
          ]
        },
        {
          "name": "stdout",
          "output_type": "stream",
          "text": [
            "Epoch: 5 | train_loss: 0.4140 | train_acc: 84.2448 | test_loss: 0.3740 | test_acc: 89.7554 | test_f1: 0.8989 | test_brier: 0.0882 | time: 14.0303\n"
          ]
        },
        {
          "name": "stderr",
          "output_type": "stream",
          "text": [
            "\r 60%|██████    | 6/10 [01:40<01:05, 16.35s/it]"
          ]
        },
        {
          "name": "stdout",
          "output_type": "stream",
          "text": [
            "Epoch: 6 | train_loss: 0.2248 | train_acc: 93.2943 | test_loss: 0.1614 | test_acc: 94.1896 | test_f1: 0.9415 | test_brier: 0.0438 | time: 14.0419\n"
          ]
        },
        {
          "name": "stderr",
          "output_type": "stream",
          "text": [
            "\r 70%|███████   | 7/10 [01:55<00:48, 16.13s/it]"
          ]
        },
        {
          "name": "stdout",
          "output_type": "stream",
          "text": [
            "Epoch: 7 | train_loss: 0.1718 | train_acc: 96.0938 | test_loss: 0.1085 | test_acc: 95.7187 | test_f1: 0.9581 | test_brier: 0.0322 | time: 13.8549\n"
          ]
        },
        {
          "name": "stderr",
          "output_type": "stream",
          "text": [
            "\r 80%|████████  | 8/10 [02:11<00:32, 16.08s/it]"
          ]
        },
        {
          "name": "stdout",
          "output_type": "stream",
          "text": [
            "Epoch: 8 | train_loss: 0.1603 | train_acc: 94.8568 | test_loss: 0.1763 | test_acc: 91.8960 | test_f1: 0.9250 | test_brier: 0.0547 | time: 14.1863\n"
          ]
        },
        {
          "name": "stderr",
          "output_type": "stream",
          "text": [
            "\r 80%|████████  | 8/10 [02:13<00:33, 16.63s/it]\n"
          ]
        },
        {
          "ename": "KeyboardInterrupt",
          "evalue": "",
          "output_type": "error",
          "traceback": [
            "\u001b[0;31m---------------------------------------------------------------------------\u001b[0m",
            "\u001b[0;31mKeyboardInterrupt\u001b[0m                         Traceback (most recent call last)",
            "\u001b[0;32m<ipython-input-21-147bc96ba57a>\u001b[0m in \u001b[0;36m<cell line: 1>\u001b[0;34m()\u001b[0m\n\u001b[1;32m     34\u001b[0m     \u001b[0mprint\u001b[0m\u001b[0;34m(\u001b[0m\u001b[0;34mf'Training model for {llm_name}...'\u001b[0m\u001b[0;34m)\u001b[0m\u001b[0;34m\u001b[0m\u001b[0;34m\u001b[0m\u001b[0m\n\u001b[1;32m     35\u001b[0m \u001b[0;34m\u001b[0m\u001b[0m\n\u001b[0;32m---> 36\u001b[0;31m     current_results = train(\n\u001b[0m\u001b[1;32m     37\u001b[0m         \u001b[0mmodel\u001b[0m\u001b[0;34m,\u001b[0m\u001b[0;34m\u001b[0m\u001b[0;34m\u001b[0m\u001b[0m\n\u001b[1;32m     38\u001b[0m         \u001b[0mtrain_dataloader\u001b[0m\u001b[0;34m,\u001b[0m\u001b[0;34m\u001b[0m\u001b[0;34m\u001b[0m\u001b[0m\n",
            "\u001b[0;32m<ipython-input-20-cdc21989dbfd>\u001b[0m in \u001b[0;36mtrain\u001b[0;34m(model, train_dataloader, test_dataloader, optimizer, loss_fn, epochs, device)\u001b[0m\n\u001b[1;32m    102\u001b[0m \u001b[0;34m\u001b[0m\u001b[0m\n\u001b[1;32m    103\u001b[0m         \u001b[0mstart_time\u001b[0m \u001b[0;34m=\u001b[0m \u001b[0mtimer\u001b[0m\u001b[0;34m(\u001b[0m\u001b[0;34m)\u001b[0m\u001b[0;34m\u001b[0m\u001b[0;34m\u001b[0m\u001b[0m\n\u001b[0;32m--> 104\u001b[0;31m         train_loss, train_acc = train_step(\n\u001b[0m\u001b[1;32m    105\u001b[0m             \u001b[0mmodel\u001b[0m\u001b[0;34m=\u001b[0m\u001b[0mmodel\u001b[0m\u001b[0;34m,\u001b[0m\u001b[0;34m\u001b[0m\u001b[0;34m\u001b[0m\u001b[0m\n\u001b[1;32m    106\u001b[0m             \u001b[0mdataloader\u001b[0m\u001b[0;34m=\u001b[0m\u001b[0mtrain_dataloader\u001b[0m\u001b[0;34m,\u001b[0m\u001b[0;34m\u001b[0m\u001b[0;34m\u001b[0m\u001b[0m\n",
            "\u001b[0;32m<ipython-input-20-cdc21989dbfd>\u001b[0m in \u001b[0;36mtrain_step\u001b[0;34m(model, dataloader, loss_fn, optimizer, device)\u001b[0m\n\u001b[1;32m     35\u001b[0m \u001b[0;34m\u001b[0m\u001b[0m\n\u001b[1;32m     36\u001b[0m         \u001b[0moptimizer\u001b[0m\u001b[0;34m.\u001b[0m\u001b[0mzero_grad\u001b[0m\u001b[0;34m(\u001b[0m\u001b[0;34m)\u001b[0m\u001b[0;34m\u001b[0m\u001b[0;34m\u001b[0m\u001b[0m\n\u001b[0;32m---> 37\u001b[0;31m         \u001b[0mloss\u001b[0m\u001b[0;34m.\u001b[0m\u001b[0mbackward\u001b[0m\u001b[0;34m(\u001b[0m\u001b[0;34m)\u001b[0m\u001b[0;34m\u001b[0m\u001b[0;34m\u001b[0m\u001b[0m\n\u001b[0m\u001b[1;32m     38\u001b[0m         \u001b[0moptimizer\u001b[0m\u001b[0;34m.\u001b[0m\u001b[0mstep\u001b[0m\u001b[0;34m(\u001b[0m\u001b[0;34m)\u001b[0m\u001b[0;34m\u001b[0m\u001b[0;34m\u001b[0m\u001b[0m\n\u001b[1;32m     39\u001b[0m \u001b[0;34m\u001b[0m\u001b[0m\n",
            "\u001b[0;32m/usr/local/lib/python3.10/dist-packages/torch/_tensor.py\u001b[0m in \u001b[0;36mbackward\u001b[0;34m(self, gradient, retain_graph, create_graph, inputs)\u001b[0m\n\u001b[1;32m    523\u001b[0m                 \u001b[0minputs\u001b[0m\u001b[0;34m=\u001b[0m\u001b[0minputs\u001b[0m\u001b[0;34m,\u001b[0m\u001b[0;34m\u001b[0m\u001b[0;34m\u001b[0m\u001b[0m\n\u001b[1;32m    524\u001b[0m             )\n\u001b[0;32m--> 525\u001b[0;31m         torch.autograd.backward(\n\u001b[0m\u001b[1;32m    526\u001b[0m             \u001b[0mself\u001b[0m\u001b[0;34m,\u001b[0m \u001b[0mgradient\u001b[0m\u001b[0;34m,\u001b[0m \u001b[0mretain_graph\u001b[0m\u001b[0;34m,\u001b[0m \u001b[0mcreate_graph\u001b[0m\u001b[0;34m,\u001b[0m \u001b[0minputs\u001b[0m\u001b[0;34m=\u001b[0m\u001b[0minputs\u001b[0m\u001b[0;34m\u001b[0m\u001b[0;34m\u001b[0m\u001b[0m\n\u001b[1;32m    527\u001b[0m         )\n",
            "\u001b[0;32m/usr/local/lib/python3.10/dist-packages/torch/autograd/__init__.py\u001b[0m in \u001b[0;36mbackward\u001b[0;34m(tensors, grad_tensors, retain_graph, create_graph, grad_variables, inputs)\u001b[0m\n\u001b[1;32m    265\u001b[0m     \u001b[0;31m# some Python versions print out the first line of a multi-line function\u001b[0m\u001b[0;34m\u001b[0m\u001b[0;34m\u001b[0m\u001b[0m\n\u001b[1;32m    266\u001b[0m     \u001b[0;31m# calls in the traceback and some print out the last line\u001b[0m\u001b[0;34m\u001b[0m\u001b[0;34m\u001b[0m\u001b[0m\n\u001b[0;32m--> 267\u001b[0;31m     _engine_run_backward(\n\u001b[0m\u001b[1;32m    268\u001b[0m         \u001b[0mtensors\u001b[0m\u001b[0;34m,\u001b[0m\u001b[0;34m\u001b[0m\u001b[0;34m\u001b[0m\u001b[0m\n\u001b[1;32m    269\u001b[0m         \u001b[0mgrad_tensors_\u001b[0m\u001b[0;34m,\u001b[0m\u001b[0;34m\u001b[0m\u001b[0;34m\u001b[0m\u001b[0m\n",
            "\u001b[0;32m/usr/local/lib/python3.10/dist-packages/torch/autograd/graph.py\u001b[0m in \u001b[0;36m_engine_run_backward\u001b[0;34m(t_outputs, *args, **kwargs)\u001b[0m\n\u001b[1;32m    742\u001b[0m         \u001b[0munregister_hooks\u001b[0m \u001b[0;34m=\u001b[0m \u001b[0m_register_logging_hooks_on_whole_graph\u001b[0m\u001b[0;34m(\u001b[0m\u001b[0mt_outputs\u001b[0m\u001b[0;34m)\u001b[0m\u001b[0;34m\u001b[0m\u001b[0;34m\u001b[0m\u001b[0m\n\u001b[1;32m    743\u001b[0m     \u001b[0;32mtry\u001b[0m\u001b[0;34m:\u001b[0m\u001b[0;34m\u001b[0m\u001b[0;34m\u001b[0m\u001b[0m\n\u001b[0;32m--> 744\u001b[0;31m         return Variable._execution_engine.run_backward(  # Calls into the C++ engine to run the backward pass\n\u001b[0m\u001b[1;32m    745\u001b[0m             \u001b[0mt_outputs\u001b[0m\u001b[0;34m,\u001b[0m \u001b[0;34m*\u001b[0m\u001b[0margs\u001b[0m\u001b[0;34m,\u001b[0m \u001b[0;34m**\u001b[0m\u001b[0mkwargs\u001b[0m\u001b[0;34m\u001b[0m\u001b[0;34m\u001b[0m\u001b[0m\n\u001b[1;32m    746\u001b[0m         )  # Calls into the C++ engine to run the backward pass\n",
            "\u001b[0;31mKeyboardInterrupt\u001b[0m: "
          ]
        }
      ],
      "source": [
        "final_results = []\n",
        "\n",
        "for llm_name in df['dataset_name'].unique():\n",
        "    if llm_name == Path(HUMAN_JSON_FILE_NAME).stem:\n",
        "        continue\n",
        "\n",
        "    llm_df = df.loc[df['dataset_name'] == llm_name]\n",
        "    llm_train_df, llm_test_df = train_test_split(llm_df, test_size=TEST_SET_FRACTION, random_state=69)\n",
        "\n",
        "    train_df = pd.concat([human_train_df, llm_train_df], ignore_index=True)\n",
        "    test_df = pd.concat([human_test_df, llm_test_df], ignore_index=True)\n",
        "\n",
        "    train_dataset = TextDataset(train_df['tokenized_text'], train_df['is_llm'])\n",
        "    test_dataset = TextDataset(test_df['tokenized_text'], test_df['is_llm'])\n",
        "\n",
        "    train_dataloader = DataLoader(\n",
        "        train_dataset,\n",
        "        batch_size=BATCH_SIZE,\n",
        "        shuffle=True,\n",
        "        drop_last=False,\n",
        "        collate_fn=collate_fn\n",
        "    )\n",
        "\n",
        "    test_dataloader = DataLoader(\n",
        "        test_dataset,\n",
        "        batch_size=BATCH_SIZE,\n",
        "        shuffle=False,\n",
        "        drop_last=False,\n",
        "        collate_fn=collate_fn\n",
        "    )\n",
        "\n",
        "    model = RNN(tokenizer.vocab_size, EMBEDDING_SIZE, LSTM_UNITS, LSTM_LAYERS, device, dropout=0.6).to(device)\n",
        "    optimizer = torch.optim.Adam(model.parameters(), lr=0.00008)\n",
        "    loss_fn = nn.BCEWithLogitsLoss()\n",
        "\n",
        "    print(f'Training model for {llm_name}...')\n",
        "\n",
        "    current_results = train(\n",
        "        model,\n",
        "        train_dataloader,\n",
        "        test_dataloader,\n",
        "        optimizer,\n",
        "        loss_fn,\n",
        "        epochs=10,\n",
        "        device=device\n",
        "    )    \n",
        "\n",
        "    print(f'Finished training model for {llm_name}')\n",
        "\n",
        "    print(f'Testing against all for {llm_name}...')\n",
        "    \n",
        "    results_against_all = test_against_all(\n",
        "        model,\n",
        "        llm_name,\n",
        "        human_test_df,\n",
        "        df,\n",
        "        loss_fn,\n",
        "        device\n",
        "    )\n",
        "\n",
        "    final_results.append({\n",
        "        'results_against_itself': current_results,\n",
        "        'results_against_all': results_against_all\n",
        "    })\n",
        "\n",
        "    print(f'Finished testing against all for {llm_name}')"
      ]
    },
    {
      "cell_type": "code",
      "execution_count": null,
      "metadata": {},
      "outputs": [],
      "source": []
    }
  ],
  "metadata": {
    "accelerator": "GPU",
    "colab": {
      "gpuType": "T4",
      "provenance": []
    },
    "kernelspec": {
      "display_name": "Python 3",
      "name": "python3"
    },
    "language_info": {
      "codemirror_mode": {
        "name": "ipython",
        "version": 3
      },
      "file_extension": ".py",
      "mimetype": "text/x-python",
      "name": "python",
      "nbconvert_exporter": "python",
      "pygments_lexer": "ipython3",
      "version": "3.11.8"
    },
    "widgets": {
      "application/vnd.jupyter.widget-state+json": {
        "0392a28cce1c411eb589a2a830de9f81": {
          "model_module": "@jupyter-widgets/controls",
          "model_module_version": "1.5.0",
          "model_name": "FloatProgressModel",
          "state": {
            "_dom_classes": [],
            "_model_module": "@jupyter-widgets/controls",
            "_model_module_version": "1.5.0",
            "_model_name": "FloatProgressModel",
            "_view_count": null,
            "_view_module": "@jupyter-widgets/controls",
            "_view_module_version": "1.5.0",
            "_view_name": "ProgressView",
            "bar_style": "success",
            "description": "",
            "description_tooltip": null,
            "layout": "IPY_MODEL_1d1b05bcccc74fb9a05d254c02e70ecf",
            "max": 213450,
            "min": 0,
            "orientation": "horizontal",
            "style": "IPY_MODEL_a97591a5da36414291443f0c072f7aef",
            "value": 213450
          }
        },
        "0e5d1f82bd4e4c5e9b77b3e7b4e1825d": {
          "model_module": "@jupyter-widgets/controls",
          "model_module_version": "1.5.0",
          "model_name": "HBoxModel",
          "state": {
            "_dom_classes": [],
            "_model_module": "@jupyter-widgets/controls",
            "_model_module_version": "1.5.0",
            "_model_name": "HBoxModel",
            "_view_count": null,
            "_view_module": "@jupyter-widgets/controls",
            "_view_module_version": "1.5.0",
            "_view_name": "HBoxView",
            "box_style": "",
            "children": [
              "IPY_MODEL_fb3496851d4240df8adafced7f6294f1",
              "IPY_MODEL_ca4ffb80734349c38894e6a1466aa48e",
              "IPY_MODEL_a1616df8431846cb86f86907cf2e4198"
            ],
            "layout": "IPY_MODEL_4b9a350bd0f8484daec7175a5501e8cd"
          }
        },
        "16325d80e6784518a46da6df47624241": {
          "model_module": "@jupyter-widgets/controls",
          "model_module_version": "1.5.0",
          "model_name": "HTMLModel",
          "state": {
            "_dom_classes": [],
            "_model_module": "@jupyter-widgets/controls",
            "_model_module_version": "1.5.0",
            "_model_name": "HTMLModel",
            "_view_count": null,
            "_view_module": "@jupyter-widgets/controls",
            "_view_module_version": "1.5.0",
            "_view_name": "HTMLView",
            "description": "",
            "description_tooltip": null,
            "layout": "IPY_MODEL_ef74c0ece2494ae9b2841fdce4cc70a6",
            "placeholder": "​",
            "style": "IPY_MODEL_b93827186b71413cbceee4f1d60ca712",
            "value": "tokenizer.json: 100%"
          }
        },
        "198be5934fa54ee2ac2ba8c2de2d0495": {
          "model_module": "@jupyter-widgets/base",
          "model_module_version": "1.2.0",
          "model_name": "LayoutModel",
          "state": {
            "_model_module": "@jupyter-widgets/base",
            "_model_module_version": "1.2.0",
            "_model_name": "LayoutModel",
            "_view_count": null,
            "_view_module": "@jupyter-widgets/base",
            "_view_module_version": "1.2.0",
            "_view_name": "LayoutView",
            "align_content": null,
            "align_items": null,
            "align_self": null,
            "border": null,
            "bottom": null,
            "display": null,
            "flex": null,
            "flex_flow": null,
            "grid_area": null,
            "grid_auto_columns": null,
            "grid_auto_flow": null,
            "grid_auto_rows": null,
            "grid_column": null,
            "grid_gap": null,
            "grid_row": null,
            "grid_template_areas": null,
            "grid_template_columns": null,
            "grid_template_rows": null,
            "height": null,
            "justify_content": null,
            "justify_items": null,
            "left": null,
            "margin": null,
            "max_height": null,
            "max_width": null,
            "min_height": null,
            "min_width": null,
            "object_fit": null,
            "object_position": null,
            "order": null,
            "overflow": null,
            "overflow_x": null,
            "overflow_y": null,
            "padding": null,
            "right": null,
            "top": null,
            "visibility": null,
            "width": null
          }
        },
        "1d1b05bcccc74fb9a05d254c02e70ecf": {
          "model_module": "@jupyter-widgets/base",
          "model_module_version": "1.2.0",
          "model_name": "LayoutModel",
          "state": {
            "_model_module": "@jupyter-widgets/base",
            "_model_module_version": "1.2.0",
            "_model_name": "LayoutModel",
            "_view_count": null,
            "_view_module": "@jupyter-widgets/base",
            "_view_module_version": "1.2.0",
            "_view_name": "LayoutView",
            "align_content": null,
            "align_items": null,
            "align_self": null,
            "border": null,
            "bottom": null,
            "display": null,
            "flex": null,
            "flex_flow": null,
            "grid_area": null,
            "grid_auto_columns": null,
            "grid_auto_flow": null,
            "grid_auto_rows": null,
            "grid_column": null,
            "grid_gap": null,
            "grid_row": null,
            "grid_template_areas": null,
            "grid_template_columns": null,
            "grid_template_rows": null,
            "height": null,
            "justify_content": null,
            "justify_items": null,
            "left": null,
            "margin": null,
            "max_height": null,
            "max_width": null,
            "min_height": null,
            "min_width": null,
            "object_fit": null,
            "object_position": null,
            "order": null,
            "overflow": null,
            "overflow_x": null,
            "overflow_y": null,
            "padding": null,
            "right": null,
            "top": null,
            "visibility": null,
            "width": null
          }
        },
        "205787b9a44e45548bbf3eea10442671": {
          "model_module": "@jupyter-widgets/controls",
          "model_module_version": "1.5.0",
          "model_name": "HBoxModel",
          "state": {
            "_dom_classes": [],
            "_model_module": "@jupyter-widgets/controls",
            "_model_module_version": "1.5.0",
            "_model_name": "HBoxModel",
            "_view_count": null,
            "_view_module": "@jupyter-widgets/controls",
            "_view_module_version": "1.5.0",
            "_view_name": "HBoxView",
            "box_style": "",
            "children": [
              "IPY_MODEL_16325d80e6784518a46da6df47624241",
              "IPY_MODEL_8b52c56ce26d49ceb33be24ba4d7fa91",
              "IPY_MODEL_64083f9a1384455ea37109cf9b002e6a"
            ],
            "layout": "IPY_MODEL_4b874b0fdf604cf992166c370eef87a8"
          }
        },
        "23a0951ed1a04765a5acd609bb2d5149": {
          "model_module": "@jupyter-widgets/base",
          "model_module_version": "1.2.0",
          "model_name": "LayoutModel",
          "state": {
            "_model_module": "@jupyter-widgets/base",
            "_model_module_version": "1.2.0",
            "_model_name": "LayoutModel",
            "_view_count": null,
            "_view_module": "@jupyter-widgets/base",
            "_view_module_version": "1.2.0",
            "_view_name": "LayoutView",
            "align_content": null,
            "align_items": null,
            "align_self": null,
            "border": null,
            "bottom": null,
            "display": null,
            "flex": null,
            "flex_flow": null,
            "grid_area": null,
            "grid_auto_columns": null,
            "grid_auto_flow": null,
            "grid_auto_rows": null,
            "grid_column": null,
            "grid_gap": null,
            "grid_row": null,
            "grid_template_areas": null,
            "grid_template_columns": null,
            "grid_template_rows": null,
            "height": null,
            "justify_content": null,
            "justify_items": null,
            "left": null,
            "margin": null,
            "max_height": null,
            "max_width": null,
            "min_height": null,
            "min_width": null,
            "object_fit": null,
            "object_position": null,
            "order": null,
            "overflow": null,
            "overflow_x": null,
            "overflow_y": null,
            "padding": null,
            "right": null,
            "top": null,
            "visibility": null,
            "width": null
          }
        },
        "2414bc4f499f4af4b5d1c879ff96ebdc": {
          "model_module": "@jupyter-widgets/controls",
          "model_module_version": "1.5.0",
          "model_name": "DescriptionStyleModel",
          "state": {
            "_model_module": "@jupyter-widgets/controls",
            "_model_module_version": "1.5.0",
            "_model_name": "DescriptionStyleModel",
            "_view_count": null,
            "_view_module": "@jupyter-widgets/base",
            "_view_module_version": "1.2.0",
            "_view_name": "StyleView",
            "description_width": ""
          }
        },
        "28cfc025ee684f0bb65e994d5040e2f5": {
          "model_module": "@jupyter-widgets/base",
          "model_module_version": "1.2.0",
          "model_name": "LayoutModel",
          "state": {
            "_model_module": "@jupyter-widgets/base",
            "_model_module_version": "1.2.0",
            "_model_name": "LayoutModel",
            "_view_count": null,
            "_view_module": "@jupyter-widgets/base",
            "_view_module_version": "1.2.0",
            "_view_name": "LayoutView",
            "align_content": null,
            "align_items": null,
            "align_self": null,
            "border": null,
            "bottom": null,
            "display": null,
            "flex": null,
            "flex_flow": null,
            "grid_area": null,
            "grid_auto_columns": null,
            "grid_auto_flow": null,
            "grid_auto_rows": null,
            "grid_column": null,
            "grid_gap": null,
            "grid_row": null,
            "grid_template_areas": null,
            "grid_template_columns": null,
            "grid_template_rows": null,
            "height": null,
            "justify_content": null,
            "justify_items": null,
            "left": null,
            "margin": null,
            "max_height": null,
            "max_width": null,
            "min_height": null,
            "min_width": null,
            "object_fit": null,
            "object_position": null,
            "order": null,
            "overflow": null,
            "overflow_x": null,
            "overflow_y": null,
            "padding": null,
            "right": null,
            "top": null,
            "visibility": null,
            "width": null
          }
        },
        "36b6b8c4fa2048479335a049475bd11a": {
          "model_module": "@jupyter-widgets/controls",
          "model_module_version": "1.5.0",
          "model_name": "HBoxModel",
          "state": {
            "_dom_classes": [],
            "_model_module": "@jupyter-widgets/controls",
            "_model_module_version": "1.5.0",
            "_model_name": "HBoxModel",
            "_view_count": null,
            "_view_module": "@jupyter-widgets/controls",
            "_view_module_version": "1.5.0",
            "_view_name": "HBoxView",
            "box_style": "",
            "children": [
              "IPY_MODEL_df85f13f05c643c483fb5a9020d4eb2e",
              "IPY_MODEL_0392a28cce1c411eb589a2a830de9f81",
              "IPY_MODEL_954d67adf5a44d42a1b7494208c62f90"
            ],
            "layout": "IPY_MODEL_c7932bac22e4474980b7550d5e549710"
          }
        },
        "44ee402fd993472486d8b182e02939c2": {
          "model_module": "@jupyter-widgets/base",
          "model_module_version": "1.2.0",
          "model_name": "LayoutModel",
          "state": {
            "_model_module": "@jupyter-widgets/base",
            "_model_module_version": "1.2.0",
            "_model_name": "LayoutModel",
            "_view_count": null,
            "_view_module": "@jupyter-widgets/base",
            "_view_module_version": "1.2.0",
            "_view_name": "LayoutView",
            "align_content": null,
            "align_items": null,
            "align_self": null,
            "border": null,
            "bottom": null,
            "display": null,
            "flex": null,
            "flex_flow": null,
            "grid_area": null,
            "grid_auto_columns": null,
            "grid_auto_flow": null,
            "grid_auto_rows": null,
            "grid_column": null,
            "grid_gap": null,
            "grid_row": null,
            "grid_template_areas": null,
            "grid_template_columns": null,
            "grid_template_rows": null,
            "height": null,
            "justify_content": null,
            "justify_items": null,
            "left": null,
            "margin": null,
            "max_height": null,
            "max_width": null,
            "min_height": null,
            "min_width": null,
            "object_fit": null,
            "object_position": null,
            "order": null,
            "overflow": null,
            "overflow_x": null,
            "overflow_y": null,
            "padding": null,
            "right": null,
            "top": null,
            "visibility": null,
            "width": null
          }
        },
        "4b874b0fdf604cf992166c370eef87a8": {
          "model_module": "@jupyter-widgets/base",
          "model_module_version": "1.2.0",
          "model_name": "LayoutModel",
          "state": {
            "_model_module": "@jupyter-widgets/base",
            "_model_module_version": "1.2.0",
            "_model_name": "LayoutModel",
            "_view_count": null,
            "_view_module": "@jupyter-widgets/base",
            "_view_module_version": "1.2.0",
            "_view_name": "LayoutView",
            "align_content": null,
            "align_items": null,
            "align_self": null,
            "border": null,
            "bottom": null,
            "display": null,
            "flex": null,
            "flex_flow": null,
            "grid_area": null,
            "grid_auto_columns": null,
            "grid_auto_flow": null,
            "grid_auto_rows": null,
            "grid_column": null,
            "grid_gap": null,
            "grid_row": null,
            "grid_template_areas": null,
            "grid_template_columns": null,
            "grid_template_rows": null,
            "height": null,
            "justify_content": null,
            "justify_items": null,
            "left": null,
            "margin": null,
            "max_height": null,
            "max_width": null,
            "min_height": null,
            "min_width": null,
            "object_fit": null,
            "object_position": null,
            "order": null,
            "overflow": null,
            "overflow_x": null,
            "overflow_y": null,
            "padding": null,
            "right": null,
            "top": null,
            "visibility": null,
            "width": null
          }
        },
        "4b9a350bd0f8484daec7175a5501e8cd": {
          "model_module": "@jupyter-widgets/base",
          "model_module_version": "1.2.0",
          "model_name": "LayoutModel",
          "state": {
            "_model_module": "@jupyter-widgets/base",
            "_model_module_version": "1.2.0",
            "_model_name": "LayoutModel",
            "_view_count": null,
            "_view_module": "@jupyter-widgets/base",
            "_view_module_version": "1.2.0",
            "_view_name": "LayoutView",
            "align_content": null,
            "align_items": null,
            "align_self": null,
            "border": null,
            "bottom": null,
            "display": null,
            "flex": null,
            "flex_flow": null,
            "grid_area": null,
            "grid_auto_columns": null,
            "grid_auto_flow": null,
            "grid_auto_rows": null,
            "grid_column": null,
            "grid_gap": null,
            "grid_row": null,
            "grid_template_areas": null,
            "grid_template_columns": null,
            "grid_template_rows": null,
            "height": null,
            "justify_content": null,
            "justify_items": null,
            "left": null,
            "margin": null,
            "max_height": null,
            "max_width": null,
            "min_height": null,
            "min_width": null,
            "object_fit": null,
            "object_position": null,
            "order": null,
            "overflow": null,
            "overflow_x": null,
            "overflow_y": null,
            "padding": null,
            "right": null,
            "top": null,
            "visibility": null,
            "width": null
          }
        },
        "58eb56cc8c2c42bb8d8ed893cd31bbe0": {
          "model_module": "@jupyter-widgets/controls",
          "model_module_version": "1.5.0",
          "model_name": "FloatProgressModel",
          "state": {
            "_dom_classes": [],
            "_model_module": "@jupyter-widgets/controls",
            "_model_module_version": "1.5.0",
            "_model_name": "FloatProgressModel",
            "_view_count": null,
            "_view_module": "@jupyter-widgets/controls",
            "_view_module_version": "1.5.0",
            "_view_name": "ProgressView",
            "bar_style": "success",
            "description": "",
            "description_tooltip": null,
            "layout": "IPY_MODEL_93fe8415a0214089bcedfa1e88c97f4c",
            "max": 465,
            "min": 0,
            "orientation": "horizontal",
            "style": "IPY_MODEL_dbb93fab19394a369fc2c535e0f1c270",
            "value": 465
          }
        },
        "64083f9a1384455ea37109cf9b002e6a": {
          "model_module": "@jupyter-widgets/controls",
          "model_module_version": "1.5.0",
          "model_name": "HTMLModel",
          "state": {
            "_dom_classes": [],
            "_model_module": "@jupyter-widgets/controls",
            "_model_module_version": "1.5.0",
            "_model_name": "HTMLModel",
            "_view_count": null,
            "_view_module": "@jupyter-widgets/controls",
            "_view_module_version": "1.5.0",
            "_view_name": "HTMLView",
            "description": "",
            "description_tooltip": null,
            "layout": "IPY_MODEL_23a0951ed1a04765a5acd609bb2d5149",
            "placeholder": "​",
            "style": "IPY_MODEL_2414bc4f499f4af4b5d1c879ff96ebdc",
            "value": " 436k/436k [00:00&lt;00:00, 1.78MB/s]"
          }
        },
        "67f951f9d98945c0be9247ef2e2be5d8": {
          "model_module": "@jupyter-widgets/base",
          "model_module_version": "1.2.0",
          "model_name": "LayoutModel",
          "state": {
            "_model_module": "@jupyter-widgets/base",
            "_model_module_version": "1.2.0",
            "_model_name": "LayoutModel",
            "_view_count": null,
            "_view_module": "@jupyter-widgets/base",
            "_view_module_version": "1.2.0",
            "_view_name": "LayoutView",
            "align_content": null,
            "align_items": null,
            "align_self": null,
            "border": null,
            "bottom": null,
            "display": null,
            "flex": null,
            "flex_flow": null,
            "grid_area": null,
            "grid_auto_columns": null,
            "grid_auto_flow": null,
            "grid_auto_rows": null,
            "grid_column": null,
            "grid_gap": null,
            "grid_row": null,
            "grid_template_areas": null,
            "grid_template_columns": null,
            "grid_template_rows": null,
            "height": null,
            "justify_content": null,
            "justify_items": null,
            "left": null,
            "margin": null,
            "max_height": null,
            "max_width": null,
            "min_height": null,
            "min_width": null,
            "object_fit": null,
            "object_position": null,
            "order": null,
            "overflow": null,
            "overflow_x": null,
            "overflow_y": null,
            "padding": null,
            "right": null,
            "top": null,
            "visibility": null,
            "width": null
          }
        },
        "8b52c56ce26d49ceb33be24ba4d7fa91": {
          "model_module": "@jupyter-widgets/controls",
          "model_module_version": "1.5.0",
          "model_name": "FloatProgressModel",
          "state": {
            "_dom_classes": [],
            "_model_module": "@jupyter-widgets/controls",
            "_model_module_version": "1.5.0",
            "_model_name": "FloatProgressModel",
            "_view_count": null,
            "_view_module": "@jupyter-widgets/controls",
            "_view_module_version": "1.5.0",
            "_view_name": "ProgressView",
            "bar_style": "success",
            "description": "",
            "description_tooltip": null,
            "layout": "IPY_MODEL_dfd7e55521cc4de38139027cdbe2d70f",
            "max": 435797,
            "min": 0,
            "orientation": "horizontal",
            "style": "IPY_MODEL_a14ebacbc5624ec1b45c06e01bcba260",
            "value": 435797
          }
        },
        "8d23deaff63644c29803b721583cc601": {
          "model_module": "@jupyter-widgets/base",
          "model_module_version": "1.2.0",
          "model_name": "LayoutModel",
          "state": {
            "_model_module": "@jupyter-widgets/base",
            "_model_module_version": "1.2.0",
            "_model_name": "LayoutModel",
            "_view_count": null,
            "_view_module": "@jupyter-widgets/base",
            "_view_module_version": "1.2.0",
            "_view_name": "LayoutView",
            "align_content": null,
            "align_items": null,
            "align_self": null,
            "border": null,
            "bottom": null,
            "display": null,
            "flex": null,
            "flex_flow": null,
            "grid_area": null,
            "grid_auto_columns": null,
            "grid_auto_flow": null,
            "grid_auto_rows": null,
            "grid_column": null,
            "grid_gap": null,
            "grid_row": null,
            "grid_template_areas": null,
            "grid_template_columns": null,
            "grid_template_rows": null,
            "height": null,
            "justify_content": null,
            "justify_items": null,
            "left": null,
            "margin": null,
            "max_height": null,
            "max_width": null,
            "min_height": null,
            "min_width": null,
            "object_fit": null,
            "object_position": null,
            "order": null,
            "overflow": null,
            "overflow_x": null,
            "overflow_y": null,
            "padding": null,
            "right": null,
            "top": null,
            "visibility": null,
            "width": null
          }
        },
        "93fe8415a0214089bcedfa1e88c97f4c": {
          "model_module": "@jupyter-widgets/base",
          "model_module_version": "1.2.0",
          "model_name": "LayoutModel",
          "state": {
            "_model_module": "@jupyter-widgets/base",
            "_model_module_version": "1.2.0",
            "_model_name": "LayoutModel",
            "_view_count": null,
            "_view_module": "@jupyter-widgets/base",
            "_view_module_version": "1.2.0",
            "_view_name": "LayoutView",
            "align_content": null,
            "align_items": null,
            "align_self": null,
            "border": null,
            "bottom": null,
            "display": null,
            "flex": null,
            "flex_flow": null,
            "grid_area": null,
            "grid_auto_columns": null,
            "grid_auto_flow": null,
            "grid_auto_rows": null,
            "grid_column": null,
            "grid_gap": null,
            "grid_row": null,
            "grid_template_areas": null,
            "grid_template_columns": null,
            "grid_template_rows": null,
            "height": null,
            "justify_content": null,
            "justify_items": null,
            "left": null,
            "margin": null,
            "max_height": null,
            "max_width": null,
            "min_height": null,
            "min_width": null,
            "object_fit": null,
            "object_position": null,
            "order": null,
            "overflow": null,
            "overflow_x": null,
            "overflow_y": null,
            "padding": null,
            "right": null,
            "top": null,
            "visibility": null,
            "width": null
          }
        },
        "954d67adf5a44d42a1b7494208c62f90": {
          "model_module": "@jupyter-widgets/controls",
          "model_module_version": "1.5.0",
          "model_name": "HTMLModel",
          "state": {
            "_dom_classes": [],
            "_model_module": "@jupyter-widgets/controls",
            "_model_module_version": "1.5.0",
            "_model_name": "HTMLModel",
            "_view_count": null,
            "_view_module": "@jupyter-widgets/controls",
            "_view_module_version": "1.5.0",
            "_view_name": "HTMLView",
            "description": "",
            "description_tooltip": null,
            "layout": "IPY_MODEL_198be5934fa54ee2ac2ba8c2de2d0495",
            "placeholder": "​",
            "style": "IPY_MODEL_bb94427c56d143ec9beea5f77afc869b",
            "value": " 213k/213k [00:00&lt;00:00, 1.30MB/s]"
          }
        },
        "96450211d3d441e0a35a88fde55cd45e": {
          "model_module": "@jupyter-widgets/base",
          "model_module_version": "1.2.0",
          "model_name": "LayoutModel",
          "state": {
            "_model_module": "@jupyter-widgets/base",
            "_model_module_version": "1.2.0",
            "_model_name": "LayoutModel",
            "_view_count": null,
            "_view_module": "@jupyter-widgets/base",
            "_view_module_version": "1.2.0",
            "_view_name": "LayoutView",
            "align_content": null,
            "align_items": null,
            "align_self": null,
            "border": null,
            "bottom": null,
            "display": null,
            "flex": null,
            "flex_flow": null,
            "grid_area": null,
            "grid_auto_columns": null,
            "grid_auto_flow": null,
            "grid_auto_rows": null,
            "grid_column": null,
            "grid_gap": null,
            "grid_row": null,
            "grid_template_areas": null,
            "grid_template_columns": null,
            "grid_template_rows": null,
            "height": null,
            "justify_content": null,
            "justify_items": null,
            "left": null,
            "margin": null,
            "max_height": null,
            "max_width": null,
            "min_height": null,
            "min_width": null,
            "object_fit": null,
            "object_position": null,
            "order": null,
            "overflow": null,
            "overflow_x": null,
            "overflow_y": null,
            "padding": null,
            "right": null,
            "top": null,
            "visibility": null,
            "width": null
          }
        },
        "99707ce659d3434d804c1e614e69ba61": {
          "model_module": "@jupyter-widgets/controls",
          "model_module_version": "1.5.0",
          "model_name": "HTMLModel",
          "state": {
            "_dom_classes": [],
            "_model_module": "@jupyter-widgets/controls",
            "_model_module_version": "1.5.0",
            "_model_name": "HTMLModel",
            "_view_count": null,
            "_view_module": "@jupyter-widgets/controls",
            "_view_module_version": "1.5.0",
            "_view_name": "HTMLView",
            "description": "",
            "description_tooltip": null,
            "layout": "IPY_MODEL_de509d9d939f464092384acf57a63667",
            "placeholder": "​",
            "style": "IPY_MODEL_df70372fe7704fe2a6c9b5f3ff898bd9",
            "value": "config.json: 100%"
          }
        },
        "a14ebacbc5624ec1b45c06e01bcba260": {
          "model_module": "@jupyter-widgets/controls",
          "model_module_version": "1.5.0",
          "model_name": "ProgressStyleModel",
          "state": {
            "_model_module": "@jupyter-widgets/controls",
            "_model_module_version": "1.5.0",
            "_model_name": "ProgressStyleModel",
            "_view_count": null,
            "_view_module": "@jupyter-widgets/base",
            "_view_module_version": "1.2.0",
            "_view_name": "StyleView",
            "bar_color": null,
            "description_width": ""
          }
        },
        "a1616df8431846cb86f86907cf2e4198": {
          "model_module": "@jupyter-widgets/controls",
          "model_module_version": "1.5.0",
          "model_name": "HTMLModel",
          "state": {
            "_dom_classes": [],
            "_model_module": "@jupyter-widgets/controls",
            "_model_module_version": "1.5.0",
            "_model_name": "HTMLModel",
            "_view_count": null,
            "_view_module": "@jupyter-widgets/controls",
            "_view_module_version": "1.5.0",
            "_view_name": "HTMLView",
            "description": "",
            "description_tooltip": null,
            "layout": "IPY_MODEL_96450211d3d441e0a35a88fde55cd45e",
            "placeholder": "​",
            "style": "IPY_MODEL_dba8390fdf7f483aad35bab1fcde9414",
            "value": " 49.0/49.0 [00:00&lt;00:00, 3.49kB/s]"
          }
        },
        "a1e1768246c7432e979dd25ac9ba9139": {
          "model_module": "@jupyter-widgets/controls",
          "model_module_version": "1.5.0",
          "model_name": "DescriptionStyleModel",
          "state": {
            "_model_module": "@jupyter-widgets/controls",
            "_model_module_version": "1.5.0",
            "_model_name": "DescriptionStyleModel",
            "_view_count": null,
            "_view_module": "@jupyter-widgets/base",
            "_view_module_version": "1.2.0",
            "_view_name": "StyleView",
            "description_width": ""
          }
        },
        "a97591a5da36414291443f0c072f7aef": {
          "model_module": "@jupyter-widgets/controls",
          "model_module_version": "1.5.0",
          "model_name": "ProgressStyleModel",
          "state": {
            "_model_module": "@jupyter-widgets/controls",
            "_model_module_version": "1.5.0",
            "_model_name": "ProgressStyleModel",
            "_view_count": null,
            "_view_module": "@jupyter-widgets/base",
            "_view_module_version": "1.2.0",
            "_view_name": "StyleView",
            "bar_color": null,
            "description_width": ""
          }
        },
        "aa54d61e08144063aa05f510b75bfb50": {
          "model_module": "@jupyter-widgets/controls",
          "model_module_version": "1.5.0",
          "model_name": "DescriptionStyleModel",
          "state": {
            "_model_module": "@jupyter-widgets/controls",
            "_model_module_version": "1.5.0",
            "_model_name": "DescriptionStyleModel",
            "_view_count": null,
            "_view_module": "@jupyter-widgets/base",
            "_view_module_version": "1.2.0",
            "_view_name": "StyleView",
            "description_width": ""
          }
        },
        "b93827186b71413cbceee4f1d60ca712": {
          "model_module": "@jupyter-widgets/controls",
          "model_module_version": "1.5.0",
          "model_name": "DescriptionStyleModel",
          "state": {
            "_model_module": "@jupyter-widgets/controls",
            "_model_module_version": "1.5.0",
            "_model_name": "DescriptionStyleModel",
            "_view_count": null,
            "_view_module": "@jupyter-widgets/base",
            "_view_module_version": "1.2.0",
            "_view_name": "StyleView",
            "description_width": ""
          }
        },
        "bb94427c56d143ec9beea5f77afc869b": {
          "model_module": "@jupyter-widgets/controls",
          "model_module_version": "1.5.0",
          "model_name": "DescriptionStyleModel",
          "state": {
            "_model_module": "@jupyter-widgets/controls",
            "_model_module_version": "1.5.0",
            "_model_name": "DescriptionStyleModel",
            "_view_count": null,
            "_view_module": "@jupyter-widgets/base",
            "_view_module_version": "1.2.0",
            "_view_name": "StyleView",
            "description_width": ""
          }
        },
        "c38c3592b76d49f39d81275b1282ed87": {
          "model_module": "@jupyter-widgets/controls",
          "model_module_version": "1.5.0",
          "model_name": "DescriptionStyleModel",
          "state": {
            "_model_module": "@jupyter-widgets/controls",
            "_model_module_version": "1.5.0",
            "_model_name": "DescriptionStyleModel",
            "_view_count": null,
            "_view_module": "@jupyter-widgets/base",
            "_view_module_version": "1.2.0",
            "_view_name": "StyleView",
            "description_width": ""
          }
        },
        "c7932bac22e4474980b7550d5e549710": {
          "model_module": "@jupyter-widgets/base",
          "model_module_version": "1.2.0",
          "model_name": "LayoutModel",
          "state": {
            "_model_module": "@jupyter-widgets/base",
            "_model_module_version": "1.2.0",
            "_model_name": "LayoutModel",
            "_view_count": null,
            "_view_module": "@jupyter-widgets/base",
            "_view_module_version": "1.2.0",
            "_view_name": "LayoutView",
            "align_content": null,
            "align_items": null,
            "align_self": null,
            "border": null,
            "bottom": null,
            "display": null,
            "flex": null,
            "flex_flow": null,
            "grid_area": null,
            "grid_auto_columns": null,
            "grid_auto_flow": null,
            "grid_auto_rows": null,
            "grid_column": null,
            "grid_gap": null,
            "grid_row": null,
            "grid_template_areas": null,
            "grid_template_columns": null,
            "grid_template_rows": null,
            "height": null,
            "justify_content": null,
            "justify_items": null,
            "left": null,
            "margin": null,
            "max_height": null,
            "max_width": null,
            "min_height": null,
            "min_width": null,
            "object_fit": null,
            "object_position": null,
            "order": null,
            "overflow": null,
            "overflow_x": null,
            "overflow_y": null,
            "padding": null,
            "right": null,
            "top": null,
            "visibility": null,
            "width": null
          }
        },
        "ca4ffb80734349c38894e6a1466aa48e": {
          "model_module": "@jupyter-widgets/controls",
          "model_module_version": "1.5.0",
          "model_name": "FloatProgressModel",
          "state": {
            "_dom_classes": [],
            "_model_module": "@jupyter-widgets/controls",
            "_model_module_version": "1.5.0",
            "_model_name": "FloatProgressModel",
            "_view_count": null,
            "_view_module": "@jupyter-widgets/controls",
            "_view_module_version": "1.5.0",
            "_view_name": "ProgressView",
            "bar_style": "success",
            "description": "",
            "description_tooltip": null,
            "layout": "IPY_MODEL_8d23deaff63644c29803b721583cc601",
            "max": 49,
            "min": 0,
            "orientation": "horizontal",
            "style": "IPY_MODEL_fbcae6fdd6264d918a508a67ee9f25ce",
            "value": 49
          }
        },
        "cce3be99a3d44628a60a2ccd5aa93851": {
          "model_module": "@jupyter-widgets/base",
          "model_module_version": "1.2.0",
          "model_name": "LayoutModel",
          "state": {
            "_model_module": "@jupyter-widgets/base",
            "_model_module_version": "1.2.0",
            "_model_name": "LayoutModel",
            "_view_count": null,
            "_view_module": "@jupyter-widgets/base",
            "_view_module_version": "1.2.0",
            "_view_name": "LayoutView",
            "align_content": null,
            "align_items": null,
            "align_self": null,
            "border": null,
            "bottom": null,
            "display": null,
            "flex": null,
            "flex_flow": null,
            "grid_area": null,
            "grid_auto_columns": null,
            "grid_auto_flow": null,
            "grid_auto_rows": null,
            "grid_column": null,
            "grid_gap": null,
            "grid_row": null,
            "grid_template_areas": null,
            "grid_template_columns": null,
            "grid_template_rows": null,
            "height": null,
            "justify_content": null,
            "justify_items": null,
            "left": null,
            "margin": null,
            "max_height": null,
            "max_width": null,
            "min_height": null,
            "min_width": null,
            "object_fit": null,
            "object_position": null,
            "order": null,
            "overflow": null,
            "overflow_x": null,
            "overflow_y": null,
            "padding": null,
            "right": null,
            "top": null,
            "visibility": null,
            "width": null
          }
        },
        "cd32caa2cc1343efaa9a8dbf5ed626c6": {
          "model_module": "@jupyter-widgets/controls",
          "model_module_version": "1.5.0",
          "model_name": "HBoxModel",
          "state": {
            "_dom_classes": [],
            "_model_module": "@jupyter-widgets/controls",
            "_model_module_version": "1.5.0",
            "_model_name": "HBoxModel",
            "_view_count": null,
            "_view_module": "@jupyter-widgets/controls",
            "_view_module_version": "1.5.0",
            "_view_name": "HBoxView",
            "box_style": "",
            "children": [
              "IPY_MODEL_99707ce659d3434d804c1e614e69ba61",
              "IPY_MODEL_58eb56cc8c2c42bb8d8ed893cd31bbe0",
              "IPY_MODEL_f89a48c8596949c1b6789b9195b569b7"
            ],
            "layout": "IPY_MODEL_44ee402fd993472486d8b182e02939c2"
          }
        },
        "dba8390fdf7f483aad35bab1fcde9414": {
          "model_module": "@jupyter-widgets/controls",
          "model_module_version": "1.5.0",
          "model_name": "DescriptionStyleModel",
          "state": {
            "_model_module": "@jupyter-widgets/controls",
            "_model_module_version": "1.5.0",
            "_model_name": "DescriptionStyleModel",
            "_view_count": null,
            "_view_module": "@jupyter-widgets/base",
            "_view_module_version": "1.2.0",
            "_view_name": "StyleView",
            "description_width": ""
          }
        },
        "dbb93fab19394a369fc2c535e0f1c270": {
          "model_module": "@jupyter-widgets/controls",
          "model_module_version": "1.5.0",
          "model_name": "ProgressStyleModel",
          "state": {
            "_model_module": "@jupyter-widgets/controls",
            "_model_module_version": "1.5.0",
            "_model_name": "ProgressStyleModel",
            "_view_count": null,
            "_view_module": "@jupyter-widgets/base",
            "_view_module_version": "1.2.0",
            "_view_name": "StyleView",
            "bar_color": null,
            "description_width": ""
          }
        },
        "de509d9d939f464092384acf57a63667": {
          "model_module": "@jupyter-widgets/base",
          "model_module_version": "1.2.0",
          "model_name": "LayoutModel",
          "state": {
            "_model_module": "@jupyter-widgets/base",
            "_model_module_version": "1.2.0",
            "_model_name": "LayoutModel",
            "_view_count": null,
            "_view_module": "@jupyter-widgets/base",
            "_view_module_version": "1.2.0",
            "_view_name": "LayoutView",
            "align_content": null,
            "align_items": null,
            "align_self": null,
            "border": null,
            "bottom": null,
            "display": null,
            "flex": null,
            "flex_flow": null,
            "grid_area": null,
            "grid_auto_columns": null,
            "grid_auto_flow": null,
            "grid_auto_rows": null,
            "grid_column": null,
            "grid_gap": null,
            "grid_row": null,
            "grid_template_areas": null,
            "grid_template_columns": null,
            "grid_template_rows": null,
            "height": null,
            "justify_content": null,
            "justify_items": null,
            "left": null,
            "margin": null,
            "max_height": null,
            "max_width": null,
            "min_height": null,
            "min_width": null,
            "object_fit": null,
            "object_position": null,
            "order": null,
            "overflow": null,
            "overflow_x": null,
            "overflow_y": null,
            "padding": null,
            "right": null,
            "top": null,
            "visibility": null,
            "width": null
          }
        },
        "df70372fe7704fe2a6c9b5f3ff898bd9": {
          "model_module": "@jupyter-widgets/controls",
          "model_module_version": "1.5.0",
          "model_name": "DescriptionStyleModel",
          "state": {
            "_model_module": "@jupyter-widgets/controls",
            "_model_module_version": "1.5.0",
            "_model_name": "DescriptionStyleModel",
            "_view_count": null,
            "_view_module": "@jupyter-widgets/base",
            "_view_module_version": "1.2.0",
            "_view_name": "StyleView",
            "description_width": ""
          }
        },
        "df85f13f05c643c483fb5a9020d4eb2e": {
          "model_module": "@jupyter-widgets/controls",
          "model_module_version": "1.5.0",
          "model_name": "HTMLModel",
          "state": {
            "_dom_classes": [],
            "_model_module": "@jupyter-widgets/controls",
            "_model_module_version": "1.5.0",
            "_model_name": "HTMLModel",
            "_view_count": null,
            "_view_module": "@jupyter-widgets/controls",
            "_view_module_version": "1.5.0",
            "_view_name": "HTMLView",
            "description": "",
            "description_tooltip": null,
            "layout": "IPY_MODEL_cce3be99a3d44628a60a2ccd5aa93851",
            "placeholder": "​",
            "style": "IPY_MODEL_aa54d61e08144063aa05f510b75bfb50",
            "value": "vocab.txt: 100%"
          }
        },
        "dfd7e55521cc4de38139027cdbe2d70f": {
          "model_module": "@jupyter-widgets/base",
          "model_module_version": "1.2.0",
          "model_name": "LayoutModel",
          "state": {
            "_model_module": "@jupyter-widgets/base",
            "_model_module_version": "1.2.0",
            "_model_name": "LayoutModel",
            "_view_count": null,
            "_view_module": "@jupyter-widgets/base",
            "_view_module_version": "1.2.0",
            "_view_name": "LayoutView",
            "align_content": null,
            "align_items": null,
            "align_self": null,
            "border": null,
            "bottom": null,
            "display": null,
            "flex": null,
            "flex_flow": null,
            "grid_area": null,
            "grid_auto_columns": null,
            "grid_auto_flow": null,
            "grid_auto_rows": null,
            "grid_column": null,
            "grid_gap": null,
            "grid_row": null,
            "grid_template_areas": null,
            "grid_template_columns": null,
            "grid_template_rows": null,
            "height": null,
            "justify_content": null,
            "justify_items": null,
            "left": null,
            "margin": null,
            "max_height": null,
            "max_width": null,
            "min_height": null,
            "min_width": null,
            "object_fit": null,
            "object_position": null,
            "order": null,
            "overflow": null,
            "overflow_x": null,
            "overflow_y": null,
            "padding": null,
            "right": null,
            "top": null,
            "visibility": null,
            "width": null
          }
        },
        "ef74c0ece2494ae9b2841fdce4cc70a6": {
          "model_module": "@jupyter-widgets/base",
          "model_module_version": "1.2.0",
          "model_name": "LayoutModel",
          "state": {
            "_model_module": "@jupyter-widgets/base",
            "_model_module_version": "1.2.0",
            "_model_name": "LayoutModel",
            "_view_count": null,
            "_view_module": "@jupyter-widgets/base",
            "_view_module_version": "1.2.0",
            "_view_name": "LayoutView",
            "align_content": null,
            "align_items": null,
            "align_self": null,
            "border": null,
            "bottom": null,
            "display": null,
            "flex": null,
            "flex_flow": null,
            "grid_area": null,
            "grid_auto_columns": null,
            "grid_auto_flow": null,
            "grid_auto_rows": null,
            "grid_column": null,
            "grid_gap": null,
            "grid_row": null,
            "grid_template_areas": null,
            "grid_template_columns": null,
            "grid_template_rows": null,
            "height": null,
            "justify_content": null,
            "justify_items": null,
            "left": null,
            "margin": null,
            "max_height": null,
            "max_width": null,
            "min_height": null,
            "min_width": null,
            "object_fit": null,
            "object_position": null,
            "order": null,
            "overflow": null,
            "overflow_x": null,
            "overflow_y": null,
            "padding": null,
            "right": null,
            "top": null,
            "visibility": null,
            "width": null
          }
        },
        "f89a48c8596949c1b6789b9195b569b7": {
          "model_module": "@jupyter-widgets/controls",
          "model_module_version": "1.5.0",
          "model_name": "HTMLModel",
          "state": {
            "_dom_classes": [],
            "_model_module": "@jupyter-widgets/controls",
            "_model_module_version": "1.5.0",
            "_model_name": "HTMLModel",
            "_view_count": null,
            "_view_module": "@jupyter-widgets/controls",
            "_view_module_version": "1.5.0",
            "_view_name": "HTMLView",
            "description": "",
            "description_tooltip": null,
            "layout": "IPY_MODEL_28cfc025ee684f0bb65e994d5040e2f5",
            "placeholder": "​",
            "style": "IPY_MODEL_a1e1768246c7432e979dd25ac9ba9139",
            "value": " 465/465 [00:00&lt;00:00, 29.0kB/s]"
          }
        },
        "fb3496851d4240df8adafced7f6294f1": {
          "model_module": "@jupyter-widgets/controls",
          "model_module_version": "1.5.0",
          "model_name": "HTMLModel",
          "state": {
            "_dom_classes": [],
            "_model_module": "@jupyter-widgets/controls",
            "_model_module_version": "1.5.0",
            "_model_name": "HTMLModel",
            "_view_count": null,
            "_view_module": "@jupyter-widgets/controls",
            "_view_module_version": "1.5.0",
            "_view_name": "HTMLView",
            "description": "",
            "description_tooltip": null,
            "layout": "IPY_MODEL_67f951f9d98945c0be9247ef2e2be5d8",
            "placeholder": "​",
            "style": "IPY_MODEL_c38c3592b76d49f39d81275b1282ed87",
            "value": "tokenizer_config.json: 100%"
          }
        },
        "fbcae6fdd6264d918a508a67ee9f25ce": {
          "model_module": "@jupyter-widgets/controls",
          "model_module_version": "1.5.0",
          "model_name": "ProgressStyleModel",
          "state": {
            "_model_module": "@jupyter-widgets/controls",
            "_model_module_version": "1.5.0",
            "_model_name": "ProgressStyleModel",
            "_view_count": null,
            "_view_module": "@jupyter-widgets/base",
            "_view_module_version": "1.2.0",
            "_view_name": "StyleView",
            "bar_color": null,
            "description_width": ""
          }
        }
      }
    }
  },
  "nbformat": 4,
  "nbformat_minor": 0
}
