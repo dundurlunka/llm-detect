{
  "cells": [
    {
      "cell_type": "markdown",
      "metadata": {
        "id": "J6BYeghPMyOX"
      },
      "source": [
        "## Imports"
      ]
    },
    {
      "cell_type": "code",
      "execution_count": 77,
      "metadata": {
        "id": "XUjqpUheMyOZ"
      },
      "outputs": [],
      "source": [
        "import pandas as pd\n",
        "import numpy as np\n",
        "\n",
        "import torch\n",
        "from tqdm import tqdm\n",
        "from torch import nn\n",
        "from transformers import AutoTokenizer\n",
        "from torch.utils.data import Dataset, DataLoader\n",
        "from timeit import default_timer as timer\n",
        "from os import walk\n",
        "from pathlib import Path\n",
        "from sklearn.model_selection import train_test_split"
      ]
    },
    {
      "cell_type": "markdown",
      "metadata": {
        "id": "gafxVAFwMyOb"
      },
      "source": [
        "## Data"
      ]
    },
    {
      "cell_type": "code",
      "execution_count": 78,
      "metadata": {
        "id": "J5XIgPhLMyOb"
      },
      "outputs": [],
      "source": [
        "ROOT_DATA_RAW = './'\n",
        "HUMAN_JSON_FILE_NAME = 'human.jsonl'\n",
        "HUMAN_JSON_PATH = f'{ROOT_DATA_RAW}/{HUMAN_JSON_FILE_NAME}'\n",
        "MODELS_JSON_FOLDER_PATH = f'{ROOT_DATA_RAW}/machines'"
      ]
    },
    {
      "cell_type": "code",
      "execution_count": 79,
      "metadata": {
        "id": "VKplUXm6MyOb"
      },
      "outputs": [],
      "source": [
        "BATCH_SIZE = 32\n",
        "LSTM_UNITS = 256\n",
        "LSTM_LAYERS = 5\n",
        "EMBEDDING_SIZE = 512"
      ]
    },
    {
      "cell_type": "code",
      "execution_count": 80,
      "metadata": {
        "id": "Fy7yGY_PMyOb"
      },
      "outputs": [],
      "source": [
        "TEST_SET_FRACTION = 0.3"
      ]
    },
    {
      "cell_type": "code",
      "execution_count": 81,
      "metadata": {
        "id": "TdmbjseUMyOb"
      },
      "outputs": [],
      "source": [
        "df = pd.read_json(path_or_buf=HUMAN_JSON_PATH, lines=True)\n",
        "df['is_llm'] = 0\n",
        "df['dataset_name'] = Path(HUMAN_JSON_FILE_NAME).stem"
      ]
    },
    {
      "cell_type": "code",
      "execution_count": 82,
      "metadata": {
        "id": "joRLX4rPMyOc",
        "colab": {
          "base_uri": "https://localhost:8080/"
        },
        "outputId": "539f4d28-87b2-48e3-937f-4e40a9da918d"
      },
      "outputs": [
        {
          "output_type": "stream",
          "name": "stdout",
          "text": [
            "[]\n"
          ]
        }
      ],
      "source": [
        "dir_path, dir_names, file_names = next(walk(MODELS_JSON_FOLDER_PATH))\n",
        "\n",
        "print(dir_names)\n",
        "for file_name in file_names:\n",
        "    temp_df = pd.read_json(path_or_buf=f'{MODELS_JSON_FOLDER_PATH}/{file_name}', lines=True)\n",
        "    temp_df['is_llm'] = 1\n",
        "    temp_df['dataset_name'] = Path(file_name).stem\n",
        "\n",
        "    df = pd.concat([df, temp_df], ignore_index=True)\n",
        "\n",
        "df.drop(labels=['id'], inplace=True, axis='columns')"
      ]
    },
    {
      "cell_type": "code",
      "execution_count": 83,
      "metadata": {
        "colab": {
          "base_uri": "https://localhost:8080/",
          "height": 206
        },
        "id": "Yu4nL5ahMyOc",
        "outputId": "8186799d-6933-4f70-a41e-f34cf8f9ea93"
      },
      "outputs": [
        {
          "output_type": "execute_result",
          "data": {
            "text/plain": [
              "                                                    text  is_llm  \\\n",
              "15213  Gabby Petito Case: Social Media Detectives and...       1   \n",
              "15214  Search Intensifies for Missing Woman Gabby Pet...       1   \n",
              "15215  University of Wisconsin Oshkosh Student Claims...       1   \n",
              "15216  Gabby Petito Case: The Internet's Role in a Tr...       1   \n",
              "15217  Gabby Petito Remembered as a 'Super Kind-Heart...       1   \n",
              "\n",
              "         dataset_name  \n",
              "15213  text-bison-002  \n",
              "15214  text-bison-002  \n",
              "15215  text-bison-002  \n",
              "15216  text-bison-002  \n",
              "15217  text-bison-002  "
            ],
            "text/html": [
              "\n",
              "  <div id=\"df-2f96b76d-9dea-418f-a7a6-8a2f3f950220\" class=\"colab-df-container\">\n",
              "    <div>\n",
              "<style scoped>\n",
              "    .dataframe tbody tr th:only-of-type {\n",
              "        vertical-align: middle;\n",
              "    }\n",
              "\n",
              "    .dataframe tbody tr th {\n",
              "        vertical-align: top;\n",
              "    }\n",
              "\n",
              "    .dataframe thead th {\n",
              "        text-align: right;\n",
              "    }\n",
              "</style>\n",
              "<table border=\"1\" class=\"dataframe\">\n",
              "  <thead>\n",
              "    <tr style=\"text-align: right;\">\n",
              "      <th></th>\n",
              "      <th>text</th>\n",
              "      <th>is_llm</th>\n",
              "      <th>dataset_name</th>\n",
              "    </tr>\n",
              "  </thead>\n",
              "  <tbody>\n",
              "    <tr>\n",
              "      <th>15213</th>\n",
              "      <td>Gabby Petito Case: Social Media Detectives and...</td>\n",
              "      <td>1</td>\n",
              "      <td>text-bison-002</td>\n",
              "    </tr>\n",
              "    <tr>\n",
              "      <th>15214</th>\n",
              "      <td>Search Intensifies for Missing Woman Gabby Pet...</td>\n",
              "      <td>1</td>\n",
              "      <td>text-bison-002</td>\n",
              "    </tr>\n",
              "    <tr>\n",
              "      <th>15215</th>\n",
              "      <td>University of Wisconsin Oshkosh Student Claims...</td>\n",
              "      <td>1</td>\n",
              "      <td>text-bison-002</td>\n",
              "    </tr>\n",
              "    <tr>\n",
              "      <th>15216</th>\n",
              "      <td>Gabby Petito Case: The Internet's Role in a Tr...</td>\n",
              "      <td>1</td>\n",
              "      <td>text-bison-002</td>\n",
              "    </tr>\n",
              "    <tr>\n",
              "      <th>15217</th>\n",
              "      <td>Gabby Petito Remembered as a 'Super Kind-Heart...</td>\n",
              "      <td>1</td>\n",
              "      <td>text-bison-002</td>\n",
              "    </tr>\n",
              "  </tbody>\n",
              "</table>\n",
              "</div>\n",
              "    <div class=\"colab-df-buttons\">\n",
              "\n",
              "  <div class=\"colab-df-container\">\n",
              "    <button class=\"colab-df-convert\" onclick=\"convertToInteractive('df-2f96b76d-9dea-418f-a7a6-8a2f3f950220')\"\n",
              "            title=\"Convert this dataframe to an interactive table.\"\n",
              "            style=\"display:none;\">\n",
              "\n",
              "  <svg xmlns=\"http://www.w3.org/2000/svg\" height=\"24px\" viewBox=\"0 -960 960 960\">\n",
              "    <path d=\"M120-120v-720h720v720H120Zm60-500h600v-160H180v160Zm220 220h160v-160H400v160Zm0 220h160v-160H400v160ZM180-400h160v-160H180v160Zm440 0h160v-160H620v160ZM180-180h160v-160H180v160Zm440 0h160v-160H620v160Z\"/>\n",
              "  </svg>\n",
              "    </button>\n",
              "\n",
              "  <style>\n",
              "    .colab-df-container {\n",
              "      display:flex;\n",
              "      gap: 12px;\n",
              "    }\n",
              "\n",
              "    .colab-df-convert {\n",
              "      background-color: #E8F0FE;\n",
              "      border: none;\n",
              "      border-radius: 50%;\n",
              "      cursor: pointer;\n",
              "      display: none;\n",
              "      fill: #1967D2;\n",
              "      height: 32px;\n",
              "      padding: 0 0 0 0;\n",
              "      width: 32px;\n",
              "    }\n",
              "\n",
              "    .colab-df-convert:hover {\n",
              "      background-color: #E2EBFA;\n",
              "      box-shadow: 0px 1px 2px rgba(60, 64, 67, 0.3), 0px 1px 3px 1px rgba(60, 64, 67, 0.15);\n",
              "      fill: #174EA6;\n",
              "    }\n",
              "\n",
              "    .colab-df-buttons div {\n",
              "      margin-bottom: 4px;\n",
              "    }\n",
              "\n",
              "    [theme=dark] .colab-df-convert {\n",
              "      background-color: #3B4455;\n",
              "      fill: #D2E3FC;\n",
              "    }\n",
              "\n",
              "    [theme=dark] .colab-df-convert:hover {\n",
              "      background-color: #434B5C;\n",
              "      box-shadow: 0px 1px 3px 1px rgba(0, 0, 0, 0.15);\n",
              "      filter: drop-shadow(0px 1px 2px rgba(0, 0, 0, 0.3));\n",
              "      fill: #FFFFFF;\n",
              "    }\n",
              "  </style>\n",
              "\n",
              "    <script>\n",
              "      const buttonEl =\n",
              "        document.querySelector('#df-2f96b76d-9dea-418f-a7a6-8a2f3f950220 button.colab-df-convert');\n",
              "      buttonEl.style.display =\n",
              "        google.colab.kernel.accessAllowed ? 'block' : 'none';\n",
              "\n",
              "      async function convertToInteractive(key) {\n",
              "        const element = document.querySelector('#df-2f96b76d-9dea-418f-a7a6-8a2f3f950220');\n",
              "        const dataTable =\n",
              "          await google.colab.kernel.invokeFunction('convertToInteractive',\n",
              "                                                    [key], {});\n",
              "        if (!dataTable) return;\n",
              "\n",
              "        const docLinkHtml = 'Like what you see? Visit the ' +\n",
              "          '<a target=\"_blank\" href=https://colab.research.google.com/notebooks/data_table.ipynb>data table notebook</a>'\n",
              "          + ' to learn more about interactive tables.';\n",
              "        element.innerHTML = '';\n",
              "        dataTable['output_type'] = 'display_data';\n",
              "        await google.colab.output.renderOutput(dataTable, element);\n",
              "        const docLink = document.createElement('div');\n",
              "        docLink.innerHTML = docLinkHtml;\n",
              "        element.appendChild(docLink);\n",
              "      }\n",
              "    </script>\n",
              "  </div>\n",
              "\n",
              "\n",
              "<div id=\"df-46b83c67-b757-4694-b178-ec08e4389525\">\n",
              "  <button class=\"colab-df-quickchart\" onclick=\"quickchart('df-46b83c67-b757-4694-b178-ec08e4389525')\"\n",
              "            title=\"Suggest charts\"\n",
              "            style=\"display:none;\">\n",
              "\n",
              "<svg xmlns=\"http://www.w3.org/2000/svg\" height=\"24px\"viewBox=\"0 0 24 24\"\n",
              "     width=\"24px\">\n",
              "    <g>\n",
              "        <path d=\"M19 3H5c-1.1 0-2 .9-2 2v14c0 1.1.9 2 2 2h14c1.1 0 2-.9 2-2V5c0-1.1-.9-2-2-2zM9 17H7v-7h2v7zm4 0h-2V7h2v10zm4 0h-2v-4h2v4z\"/>\n",
              "    </g>\n",
              "</svg>\n",
              "  </button>\n",
              "\n",
              "<style>\n",
              "  .colab-df-quickchart {\n",
              "      --bg-color: #E8F0FE;\n",
              "      --fill-color: #1967D2;\n",
              "      --hover-bg-color: #E2EBFA;\n",
              "      --hover-fill-color: #174EA6;\n",
              "      --disabled-fill-color: #AAA;\n",
              "      --disabled-bg-color: #DDD;\n",
              "  }\n",
              "\n",
              "  [theme=dark] .colab-df-quickchart {\n",
              "      --bg-color: #3B4455;\n",
              "      --fill-color: #D2E3FC;\n",
              "      --hover-bg-color: #434B5C;\n",
              "      --hover-fill-color: #FFFFFF;\n",
              "      --disabled-bg-color: #3B4455;\n",
              "      --disabled-fill-color: #666;\n",
              "  }\n",
              "\n",
              "  .colab-df-quickchart {\n",
              "    background-color: var(--bg-color);\n",
              "    border: none;\n",
              "    border-radius: 50%;\n",
              "    cursor: pointer;\n",
              "    display: none;\n",
              "    fill: var(--fill-color);\n",
              "    height: 32px;\n",
              "    padding: 0;\n",
              "    width: 32px;\n",
              "  }\n",
              "\n",
              "  .colab-df-quickchart:hover {\n",
              "    background-color: var(--hover-bg-color);\n",
              "    box-shadow: 0 1px 2px rgba(60, 64, 67, 0.3), 0 1px 3px 1px rgba(60, 64, 67, 0.15);\n",
              "    fill: var(--button-hover-fill-color);\n",
              "  }\n",
              "\n",
              "  .colab-df-quickchart-complete:disabled,\n",
              "  .colab-df-quickchart-complete:disabled:hover {\n",
              "    background-color: var(--disabled-bg-color);\n",
              "    fill: var(--disabled-fill-color);\n",
              "    box-shadow: none;\n",
              "  }\n",
              "\n",
              "  .colab-df-spinner {\n",
              "    border: 2px solid var(--fill-color);\n",
              "    border-color: transparent;\n",
              "    border-bottom-color: var(--fill-color);\n",
              "    animation:\n",
              "      spin 1s steps(1) infinite;\n",
              "  }\n",
              "\n",
              "  @keyframes spin {\n",
              "    0% {\n",
              "      border-color: transparent;\n",
              "      border-bottom-color: var(--fill-color);\n",
              "      border-left-color: var(--fill-color);\n",
              "    }\n",
              "    20% {\n",
              "      border-color: transparent;\n",
              "      border-left-color: var(--fill-color);\n",
              "      border-top-color: var(--fill-color);\n",
              "    }\n",
              "    30% {\n",
              "      border-color: transparent;\n",
              "      border-left-color: var(--fill-color);\n",
              "      border-top-color: var(--fill-color);\n",
              "      border-right-color: var(--fill-color);\n",
              "    }\n",
              "    40% {\n",
              "      border-color: transparent;\n",
              "      border-right-color: var(--fill-color);\n",
              "      border-top-color: var(--fill-color);\n",
              "    }\n",
              "    60% {\n",
              "      border-color: transparent;\n",
              "      border-right-color: var(--fill-color);\n",
              "    }\n",
              "    80% {\n",
              "      border-color: transparent;\n",
              "      border-right-color: var(--fill-color);\n",
              "      border-bottom-color: var(--fill-color);\n",
              "    }\n",
              "    90% {\n",
              "      border-color: transparent;\n",
              "      border-bottom-color: var(--fill-color);\n",
              "    }\n",
              "  }\n",
              "</style>\n",
              "\n",
              "  <script>\n",
              "    async function quickchart(key) {\n",
              "      const quickchartButtonEl =\n",
              "        document.querySelector('#' + key + ' button');\n",
              "      quickchartButtonEl.disabled = true;  // To prevent multiple clicks.\n",
              "      quickchartButtonEl.classList.add('colab-df-spinner');\n",
              "      try {\n",
              "        const charts = await google.colab.kernel.invokeFunction(\n",
              "            'suggestCharts', [key], {});\n",
              "      } catch (error) {\n",
              "        console.error('Error during call to suggestCharts:', error);\n",
              "      }\n",
              "      quickchartButtonEl.classList.remove('colab-df-spinner');\n",
              "      quickchartButtonEl.classList.add('colab-df-quickchart-complete');\n",
              "    }\n",
              "    (() => {\n",
              "      let quickchartButtonEl =\n",
              "        document.querySelector('#df-46b83c67-b757-4694-b178-ec08e4389525 button');\n",
              "      quickchartButtonEl.style.display =\n",
              "        google.colab.kernel.accessAllowed ? 'block' : 'none';\n",
              "    })();\n",
              "  </script>\n",
              "</div>\n",
              "    </div>\n",
              "  </div>\n"
            ],
            "application/vnd.google.colaboratory.intrinsic+json": {
              "type": "dataframe",
              "summary": "{\n  \"name\": \"df\",\n  \"rows\": 5,\n  \"fields\": [\n    {\n      \"column\": \"text\",\n      \"properties\": {\n        \"dtype\": \"string\",\n        \"num_unique_values\": 5,\n        \"samples\": [\n          \"Search Intensifies for Missing Woman Gabby Petito Last Seen in Utah\\n\\nSALT LAKE CITY \\u2013 Authorities are urgently searching for 22-year-old Gabby Petito, a young woman last seen traveling through Utah and Wyoming with her boyfriend, Brian Laundrie. Petito's disappearance has sparked a nationwide effort to locate her, with law enforcement agencies and the public joining forces to unravel the mystery surrounding her whereabouts.\\n\\nA Cross-Country Adventure Gone Silent\\n\\nGabby Petito and Brian Laundrie embarked on an exciting cross-country road trip on July 2, setting off from Blue Point, New York, with dreams of exploring the wonders of the American West. Their journey took them through picturesque landscapes, including Colorado, Southern Utah, Arches National Park, and Canyonlands National Park. The couple documented their adventures on social media, sharing breathtaking photographs and heartfelt captions that captured the essence of their shared experiences.\\n\\nDiminishing Social Media Presence and Growing Concern\\n\\nHowever, as August drew to a close, Petito's Instagram posts began to slow down, and her last communication on August 30 raised concerns among her loved ones. The uncertainty surrounding her well-being prompted her family to take action, initiating a desperate search for answers.\\n\\nLast Known Location: Salt Lake City\\n\\nThe last confirmed sighting of Gabby Petito was in Salt Lake City on August 21. This information was corroborated by an Uber Eats order placed by her father, Joseph Petito, who had been in touch with his daughter regularly during the trip.\\n\\nThe Grand Teton Mystery\\n\\nPetito's parents believe that the couple left Salt Lake City for Grand Teton National Park around August 24. However, their stay in the park is believed to have been brief, lasting no more than two days.\\n\\nSporadic Communication and Relationship Concerns\\n\\nAfter August 24, communication between Petito and her mother, Nichole Schmidt, became sporadic and concerning. The nature of Petito's relationship with her boyfriend also raised questions, adding another layer of complexity to the investigation.\\n\\nVan Found, Boyfriend Missing\\n\\nIn a significant development, the Suffolk County Police Department confirmed the retrieval of the van used by Petito and Laundrie during their cross-country trip. However, no information has been released regarding Laundrie's whereabouts, further fueling speculation and intensifying the search efforts.\\n\\nOfficial Investigation Underway\\n\\nThe Suffolk County Police Department has officially opened a case surrounding Gabby Petito's disappearance, and they are actively seeking information from the public that could assist in locating her.\\n\\nFamily's Appeal for Help\\n\\nPetito's parents have established a Facebook page, \\\"Find Gabby,\\\" to provide updates on the search and to facilitate communication with the public. They have also set up a GoFundMe page to help cover the expenses related to the search efforts.\\n\\nPublic's Role in Solving the Mystery\\n\\nThe public is urged to come forward with any information that could aid in the investigation. Even the smallest detail could prove crucial in piecing together the events leading up to Petito's disappearance.\",\n          \"Gabby Petito Remembered as a 'Super Kind-Hearted' Girl by Long Island Surf Shop Owner\\n\\nLong Island, New York - Gabby Petito, the 22-year-old woman whose remains were found in Wyoming's Teton-Bridger National Forest, was remembered as a \\\"super kind-hearted, sweet girl\\\" by the owner of a surf shop in her Long Island hometown.\\n\\nThe surf shop owner, who wished to remain anonymous, told reporters that Petito was a longtime customer who was always smiling. \\\"She was just a really nice girl,\\\" the owner said. \\\"She always had a smile on her face.\\\"\\n\\nPetito's remains were found on September 19, nearly a month after she was reported missing while on a cross-country trip with her fianc\\u00e9, Brian Laundrie. The Teton County Coroner ruled her death a homicide, but the cause of death has not yet been released.\\n\\nPetito and Laundrie started their road trip in June, traveling from Florida to New York and then towards western national parks. Petito visited the surf shop before leaving Long Island in early July, buying a shirt for Laundrie.\\n\\n\\\"She was excited about the trip,\\\" the surf shop owner recalled. \\\"She said they were going to be gone for a few months, and she was really looking forward to it.\\\"\\n\\nLaundrie returned to Florida on September 1 without Petito and has been named a person of interest in her disappearance. He has refused to cooperate with law enforcement and has since disappeared.\\n\\nPetito's white van was seized from Laundrie's family home on September 11. Authorities are searching for Laundrie in a Florida nature reserve and other locations.\\n\\nFriends and family of Petito describe her as creative, artistic, and someone who wanted to live life to the fullest. Her mother, Nichole Schmidt, told reporters that her daughter was \\\"a beautiful soul\\\" who \\\"lived every day to the fullest.\\\"\\n\\n\\\"She was just a happy, positive person,\\\" Schmidt said. \\\"She loved life, she loved people, she loved animals.\\\"\\n\\nPetito's disappearance and death have captured national attention, with many people following the case closely on social media. A GoFundMe page set up to help Petito's family has raised over $100,000.\\n\\nThe search for Laundrie continues, and authorities are asking for the public's help in locating him. Anyone with information about Laundrie's whereabouts is urged to contact the FBI.\",\n          \"University of Wisconsin Oshkosh Student Claims Encounter with Brian Laundrie in Grand Teton National Park\\n\\nWYOMING (WBAY) \\u2013 A University of Wisconsin Oshkosh student, Miranda Baker, has come forward with a startling revelation, claiming that she and her boyfriend gave a ride to Brian Laundrie, the person of interest in the Gabby Petito case, in Grand Teton National Park on August 29. This development adds a new layer of intrigue to the ongoing investigation surrounding Petito's disappearance and subsequent discovery of her body on September 19.\\n\\nBaker shared her experience through a TikTok video, which garnered significant attention and prompted her to contact the authorities to assist with the investigation. According to Baker, Laundrie approached her and her boyfriend while they were parked at the Spread Creek Dispersed Camping Area in Grand Teton National Park.\\n\\n\\\"He came up to our car and asked for a ride,\\\" Baker recounted. \\\"He said he was hiking and had been separated from his fianc\\u00e9e, who was working on their social media page back at their van.\\\"\\n\\nWhat struck Baker as unusual was Laundrie's offer to pay $200 for a ride that would cover a mere 10-mile journey. She described Laundrie as appearing \\\"dirty\\\" and \\\"disheveled,\\\" with an unkempt beard and wearing a baseball cap.\\n\\nBaker's account further reveals that Laundrie mentioned he had been camping for several days without his fianc\\u00e9e, who was supposedly working on their social media page back at their van. However, when Baker mentioned that they were headed to Jackson, Laundrie urgently requested to be let out of the vehicle.\\n\\n\\\"He said, 'Oh, I need to get out here. This is where I need to get out,'\\\" Baker recalled.\\n\\nBaker and her boyfriend obliged, dropping Laundrie off at around 6:09 p.m. on August 29 near Jackson Dam, close to Colter Bay. This was the last time they saw Laundrie.\\n\\nBaker's encounter with Laundrie took place just two days before Petito's family reported her missing on September 11. Laundrie, who returned to his home in North Port, Florida, on September 1, has not cooperated with authorities in the investigation.\\n\\nThe case took a tragic turn when Petito's body was discovered on September 19 in Grand Teton National Park, not far from where Baker and her boyfriend had encountered Laundrie. The Teton County Coroner's Office ruled her death a homicide, but the cause of death has not yet been released.\\n\\nAdding another layer of complexity to the case is an incident that occurred on August 12 in Utah, where a domestic violence incident involving Petito and Laundrie was reported. Bodycam footage captured the incident, but no charges were filed.\\n\\nBaker's account provides crucial information that could aid in piecing together the timeline of events leading up to Petito's disappearance and death. Her willingness to come forward and share her experience demonstrates the importance of public involvement in assisting law enforcement investigations.\\n\\nAs the investigation continues, authorities are working diligently to gather evidence and determine the circumstances surrounding Petito's death. The involvement of Miranda Baker and her boyfriend as witnesses adds a significant element to the case, potentially shedding light on Laundrie's movements and actions during the critical period before Petito's disappearance.\"\n        ],\n        \"semantic_type\": \"\",\n        \"description\": \"\"\n      }\n    },\n    {\n      \"column\": \"is_llm\",\n      \"properties\": {\n        \"dtype\": \"number\",\n        \"std\": 0,\n        \"min\": 1,\n        \"max\": 1,\n        \"num_unique_values\": 1,\n        \"samples\": [\n          1\n        ],\n        \"semantic_type\": \"\",\n        \"description\": \"\"\n      }\n    },\n    {\n      \"column\": \"dataset_name\",\n      \"properties\": {\n        \"dtype\": \"category\",\n        \"num_unique_values\": 1,\n        \"samples\": [\n          \"text-bison-002\"\n        ],\n        \"semantic_type\": \"\",\n        \"description\": \"\"\n      }\n    }\n  ]\n}"
            }
          },
          "metadata": {},
          "execution_count": 83
        }
      ],
      "source": [
        "df.tail()"
      ]
    },
    {
      "cell_type": "markdown",
      "metadata": {
        "id": "WjddZEVUMyOd"
      },
      "source": [
        "### Tokenize"
      ]
    },
    {
      "cell_type": "code",
      "execution_count": 84,
      "metadata": {
        "id": "0MmueNB4MyOd"
      },
      "outputs": [],
      "source": [
        "checkpoint = 'distilbert-base-cased'\n",
        "tokenizer = AutoTokenizer.from_pretrained(checkpoint)"
      ]
    },
    {
      "cell_type": "code",
      "execution_count": 85,
      "metadata": {
        "colab": {
          "base_uri": "https://localhost:8080/"
        },
        "id": "nzBYtPt2MyOd",
        "outputId": "c5b88587-bb2a-4d1a-8355-2996fdd9695f"
      },
      "outputs": [
        {
          "output_type": "stream",
          "name": "stderr",
          "text": [
            "Token indices sequence length is longer than the specified maximum sequence length for this model (843 > 512). Running this sequence through the model will result in indexing errors\n"
          ]
        }
      ],
      "source": [
        "df['tokenized_text'] = tokenizer(list(df['text'].to_list()))['input_ids']"
      ]
    },
    {
      "cell_type": "markdown",
      "metadata": {
        "id": "c8LGVtIFMyOe"
      },
      "source": [
        "## Model"
      ]
    },
    {
      "cell_type": "code",
      "execution_count": 86,
      "metadata": {
        "colab": {
          "base_uri": "https://localhost:8080/"
        },
        "id": "Tp9WLZmFMyOe",
        "outputId": "eaad87e8-3d5f-4589-a001-0551f5356f91"
      },
      "outputs": [
        {
          "output_type": "stream",
          "name": "stdout",
          "text": [
            "cuda\n"
          ]
        }
      ],
      "source": [
        "device = torch.device('cuda' if torch.cuda.is_available() else 'cpu')\n",
        "print(device)"
      ]
    },
    {
      "cell_type": "code",
      "execution_count": 87,
      "metadata": {
        "id": "XpuUaFxyMyOe"
      },
      "outputs": [],
      "source": [
        "class RNN(nn.Module):\n",
        "    def __init__(self, vocab_size, embedding_size, hidden_size, layers_num, device, output_size=1, dropout=0):\n",
        "        super().__init__()\n",
        "\n",
        "        self.vocab_size = vocab_size\n",
        "        self.embedding_size = embedding_size\n",
        "        self.hidden_size = hidden_size\n",
        "        self.layers_num = layers_num\n",
        "        self.output_size= output_size\n",
        "        self.dropout = dropout\n",
        "        self.device = device\n",
        "\n",
        "        self.embed = nn.Embedding(self.vocab_size, self.embedding_size, device=self.device)\n",
        "\n",
        "        self.lstm = nn.LSTM(\n",
        "            input_size=self.embedding_size,\n",
        "            hidden_size=self.hidden_size,\n",
        "            num_layers=self.layers_num,\n",
        "            batch_first=True,\n",
        "            dropout=self.dropout,\n",
        "            device=self.device\n",
        "        )\n",
        "\n",
        "        self.fc = nn.Linear(\n",
        "            self.hidden_size,\n",
        "            self.output_size\n",
        "        )\n",
        "\n",
        "    def forward(self, X, lengths):\n",
        "        embeddings = self.embed(X)\n",
        "\n",
        "        seq_output, (h_n, c_n) = self.lstm(embeddings)\n",
        "\n",
        "        out = seq_output.sum(dim=1).div(lengths.float().unsqueeze(dim=1))\n",
        "        logits = self.fc(out)\n",
        "        return logits"
      ]
    },
    {
      "cell_type": "markdown",
      "metadata": {
        "id": "ub-xK5D9MyOe"
      },
      "source": [
        "## Dataset"
      ]
    },
    {
      "cell_type": "code",
      "execution_count": 88,
      "metadata": {
        "id": "jIeWGotfMyOf"
      },
      "outputs": [],
      "source": [
        "class TextDataset(Dataset):\n",
        "    def __init__(self, X, y):\n",
        "        self.X = X\n",
        "        self.y = y\n",
        "\n",
        "    def __len__(self):\n",
        "        return self.X.size\n",
        "\n",
        "    def __getitem__(self, index):\n",
        "        return (\n",
        "            self.X[index],\n",
        "            self.y[index]\n",
        "        )"
      ]
    },
    {
      "cell_type": "code",
      "execution_count": 89,
      "metadata": {
        "id": "la1D3dIwMyOf"
      },
      "outputs": [],
      "source": [
        "def collate_fn(batch):\n",
        "  # We want to sort the batch by seq length,\n",
        "  # in order to make the computation more efficient\n",
        "  batch = sorted(batch, key=lambda x: len(x[0]), reverse=True)\n",
        "\n",
        "  inputs = [torch.LongTensor(x[0]).to(device) for x in batch]\n",
        "  padded_input = nn.utils.rnn.pad_sequence(inputs, batch_first=True)\n",
        "\n",
        "  lengths = torch.LongTensor([len(x[0]) for x in batch]).to(device)\n",
        "\n",
        "  y = torch.FloatTensor(np.array([x[1] for x in batch])).reshape(-1, 1).to(device)\n",
        "\n",
        "  return padded_input, lengths, y"
      ]
    },
    {
      "cell_type": "markdown",
      "metadata": {
        "id": "vQ3z2zK-MyOf"
      },
      "source": [
        "## Train and test functions"
      ]
    },
    {
      "cell_type": "code",
      "execution_count": 90,
      "metadata": {
        "id": "P6ghG7B4MyOf"
      },
      "outputs": [],
      "source": [
        "def calculate_accuracy(y_true, y_hat):\n",
        "    correct_pred = torch.eq(torch.sigmoid(y_hat).round(), y_true).sum().item()\n",
        "    return (correct_pred / len(y_hat)) * 100\n",
        "\n",
        "def train_step(model, dataloader, loss_fn, optimizer, device):\n",
        "\n",
        "    model.train()\n",
        "\n",
        "    train_loss, train_acc = 0, 0\n",
        "    steps = 0\n",
        "\n",
        "    for X, lengths, y in dataloader:\n",
        "        X, y = X.to(device), y.to(device)\n",
        "\n",
        "        y_hat = model(X, lengths)\n",
        "\n",
        "        loss = loss_fn(y_hat, y)\n",
        "        train_loss += loss.item()\n",
        "\n",
        "        optimizer.zero_grad()\n",
        "        loss.backward()\n",
        "        optimizer.step()\n",
        "\n",
        "        train_acc += calculate_accuracy(y_true=y, y_hat=y_hat)\n",
        "        steps += 1\n",
        "\n",
        "    return train_loss / steps, train_acc / steps\n",
        "\n",
        "\n",
        "def test_step(model, dataloader, loss_fn, device):\n",
        "\n",
        "    model.eval()\n",
        "\n",
        "    test_loss, test_acc = 0, 0\n",
        "    steps = 0\n",
        "\n",
        "    with torch.inference_mode():\n",
        "        for X, lengths, y in dataloader:\n",
        "\n",
        "            X, y = X.to(device), y.to(device)\n",
        "\n",
        "            y_hat = model(X, lengths)\n",
        "\n",
        "            loss = loss_fn(y_hat, y)\n",
        "            test_loss += loss.item()\n",
        "\n",
        "            test_acc += calculate_accuracy(y_true=y, y_hat=y_hat)\n",
        "            steps += 1\n",
        "\n",
        "    return test_loss / steps, test_acc / steps\n",
        "\n",
        "def train(model,\n",
        "          train_dataloader,\n",
        "          test_dataloader,\n",
        "          optimizer,\n",
        "          loss_fn,\n",
        "          epochs,\n",
        "          device):\n",
        "\n",
        "    results = {\n",
        "        \"train_loss\": [],\n",
        "        \"train_acc\": [],\n",
        "        \"test_loss\": [],\n",
        "        \"test_acc\": []\n",
        "        }\n",
        "\n",
        "    model.to(device)\n",
        "\n",
        "    for epoch in tqdm(range(epochs)):\n",
        "\n",
        "        start_time = timer()\n",
        "        train_loss, train_acc = train_step(\n",
        "            model=model,\n",
        "            dataloader=train_dataloader,\n",
        "            loss_fn=loss_fn,\n",
        "            optimizer=optimizer,\n",
        "            device=device,\n",
        "        )\n",
        "        end_time = timer()\n",
        "\n",
        "        test_loss, test_acc = test_step(\n",
        "            model=model,\n",
        "            dataloader=test_dataloader,\n",
        "            loss_fn=loss_fn,\n",
        "            device=device,\n",
        "        )\n",
        "\n",
        "        results[\"train_loss\"].append(train_loss)\n",
        "        results[\"train_acc\"].append(train_acc)\n",
        "        results[\"test_loss\"].append(test_loss)\n",
        "        results[\"test_acc\"].append(test_acc)\n",
        "\n",
        "        print(\n",
        "            f\"Epoch: {epoch+1} | \"\n",
        "            f\"train_loss: {train_loss:.4f} | \"\n",
        "            f\"train_acc: {train_acc:.4f} | \"\n",
        "            f\"test_loss: {test_loss:.4f} | \"\n",
        "            f\"test_acc: {test_acc:.4f} | \"\n",
        "            f\"time: {(end_time-start_time):.4f}\"\n",
        "        )\n",
        "\n",
        "    return results"
      ]
    },
    {
      "cell_type": "markdown",
      "metadata": {
        "id": "dWxletJxMyOf"
      },
      "source": [
        "## Train on each LLM dataset separately and test against all others"
      ]
    },
    {
      "cell_type": "code",
      "execution_count": 91,
      "metadata": {
        "id": "L-T6c5-XSaTf"
      },
      "outputs": [],
      "source": [
        "human_df = df.loc[df['is_llm'] == 0]\n",
        "human_train_df, human_test_df = train_test_split(human_df, test_size=TEST_SET_FRACTION)"
      ]
    },
    {
      "cell_type": "code",
      "execution_count": 92,
      "metadata": {
        "colab": {
          "base_uri": "https://localhost:8080/"
        },
        "id": "6tjl2x_gMyOg",
        "outputId": "6d4dbeae-4537-479f-97df-9b382f9e08b2"
      },
      "outputs": [
        {
          "output_type": "stream",
          "name": "stdout",
          "text": [
            "Training model for gemini-pro...\n"
          ]
        },
        {
          "output_type": "stream",
          "name": "stderr",
          "text": [
            "  7%|▋         | 1/15 [00:16<03:55, 16.83s/it]"
          ]
        },
        {
          "output_type": "stream",
          "name": "stdout",
          "text": [
            "Epoch: 1 | train_loss: 0.6938 | train_acc: 48.4375 | test_loss: 0.6914 | test_acc: 57.7806 | time: 14.5844\n"
          ]
        },
        {
          "output_type": "stream",
          "name": "stderr",
          "text": [
            "\r 13%|█▎        | 2/15 [00:34<03:41, 17.07s/it]"
          ]
        },
        {
          "output_type": "stream",
          "name": "stdout",
          "text": [
            "Epoch: 2 | train_loss: 0.6932 | train_acc: 47.3307 | test_loss: 0.6930 | test_acc: 51.3393 | time: 14.9668\n"
          ]
        },
        {
          "output_type": "stream",
          "name": "stderr",
          "text": [
            "\r 20%|██        | 3/15 [00:51<03:26, 17.21s/it]"
          ]
        },
        {
          "output_type": "stream",
          "name": "stdout",
          "text": [
            "Epoch: 3 | train_loss: 0.6933 | train_acc: 49.6094 | test_loss: 0.6927 | test_acc: 51.3393 | time: 15.1558\n"
          ]
        },
        {
          "output_type": "stream",
          "name": "stderr",
          "text": [
            "\r 27%|██▋       | 4/15 [01:08<03:09, 17.18s/it]"
          ]
        },
        {
          "output_type": "stream",
          "name": "stdout",
          "text": [
            "Epoch: 4 | train_loss: 0.6922 | train_acc: 54.3620 | test_loss: 0.6830 | test_acc: 62.5425 | time: 14.9263\n"
          ]
        },
        {
          "output_type": "stream",
          "name": "stderr",
          "text": [
            "\r 33%|███▎      | 5/15 [01:25<02:51, 17.16s/it]"
          ]
        },
        {
          "output_type": "stream",
          "name": "stdout",
          "text": [
            "Epoch: 5 | train_loss: 0.5223 | train_acc: 79.8828 | test_loss: 0.5038 | test_acc: 85.5655 | time: 14.9074\n"
          ]
        },
        {
          "output_type": "stream",
          "name": "stderr",
          "text": [
            "\r 40%|████      | 6/15 [01:42<02:33, 17.06s/it]"
          ]
        },
        {
          "output_type": "stream",
          "name": "stdout",
          "text": [
            "Epoch: 6 | train_loss: 0.2607 | train_acc: 92.7083 | test_loss: 0.3876 | test_acc: 88.4566 | time: 14.6521\n"
          ]
        },
        {
          "output_type": "stream",
          "name": "stderr",
          "text": [
            "\r 47%|████▋     | 7/15 [01:59<02:15, 16.99s/it]"
          ]
        },
        {
          "output_type": "stream",
          "name": "stdout",
          "text": [
            "Epoch: 7 | train_loss: 0.1371 | train_acc: 95.4427 | test_loss: 0.2068 | test_acc: 94.3452 | time: 14.6316\n"
          ]
        },
        {
          "output_type": "stream",
          "name": "stderr",
          "text": [
            "\r 53%|█████▎    | 8/15 [02:16<01:59, 17.07s/it]"
          ]
        },
        {
          "output_type": "stream",
          "name": "stdout",
          "text": [
            "Epoch: 8 | train_loss: 0.0767 | train_acc: 97.9167 | test_loss: 0.1795 | test_acc: 95.0468 | time: 14.9753\n"
          ]
        },
        {
          "output_type": "stream",
          "name": "stderr",
          "text": [
            "\r 60%|██████    | 9/15 [02:33<01:42, 17.06s/it]"
          ]
        },
        {
          "output_type": "stream",
          "name": "stdout",
          "text": [
            "Epoch: 9 | train_loss: 0.0485 | train_acc: 98.7630 | test_loss: 0.1842 | test_acc: 94.3027 | time: 14.8499\n"
          ]
        },
        {
          "output_type": "stream",
          "name": "stderr",
          "text": [
            "\r 67%|██████▋   | 10/15 [02:50<01:25, 17.00s/it]"
          ]
        },
        {
          "output_type": "stream",
          "name": "stdout",
          "text": [
            "Epoch: 10 | train_loss: 0.0343 | train_acc: 99.2188 | test_loss: 0.1877 | test_acc: 95.0893 | time: 14.6424\n"
          ]
        },
        {
          "output_type": "stream",
          "name": "stderr",
          "text": [
            "\r 73%|███████▎  | 11/15 [03:07<01:07, 16.98s/it]"
          ]
        },
        {
          "output_type": "stream",
          "name": "stdout",
          "text": [
            "Epoch: 11 | train_loss: 0.0225 | train_acc: 99.4141 | test_loss: 0.2278 | test_acc: 94.6003 | time: 14.6745\n"
          ]
        },
        {
          "output_type": "stream",
          "name": "stderr",
          "text": [
            "\r 80%|████████  | 12/15 [03:24<00:50, 16.99s/it]"
          ]
        },
        {
          "output_type": "stream",
          "name": "stdout",
          "text": [
            "Epoch: 12 | train_loss: 0.0201 | train_acc: 99.4792 | test_loss: 0.2337 | test_acc: 94.8980 | time: 14.8015\n"
          ]
        },
        {
          "output_type": "stream",
          "name": "stderr",
          "text": [
            "\r 87%|████████▋ | 13/15 [03:41<00:33, 16.94s/it]"
          ]
        },
        {
          "output_type": "stream",
          "name": "stdout",
          "text": [
            "Epoch: 13 | train_loss: 0.0152 | train_acc: 99.8698 | test_loss: 0.2731 | test_acc: 93.7075 | time: 14.6221\n"
          ]
        },
        {
          "output_type": "stream",
          "name": "stderr",
          "text": [
            "\r 93%|█████████▎| 14/15 [03:58<00:16, 16.97s/it]"
          ]
        },
        {
          "output_type": "stream",
          "name": "stdout",
          "text": [
            "Epoch: 14 | train_loss: 0.0092 | train_acc: 99.9349 | test_loss: 0.2307 | test_acc: 95.0468 | time: 14.7981\n"
          ]
        },
        {
          "output_type": "stream",
          "name": "stderr",
          "text": [
            "100%|██████████| 15/15 [04:15<00:00, 17.03s/it]\n"
          ]
        },
        {
          "output_type": "stream",
          "name": "stdout",
          "text": [
            "Epoch: 15 | train_loss: 0.0072 | train_acc: 100.0000 | test_loss: 0.2483 | test_acc: 95.3444 | time: 14.8279\n",
            "Finished training model for gemini-pro\n",
            "Training model for qwen-qwen1.5-72b-chat-8bit...\n"
          ]
        },
        {
          "output_type": "stream",
          "name": "stderr",
          "text": [
            "  7%|▋         | 1/15 [00:16<03:47, 16.22s/it]"
          ]
        },
        {
          "output_type": "stream",
          "name": "stdout",
          "text": [
            "Epoch: 1 | train_loss: 0.6944 | train_acc: 44.5964 | test_loss: 0.6932 | test_acc: 51.3393 | time: 14.2874\n"
          ]
        },
        {
          "output_type": "stream",
          "name": "stderr",
          "text": [
            "\r 13%|█▎        | 2/15 [00:32<03:30, 16.17s/it]"
          ]
        },
        {
          "output_type": "stream",
          "name": "stdout",
          "text": [
            "Epoch: 2 | train_loss: 0.6934 | train_acc: 50.1953 | test_loss: 0.6964 | test_acc: 51.3393 | time: 14.2219\n"
          ]
        },
        {
          "output_type": "stream",
          "name": "stderr",
          "text": [
            "\r 20%|██        | 3/15 [00:48<03:14, 16.18s/it]"
          ]
        },
        {
          "output_type": "stream",
          "name": "stdout",
          "text": [
            "Epoch: 3 | train_loss: 0.6931 | train_acc: 50.1302 | test_loss: 0.6965 | test_acc: 51.3393 | time: 14.2344\n"
          ]
        },
        {
          "output_type": "stream",
          "name": "stderr",
          "text": [
            "\r 27%|██▋       | 4/15 [01:04<02:58, 16.22s/it]"
          ]
        },
        {
          "output_type": "stream",
          "name": "stdout",
          "text": [
            "Epoch: 4 | train_loss: 0.6887 | train_acc: 53.9714 | test_loss: 0.7166 | test_acc: 64.4983 | time: 14.3569\n"
          ]
        },
        {
          "output_type": "stream",
          "name": "stderr",
          "text": [
            "\r 33%|███▎      | 5/15 [01:21<02:42, 16.28s/it]"
          ]
        },
        {
          "output_type": "stream",
          "name": "stdout",
          "text": [
            "Epoch: 5 | train_loss: 0.4376 | train_acc: 86.0677 | test_loss: 0.7804 | test_acc: 74.8724 | time: 14.4619\n"
          ]
        },
        {
          "output_type": "stream",
          "name": "stderr",
          "text": [
            "\r 40%|████      | 6/15 [01:37<02:25, 16.20s/it]"
          ]
        },
        {
          "output_type": "stream",
          "name": "stdout",
          "text": [
            "Epoch: 6 | train_loss: 0.3376 | train_acc: 92.5130 | test_loss: 0.4944 | test_acc: 86.6284 | time: 14.1011\n"
          ]
        },
        {
          "output_type": "stream",
          "name": "stderr",
          "text": [
            "\r 47%|████▋     | 7/15 [01:53<02:09, 16.22s/it]"
          ]
        },
        {
          "output_type": "stream",
          "name": "stdout",
          "text": [
            "Epoch: 7 | train_loss: 0.2095 | train_acc: 95.1172 | test_loss: 0.4620 | test_acc: 89.6046 | time: 14.3150\n"
          ]
        },
        {
          "output_type": "stream",
          "name": "stderr",
          "text": [
            "\r 53%|█████▎    | 8/15 [02:09<01:53, 16.22s/it]"
          ]
        },
        {
          "output_type": "stream",
          "name": "stdout",
          "text": [
            "Epoch: 8 | train_loss: 0.2368 | train_acc: 95.2474 | test_loss: 0.4575 | test_acc: 88.8180 | time: 14.2679\n"
          ]
        },
        {
          "output_type": "stream",
          "name": "stderr",
          "text": [
            "\r 60%|██████    | 9/15 [02:26<01:38, 16.34s/it]"
          ]
        },
        {
          "output_type": "stream",
          "name": "stdout",
          "text": [
            "Epoch: 9 | train_loss: 0.2685 | train_acc: 93.8802 | test_loss: 0.4591 | test_acc: 89.4133 | time: 14.6829\n"
          ]
        },
        {
          "output_type": "stream",
          "name": "stderr",
          "text": [
            "\r 67%|██████▋   | 10/15 [02:42<01:21, 16.28s/it]"
          ]
        },
        {
          "output_type": "stream",
          "name": "stdout",
          "text": [
            "Epoch: 10 | train_loss: 0.2109 | train_acc: 96.0938 | test_loss: 0.4849 | test_acc: 91.0927 | time: 14.2255\n"
          ]
        },
        {
          "output_type": "stream",
          "name": "stderr",
          "text": [
            "\r 73%|███████▎  | 11/15 [02:58<01:04, 16.18s/it]"
          ]
        },
        {
          "output_type": "stream",
          "name": "stdout",
          "text": [
            "Epoch: 11 | train_loss: 0.5172 | train_acc: 87.9557 | test_loss: 0.9275 | test_acc: 76.8920 | time: 14.0152\n"
          ]
        },
        {
          "output_type": "stream",
          "name": "stderr",
          "text": [
            "\r 80%|████████  | 12/15 [03:14<00:48, 16.25s/it]"
          ]
        },
        {
          "output_type": "stream",
          "name": "stdout",
          "text": [
            "Epoch: 12 | train_loss: 0.5852 | train_acc: 81.8359 | test_loss: 0.6266 | test_acc: 81.0587 | time: 14.4675\n"
          ]
        },
        {
          "output_type": "stream",
          "name": "stderr",
          "text": [
            "\r 87%|████████▋ | 13/15 [03:31<00:32, 16.35s/it]"
          ]
        },
        {
          "output_type": "stream",
          "name": "stdout",
          "text": [
            "Epoch: 13 | train_loss: 0.4676 | train_acc: 85.6771 | test_loss: 0.5540 | test_acc: 83.6947 | time: 14.6484\n"
          ]
        },
        {
          "output_type": "stream",
          "name": "stderr",
          "text": [
            "\r 93%|█████████▎| 14/15 [03:47<00:16, 16.35s/it]"
          ]
        },
        {
          "output_type": "stream",
          "name": "stdout",
          "text": [
            "Epoch: 14 | train_loss: 0.4477 | train_acc: 86.9141 | test_loss: 0.5151 | test_acc: 84.3963 | time: 14.4304\n"
          ]
        },
        {
          "output_type": "stream",
          "name": "stderr",
          "text": [
            "100%|██████████| 15/15 [04:03<00:00, 16.26s/it]\n"
          ]
        },
        {
          "output_type": "stream",
          "name": "stdout",
          "text": [
            "Epoch: 15 | train_loss: 0.4077 | train_acc: 88.2812 | test_loss: 0.5078 | test_acc: 84.9915 | time: 14.1918\n",
            "Finished training model for qwen-qwen1.5-72b-chat-8bit\n",
            "Training model for vicgalle-gpt2-open-instruct-v1...\n"
          ]
        },
        {
          "output_type": "stream",
          "name": "stderr",
          "text": [
            "  7%|▋         | 1/15 [00:16<03:48, 16.30s/it]"
          ]
        },
        {
          "output_type": "stream",
          "name": "stdout",
          "text": [
            "Epoch: 1 | train_loss: 0.6913 | train_acc: 49.0885 | test_loss: 0.7423 | test_acc: 51.3393 | time: 14.3991\n"
          ]
        },
        {
          "output_type": "stream",
          "name": "stderr",
          "text": [
            "\r 13%|█▎        | 2/15 [00:32<03:29, 16.12s/it]"
          ]
        },
        {
          "output_type": "stream",
          "name": "stdout",
          "text": [
            "Epoch: 2 | train_loss: 0.6911 | train_acc: 52.7995 | test_loss: 0.7130 | test_acc: 26.4668 | time: 14.1003\n"
          ]
        },
        {
          "output_type": "stream",
          "name": "stderr",
          "text": [
            "\r 20%|██        | 3/15 [00:48<03:13, 16.16s/it]"
          ]
        },
        {
          "output_type": "stream",
          "name": "stdout",
          "text": [
            "Epoch: 3 | train_loss: 0.6809 | train_acc: 61.1979 | test_loss: 0.6793 | test_acc: 52.1259 | time: 14.3308\n"
          ]
        },
        {
          "output_type": "stream",
          "name": "stderr",
          "text": [
            "\r 27%|██▋       | 4/15 [01:04<02:57, 16.16s/it]"
          ]
        },
        {
          "output_type": "stream",
          "name": "stdout",
          "text": [
            "Epoch: 4 | train_loss: 0.4790 | train_acc: 81.7708 | test_loss: 0.6594 | test_acc: 80.4847 | time: 14.2515\n"
          ]
        },
        {
          "output_type": "stream",
          "name": "stderr",
          "text": [
            "\r 33%|███▎      | 5/15 [01:20<02:41, 16.15s/it]"
          ]
        },
        {
          "output_type": "stream",
          "name": "stdout",
          "text": [
            "Epoch: 5 | train_loss: 0.3182 | train_acc: 89.9089 | test_loss: 0.7648 | test_acc: 77.5723 | time: 14.2381\n"
          ]
        },
        {
          "output_type": "stream",
          "name": "stderr",
          "text": [
            "\r 40%|████      | 6/15 [01:36<02:25, 16.13s/it]"
          ]
        },
        {
          "output_type": "stream",
          "name": "stdout",
          "text": [
            "Epoch: 6 | train_loss: 0.2698 | train_acc: 93.4896 | test_loss: 0.6430 | test_acc: 83.9498 | time: 14.1886\n"
          ]
        },
        {
          "output_type": "stream",
          "name": "stderr",
          "text": [
            "\r 47%|████▋     | 7/15 [01:53<02:09, 16.23s/it]"
          ]
        },
        {
          "output_type": "stream",
          "name": "stdout",
          "text": [
            "Epoch: 7 | train_loss: 0.2198 | train_acc: 94.5312 | test_loss: 0.7804 | test_acc: 81.6752 | time: 14.5645\n"
          ]
        },
        {
          "output_type": "stream",
          "name": "stderr",
          "text": [
            "\r 53%|█████▎    | 8/15 [02:09<01:53, 16.28s/it]"
          ]
        },
        {
          "output_type": "stream",
          "name": "stdout",
          "text": [
            "Epoch: 8 | train_loss: 0.2411 | train_acc: 94.7266 | test_loss: 0.5956 | test_acc: 85.2891 | time: 14.4852\n"
          ]
        },
        {
          "output_type": "stream",
          "name": "stderr",
          "text": [
            "\r 60%|██████    | 9/15 [02:26<01:37, 16.31s/it]"
          ]
        },
        {
          "output_type": "stream",
          "name": "stdout",
          "text": [
            "Epoch: 9 | train_loss: 0.1791 | train_acc: 96.9401 | test_loss: 0.6318 | test_acc: 85.7355 | time: 14.4669\n"
          ]
        },
        {
          "output_type": "stream",
          "name": "stderr",
          "text": [
            "\r 67%|██████▋   | 10/15 [02:42<01:21, 16.39s/it]"
          ]
        },
        {
          "output_type": "stream",
          "name": "stdout",
          "text": [
            "Epoch: 10 | train_loss: 0.1716 | train_acc: 97.0703 | test_loss: 0.6399 | test_acc: 86.3733 | time: 14.6837\n"
          ]
        },
        {
          "output_type": "stream",
          "name": "stderr",
          "text": [
            "\r 73%|███████▎  | 11/15 [02:58<01:05, 16.29s/it]"
          ]
        },
        {
          "output_type": "stream",
          "name": "stdout",
          "text": [
            "Epoch: 11 | train_loss: 0.1747 | train_acc: 96.6146 | test_loss: 0.6484 | test_acc: 87.1173 | time: 14.1742\n"
          ]
        },
        {
          "output_type": "stream",
          "name": "stderr",
          "text": [
            "\r 80%|████████  | 12/15 [03:14<00:48, 16.26s/it]"
          ]
        },
        {
          "output_type": "stream",
          "name": "stdout",
          "text": [
            "Epoch: 12 | train_loss: 0.1280 | train_acc: 97.8516 | test_loss: 0.6595 | test_acc: 86.5221 | time: 14.2702\n"
          ]
        },
        {
          "output_type": "stream",
          "name": "stderr",
          "text": [
            "\r 87%|████████▋ | 13/15 [03:31<00:32, 16.29s/it]"
          ]
        },
        {
          "output_type": "stream",
          "name": "stdout",
          "text": [
            "Epoch: 13 | train_loss: 0.1308 | train_acc: 97.7214 | test_loss: 0.6863 | test_acc: 85.9269 | time: 14.4557\n"
          ]
        },
        {
          "output_type": "stream",
          "name": "stderr",
          "text": [
            "\r 93%|█████████▎| 14/15 [03:47<00:16, 16.35s/it]"
          ]
        },
        {
          "output_type": "stream",
          "name": "stdout",
          "text": [
            "Epoch: 14 | train_loss: 0.1094 | train_acc: 98.5026 | test_loss: 0.7421 | test_acc: 87.2662 | time: 14.5900\n"
          ]
        },
        {
          "output_type": "stream",
          "name": "stderr",
          "text": [
            "100%|██████████| 15/15 [04:03<00:00, 16.27s/it]\n"
          ]
        },
        {
          "output_type": "stream",
          "name": "stdout",
          "text": [
            "Epoch: 15 | train_loss: 0.1264 | train_acc: 98.1771 | test_loss: 0.6729 | test_acc: 86.5221 | time: 14.3454\n",
            "Finished training model for vicgalle-gpt2-open-instruct-v1\n",
            "Training model for meta-llama-llama-2-70b-chat-hf...\n"
          ]
        },
        {
          "output_type": "stream",
          "name": "stderr",
          "text": [
            "  7%|▋         | 1/15 [00:17<03:58, 17.02s/it]"
          ]
        },
        {
          "output_type": "stream",
          "name": "stdout",
          "text": [
            "Epoch: 1 | train_loss: 0.6934 | train_acc: 50.1302 | test_loss: 0.6907 | test_acc: 48.6607 | time: 14.8429\n"
          ]
        },
        {
          "output_type": "stream",
          "name": "stderr",
          "text": [
            "\r 13%|█▎        | 2/15 [00:34<03:41, 17.05s/it]"
          ]
        },
        {
          "output_type": "stream",
          "name": "stdout",
          "text": [
            "Epoch: 2 | train_loss: 0.6929 | train_acc: 49.9349 | test_loss: 0.6881 | test_acc: 48.6607 | time: 14.9092\n"
          ]
        },
        {
          "output_type": "stream",
          "name": "stderr",
          "text": [
            "\r 20%|██        | 3/15 [00:51<03:24, 17.02s/it]"
          ]
        },
        {
          "output_type": "stream",
          "name": "stdout",
          "text": [
            "Epoch: 3 | train_loss: 0.6739 | train_acc: 54.2969 | test_loss: 0.5257 | test_acc: 69.7917 | time: 14.8181\n"
          ]
        },
        {
          "output_type": "stream",
          "name": "stderr",
          "text": [
            "\r 27%|██▋       | 4/15 [01:07<03:06, 16.96s/it]"
          ]
        },
        {
          "output_type": "stream",
          "name": "stdout",
          "text": [
            "Epoch: 4 | train_loss: 0.3676 | train_acc: 83.5938 | test_loss: 0.1625 | test_acc: 94.6429 | time: 14.6990\n"
          ]
        },
        {
          "output_type": "stream",
          "name": "stderr",
          "text": [
            "\r 33%|███▎      | 5/15 [01:24<02:49, 16.95s/it]"
          ]
        },
        {
          "output_type": "stream",
          "name": "stdout",
          "text": [
            "Epoch: 5 | train_loss: 0.1753 | train_acc: 94.4661 | test_loss: 0.1141 | test_acc: 96.1310 | time: 14.7509\n"
          ]
        },
        {
          "output_type": "stream",
          "name": "stderr",
          "text": [
            "\r 40%|████      | 6/15 [01:41<02:33, 17.01s/it]"
          ]
        },
        {
          "output_type": "stream",
          "name": "stdout",
          "text": [
            "Epoch: 6 | train_loss: 0.1331 | train_acc: 96.2240 | test_loss: 0.1626 | test_acc: 93.6012 | time: 14.9598\n"
          ]
        },
        {
          "output_type": "stream",
          "name": "stderr",
          "text": [
            "\r 47%|████▋     | 7/15 [01:58<02:15, 16.95s/it]"
          ]
        },
        {
          "output_type": "stream",
          "name": "stdout",
          "text": [
            "Epoch: 7 | train_loss: 0.1162 | train_acc: 96.6797 | test_loss: 0.1500 | test_acc: 93.8988 | time: 14.6819\n"
          ]
        },
        {
          "output_type": "stream",
          "name": "stderr",
          "text": [
            "\r 53%|█████▎    | 8/15 [02:16<01:59, 17.02s/it]"
          ]
        },
        {
          "output_type": "stream",
          "name": "stdout",
          "text": [
            "Epoch: 8 | train_loss: 0.0736 | train_acc: 98.5026 | test_loss: 0.1081 | test_acc: 95.8333 | time: 14.9845\n"
          ]
        },
        {
          "output_type": "stream",
          "name": "stderr",
          "text": [
            "\r 60%|██████    | 9/15 [02:33<01:42, 17.02s/it]"
          ]
        },
        {
          "output_type": "stream",
          "name": "stdout",
          "text": [
            "Epoch: 9 | train_loss: 0.0529 | train_acc: 98.6328 | test_loss: 0.0780 | test_acc: 97.1726 | time: 14.8765\n"
          ]
        },
        {
          "output_type": "stream",
          "name": "stderr",
          "text": [
            "\r 67%|██████▋   | 10/15 [02:50<01:25, 17.01s/it]"
          ]
        },
        {
          "output_type": "stream",
          "name": "stdout",
          "text": [
            "Epoch: 10 | train_loss: 0.0495 | train_acc: 98.8932 | test_loss: 0.2014 | test_acc: 93.7500 | time: 14.8431\n"
          ]
        },
        {
          "output_type": "stream",
          "name": "stderr",
          "text": [
            "\r 73%|███████▎  | 11/15 [03:07<01:08, 17.03s/it]"
          ]
        },
        {
          "output_type": "stream",
          "name": "stdout",
          "text": [
            "Epoch: 11 | train_loss: 0.0976 | train_acc: 98.1771 | test_loss: 0.2799 | test_acc: 96.7262 | time: 14.8686\n"
          ]
        },
        {
          "output_type": "stream",
          "name": "stderr",
          "text": [
            "\r 80%|████████  | 12/15 [03:24<00:51, 17.04s/it]"
          ]
        },
        {
          "output_type": "stream",
          "name": "stdout",
          "text": [
            "Epoch: 12 | train_loss: 0.1531 | train_acc: 98.5026 | test_loss: 0.4883 | test_acc: 94.4940 | time: 14.9144\n"
          ]
        },
        {
          "output_type": "stream",
          "name": "stderr",
          "text": [
            "\r 87%|████████▋ | 13/15 [03:41<00:34, 17.05s/it]"
          ]
        },
        {
          "output_type": "stream",
          "name": "stdout",
          "text": [
            "Epoch: 13 | train_loss: 0.1537 | train_acc: 96.4193 | test_loss: 0.4664 | test_acc: 88.4991 | time: 14.9159\n"
          ]
        },
        {
          "output_type": "stream",
          "name": "stderr",
          "text": [
            "\r 93%|█████████▎| 14/15 [03:58<00:17, 17.08s/it]"
          ]
        },
        {
          "output_type": "stream",
          "name": "stdout",
          "text": [
            "Epoch: 14 | train_loss: 0.1183 | train_acc: 94.7917 | test_loss: 0.3684 | test_acc: 92.4107 | time: 14.9745\n"
          ]
        },
        {
          "output_type": "stream",
          "name": "stderr",
          "text": [
            "100%|██████████| 15/15 [04:15<00:00, 17.01s/it]\n"
          ]
        },
        {
          "output_type": "stream",
          "name": "stdout",
          "text": [
            "Epoch: 15 | train_loss: 0.9800 | train_acc: 66.2760 | test_loss: 0.6217 | test_acc: 68.3036 | time: 14.5700\n",
            "Finished training model for meta-llama-llama-2-70b-chat-hf\n",
            "Training model for bigscience-bloomz-7b1...\n"
          ]
        },
        {
          "output_type": "stream",
          "name": "stderr",
          "text": [
            "  7%|▋         | 1/15 [00:16<03:47, 16.23s/it]"
          ]
        },
        {
          "output_type": "stream",
          "name": "stdout",
          "text": [
            "Epoch: 1 | train_loss: 0.6692 | train_acc: 50.1302 | test_loss: 0.7977 | test_acc: 51.3393 | time: 14.3564\n"
          ]
        },
        {
          "output_type": "stream",
          "name": "stderr",
          "text": [
            "\r 13%|█▎        | 2/15 [00:32<03:29, 16.12s/it]"
          ]
        },
        {
          "output_type": "stream",
          "name": "stdout",
          "text": [
            "Epoch: 2 | train_loss: 0.6568 | train_acc: 52.7344 | test_loss: 0.7779 | test_acc: 44.6641 | time: 14.1859\n"
          ]
        },
        {
          "output_type": "stream",
          "name": "stderr",
          "text": [
            "\r 20%|██        | 3/15 [00:48<03:13, 16.09s/it]"
          ]
        },
        {
          "output_type": "stream",
          "name": "stdout",
          "text": [
            "Epoch: 3 | train_loss: 0.6015 | train_acc: 67.3177 | test_loss: 1.0308 | test_acc: 50.8929 | time: 14.1630\n"
          ]
        },
        {
          "output_type": "stream",
          "name": "stderr",
          "text": [
            "\r 27%|██▋       | 4/15 [01:04<02:58, 16.18s/it]"
          ]
        },
        {
          "output_type": "stream",
          "name": "stdout",
          "text": [
            "Epoch: 4 | train_loss: 0.4547 | train_acc: 81.0547 | test_loss: 0.6791 | test_acc: 75.5102 | time: 14.4691\n"
          ]
        },
        {
          "output_type": "stream",
          "name": "stderr",
          "text": [
            "\r 33%|███▎      | 5/15 [01:20<02:42, 16.22s/it]"
          ]
        },
        {
          "output_type": "stream",
          "name": "stdout",
          "text": [
            "Epoch: 5 | train_loss: 0.2937 | train_acc: 90.1693 | test_loss: 0.6916 | test_acc: 79.6344 | time: 14.4287\n"
          ]
        },
        {
          "output_type": "stream",
          "name": "stderr",
          "text": [
            "\r 40%|████      | 6/15 [01:36<02:25, 16.17s/it]"
          ]
        },
        {
          "output_type": "stream",
          "name": "stdout",
          "text": [
            "Epoch: 6 | train_loss: 0.2364 | train_acc: 92.7734 | test_loss: 0.6532 | test_acc: 81.5689 | time: 14.1965\n"
          ]
        },
        {
          "output_type": "stream",
          "name": "stderr",
          "text": [
            "\r 47%|████▋     | 7/15 [01:53<02:09, 16.18s/it]"
          ]
        },
        {
          "output_type": "stream",
          "name": "stdout",
          "text": [
            "Epoch: 7 | train_loss: 0.2201 | train_acc: 93.2292 | test_loss: 0.6345 | test_acc: 82.5468 | time: 14.3113\n"
          ]
        },
        {
          "output_type": "stream",
          "name": "stderr",
          "text": [
            "\r 53%|█████▎    | 8/15 [02:09<01:53, 16.22s/it]"
          ]
        },
        {
          "output_type": "stream",
          "name": "stdout",
          "text": [
            "Epoch: 8 | train_loss: 0.1989 | train_acc: 93.8802 | test_loss: 0.6145 | test_acc: 84.2262 | time: 14.4481\n"
          ]
        },
        {
          "output_type": "stream",
          "name": "stderr",
          "text": [
            "\r 60%|██████    | 9/15 [02:25<01:37, 16.21s/it]"
          ]
        },
        {
          "output_type": "stream",
          "name": "stdout",
          "text": [
            "Epoch: 9 | train_loss: 0.1868 | train_acc: 95.2474 | test_loss: 0.6063 | test_acc: 84.6301 | time: 14.3292\n"
          ]
        },
        {
          "output_type": "stream",
          "name": "stderr",
          "text": [
            "\r 67%|██████▋   | 10/15 [02:41<01:21, 16.23s/it]"
          ]
        },
        {
          "output_type": "stream",
          "name": "stdout",
          "text": [
            "Epoch: 10 | train_loss: 0.1847 | train_acc: 96.1589 | test_loss: 0.6856 | test_acc: 82.3129 | time: 14.4030\n"
          ]
        },
        {
          "output_type": "stream",
          "name": "stderr",
          "text": [
            "\r 73%|███████▎  | 11/15 [02:58<01:04, 16.20s/it]"
          ]
        },
        {
          "output_type": "stream",
          "name": "stdout",
          "text": [
            "Epoch: 11 | train_loss: 0.1978 | train_acc: 95.7031 | test_loss: 0.5956 | test_acc: 84.7364 | time: 14.2635\n"
          ]
        },
        {
          "output_type": "stream",
          "name": "stderr",
          "text": [
            "\r 80%|████████  | 12/15 [03:14<00:48, 16.18s/it]"
          ]
        },
        {
          "output_type": "stream",
          "name": "stdout",
          "text": [
            "Epoch: 12 | train_loss: 0.1466 | train_acc: 96.6146 | test_loss: 0.5803 | test_acc: 85.2253 | time: 14.2810\n"
          ]
        },
        {
          "output_type": "stream",
          "name": "stderr",
          "text": [
            "\r 87%|████████▋ | 13/15 [03:30<00:32, 16.16s/it]"
          ]
        },
        {
          "output_type": "stream",
          "name": "stdout",
          "text": [
            "Epoch: 13 | train_loss: 0.1228 | train_acc: 97.4609 | test_loss: 0.5608 | test_acc: 87.0111 | time: 14.2365\n"
          ]
        },
        {
          "output_type": "stream",
          "name": "stderr",
          "text": [
            "\r 93%|█████████▎| 14/15 [03:46<00:16, 16.25s/it]"
          ]
        },
        {
          "output_type": "stream",
          "name": "stdout",
          "text": [
            "Epoch: 14 | train_loss: 0.1178 | train_acc: 98.4375 | test_loss: 0.6907 | test_acc: 84.2900 | time: 14.5855\n"
          ]
        },
        {
          "output_type": "stream",
          "name": "stderr",
          "text": [
            "100%|██████████| 15/15 [04:02<00:00, 16.20s/it]\n"
          ]
        },
        {
          "output_type": "stream",
          "name": "stdout",
          "text": [
            "Epoch: 15 | train_loss: 0.1075 | train_acc: 97.9818 | test_loss: 0.5824 | test_acc: 86.8622 | time: 14.2631\n",
            "Finished training model for bigscience-bloomz-7b1\n",
            "Training model for gpt-3.5-turbo-0125...\n"
          ]
        },
        {
          "output_type": "stream",
          "name": "stderr",
          "text": [
            "  7%|▋         | 1/15 [00:16<03:52, 16.60s/it]"
          ]
        },
        {
          "output_type": "stream",
          "name": "stdout",
          "text": [
            "Epoch: 1 | train_loss: 0.6919 | train_acc: 50.2604 | test_loss: 0.7161 | test_acc: 51.3393 | time: 14.6022\n"
          ]
        },
        {
          "output_type": "stream",
          "name": "stderr",
          "text": [
            "\r 13%|█▎        | 2/15 [00:33<03:34, 16.53s/it]"
          ]
        },
        {
          "output_type": "stream",
          "name": "stdout",
          "text": [
            "Epoch: 2 | train_loss: 0.6893 | train_acc: 53.3854 | test_loss: 0.7242 | test_acc: 48.7883 | time: 14.4855\n"
          ]
        },
        {
          "output_type": "stream",
          "name": "stderr",
          "text": [
            "\r 20%|██        | 3/15 [00:49<03:19, 16.59s/it]"
          ]
        },
        {
          "output_type": "stream",
          "name": "stdout",
          "text": [
            "Epoch: 3 | train_loss: 0.6893 | train_acc: 66.6667 | test_loss: 0.7234 | test_acc: 42.8784 | time: 14.6822\n"
          ]
        },
        {
          "output_type": "stream",
          "name": "stderr",
          "text": [
            "\r 27%|██▋       | 4/15 [01:06<03:01, 16.52s/it]"
          ]
        },
        {
          "output_type": "stream",
          "name": "stdout",
          "text": [
            "Epoch: 4 | train_loss: 0.5191 | train_acc: 79.3620 | test_loss: 0.7371 | test_acc: 79.9957 | time: 14.3946\n"
          ]
        },
        {
          "output_type": "stream",
          "name": "stderr",
          "text": [
            "\r 33%|███▎      | 5/15 [01:22<02:44, 16.46s/it]"
          ]
        },
        {
          "output_type": "stream",
          "name": "stdout",
          "text": [
            "Epoch: 5 | train_loss: 0.3934 | train_acc: 86.7839 | test_loss: 0.5457 | test_acc: 82.5680 | time: 14.3859\n"
          ]
        },
        {
          "output_type": "stream",
          "name": "stderr",
          "text": [
            "\r 40%|████      | 6/15 [01:38<02:28, 16.45s/it]"
          ]
        },
        {
          "output_type": "stream",
          "name": "stdout",
          "text": [
            "Epoch: 6 | train_loss: 0.2573 | train_acc: 94.4010 | test_loss: 0.5525 | test_acc: 88.6480 | time: 14.4267\n"
          ]
        },
        {
          "output_type": "stream",
          "name": "stderr",
          "text": [
            "\r 47%|████▋     | 7/15 [01:55<02:11, 16.49s/it]"
          ]
        },
        {
          "output_type": "stream",
          "name": "stdout",
          "text": [
            "Epoch: 7 | train_loss: 0.1929 | train_acc: 96.0286 | test_loss: 0.5503 | test_acc: 85.4379 | time: 14.5755\n"
          ]
        },
        {
          "output_type": "stream",
          "name": "stderr",
          "text": [
            "\r 53%|█████▎    | 8/15 [02:11<01:55, 16.46s/it]"
          ]
        },
        {
          "output_type": "stream",
          "name": "stdout",
          "text": [
            "Epoch: 8 | train_loss: 0.1717 | train_acc: 96.5495 | test_loss: 0.5186 | test_acc: 87.5638 | time: 14.3950\n"
          ]
        },
        {
          "output_type": "stream",
          "name": "stderr",
          "text": [
            "\r 60%|██████    | 9/15 [02:28<01:38, 16.42s/it]"
          ]
        },
        {
          "output_type": "stream",
          "name": "stdout",
          "text": [
            "Epoch: 9 | train_loss: 0.1702 | train_acc: 96.7448 | test_loss: 0.4634 | test_acc: 90.9226 | time: 14.3707\n"
          ]
        },
        {
          "output_type": "stream",
          "name": "stderr",
          "text": [
            "\r 67%|██████▋   | 10/15 [02:44<01:22, 16.48s/it]"
          ]
        },
        {
          "output_type": "stream",
          "name": "stdout",
          "text": [
            "Epoch: 10 | train_loss: 0.1301 | train_acc: 98.1120 | test_loss: 0.4644 | test_acc: 92.1131 | time: 14.6093\n"
          ]
        },
        {
          "output_type": "stream",
          "name": "stderr",
          "text": [
            "\r 73%|███████▎  | 11/15 [03:01<01:06, 16.56s/it]"
          ]
        },
        {
          "output_type": "stream",
          "name": "stdout",
          "text": [
            "Epoch: 11 | train_loss: 0.1154 | train_acc: 98.5026 | test_loss: 0.5408 | test_acc: 89.8810 | time: 14.7704\n"
          ]
        },
        {
          "output_type": "stream",
          "name": "stderr",
          "text": [
            "\r 80%|████████  | 12/15 [03:18<00:49, 16.55s/it]"
          ]
        },
        {
          "output_type": "stream",
          "name": "stdout",
          "text": [
            "Epoch: 12 | train_loss: 0.1657 | train_acc: 97.2005 | test_loss: 0.4761 | test_acc: 91.3265 | time: 14.5026\n"
          ]
        },
        {
          "output_type": "stream",
          "name": "stderr",
          "text": [
            "\r 87%|████████▋ | 13/15 [03:34<00:32, 16.49s/it]"
          ]
        },
        {
          "output_type": "stream",
          "name": "stdout",
          "text": [
            "Epoch: 13 | train_loss: 0.1406 | train_acc: 98.2422 | test_loss: 0.4840 | test_acc: 90.3274 | time: 14.3863\n"
          ]
        },
        {
          "output_type": "stream",
          "name": "stderr",
          "text": [
            "\r 93%|█████████▎| 14/15 [03:51<00:16, 16.52s/it]"
          ]
        },
        {
          "output_type": "stream",
          "name": "stdout",
          "text": [
            "Epoch: 14 | train_loss: 0.0961 | train_acc: 97.9167 | test_loss: 0.4994 | test_acc: 92.2619 | time: 14.5456\n"
          ]
        },
        {
          "output_type": "stream",
          "name": "stderr",
          "text": [
            "100%|██████████| 15/15 [04:07<00:00, 16.51s/it]\n"
          ]
        },
        {
          "output_type": "stream",
          "name": "stdout",
          "text": [
            "Epoch: 15 | train_loss: 0.1284 | train_acc: 98.4375 | test_loss: 0.4596 | test_acc: 92.4107 | time: 14.5498\n",
            "Finished training model for gpt-3.5-turbo-0125\n",
            "Training model for gpt-4-turbo-preview...\n"
          ]
        },
        {
          "output_type": "stream",
          "name": "stderr",
          "text": [
            "  7%|▋         | 1/15 [00:17<04:04, 17.44s/it]"
          ]
        },
        {
          "output_type": "stream",
          "name": "stdout",
          "text": [
            "Epoch: 1 | train_loss: 0.6932 | train_acc: 49.9349 | test_loss: 0.6851 | test_acc: 48.6607 | time: 15.2351\n"
          ]
        },
        {
          "output_type": "stream",
          "name": "stderr",
          "text": [
            "\r 13%|█▎        | 2/15 [00:34<03:46, 17.40s/it]"
          ]
        },
        {
          "output_type": "stream",
          "name": "stdout",
          "text": [
            "Epoch: 2 | train_loss: 0.6868 | train_acc: 52.1484 | test_loss: 0.6159 | test_acc: 71.2372 | time: 15.1618\n"
          ]
        },
        {
          "output_type": "stream",
          "name": "stderr",
          "text": [
            "\r 20%|██        | 3/15 [00:52<03:27, 17.32s/it]"
          ]
        },
        {
          "output_type": "stream",
          "name": "stdout",
          "text": [
            "Epoch: 3 | train_loss: 0.4620 | train_acc: 78.9062 | test_loss: 0.3218 | test_acc: 85.7355 | time: 14.9904\n"
          ]
        },
        {
          "output_type": "stream",
          "name": "stderr",
          "text": [
            "\r 27%|██▋       | 4/15 [01:09<03:09, 17.27s/it]"
          ]
        },
        {
          "output_type": "stream",
          "name": "stdout",
          "text": [
            "Epoch: 4 | train_loss: 0.1807 | train_acc: 93.4896 | test_loss: 0.1425 | test_acc: 94.6003 | time: 14.9578\n"
          ]
        },
        {
          "output_type": "stream",
          "name": "stderr",
          "text": [
            "\r 33%|███▎      | 5/15 [01:26<02:52, 17.26s/it]"
          ]
        },
        {
          "output_type": "stream",
          "name": "stdout",
          "text": [
            "Epoch: 5 | train_loss: 0.1101 | train_acc: 97.0052 | test_loss: 0.1211 | test_acc: 95.0468 | time: 15.0400\n"
          ]
        },
        {
          "output_type": "stream",
          "name": "stderr",
          "text": [
            "\r 40%|████      | 6/15 [01:43<02:35, 17.33s/it]"
          ]
        },
        {
          "output_type": "stream",
          "name": "stdout",
          "text": [
            "Epoch: 6 | train_loss: 0.1078 | train_acc: 96.8099 | test_loss: 0.0818 | test_acc: 97.1301 | time: 15.2684\n"
          ]
        },
        {
          "output_type": "stream",
          "name": "stderr",
          "text": [
            "\r 47%|████▋     | 7/15 [02:01<02:18, 17.35s/it]"
          ]
        },
        {
          "output_type": "stream",
          "name": "stdout",
          "text": [
            "Epoch: 7 | train_loss: 0.0598 | train_acc: 98.7630 | test_loss: 0.0542 | test_acc: 99.1071 | time: 15.1676\n"
          ]
        },
        {
          "output_type": "stream",
          "name": "stderr",
          "text": [
            "\r 53%|█████▎    | 8/15 [02:18<02:01, 17.30s/it]"
          ]
        },
        {
          "output_type": "stream",
          "name": "stdout",
          "text": [
            "Epoch: 8 | train_loss: 0.0484 | train_acc: 99.2188 | test_loss: 0.0573 | test_acc: 98.3631 | time: 14.9809\n"
          ]
        },
        {
          "output_type": "stream",
          "name": "stderr",
          "text": [
            "\r 60%|██████    | 9/15 [02:35<01:43, 17.33s/it]"
          ]
        },
        {
          "output_type": "stream",
          "name": "stdout",
          "text": [
            "Epoch: 9 | train_loss: 0.0419 | train_acc: 98.6979 | test_loss: 0.0642 | test_acc: 97.9167 | time: 15.1814\n"
          ]
        },
        {
          "output_type": "stream",
          "name": "stderr",
          "text": [
            "\r 67%|██████▋   | 10/15 [02:53<01:26, 17.37s/it]"
          ]
        },
        {
          "output_type": "stream",
          "name": "stdout",
          "text": [
            "Epoch: 10 | train_loss: 0.0557 | train_acc: 98.5677 | test_loss: 0.0316 | test_acc: 99.7024 | time: 15.2420\n"
          ]
        },
        {
          "output_type": "stream",
          "name": "stderr",
          "text": [
            "\r 73%|███████▎  | 11/15 [03:10<01:09, 17.27s/it]"
          ]
        },
        {
          "output_type": "stream",
          "name": "stdout",
          "text": [
            "Epoch: 11 | train_loss: 0.0336 | train_acc: 99.2188 | test_loss: 0.0372 | test_acc: 98.9583 | time: 14.8589\n"
          ]
        },
        {
          "output_type": "stream",
          "name": "stderr",
          "text": [
            "\r 80%|████████  | 12/15 [03:27<00:51, 17.27s/it]"
          ]
        },
        {
          "output_type": "stream",
          "name": "stdout",
          "text": [
            "Epoch: 12 | train_loss: 0.0209 | train_acc: 99.8047 | test_loss: 0.0472 | test_acc: 98.5119 | time: 15.0701\n"
          ]
        },
        {
          "output_type": "stream",
          "name": "stderr",
          "text": [
            "\r 87%|████████▋ | 13/15 [03:45<00:34, 17.31s/it]"
          ]
        },
        {
          "output_type": "stream",
          "name": "stdout",
          "text": [
            "Epoch: 13 | train_loss: 0.0202 | train_acc: 99.6745 | test_loss: 0.0369 | test_acc: 98.9583 | time: 15.1862\n"
          ]
        },
        {
          "output_type": "stream",
          "name": "stderr",
          "text": [
            "\r 93%|█████████▎| 14/15 [04:02<00:17, 17.34s/it]"
          ]
        },
        {
          "output_type": "stream",
          "name": "stdout",
          "text": [
            "Epoch: 14 | train_loss: 0.0177 | train_acc: 99.7396 | test_loss: 0.0386 | test_acc: 99.1071 | time: 15.1810\n"
          ]
        },
        {
          "output_type": "stream",
          "name": "stderr",
          "text": [
            "100%|██████████| 15/15 [04:19<00:00, 17.33s/it]\n"
          ]
        },
        {
          "output_type": "stream",
          "name": "stdout",
          "text": [
            "Epoch: 15 | train_loss: 0.0159 | train_acc: 99.6094 | test_loss: 0.0459 | test_acc: 98.6607 | time: 15.2021\n",
            "Finished training model for gpt-4-turbo-preview\n",
            "Training model for meta-llama-llama-2-7b-chat-hf...\n"
          ]
        },
        {
          "output_type": "stream",
          "name": "stderr",
          "text": [
            "  7%|▋         | 1/15 [00:16<03:52, 16.60s/it]"
          ]
        },
        {
          "output_type": "stream",
          "name": "stdout",
          "text": [
            "Epoch: 1 | train_loss: 0.6936 | train_acc: 50.2604 | test_loss: 0.7017 | test_acc: 51.2968 | time: 14.4131\n"
          ]
        },
        {
          "output_type": "stream",
          "name": "stderr",
          "text": [
            "\r 13%|█▎        | 2/15 [00:33<03:36, 16.67s/it]"
          ]
        },
        {
          "output_type": "stream",
          "name": "stdout",
          "text": [
            "Epoch: 2 | train_loss: 0.6930 | train_acc: 54.2969 | test_loss: 0.7003 | test_acc: 51.8920 | time: 14.5290\n"
          ]
        },
        {
          "output_type": "stream",
          "name": "stderr",
          "text": [
            "\r 20%|██        | 3/15 [00:50<03:20, 16.71s/it]"
          ]
        },
        {
          "output_type": "stream",
          "name": "stdout",
          "text": [
            "Epoch: 3 | train_loss: 0.6932 | train_acc: 52.1484 | test_loss: 0.7034 | test_acc: 51.3393 | time: 14.5847\n"
          ]
        },
        {
          "output_type": "stream",
          "name": "stderr",
          "text": [
            "\r 27%|██▋       | 4/15 [01:06<03:04, 16.75s/it]"
          ]
        },
        {
          "output_type": "stream",
          "name": "stdout",
          "text": [
            "Epoch: 4 | train_loss: 0.6927 | train_acc: 51.1068 | test_loss: 0.7010 | test_acc: 52.3384 | time: 14.6085\n"
          ]
        },
        {
          "output_type": "stream",
          "name": "stderr",
          "text": [
            "\r 33%|███▎      | 5/15 [01:23<02:47, 16.75s/it]"
          ]
        },
        {
          "output_type": "stream",
          "name": "stdout",
          "text": [
            "Epoch: 5 | train_loss: 0.6717 | train_acc: 58.6589 | test_loss: 0.5879 | test_acc: 66.7730 | time: 14.5859\n"
          ]
        },
        {
          "output_type": "stream",
          "name": "stderr",
          "text": [
            "\r 40%|████      | 6/15 [01:40<02:30, 16.74s/it]"
          ]
        },
        {
          "output_type": "stream",
          "name": "stdout",
          "text": [
            "Epoch: 6 | train_loss: 0.4189 | train_acc: 88.4115 | test_loss: 0.4903 | test_acc: 87.6488 | time: 14.5462\n"
          ]
        },
        {
          "output_type": "stream",
          "name": "stderr",
          "text": [
            "\r 47%|████▋     | 7/15 [01:57<02:14, 16.78s/it]"
          ]
        },
        {
          "output_type": "stream",
          "name": "stdout",
          "text": [
            "Epoch: 7 | train_loss: 0.2620 | train_acc: 93.0990 | test_loss: 0.5585 | test_acc: 81.5689 | time: 14.7058\n"
          ]
        },
        {
          "output_type": "stream",
          "name": "stderr",
          "text": [
            "\r 53%|█████▎    | 8/15 [02:14<01:58, 16.92s/it]"
          ]
        },
        {
          "output_type": "stream",
          "name": "stdout",
          "text": [
            "Epoch: 8 | train_loss: 0.2259 | train_acc: 94.0104 | test_loss: 0.7306 | test_acc: 82.8444 | time: 15.0157\n"
          ]
        },
        {
          "output_type": "stream",
          "name": "stderr",
          "text": [
            "\r 60%|██████    | 9/15 [02:31<01:41, 16.87s/it]"
          ]
        },
        {
          "output_type": "stream",
          "name": "stdout",
          "text": [
            "Epoch: 9 | train_loss: 0.2120 | train_acc: 94.2708 | test_loss: 0.5434 | test_acc: 87.2662 | time: 14.6113\n"
          ]
        },
        {
          "output_type": "stream",
          "name": "stderr",
          "text": [
            "\r 67%|██████▋   | 10/15 [02:48<01:24, 16.89s/it]"
          ]
        },
        {
          "output_type": "stream",
          "name": "stdout",
          "text": [
            "Epoch: 10 | train_loss: 0.2161 | train_acc: 94.1406 | test_loss: 0.4946 | test_acc: 87.3724 | time: 14.7731\n"
          ]
        },
        {
          "output_type": "stream",
          "name": "stderr",
          "text": [
            "\r 73%|███████▎  | 11/15 [03:04<01:07, 16.86s/it]"
          ]
        },
        {
          "output_type": "stream",
          "name": "stdout",
          "text": [
            "Epoch: 11 | train_loss: 0.1590 | train_acc: 96.3542 | test_loss: 0.7014 | test_acc: 88.9031 | time: 14.5843\n"
          ]
        },
        {
          "output_type": "stream",
          "name": "stderr",
          "text": [
            "\r 80%|████████  | 12/15 [03:21<00:50, 16.85s/it]"
          ]
        },
        {
          "output_type": "stream",
          "name": "stdout",
          "text": [
            "Epoch: 12 | train_loss: 0.1578 | train_acc: 96.9401 | test_loss: 0.8106 | test_acc: 87.4150 | time: 14.6748\n"
          ]
        },
        {
          "output_type": "stream",
          "name": "stderr",
          "text": [
            "\r 87%|████████▋ | 13/15 [03:38<00:33, 16.84s/it]"
          ]
        },
        {
          "output_type": "stream",
          "name": "stdout",
          "text": [
            "Epoch: 13 | train_loss: 0.1644 | train_acc: 96.5495 | test_loss: 0.6570 | test_acc: 89.1369 | time: 14.6532\n"
          ]
        },
        {
          "output_type": "stream",
          "name": "stderr",
          "text": [
            "\r 93%|█████████▎| 14/15 [03:55<00:16, 16.75s/it]"
          ]
        },
        {
          "output_type": "stream",
          "name": "stdout",
          "text": [
            "Epoch: 14 | train_loss: 0.2020 | train_acc: 96.7448 | test_loss: 0.5496 | test_acc: 92.0281 | time: 14.3429\n"
          ]
        },
        {
          "output_type": "stream",
          "name": "stderr",
          "text": [
            "100%|██████████| 15/15 [04:11<00:00, 16.77s/it]\n"
          ]
        },
        {
          "output_type": "stream",
          "name": "stdout",
          "text": [
            "Epoch: 15 | train_loss: 0.1428 | train_acc: 97.3958 | test_loss: 0.6013 | test_acc: 92.2194 | time: 14.3229\n",
            "Finished training model for meta-llama-llama-2-7b-chat-hf\n",
            "Training model for mistralai-mixtral-8x7b-instruct-v0.1...\n"
          ]
        },
        {
          "output_type": "stream",
          "name": "stderr",
          "text": [
            "  7%|▋         | 1/15 [00:17<04:04, 17.43s/it]"
          ]
        },
        {
          "output_type": "stream",
          "name": "stdout",
          "text": [
            "Epoch: 1 | train_loss: 0.6934 | train_acc: 49.6094 | test_loss: 0.6846 | test_acc: 48.6607 | time: 15.1411\n"
          ]
        },
        {
          "output_type": "stream",
          "name": "stderr",
          "text": [
            "\r 13%|█▎        | 2/15 [00:35<03:48, 17.56s/it]"
          ]
        },
        {
          "output_type": "stream",
          "name": "stdout",
          "text": [
            "Epoch: 2 | train_loss: 0.6883 | train_acc: 51.4323 | test_loss: 0.6546 | test_acc: 69.7917 | time: 15.3490\n"
          ]
        },
        {
          "output_type": "stream",
          "name": "stderr",
          "text": [
            "\r 20%|██        | 3/15 [00:52<03:31, 17.61s/it]"
          ]
        },
        {
          "output_type": "stream",
          "name": "stdout",
          "text": [
            "Epoch: 3 | train_loss: 0.6136 | train_acc: 66.1458 | test_loss: 0.3914 | test_acc: 86.3095 | time: 15.3852\n"
          ]
        },
        {
          "output_type": "stream",
          "name": "stderr",
          "text": [
            "\r 27%|██▋       | 4/15 [01:10<03:14, 17.65s/it]"
          ]
        },
        {
          "output_type": "stream",
          "name": "stdout",
          "text": [
            "Epoch: 4 | train_loss: 0.3613 | train_acc: 86.2630 | test_loss: 0.2611 | test_acc: 90.9226 | time: 15.4335\n"
          ]
        },
        {
          "output_type": "stream",
          "name": "stderr",
          "text": [
            "\r 33%|███▎      | 5/15 [01:27<02:55, 17.59s/it]"
          ]
        },
        {
          "output_type": "stream",
          "name": "stdout",
          "text": [
            "Epoch: 5 | train_loss: 0.2738 | train_acc: 89.5182 | test_loss: 0.2112 | test_acc: 92.8571 | time: 15.1780\n"
          ]
        },
        {
          "output_type": "stream",
          "name": "stderr",
          "text": [
            "\r 40%|████      | 6/15 [01:45<02:38, 17.58s/it]"
          ]
        },
        {
          "output_type": "stream",
          "name": "stdout",
          "text": [
            "Epoch: 6 | train_loss: 0.2028 | train_acc: 94.8568 | test_loss: 0.2398 | test_acc: 90.8376 | time: 15.2647\n"
          ]
        },
        {
          "output_type": "stream",
          "name": "stderr",
          "text": [
            "\r 47%|████▋     | 7/15 [02:03<02:20, 17.58s/it]"
          ]
        },
        {
          "output_type": "stream",
          "name": "stdout",
          "text": [
            "Epoch: 7 | train_loss: 0.1807 | train_acc: 95.1172 | test_loss: 0.2023 | test_acc: 91.5179 | time: 15.3044\n"
          ]
        },
        {
          "output_type": "stream",
          "name": "stderr",
          "text": [
            "\r 53%|█████▎    | 8/15 [02:20<02:03, 17.58s/it]"
          ]
        },
        {
          "output_type": "stream",
          "name": "stdout",
          "text": [
            "Epoch: 8 | train_loss: 0.1586 | train_acc: 94.9870 | test_loss: 0.2048 | test_acc: 92.9634 | time: 15.2796\n"
          ]
        },
        {
          "output_type": "stream",
          "name": "stderr",
          "text": [
            "\r 60%|██████    | 9/15 [02:38<01:45, 17.63s/it]"
          ]
        },
        {
          "output_type": "stream",
          "name": "stdout",
          "text": [
            "Epoch: 9 | train_loss: 0.1209 | train_acc: 96.8099 | test_loss: 0.1852 | test_acc: 93.7075 | time: 15.4324\n"
          ]
        },
        {
          "output_type": "stream",
          "name": "stderr",
          "text": [
            "\r 67%|██████▋   | 10/15 [02:55<01:27, 17.58s/it]"
          ]
        },
        {
          "output_type": "stream",
          "name": "stdout",
          "text": [
            "Epoch: 10 | train_loss: 0.1332 | train_acc: 96.4844 | test_loss: 0.2101 | test_acc: 90.9226 | time: 15.2016\n"
          ]
        },
        {
          "output_type": "stream",
          "name": "stderr",
          "text": [
            "\r 73%|███████▎  | 11/15 [03:13<01:10, 17.61s/it]"
          ]
        },
        {
          "output_type": "stream",
          "name": "stdout",
          "text": [
            "Epoch: 11 | train_loss: 0.0870 | train_acc: 97.7214 | test_loss: 0.1593 | test_acc: 94.3452 | time: 15.3335\n"
          ]
        },
        {
          "output_type": "stream",
          "name": "stderr",
          "text": [
            "\r 80%|████████  | 12/15 [03:31<00:52, 17.59s/it]"
          ]
        },
        {
          "output_type": "stream",
          "name": "stdout",
          "text": [
            "Epoch: 12 | train_loss: 0.0697 | train_acc: 98.2422 | test_loss: 0.1761 | test_acc: 94.4515 | time: 15.2718\n"
          ]
        },
        {
          "output_type": "stream",
          "name": "stderr",
          "text": [
            "\r 87%|████████▋ | 13/15 [03:48<00:35, 17.61s/it]"
          ]
        },
        {
          "output_type": "stream",
          "name": "stdout",
          "text": [
            "Epoch: 13 | train_loss: 0.0643 | train_acc: 98.1120 | test_loss: 0.1825 | test_acc: 94.8980 | time: 15.3869\n"
          ]
        },
        {
          "output_type": "stream",
          "name": "stderr",
          "text": [
            "\r 93%|█████████▎| 14/15 [04:06<00:17, 17.64s/it]"
          ]
        },
        {
          "output_type": "stream",
          "name": "stdout",
          "text": [
            "Epoch: 14 | train_loss: 0.0496 | train_acc: 98.5677 | test_loss: 0.1837 | test_acc: 94.3027 | time: 15.3788\n"
          ]
        },
        {
          "output_type": "stream",
          "name": "stderr",
          "text": [
            "100%|██████████| 15/15 [04:23<00:00, 17.60s/it]\n"
          ]
        },
        {
          "output_type": "stream",
          "name": "stdout",
          "text": [
            "Epoch: 15 | train_loss: 0.0475 | train_acc: 98.6328 | test_loss: 0.2114 | test_acc: 93.0697 | time: 15.2034\n",
            "Finished training model for mistralai-mixtral-8x7b-instruct-v0.1\n",
            "Training model for mistralai-mistral-7b-instruct-v0.2...\n"
          ]
        },
        {
          "output_type": "stream",
          "name": "stderr",
          "text": [
            "  7%|▋         | 1/15 [00:17<04:09, 17.82s/it]"
          ]
        },
        {
          "output_type": "stream",
          "name": "stdout",
          "text": [
            "Epoch: 1 | train_loss: 0.6898 | train_acc: 49.0234 | test_loss: 0.6785 | test_acc: 50.3827 | time: 15.4659\n"
          ]
        },
        {
          "output_type": "stream",
          "name": "stderr",
          "text": [
            "\r 13%|█▎        | 2/15 [00:35<03:53, 17.99s/it]"
          ]
        },
        {
          "output_type": "stream",
          "name": "stdout",
          "text": [
            "Epoch: 2 | train_loss: 0.6826 | train_acc: 54.4271 | test_loss: 0.6606 | test_acc: 69.2602 | time: 15.6490\n"
          ]
        },
        {
          "output_type": "stream",
          "name": "stderr",
          "text": [
            "\r 20%|██        | 3/15 [00:53<03:35, 17.99s/it]"
          ]
        },
        {
          "output_type": "stream",
          "name": "stdout",
          "text": [
            "Epoch: 3 | train_loss: 0.6062 | train_acc: 66.9271 | test_loss: 0.5329 | test_acc: 69.6003 | time: 15.6416\n"
          ]
        },
        {
          "output_type": "stream",
          "name": "stderr",
          "text": [
            "\r 27%|██▋       | 4/15 [01:11<03:17, 17.93s/it]"
          ]
        },
        {
          "output_type": "stream",
          "name": "stdout",
          "text": [
            "Epoch: 4 | train_loss: 0.3795 | train_acc: 82.7474 | test_loss: 0.2565 | test_acc: 90.7738 | time: 15.4845\n"
          ]
        },
        {
          "output_type": "stream",
          "name": "stderr",
          "text": [
            "\r 33%|███▎      | 5/15 [01:29<02:59, 17.95s/it]"
          ]
        },
        {
          "output_type": "stream",
          "name": "stdout",
          "text": [
            "Epoch: 5 | train_loss: 0.2414 | train_acc: 90.6250 | test_loss: 0.2173 | test_acc: 92.5595 | time: 15.6045\n"
          ]
        },
        {
          "output_type": "stream",
          "name": "stderr",
          "text": [
            "\r 40%|████      | 6/15 [01:47<02:40, 17.87s/it]"
          ]
        },
        {
          "output_type": "stream",
          "name": "stdout",
          "text": [
            "Epoch: 6 | train_loss: 0.2705 | train_acc: 90.1693 | test_loss: 0.1970 | test_acc: 92.9634 | time: 15.3676\n"
          ]
        },
        {
          "output_type": "stream",
          "name": "stderr",
          "text": [
            "\r 47%|████▋     | 7/15 [02:05<02:22, 17.85s/it]"
          ]
        },
        {
          "output_type": "stream",
          "name": "stdout",
          "text": [
            "Epoch: 7 | train_loss: 0.1818 | train_acc: 93.6849 | test_loss: 0.1886 | test_acc: 93.3036 | time: 15.4289\n"
          ]
        },
        {
          "output_type": "stream",
          "name": "stderr",
          "text": [
            "\r 53%|█████▎    | 8/15 [02:23<02:05, 17.90s/it]"
          ]
        },
        {
          "output_type": "stream",
          "name": "stdout",
          "text": [
            "Epoch: 8 | train_loss: 0.1534 | train_acc: 94.8568 | test_loss: 0.2897 | test_acc: 89.2857 | time: 15.6507\n"
          ]
        },
        {
          "output_type": "stream",
          "name": "stderr",
          "text": [
            "\r 60%|██████    | 9/15 [02:41<01:47, 17.93s/it]"
          ]
        },
        {
          "output_type": "stream",
          "name": "stdout",
          "text": [
            "Epoch: 9 | train_loss: 0.1454 | train_acc: 94.8568 | test_loss: 0.1766 | test_acc: 93.6012 | time: 15.6428\n"
          ]
        },
        {
          "output_type": "stream",
          "name": "stderr",
          "text": [
            "\r 67%|██████▋   | 10/15 [02:59<01:29, 18.00s/it]"
          ]
        },
        {
          "output_type": "stream",
          "name": "stdout",
          "text": [
            "Epoch: 10 | train_loss: 0.1144 | train_acc: 96.6146 | test_loss: 0.2231 | test_acc: 92.1769 | time: 15.7791\n"
          ]
        },
        {
          "output_type": "stream",
          "name": "stderr",
          "text": [
            "\r 73%|███████▎  | 11/15 [03:17<01:12, 18.04s/it]"
          ]
        },
        {
          "output_type": "stream",
          "name": "stdout",
          "text": [
            "Epoch: 11 | train_loss: 0.1140 | train_acc: 96.0938 | test_loss: 0.1760 | test_acc: 93.1548 | time: 15.7914\n"
          ]
        },
        {
          "output_type": "stream",
          "name": "stderr",
          "text": [
            "\r 80%|████████  | 12/15 [03:35<00:53, 17.97s/it]"
          ]
        },
        {
          "output_type": "stream",
          "name": "stdout",
          "text": [
            "Epoch: 12 | train_loss: 0.1110 | train_acc: 96.6797 | test_loss: 0.4880 | test_acc: 86.9685 | time: 15.4425\n"
          ]
        },
        {
          "output_type": "stream",
          "name": "stderr",
          "text": [
            "\r 87%|████████▋ | 13/15 [03:53<00:35, 17.99s/it]"
          ]
        },
        {
          "output_type": "stream",
          "name": "stdout",
          "text": [
            "Epoch: 13 | train_loss: 0.1724 | train_acc: 94.2708 | test_loss: 0.1755 | test_acc: 94.0476 | time: 15.7016\n"
          ]
        },
        {
          "output_type": "stream",
          "name": "stderr",
          "text": [
            "\r 93%|█████████▎| 14/15 [04:11<00:17, 17.89s/it]"
          ]
        },
        {
          "output_type": "stream",
          "name": "stdout",
          "text": [
            "Epoch: 14 | train_loss: 0.1091 | train_acc: 97.1354 | test_loss: 0.2000 | test_acc: 93.7500 | time: 15.3105\n"
          ]
        },
        {
          "output_type": "stream",
          "name": "stderr",
          "text": [
            "100%|██████████| 15/15 [04:29<00:00, 17.95s/it]\n"
          ]
        },
        {
          "output_type": "stream",
          "name": "stdout",
          "text": [
            "Epoch: 15 | train_loss: 0.0857 | train_acc: 97.0703 | test_loss: 0.1951 | test_acc: 92.7721 | time: 15.7776\n",
            "Finished training model for mistralai-mistral-7b-instruct-v0.2\n",
            "Training model for alpaca-7b...\n"
          ]
        },
        {
          "output_type": "stream",
          "name": "stderr",
          "text": [
            "  7%|▋         | 1/15 [00:15<03:43, 15.99s/it]"
          ]
        },
        {
          "output_type": "stream",
          "name": "stdout",
          "text": [
            "Epoch: 1 | train_loss: 0.5743 | train_acc: 48.2422 | test_loss: 0.7250 | test_acc: 51.3393 | time: 14.2319\n"
          ]
        },
        {
          "output_type": "stream",
          "name": "stderr",
          "text": [
            "\r 13%|█▎        | 2/15 [00:32<03:28, 16.04s/it]"
          ]
        },
        {
          "output_type": "stream",
          "name": "stdout",
          "text": [
            "Epoch: 2 | train_loss: 0.4767 | train_acc: 66.4062 | test_loss: 0.7669 | test_acc: 56.7815 | time: 14.3082\n"
          ]
        },
        {
          "output_type": "stream",
          "name": "stderr",
          "text": [
            "\r 20%|██        | 3/15 [00:48<03:12, 16.06s/it]"
          ]
        },
        {
          "output_type": "stream",
          "name": "stdout",
          "text": [
            "Epoch: 3 | train_loss: 0.2678 | train_acc: 92.3177 | test_loss: 0.7847 | test_acc: 77.5510 | time: 14.3170\n"
          ]
        },
        {
          "output_type": "stream",
          "name": "stderr",
          "text": [
            "\r 27%|██▋       | 4/15 [01:04<02:57, 16.14s/it]"
          ]
        },
        {
          "output_type": "stream",
          "name": "stdout",
          "text": [
            "Epoch: 4 | train_loss: 0.2570 | train_acc: 93.3594 | test_loss: 0.7679 | test_acc: 71.3223 | time: 14.4905\n"
          ]
        },
        {
          "output_type": "stream",
          "name": "stderr",
          "text": [
            "\r 33%|███▎      | 5/15 [01:20<02:41, 16.12s/it]"
          ]
        },
        {
          "output_type": "stream",
          "name": "stdout",
          "text": [
            "Epoch: 5 | train_loss: 0.2268 | train_acc: 94.2057 | test_loss: 0.5741 | test_acc: 85.8206 | time: 14.3238\n"
          ]
        },
        {
          "output_type": "stream",
          "name": "stderr",
          "text": [
            "\r 40%|████      | 6/15 [01:36<02:24, 16.05s/it]"
          ]
        },
        {
          "output_type": "stream",
          "name": "stdout",
          "text": [
            "Epoch: 6 | train_loss: 0.1764 | train_acc: 96.0286 | test_loss: 0.7112 | test_acc: 76.6156 | time: 14.1388\n"
          ]
        },
        {
          "output_type": "stream",
          "name": "stderr",
          "text": [
            "\r 47%|████▋     | 7/15 [01:52<02:08, 16.12s/it]"
          ]
        },
        {
          "output_type": "stream",
          "name": "stdout",
          "text": [
            "Epoch: 7 | train_loss: 0.1341 | train_acc: 97.0052 | test_loss: 0.5101 | test_acc: 87.7126 | time: 14.5232\n"
          ]
        },
        {
          "output_type": "stream",
          "name": "stderr",
          "text": [
            "\r 53%|█████▎    | 8/15 [02:08<01:52, 16.09s/it]"
          ]
        },
        {
          "output_type": "stream",
          "name": "stdout",
          "text": [
            "Epoch: 8 | train_loss: 0.1303 | train_acc: 97.9818 | test_loss: 0.4759 | test_acc: 88.4566 | time: 14.2486\n"
          ]
        },
        {
          "output_type": "stream",
          "name": "stderr",
          "text": [
            "\r 60%|██████    | 9/15 [02:24<01:36, 16.04s/it]"
          ]
        },
        {
          "output_type": "stream",
          "name": "stdout",
          "text": [
            "Epoch: 9 | train_loss: 0.0958 | train_acc: 98.5677 | test_loss: 0.4343 | test_acc: 90.5825 | time: 14.1307\n"
          ]
        },
        {
          "output_type": "stream",
          "name": "stderr",
          "text": [
            "\r 67%|██████▋   | 10/15 [02:40<01:19, 15.97s/it]"
          ]
        },
        {
          "output_type": "stream",
          "name": "stdout",
          "text": [
            "Epoch: 10 | train_loss: 0.0945 | train_acc: 98.6979 | test_loss: 0.4282 | test_acc: 91.3265 | time: 14.0659\n"
          ]
        },
        {
          "output_type": "stream",
          "name": "stderr",
          "text": [
            "\r 73%|███████▎  | 11/15 [02:56<01:03, 16.00s/it]"
          ]
        },
        {
          "output_type": "stream",
          "name": "stdout",
          "text": [
            "Epoch: 11 | train_loss: 0.0794 | train_acc: 99.4141 | test_loss: 0.4412 | test_acc: 90.1361 | time: 14.2994\n"
          ]
        },
        {
          "output_type": "stream",
          "name": "stderr",
          "text": [
            "\r 80%|████████  | 12/15 [03:12<00:47, 15.95s/it]"
          ]
        },
        {
          "output_type": "stream",
          "name": "stdout",
          "text": [
            "Epoch: 12 | train_loss: 0.0724 | train_acc: 99.4141 | test_loss: 0.4800 | test_acc: 88.3503 | time: 14.0780\n"
          ]
        },
        {
          "output_type": "stream",
          "name": "stderr",
          "text": [
            "\r 87%|████████▋ | 13/15 [03:28<00:32, 16.03s/it]"
          ]
        },
        {
          "output_type": "stream",
          "name": "stdout",
          "text": [
            "Epoch: 13 | train_loss: 0.0559 | train_acc: 99.6094 | test_loss: 0.4300 | test_acc: 90.5825 | time: 14.4175\n"
          ]
        },
        {
          "output_type": "stream",
          "name": "stderr",
          "text": [
            "\r 93%|█████████▎| 14/15 [03:44<00:15, 15.98s/it]"
          ]
        },
        {
          "output_type": "stream",
          "name": "stdout",
          "text": [
            "Epoch: 14 | train_loss: 0.0450 | train_acc: 99.7396 | test_loss: 0.4509 | test_acc: 90.1361 | time: 14.1195\n"
          ]
        },
        {
          "output_type": "stream",
          "name": "stderr",
          "text": [
            "100%|██████████| 15/15 [04:00<00:00, 16.05s/it]\n"
          ]
        },
        {
          "output_type": "stream",
          "name": "stdout",
          "text": [
            "Epoch: 15 | train_loss: 0.0671 | train_acc: 99.6745 | test_loss: 0.3940 | test_acc: 92.7083 | time: 14.6012\n",
            "Finished training model for alpaca-7b\n",
            "Training model for chavinlo-alpaca-13b...\n"
          ]
        },
        {
          "output_type": "stream",
          "name": "stderr",
          "text": [
            "  7%|▋         | 1/15 [00:16<03:48, 16.34s/it]"
          ]
        },
        {
          "output_type": "stream",
          "name": "stdout",
          "text": [
            "Epoch: 1 | train_loss: 0.5925 | train_acc: 51.4323 | test_loss: 0.6670 | test_acc: 51.7432 | time: 14.3605\n"
          ]
        },
        {
          "output_type": "stream",
          "name": "stderr",
          "text": [
            "\r 13%|█▎        | 2/15 [00:33<03:35, 16.58s/it]"
          ]
        },
        {
          "output_type": "stream",
          "name": "stdout",
          "text": [
            "Epoch: 2 | train_loss: 0.5217 | train_acc: 61.4583 | test_loss: 0.6160 | test_acc: 68.4736 | time: 14.7516\n"
          ]
        },
        {
          "output_type": "stream",
          "name": "stderr",
          "text": [
            "\r 20%|██        | 3/15 [00:49<03:17, 16.43s/it]"
          ]
        },
        {
          "output_type": "stream",
          "name": "stdout",
          "text": [
            "Epoch: 3 | train_loss: 0.3578 | train_acc: 88.8021 | test_loss: 0.6508 | test_acc: 79.8469 | time: 14.2665\n"
          ]
        },
        {
          "output_type": "stream",
          "name": "stderr",
          "text": [
            "\r 27%|██▋       | 4/15 [01:05<03:01, 16.48s/it]"
          ]
        },
        {
          "output_type": "stream",
          "name": "stdout",
          "text": [
            "Epoch: 4 | train_loss: 0.2820 | train_acc: 90.2344 | test_loss: 0.5680 | test_acc: 82.9719 | time: 14.5886\n"
          ]
        },
        {
          "output_type": "stream",
          "name": "stderr",
          "text": [
            "\r 33%|███▎      | 5/15 [01:22<02:46, 16.65s/it]"
          ]
        },
        {
          "output_type": "stream",
          "name": "stdout",
          "text": [
            "Epoch: 5 | train_loss: 0.2062 | train_acc: 94.8568 | test_loss: 0.4977 | test_acc: 85.2041 | time: 14.9516\n"
          ]
        },
        {
          "output_type": "stream",
          "name": "stderr",
          "text": [
            "\r 40%|████      | 6/15 [01:39<02:29, 16.57s/it]"
          ]
        },
        {
          "output_type": "stream",
          "name": "stdout",
          "text": [
            "Epoch: 6 | train_loss: 0.1507 | train_acc: 97.0703 | test_loss: 0.4209 | test_acc: 89.7534 | time: 14.4386\n"
          ]
        },
        {
          "output_type": "stream",
          "name": "stderr",
          "text": [
            "\r 47%|████▋     | 7/15 [01:55<02:12, 16.50s/it]"
          ]
        },
        {
          "output_type": "stream",
          "name": "stdout",
          "text": [
            "Epoch: 7 | train_loss: 0.1017 | train_acc: 97.9167 | test_loss: 0.4119 | test_acc: 91.8367 | time: 14.3594\n"
          ]
        },
        {
          "output_type": "stream",
          "name": "stderr",
          "text": [
            "\r 53%|█████▎    | 8/15 [02:11<01:55, 16.45s/it]"
          ]
        },
        {
          "output_type": "stream",
          "name": "stdout",
          "text": [
            "Epoch: 8 | train_loss: 0.0972 | train_acc: 98.8281 | test_loss: 0.4286 | test_acc: 91.7304 | time: 14.3549\n"
          ]
        },
        {
          "output_type": "stream",
          "name": "stderr",
          "text": [
            "\r 60%|██████    | 9/15 [02:28<01:38, 16.44s/it]"
          ]
        },
        {
          "output_type": "stream",
          "name": "stdout",
          "text": [
            "Epoch: 9 | train_loss: 0.0818 | train_acc: 98.6979 | test_loss: 0.3424 | test_acc: 94.1539 | time: 14.4404\n"
          ]
        },
        {
          "output_type": "stream",
          "name": "stderr",
          "text": [
            "\r 67%|██████▋   | 10/15 [02:44<01:22, 16.47s/it]"
          ]
        },
        {
          "output_type": "stream",
          "name": "stdout",
          "text": [
            "Epoch: 10 | train_loss: 0.0780 | train_acc: 99.4792 | test_loss: 0.3609 | test_acc: 93.2611 | time: 14.5661\n"
          ]
        },
        {
          "output_type": "stream",
          "name": "stderr",
          "text": [
            "\r 73%|███████▎  | 11/15 [03:01<01:05, 16.43s/it]"
          ]
        },
        {
          "output_type": "stream",
          "name": "stdout",
          "text": [
            "Epoch: 11 | train_loss: 0.0709 | train_acc: 99.2839 | test_loss: 0.3370 | test_acc: 95.0468 | time: 14.3526\n"
          ]
        },
        {
          "output_type": "stream",
          "name": "stderr",
          "text": [
            "\r 80%|████████  | 12/15 [03:17<00:49, 16.43s/it]"
          ]
        },
        {
          "output_type": "stream",
          "name": "stdout",
          "text": [
            "Epoch: 12 | train_loss: 0.0694 | train_acc: 99.4141 | test_loss: 0.3377 | test_acc: 94.7491 | time: 14.4468\n"
          ]
        },
        {
          "output_type": "stream",
          "name": "stderr",
          "text": [
            "\r 87%|████████▋ | 13/15 [03:33<00:32, 16.34s/it]"
          ]
        },
        {
          "output_type": "stream",
          "name": "stdout",
          "text": [
            "Epoch: 13 | train_loss: 0.0688 | train_acc: 99.5443 | test_loss: 0.3563 | test_acc: 93.8563 | time: 14.1423\n"
          ]
        },
        {
          "output_type": "stream",
          "name": "stderr",
          "text": [
            "\r 93%|█████████▎| 14/15 [03:50<00:16, 16.33s/it]"
          ]
        },
        {
          "output_type": "stream",
          "name": "stdout",
          "text": [
            "Epoch: 14 | train_loss: 0.0653 | train_acc: 99.5443 | test_loss: 0.4151 | test_acc: 91.9218 | time: 14.3075\n"
          ]
        },
        {
          "output_type": "stream",
          "name": "stderr",
          "text": [
            "100%|██████████| 15/15 [04:06<00:00, 16.44s/it]\n"
          ]
        },
        {
          "output_type": "stream",
          "name": "stdout",
          "text": [
            "Epoch: 15 | train_loss: 0.0545 | train_acc: 99.7396 | test_loss: 0.3338 | test_acc: 94.7491 | time: 14.4943\n",
            "Finished training model for chavinlo-alpaca-13b\n",
            "Training model for text-bison-002...\n"
          ]
        },
        {
          "output_type": "stream",
          "name": "stderr",
          "text": [
            "  7%|▋         | 1/15 [00:17<04:01, 17.24s/it]"
          ]
        },
        {
          "output_type": "stream",
          "name": "stdout",
          "text": [
            "Epoch: 1 | train_loss: 0.7282 | train_acc: 49.9349 | test_loss: 0.6958 | test_acc: 46.8750 | time: 15.0010\n"
          ]
        },
        {
          "output_type": "stream",
          "name": "stderr",
          "text": [
            "\r 13%|█▎        | 2/15 [00:34<03:42, 17.13s/it]"
          ]
        },
        {
          "output_type": "stream",
          "name": "stdout",
          "text": [
            "Epoch: 2 | train_loss: 0.6929 | train_acc: 49.9349 | test_loss: 0.6964 | test_acc: 43.0060 | time: 14.8135\n"
          ]
        },
        {
          "output_type": "stream",
          "name": "stderr",
          "text": [
            "\r 20%|██        | 3/15 [00:51<03:25, 17.16s/it]"
          ]
        },
        {
          "output_type": "stream",
          "name": "stdout",
          "text": [
            "Epoch: 3 | train_loss: 0.6931 | train_acc: 47.7214 | test_loss: 0.6951 | test_acc: 47.7679 | time: 14.9594\n"
          ]
        },
        {
          "output_type": "stream",
          "name": "stderr",
          "text": [
            "\r 27%|██▋       | 4/15 [01:08<03:09, 17.23s/it]"
          ]
        },
        {
          "output_type": "stream",
          "name": "stdout",
          "text": [
            "Epoch: 4 | train_loss: 0.6928 | train_acc: 50.1302 | test_loss: 0.6949 | test_acc: 48.3631 | time: 15.0969\n"
          ]
        },
        {
          "output_type": "stream",
          "name": "stderr",
          "text": [
            "\r 33%|███▎      | 5/15 [01:26<02:52, 17.25s/it]"
          ]
        },
        {
          "output_type": "stream",
          "name": "stdout",
          "text": [
            "Epoch: 5 | train_loss: 0.6932 | train_acc: 46.9401 | test_loss: 0.6976 | test_acc: 32.2917 | time: 15.0620\n"
          ]
        },
        {
          "output_type": "stream",
          "name": "stderr",
          "text": [
            "\r 40%|████      | 6/15 [01:43<02:35, 17.27s/it]"
          ]
        },
        {
          "output_type": "stream",
          "name": "stdout",
          "text": [
            "Epoch: 6 | train_loss: 0.6929 | train_acc: 49.0885 | test_loss: 0.6949 | test_acc: 48.3631 | time: 15.0031\n"
          ]
        },
        {
          "output_type": "stream",
          "name": "stderr",
          "text": [
            "\r 47%|████▋     | 7/15 [02:00<02:18, 17.25s/it]"
          ]
        },
        {
          "output_type": "stream",
          "name": "stdout",
          "text": [
            "Epoch: 7 | train_loss: 0.6933 | train_acc: 47.9167 | test_loss: 0.6957 | test_acc: 45.5357 | time: 14.9649\n"
          ]
        },
        {
          "output_type": "stream",
          "name": "stderr",
          "text": [
            "\r 53%|█████▎    | 8/15 [02:17<02:00, 17.28s/it]"
          ]
        },
        {
          "output_type": "stream",
          "name": "stdout",
          "text": [
            "Epoch: 8 | train_loss: 0.6937 | train_acc: 50.3906 | test_loss: 0.7030 | test_acc: 51.3393 | time: 15.1060\n"
          ]
        },
        {
          "output_type": "stream",
          "name": "stderr",
          "text": [
            "\r 60%|██████    | 9/15 [02:35<01:43, 17.32s/it]"
          ]
        },
        {
          "output_type": "stream",
          "name": "stdout",
          "text": [
            "Epoch: 9 | train_loss: 0.6955 | train_acc: 49.7396 | test_loss: 0.6999 | test_acc: 45.3231 | time: 15.1240\n"
          ]
        },
        {
          "output_type": "stream",
          "name": "stderr",
          "text": [
            "\r 67%|██████▋   | 10/15 [02:52<01:26, 17.35s/it]"
          ]
        },
        {
          "output_type": "stream",
          "name": "stdout",
          "text": [
            "Epoch: 10 | train_loss: 0.6939 | train_acc: 50.0000 | test_loss: 0.7011 | test_acc: 49.6173 | time: 15.1693\n"
          ]
        },
        {
          "output_type": "stream",
          "name": "stderr",
          "text": [
            "\r 73%|███████▎  | 11/15 [03:09<01:09, 17.26s/it]"
          ]
        },
        {
          "output_type": "stream",
          "name": "stdout",
          "text": [
            "Epoch: 11 | train_loss: 0.6939 | train_acc: 49.2839 | test_loss: 0.6975 | test_acc: 33.5672 | time: 14.8383\n"
          ]
        },
        {
          "output_type": "stream",
          "name": "stderr",
          "text": [
            "\r 80%|████████  | 12/15 [03:27<00:51, 17.29s/it]"
          ]
        },
        {
          "output_type": "stream",
          "name": "stdout",
          "text": [
            "Epoch: 12 | train_loss: 0.6927 | train_acc: 49.1536 | test_loss: 0.6934 | test_acc: 48.6607 | time: 15.0782\n"
          ]
        },
        {
          "output_type": "stream",
          "name": "stderr",
          "text": [
            "\r 87%|████████▋ | 13/15 [03:44<00:34, 17.27s/it]"
          ]
        },
        {
          "output_type": "stream",
          "name": "stdout",
          "text": [
            "Epoch: 13 | train_loss: 0.6971 | train_acc: 49.3490 | test_loss: 0.7010 | test_acc: 51.3393 | time: 14.9905\n"
          ]
        },
        {
          "output_type": "stream",
          "name": "stderr",
          "text": [
            "\r 93%|█████████▎| 14/15 [04:01<00:17, 17.22s/it]"
          ]
        },
        {
          "output_type": "stream",
          "name": "stdout",
          "text": [
            "Epoch: 14 | train_loss: 0.6935 | train_acc: 48.8281 | test_loss: 0.6945 | test_acc: 42.4107 | time: 14.8754\n"
          ]
        },
        {
          "output_type": "stream",
          "name": "stderr",
          "text": [
            "100%|██████████| 15/15 [04:18<00:00, 17.25s/it]"
          ]
        },
        {
          "output_type": "stream",
          "name": "stdout",
          "text": [
            "Epoch: 15 | train_loss: 0.6955 | train_acc: 50.1953 | test_loss: 0.7043 | test_acc: 51.3393 | time: 14.9792\n",
            "Finished training model for text-bison-002\n"
          ]
        },
        {
          "output_type": "stream",
          "name": "stderr",
          "text": [
            "\n"
          ]
        }
      ],
      "source": [
        "for llm_name in df['dataset_name'].unique():\n",
        "    if llm_name == Path(HUMAN_JSON_FILE_NAME).stem:\n",
        "        continue\n",
        "\n",
        "    llm_df = df.loc[df['dataset_name'] == llm_name]\n",
        "    llm_train_df, llm_test_df = train_test_split(llm_df, test_size=TEST_SET_FRACTION)\n",
        "\n",
        "    train_df = pd.concat([human_train_df, llm_train_df], ignore_index=True)\n",
        "    test_df = pd.concat([human_test_df, llm_test_df], ignore_index=True)\n",
        "\n",
        "    train_dataset = TextDataset(train_df['tokenized_text'], train_df['is_llm'])\n",
        "    test_dataset = TextDataset(test_df['tokenized_text'], test_df['is_llm'])\n",
        "\n",
        "    train_dataloader = DataLoader(\n",
        "        train_dataset,\n",
        "        batch_size=BATCH_SIZE,\n",
        "        shuffle=True,\n",
        "        drop_last=False,\n",
        "        collate_fn=collate_fn\n",
        "    )\n",
        "\n",
        "    test_dataloader = DataLoader(\n",
        "        test_dataset,\n",
        "        batch_size=BATCH_SIZE,\n",
        "        shuffle=False,\n",
        "        drop_last=False,\n",
        "        collate_fn=collate_fn\n",
        "    )\n",
        "\n",
        "    model = RNN(tokenizer.vocab_size, EMBEDDING_SIZE, LSTM_UNITS, LSTM_LAYERS, device, dropout=0.6).to(device)\n",
        "    optimizer = torch.optim.Adam(model.parameters(), lr=0.00008)\n",
        "    loss_fn = nn.BCEWithLogitsLoss()\n",
        "\n",
        "    print(f'Training model for {llm_name}...')\n",
        "\n",
        "    current_results = train(\n",
        "        model,\n",
        "        train_dataloader,\n",
        "        test_dataloader,\n",
        "        optimizer,\n",
        "        loss_fn,\n",
        "        epochs=15,\n",
        "        device=device\n",
        "    )\n",
        "\n",
        "    print(f'Finished training model for {llm_name}')"
      ]
    }
  ],
  "metadata": {
    "accelerator": "GPU",
    "colab": {
      "gpuType": "T4",
      "provenance": []
    },
    "kernelspec": {
      "display_name": "Python 3",
      "name": "python3"
    },
    "language_info": {
      "codemirror_mode": {
        "name": "ipython",
        "version": 3
      },
      "file_extension": ".py",
      "mimetype": "text/x-python",
      "name": "python",
      "nbconvert_exporter": "python",
      "pygments_lexer": "ipython3",
      "version": "3.11.8"
    }
  },
  "nbformat": 4,
  "nbformat_minor": 0
}