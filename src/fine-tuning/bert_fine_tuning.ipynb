{
  "cells": [
    {
      "cell_type": "markdown",
      "metadata": {
        "id": "ioePof-Olcbe"
      },
      "source": [
        "## Imports"
      ]
    },
    {
      "cell_type": "code",
      "execution_count": 60,
      "metadata": {
        "id": "Zh5KhRZJYWrA"
      },
      "outputs": [],
      "source": [
        "import numpy as np\n",
        "import pandas as pd\n",
        "import time\n",
        "import datetime\n",
        "import gc\n",
        "import random\n",
        "from nltk.corpus import stopwords\n",
        "import re\n",
        "\n",
        "import torch\n",
        "import torch.nn as nn\n",
        "from torch.utils.data import TensorDataset, DataLoader, RandomSampler, SequentialSampler,random_split\n",
        "from sklearn.model_selection import train_test_split\n",
        "from sklearn.metrics import classification_report\n",
        "\n",
        "import transformers\n",
        "from transformers import BertForSequenceClassification, AdamW, BertConfig,BertTokenizer,get_linear_schedule_with_warmup"
      ]
    },
    {
      "cell_type": "code",
      "execution_count": 61,
      "metadata": {
        "id": "YA4QQ1ndYsdy"
      },
      "outputs": [],
      "source": [
        "ROOT_DATA_RAW = '../../data/raw'\n",
        "HUMAN_JSON_PATH = f'{ROOT_DATA_RAW}/human.jsonl'\n",
        "VICGALLE_GPT2_JSON_PATH = f'{ROOT_DATA_RAW}/vicgalle-gpt2-open-instruct-v1.jsonl'\n",
        "BATCH_SIZE = 32\n",
        "LSTM_UNITS = 128\n",
        "LSTM_LAYERS = 5\n",
        "EMBEDDING_SIZE = 300\n",
        "CHECKPOINT = 'distilbert-base-cased'\n",
        "tokenizer = BertTokenizer.from_pretrained('bert-base-uncased', do_lower_case=True)"
      ]
    },
    {
      "cell_type": "markdown",
      "metadata": {
        "id": "EXudZZg8bpf3"
      },
      "source": []
    },
    {
      "cell_type": "code",
      "execution_count": 62,
      "metadata": {
        "colab": {
          "base_uri": "https://localhost:8080/"
        },
        "id": "jCC5BNhkYZXj",
        "outputId": "1e3b01d5-225e-46d1-b796-6f1545fbdef6"
      },
      "outputs": [
        {
          "data": {
            "text/plain": [
              "device(type='cuda', index=0)"
            ]
          },
          "execution_count": 62,
          "metadata": {},
          "output_type": "execute_result"
        }
      ],
      "source": [
        "device = torch.device(\"cuda:0\" if torch.cuda.is_available() else \"cpu\")\n",
        "device"
      ]
    },
    {
      "cell_type": "code",
      "execution_count": 63,
      "metadata": {
        "id": "v-IN--K9Ybt6"
      },
      "outputs": [],
      "source": [
        "human_df = pd.read_json(HUMAN_JSON_PATH, lines=True)\n",
        "human_df['is_llm'] = 0\n",
        "\n",
        "llm_df = pd.read_json(VICGALLE_GPT2_JSON_PATH, lines=True)\n",
        "llm_df['is_llm'] = 1\n",
        "\n",
        "df = pd.concat([human_df, llm_df], ignore_index=True)\n",
        "\n",
        "texts = df.text.values\n",
        "labels = df.is_llm.values"
      ]
    },
    {
      "cell_type": "code",
      "execution_count": 64,
      "metadata": {
        "colab": {
          "base_uri": "https://localhost:8080/"
        },
        "id": "xmiFcdkfZatj",
        "outputId": "cadd23a7-5ea7-4170-ee2b-d456cac8eb2a"
      },
      "outputs": [
        {
          "name": "stderr",
          "output_type": "stream",
          "text": [
            "Token indices sequence length is longer than the specified maximum sequence length for this model (820 > 512). Running this sequence through the model will result in indexing errors\n"
          ]
        }
      ],
      "source": [
        "max_len = 0\n",
        "\n",
        "# For every sentence...\n",
        "for text in texts:\n",
        "\n",
        "    # Tokenize the text and add `[CLS]` and `[SEP]` tokens.\n",
        "    input_ids = tokenizer.encode(text, add_special_tokens=True)\n",
        "\n",
        "    # Update the maximum sentence length.\n",
        "    max_len = max(max_len, len(input_ids))"
      ]
    },
    {
      "cell_type": "code",
      "execution_count": 68,
      "metadata": {
        "colab": {
          "base_uri": "https://localhost:8080/"
        },
        "id": "IqGvaaKSZd6D",
        "outputId": "79056404-e80d-493d-f9d0-d512f9511d68"
      },
      "outputs": [
        {
          "name": "stderr",
          "output_type": "stream",
          "text": [
            "/usr/local/lib/python3.10/dist-packages/transformers/tokenization_utils_base.py:2699: FutureWarning: The `pad_to_max_length` argument is deprecated and will be removed in a future version, use `padding=True` or `padding='longest'` to pad to the longest sequence in the batch, or use `padding='max_length'` to pad to a max length. In this case, you can give a specific length with `max_length` (e.g. `max_length=45`) or leave max_length to None to pad to the maximal input size of the model (e.g. 512 for Bert).\n",
            "  warnings.warn(\n"
          ]
        },
        {
          "name": "stdout",
          "output_type": "stream",
          "text": [
            "Original:  Inaugural Address by President Joseph R. Biden, Jr.\n",
            "\n",
            "Chief Justice Roberts, Vice President Harris, Speaker Pelosi, Leader Schumer, Leader McConnell, Vice President Pence, distinguished guests, and my fellow Americans.\n",
            "\n",
            "This is America's day.\n",
            "\n",
            "This is democracy's day.\n",
            "\n",
            "A day of history and hope.\n",
            "\n",
            "Of renewal and resolve.\n",
            "\n",
            "Through a crucible for the ages America has been tested anew and America has risen to the challenge.\n",
            "\n",
            "Today, we celebrate the triumph not of a candidate, but of a cause, the cause of democracy.\n",
            "\n",
            "The will of the people has been heard and the will of the people has been heeded.\n",
            "\n",
            "We have learned again that democracy is precious.\n",
            "\n",
            "Democracy is fragile.\n",
            "\n",
            "And at this hour, my friends, democracy has prevailed.\n",
            "\n",
            "So now, on this hallowed ground where just days ago violence sought to shake this Capitol's very foundation, we come together as one nation, under God, indivisible, to carry out the peaceful transfer of power as we have for more than two centuries.\n",
            "\n",
            "We look ahead in our uniquely American way – restless, bold, optimistic – and set our sights on the nation we know we can be and we must be.\n",
            "\n",
            "I thank my predecessors of both parties for their presence here.\n",
            "\n",
            "I thank them from the bottom of my heart.\n",
            "\n",
            "You know the resilience of our Constitution and the strength of our nation.\n",
            "\n",
            "As does President Carter, who I spoke to last night but who cannot be with us today, but whom we salute for his lifetime of service.\n",
            "\n",
            "I have just taken the sacred oath each of these patriots took — an oath first sworn by George Washington.\n",
            "\n",
            "But the American story depends not on any one of us, not on some of us, but on all of us.\n",
            "\n",
            "On \"We the People\" who seek a more perfect Union.\n",
            "\n",
            "This is a great nation and we are a good people.\n",
            "\n",
            "Over the centuries through storm and strife, in peace and in war, we have come so far. But we still have far to go.\n",
            "\n",
            "We will press forward with speed and urgency, for we have much to do in this winter of peril and possibility.\n",
            "\n",
            "Much to repair.\n",
            "\n",
            "Much to restore.\n",
            "\n",
            "Much to heal.\n",
            "\n",
            "Much to build.\n",
            "\n",
            "And much to gain.\n",
            "\n",
            "Few periods in our nation's history have been more challenging or difficult than the one we're in now.\n",
            "\n",
            "A once-in-a-century virus silently stalks the country.\n",
            "\n",
            "It's taken as many lives in one year as America lost in all of World War II.\n",
            "\n",
            "Millions of jobs have been lost.\n",
            "\n",
            "Hundreds of thousands of businesses closed.\n",
            "\n",
            "A cry for racial justice some 400 years in the making moves us. The dream of justice for all will be deferred no longer.\n",
            "\n",
            "A cry for survival comes from the planet itself. A cry that can't be any more desperate or any more clear.\n",
            "\n",
            "And now, a rise in political extremism, white supremacy, domestic terrorism that we must confront and we will defeat.\n",
            "\n",
            "To overcome these challenges – to restore the soul and to secure the future of America – requires more than words.\n",
            "\n",
            "It requires that most elusive of things in a democracy:\n",
            "\n",
            "Unity.\n",
            "\n",
            "Unity.\n",
            "\n",
            "In another January in Washington, on New Year's Day 1863, Abraham Lincoln signed the Emancipation Proclamation.\n",
            "\n",
            "When he put pen to paper, the President said, \"If my name ever goes down into history it will be for this act and my whole soul is in it.\"\n",
            "\n",
            "My whole soul is in it.\n",
            "\n",
            "Today, on this January day, my whole soul is in this:\n",
            "\n",
            "Bringing America together.\n",
            "\n",
            "Uniting our people.\n",
            "\n",
            "And uniting our nation.\n",
            "\n",
            "I ask every American to join me in this cause.\n",
            "\n",
            "Uniting to fight the common foes we face:\n",
            "\n",
            "Anger, resentment, hatred.\n",
            "\n",
            "Extremism, lawlessness, violence.\n",
            "\n",
            "Disease, joblessness, hopelessness.\n",
            "\n",
            "With unity we can do great things. Important things.\n",
            "\n",
            "We can right wrongs.\n",
            "\n",
            "We can put people to work in good jobs.\n",
            "\n",
            "We can teach our children in safe schools.\n",
            "\n",
            "We can overcome this deadly virus.\n",
            "Token IDs: tensor([  101,  7725,  4769,  2011,  2343,  3312,  1054,  1012,  7226,  2368,\n",
            "         1010,  3781,  1012,  2708,  3425,  7031,  1010,  3580,  2343,  5671,\n",
            "         1010,  5882, 21877, 10483,  2072,  1010,  3003,  8040, 28600,  2121,\n",
            "         1010,  3003, 28514,  1010,  3580,  2343,  7279,  3401,  1010,  5182,\n",
            "         6368,  1010,  1998,  2026,  3507,  4841,  1012,  2023,  2003,  2637,\n",
            "         1005,  1055,  2154,  1012,  2023,  2003,  7072,  1005,  1055,  2154,\n",
            "         1012,  1037,  2154,  1997,  2381,  1998,  3246,  1012,  1997, 14524,\n",
            "         1998, 10663,  1012,  2083,  1037, 13675, 21104,  2005,  1996,  5535,\n",
            "         2637,  2038,  2042,  7718,  2019,  7974,  1998,  2637,  2038, 13763,\n",
            "         2000,  1996,  4119,  1012,  2651,  1010,  2057,  8439,  1996, 10911,\n",
            "         2025,  1997,  1037,  4018,  1010,  2021,  1997,  1037,  3426,  1010,\n",
            "         1996,  3426,  1997,  7072,  1012,  1996,  2097,  1997,  1996,  2111,\n",
            "         2038,  2042,  2657,  1998,  1996,  2097,  1997,  1996,  2111,  2038,\n",
            "         2042, 18235,  5732,  1012,  2057,  2031,  4342,  2153,  2008,  7072,\n",
            "         2003,  9062,  1012,  7072,  2003, 13072,  1012,  1998,  2012,  2023,\n",
            "         3178,  1010,  2026,  2814,  1010,  7072,  2038, 19914,  1012,  2061,\n",
            "         2085,  1010,  2006,  2023,  2534, 15096,  2598,  2073,  2074,  2420,\n",
            "         3283,  4808,  4912,  2000,  6073,  2023,  9424,  1005,  1055,  2200,\n",
            "         3192,  1010,  2057,  2272,  2362,  2004,  2028,  3842,  1010,  2104,\n",
            "         2643,  1010, 27427, 12848, 17417,  3468,  1010,  2000,  4287,  2041,\n",
            "         1996,  9379,  4651,  1997,  2373,  2004,  2057,  2031,  2005,  2062,\n",
            "         2084,  2048,  4693,  1012,  2057,  2298,  3805,  1999,  2256, 20640,\n",
            "         2137,  2126,  1516, 15035,  1010,  7782,  1010, 21931,  1516,  1998,\n",
            "         2275,  2256, 15925,  2006,  1996,  3842,  2057,  2113,  2057,  2064,\n",
            "         2022,  1998,  2057,  2442,  2022,  1012,  1045,  4067,  2026, 16372,\n",
            "         1997,  2119,  4243,  2005,  2037,  3739,  2182,  1012,  1045,  4067,\n",
            "         2068,  2013,  1996,  3953,  1997,  2026,  2540,  1012,  2017,  2113,\n",
            "         1996, 24501, 18622, 10127,  1997,  2256,  4552,  1998,  1996,  3997,\n",
            "         1997,  2256,  3842,  1012,  2004,  2515,  2343,  5708,  1010,  2040,\n",
            "         1045,  3764,  2000,  2197,  2305,  2021,  2040,  3685,  2022,  2007,\n",
            "         2149,  2651,  1010,  2021,  3183,  2057, 17664,  2005,  2010,  6480,\n",
            "         1997,  2326,  1012,  1045,  2031,  2074,  2579,  1996,  6730, 11292,\n",
            "         2169,  1997,  2122, 11579,  2165,  1517,  2019, 11292,  2034, 10741,\n",
            "         2011,  2577,  2899,  1012,  2021,  1996,  2137,  2466,  9041,  2025,\n",
            "         2006,  2151,  2028,  1997,  2149,  1010,  2025,  2006,  2070,  1997,\n",
            "         2149,  1010,  2021,  2006,  2035,  1997,  2149,  1012,  2006,  1000,\n",
            "         2057,  1996,  2111,  1000,  2040,  6148,  1037,  2062,  3819,  2586,\n",
            "         1012,  2023,  2003,  1037,  2307,  3842,  1998,  2057,  2024,  1037,\n",
            "         2204,  2111,  1012,  2058,  1996,  4693,  2083,  4040,  1998, 27865,\n",
            "         1010,  1999,  3521,  1998,  1999,  2162,  1010,  2057,  2031,  2272,\n",
            "         2061,  2521,  1012,  2021,  2057,  2145,  2031,  2521,  2000,  2175,\n",
            "         1012,  2057,  2097,  2811,  2830,  2007,  3177,  1998, 19353,  1010,\n",
            "         2005,  2057,  2031,  2172,  2000,  2079,  1999,  2023,  3467,  1997,\n",
            "         2566,  4014,  1998,  6061,  1012,  2172,  2000,  7192,  1012,  2172,\n",
            "         2000,  9239,  1012,  2172,  2000, 11005,  1012,  2172,  2000,  3857,\n",
            "         1012,  1998,  2172,  2000,  5114,  1012,  2261,  6993,  1999,  2256,\n",
            "         3842,  1005,  1055,  2381,  2031,  2042,  2062, 10368,  2030,  3697,\n",
            "         2084,  1996,  2028,  2057,  1005,  2128,  1999,  2085,  1012,  1037,\n",
            "         2320,  1011,  1999,  1011,  1037,  1011,  2301,  7865,  8601, 29594,\n",
            "         1996,  2406,  1012,  2009,  1005,  1055,  2579,  2004,  2116,  3268,\n",
            "         1999,  2028,  2095,  2004,  2637,  2439,  1999,  2035,  1997,  2088,\n",
            "         2162,   102])\n"
          ]
        }
      ],
      "source": [
        "input_ids = []\n",
        "attention_masks = []\n",
        "\n",
        "# For every tweet...\n",
        "for tweet in texts:\n",
        "    # `encode_plus` will:\n",
        "    #   (1) Tokenize the sentence.\n",
        "    #   (2) Prepend the `[CLS]` token to the start.\n",
        "    #   (3) Append the `[SEP]` token to the end.\n",
        "    #   (4) Map tokens to their IDs.\n",
        "    #   (5) Pad or truncate the sentence to `max_length`\n",
        "    #   (6) Create attention masks for [PAD] tokens.\n",
        "    encoded_dict = tokenizer.encode_plus(\n",
        "                        tweet,                      # Sentence to encode.\n",
        "                        add_special_tokens = True, # Add '[CLS]' and '[SEP]'\n",
        "                        max_length = 512,           # Pad & truncate all sentences.\n",
        "                        padding='max_length'\n",
        "                        truncation=True,\n",
        "                        return_attention_mask = True,   # Construct attn. masks.\n",
        "                        return_tensors = 'pt',     # Return pytorch tensors.\n",
        "                   )\n",
        "\n",
        "    # Add the encoded sentence to the list.\n",
        "    input_ids.append(encoded_dict['input_ids'])\n",
        "\n",
        "    # And its attention mask (simply differentiates padding from non-padding).\n",
        "    attention_masks.append(encoded_dict['attention_mask'])\n",
        "\n",
        "# Convert the lists into tensors.\n",
        "input_ids = torch.cat(input_ids, dim=0)\n",
        "attention_masks = torch.cat(attention_masks, dim=0)\n",
        "labels = torch.tensor(labels)\n",
        "\n",
        "# Print sentence 0, now as a list of IDs.\n",
        "print('Original: ', texts[0])\n",
        "print('Token IDs:', input_ids[0])"
      ]
    },
    {
      "cell_type": "code",
      "execution_count": 69,
      "metadata": {
        "colab": {
          "base_uri": "https://localhost:8080/"
        },
        "id": "K4_wyczMZmpc",
        "outputId": "bb171600-4d91-45dd-bd66-ff07e38df2c5"
      },
      "outputs": [
        {
          "name": "stdout",
          "output_type": "stream",
          "text": [
            "1,739 training samples\n",
            "  435 validation samples\n"
          ]
        }
      ],
      "source": [
        "# Combine the training inputs into a TensorDataset.\n",
        "dataset = TensorDataset(input_ids, attention_masks, labels)\n",
        "\n",
        "# Create a 90-10 train-validation split.\n",
        "\n",
        "# Calculate the number of samples to include in each set.\n",
        "train_size = int(0.8 * len(dataset))\n",
        "#val_size = int(0.2 * len(dataset))\n",
        "val_size = len(dataset)  - train_size\n",
        "\n",
        "# Divide the dataset by randomly selecting samples.\n",
        "train_dataset, val_dataset = random_split(dataset, [train_size, val_size])\n",
        "\n",
        "print('{:>5,} training samples'.format(train_size))\n",
        "print('{:>5,} validation samples'.format(val_size))"
      ]
    },
    {
      "cell_type": "code",
      "execution_count": 70,
      "metadata": {
        "id": "oyfZ8PMWZo-H"
      },
      "outputs": [],
      "source": [
        "# The DataLoader needs to know our batch size for training, so we specify it\n",
        "# here. For fine-tuning BERT on a specific task, the authors recommend a batch\n",
        "# size of 16 or 32.\n",
        "batch_size = 32\n",
        "\n",
        "# Create the DataLoaders for our training and validation sets.\n",
        "# We'll take training samples in random order.\n",
        "train_dataloader = DataLoader(\n",
        "            train_dataset,  # The training samples.\n",
        "            sampler = RandomSampler(train_dataset), # Select batches randomly\n",
        "            batch_size = batch_size # Trains with this batch size.\n",
        "        )\n",
        "\n",
        "# For validation the order doesn't matter, so we'll just read them sequentially.\n",
        "validation_dataloader = DataLoader(\n",
        "            val_dataset, # The validation samples.\n",
        "            sampler = SequentialSampler(val_dataset), # Pull out batches sequentially.\n",
        "            batch_size = batch_size # Evaluate with this batch size.\n",
        "        )"
      ]
    },
    {
      "cell_type": "code",
      "execution_count": 71,
      "metadata": {
        "colab": {
          "base_uri": "https://localhost:8080/"
        },
        "id": "VA_rSKvfZqxK",
        "outputId": "a62b7d15-9ecb-419f-9d9b-af1ef797e5b0"
      },
      "outputs": [
        {
          "name": "stderr",
          "output_type": "stream",
          "text": [
            "Some weights of BertForSequenceClassification were not initialized from the model checkpoint at bert-base-uncased and are newly initialized: ['classifier.bias', 'classifier.weight']\n",
            "You should probably TRAIN this model on a down-stream task to be able to use it for predictions and inference.\n",
            "/usr/local/lib/python3.10/dist-packages/transformers/optimization.py:588: FutureWarning: This implementation of AdamW is deprecated and will be removed in a future version. Use the PyTorch implementation torch.optim.AdamW instead, or set `no_deprecation_warning=True` to disable this warning\n",
            "  warnings.warn(\n"
          ]
        }
      ],
      "source": [
        "# Load BertForSequenceClassification, the pretrained BERT model with a single\n",
        "# linear classification layer on top.\n",
        "model = BertForSequenceClassification.from_pretrained(\n",
        "    \"bert-base-uncased\", # Use the 12-layer BERT model, with an uncased vocab.\n",
        "    num_labels = 2, # The number of output labels--2 for binary classification.\n",
        "                    # You can increase this for multi-class tasks.\n",
        "    output_attentions = False, # Whether the model returns attentions weights.\n",
        "    output_hidden_states = False, # Whether the model returns all hidden-states.\n",
        ")\n",
        "\n",
        "# if device == \"cuda:0\":\n",
        "# # Tell pytorch to run this model on the GPU.\n",
        "#     model = model.cuda()\n",
        "model = model.to(device)\n",
        "optimizer = AdamW(model.parameters(),\n",
        "                  lr = 2e-5, # args.learning_rate - default is 5e-5, our notebook had 2e-5\n",
        "                  eps = 1e-8 # args.adam_epsilon  - default is 1e-8.\n",
        "                )\n",
        "\n",
        "# Number of training epochs. The BERT authors recommend between 2 and 4.\n",
        "# We chose to run for 4, but we'll see later that this may be over-fitting the\n",
        "# training data.\n",
        "epochs = 4\n",
        "\n",
        "# Total number of training steps is [number of batches] x [number of epochs].\n",
        "# (Note that this is not the same as the number of training samples).\n",
        "total_steps = len(train_dataloader) * epochs\n",
        "\n",
        "# Create the learning rate scheduler.\n",
        "scheduler = get_linear_schedule_with_warmup(optimizer,\n",
        "                                            num_warmup_steps = 0, # Default value in run_glue.py\n",
        "                                            num_training_steps = total_steps)\n",
        "\n",
        "def flat_accuracy(preds, labels):\n",
        "    pred_flat = np.argmax(preds, axis=1).flatten()\n",
        "    labels_flat = labels.flatten()\n",
        "    return np.sum(pred_flat == labels_flat) / len(labels_flat)"
      ]
    },
    {
      "cell_type": "code",
      "execution_count": 72,
      "metadata": {
        "id": "t29Vr3JDZ2FM"
      },
      "outputs": [],
      "source": [
        "def format_time(elapsed):\n",
        "    '''\n",
        "    Takes a time in seconds and returns a string hh:mm:ss\n",
        "    '''\n",
        "    # Round to the nearest second.\n",
        "    elapsed_rounded = int(round((elapsed)))\n",
        "    # Format as hh:mm:ss\n",
        "    return str(datetime.timedelta(seconds=elapsed_rounded))"
      ]
    },
    {
      "cell_type": "code",
      "execution_count": null,
      "metadata": {
        "colab": {
          "base_uri": "https://localhost:8080/"
        },
        "id": "t4vVo9xbZ0Kv",
        "outputId": "259f466c-4e1b-4f89-da90-d3c9fabdab2f"
      },
      "outputs": [
        {
          "name": "stdout",
          "output_type": "stream",
          "text": [
            "\n",
            "======== Epoch 1 / 4 ========\n",
            "Training...\n",
            "\n",
            "  Average training loss: 0.25\n",
            "  Training epcoh took: 0:02:52\n",
            "\n",
            "Running Validation...\n",
            "  Accuracy: 0.98\n",
            "\n",
            "======== Epoch 2 / 4 ========\n",
            "Training...\n",
            "\n",
            "  Average training loss: 0.03\n",
            "  Training epcoh took: 0:02:51\n",
            "\n",
            "Running Validation...\n",
            "  Accuracy: 0.93\n",
            "\n",
            "======== Epoch 3 / 4 ========\n",
            "Training...\n"
          ]
        }
      ],
      "source": [
        "seed_val = 42\n",
        "random.seed(seed_val)\n",
        "np.random.seed(seed_val)\n",
        "torch.manual_seed(seed_val)\n",
        "torch.cuda.manual_seed_all(seed_val)\n",
        "training_stats = []\n",
        "\n",
        "# Measure the total training time for the whole run.\n",
        "total_t0 = time.time()\n",
        "\n",
        "# For each epoch...\n",
        "for epoch_i in range(0, epochs):\n",
        "\n",
        "    # ========================================\n",
        "    #               Training\n",
        "    # ========================================\n",
        "    # Perform one full pass over the training set.\n",
        "    print(\"\")\n",
        "    print('======== Epoch {:} / {:} ========'.format(epoch_i + 1, epochs))\n",
        "    print('Training...')\n",
        "    # Measure how long the training epoch takes.\n",
        "    t0 = time.time()\n",
        "    total_train_loss = 0\n",
        "    model.train()\n",
        "    for step, batch in enumerate(train_dataloader):\n",
        "        # Unpack this training batch from our dataloader.\n",
        "        #\n",
        "        # As we unpack the batch, we'll also copy each tensor to the device using the\n",
        "        # `to` method.\n",
        "        #\n",
        "        # `batch` contains three pytorch tensors:\n",
        "        #   [0]: input ids\n",
        "        #   [1]: attention masks\n",
        "        #   [2]: labels\n",
        "        b_input_ids = batch[0].to(device)\n",
        "        b_input_mask = batch[1].to(device)\n",
        "        b_labels = batch[2].to(device)\n",
        "        optimizer.zero_grad()\n",
        "        output = model(b_input_ids,\n",
        "                             token_type_ids=None,\n",
        "                             attention_mask=b_input_mask,\n",
        "                             labels=b_labels)\n",
        "        loss = output.loss\n",
        "        total_train_loss += loss.item()\n",
        "        # Perform a backward pass to calculate the gradients.\n",
        "        loss.backward()\n",
        "        # Clip the norm of the gradients to 1.0.\n",
        "        # This is to help prevent the \"exploding gradients\" problem.\n",
        "        torch.nn.utils.clip_grad_norm_(model.parameters(), 1.0)\n",
        "        # Update parameters and take a step using the computed gradient.\n",
        "        # The optimizer dictates the \"update rule\"--how the parameters are\n",
        "        # modified based on their gradients, the learning rate, etc.\n",
        "        optimizer.step()\n",
        "        # Update the learning rate.\n",
        "        scheduler.step()\n",
        "\n",
        "    # Calculate the average loss over all of the batches.\n",
        "    avg_train_loss = total_train_loss / len(train_dataloader)\n",
        "\n",
        "    # Measure how long this epoch took.\n",
        "    training_time = format_time(time.time() - t0)\n",
        "    print(\"\")\n",
        "    print(\"  Average training loss: {0:.2f}\".format(avg_train_loss))\n",
        "    print(\"  Training epcoh took: {:}\".format(training_time))\n",
        "    # ========================================\n",
        "    #               Validation\n",
        "    # ========================================\n",
        "    # After the completion of each training epoch, measure our performance on\n",
        "    # our validation set.\n",
        "    print(\"\")\n",
        "    print(\"Running Validation...\")\n",
        "    t0 = time.time()\n",
        "    # Put the model in evaluation mode--the dropout layers behave differently\n",
        "    # during evaluation.\n",
        "    model.eval()\n",
        "    # Tracking variables\n",
        "    total_eval_accuracy = 0\n",
        "    best_eval_accuracy = 0\n",
        "    total_eval_loss = 0\n",
        "    nb_eval_steps = 0\n",
        "    # Evaluate data for one epoch\n",
        "    for batch in validation_dataloader:\n",
        "        b_input_ids = batch[0].to(device)\n",
        "        b_input_mask = batch[1].to(device)\n",
        "        b_labels = batch[2].to(device)\n",
        "        # Tell pytorch not to bother with constructing the compute graph during\n",
        "        # the forward pass, since this is only needed for backprop (training).\n",
        "        with torch.no_grad():\n",
        "            output= model(b_input_ids,\n",
        "                                   token_type_ids=None,\n",
        "                                   attention_mask=b_input_mask,\n",
        "                                   labels=b_labels)\n",
        "        loss = output.loss\n",
        "        total_eval_loss += loss.item()\n",
        "        # Move logits and labels to CPU if we are using GPU\n",
        "        logits = output.logits\n",
        "        logits = logits.detach().cpu().numpy()\n",
        "        label_ids = b_labels.to('cpu').numpy()\n",
        "        # Calculate the accuracy for this batch of test sentences, and\n",
        "        # accumulate it over all batches.\n",
        "        total_eval_accuracy += flat_accuracy(logits, label_ids)\n",
        "    # Report the final accuracy for this validation run.\n",
        "    avg_val_accuracy = total_eval_accuracy / len(validation_dataloader)\n",
        "    print(\"  Accuracy: {0:.2f}\".format(avg_val_accuracy))\n",
        "    # Calculate the average loss over all of the batches.\n",
        "    avg_val_loss = total_eval_loss / len(validation_dataloader)\n",
        "    # Measure how long the validation run took.\n",
        "    validation_time = format_time(time.time() - t0)\n",
        "    if avg_val_accuracy > best_eval_accuracy:\n",
        "        torch.save(model, 'bert_model')\n",
        "        best_eval_accuracy = avg_val_accuracy\n",
        "    #print(\"  Validation Loss: {0:.2f}\".format(avg_val_loss))\n",
        "    #print(\"  Validation took: {:}\".format(validation_time))\n",
        "    # Record all statistics from this epoch.\n",
        "    training_stats.append(\n",
        "        {\n",
        "            'epoch': epoch_i + 1,\n",
        "            'Training Loss': avg_train_loss,\n",
        "            'Valid. Loss': avg_val_loss,\n",
        "            'Valid. Accur.': avg_val_accuracy,\n",
        "            'Training Time': training_time,\n",
        "            'Validation Time': validation_time\n",
        "        }\n",
        "    )\n",
        "print(\"\")\n",
        "print(\"Training complete!\")\n",
        "\n",
        "print(\"Total training took {:} (h:mm:ss)\".format(format_time(time.time()-total_t0)))"
      ]
    }
  ],
  "metadata": {
    "accelerator": "GPU",
    "colab": {
      "gpuType": "T4",
      "provenance": []
    },
    "kernelspec": {
      "display_name": "Python 3",
      "name": "python3"
    },
    "language_info": {
      "codemirror_mode": {
        "name": "ipython",
        "version": 3
      },
      "file_extension": ".py",
      "mimetype": "text/x-python",
      "name": "python",
      "nbconvert_exporter": "python",
      "pygments_lexer": "ipython3",
      "version": "3.11.8"
    }
  },
  "nbformat": 4,
  "nbformat_minor": 0
}
