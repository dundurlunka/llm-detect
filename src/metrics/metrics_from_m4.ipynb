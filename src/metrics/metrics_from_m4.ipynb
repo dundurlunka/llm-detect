{
 "cells": [
  {
   "cell_type": "code",
   "execution_count": 1,
   "metadata": {},
   "outputs": [],
   "source": [
    "import json\n",
    "from sklearn.metrics import accuracy_score, precision_score, recall_score, f1_score\n",
    "from os import walk, path\n"
   ]
  },
  {
   "cell_type": "code",
   "execution_count": 2,
   "metadata": {},
   "outputs": [],
   "source": [
    "def download_metrics_from_output(file_path):\n",
    "    with open(file_path, 'r') as f:\n",
    "        data = json.load(f)\n",
    "    # Initialize an empty dictionary to store the results\n",
    "    metrics = {}\n",
    "\n",
    "    for domain, values in data.items():\n",
    "        y_true = values['y']\n",
    "        y_pred = values['y_hat']\n",
    "\n",
    "        accuracy = accuracy_score(y_true, y_pred)\n",
    "        precision = precision_score(y_true, y_pred, zero_division=0)\n",
    "        recall = recall_score(y_true, y_pred, zero_division=0)\n",
    "        f1 = f1_score(y_true, y_pred, zero_division=0)\n",
    "\n",
    "        metrics[domain] = {\n",
    "            'accuracy': accuracy,\n",
    "            'precision': precision,\n",
    "            'recall': recall,\n",
    "            'f1_score': f1\n",
    "        }\n",
    "\n",
    "    dest_path = f\"../../data/fine_tuned/results/vs_m4_from_m4/domain/{file_path.split('/')[-1]}\"\n",
    "    # Output the metrics dictionary\n",
    "    print(metrics)\n",
    "    with open(dest_path, 'w', encoding='utf-8') as f:\n",
    "        json.dump(metrics, f, ensure_ascii=False, indent=4)"
   ]
  },
  {
   "cell_type": "code",
   "execution_count": 4,
   "metadata": {},
   "outputs": [
    {
     "name": "stdout",
     "output_type": "stream",
     "text": [
      "{'self': {'accuracy': 0.8758928571428571, 'precision': 0.8670366795366795, 'recall': 0.9986103390772652, 'f1_score': 0.9281839318005684}, 'domain-reddit': {'accuracy': 0.9061164529914529, 'precision': 0.9229353393085787, 'recall': 0.9630093520374081, 'f1_score': 0.9425465838509317}, 'domain-wikipedia': {'accuracy': 0.8068372483221476, 'precision': 0.8043478260869565, 'recall': 0.9992057188244639, 'f1_score': 0.8912504427913567}, 'domain-wikihow': {'accuracy': 0.7852564102564102, 'precision': 0.9218840300520131, 'recall': 0.799181696726787, 'f1_score': 0.8561588693085249}}\n",
      "{'self': {'accuracy': 0.984375, 'precision': 0.9840176357123175, 'recall': 0.9966508512419759, 'f1_score': 0.990293954520244}, 'domain-wikipedia': {'accuracy': 0.8178131991051454, 'precision': 0.8240843919471065, 'recall': 0.9789956755802666, 'f1_score': 0.8948854469183608}, 'domain-wikihow': {'accuracy': 0.5565571581196581, 'precision': 0.9210734017363852, 'recall': 0.4872244488977956, 'f1_score': 0.637321828409153}, 'domain-arxiv': {'accuracy': 0.7634882478632479, 'precision': 0.8816289592760181, 'recall': 0.8134602538410154, 'f1_score': 0.8461738903847824}}\n",
      "{'self': {'accuracy': 0.9955357142857143, 'precision': 0.9972451790633609, 'recall': 0.9972451790633609, 'f1_score': 0.9972451790633609}, 'domain-reddit': {'accuracy': 0.6858306623931624, 'precision': 0.777159411450789, 'recall': 0.8512024048096193, 'f1_score': 0.8124975092655322}, 'domain-wikipedia': {'accuracy': 0.7967701342281879, 'precision': 0.7966197183098591, 'recall': 0.9983231841849792, 'f1_score': 0.8861384199600486}, 'domain-arxiv': {'accuracy': 0.7988782051282052, 'precision': 0.7999197002141327, 'recall': 0.9981629926519706, 'f1_score': 0.888112927191679}}\n",
      "{'self': {'accuracy': 0.9853078358208955, 'precision': 0.991153052196992, 'recall': 0.9902769593400118, 'f1_score': 0.9907148120854827}, 'domain-reddit': {'accuracy': 0.7417868589743589, 'precision': 0.8334566987416728, 'recall': 0.8461923847695391, 'f1_score': 0.8397762585456805}, 'domain-wikihow': {'accuracy': 0.601028311965812, 'precision': 0.8806292020804263, 'recall': 0.5796593186372746, 'f1_score': 0.6991288584520872}, 'domain-arxiv': {'accuracy': 0.7896634615384616, 'precision': 0.8029658107922559, 'recall': 0.9766199064796259, 'f1_score': 0.8813201718031799}}\n"
     ]
    }
   ],
   "source": [
    "dir_path, _, file_names = next(walk('../../data/fine_tuned/output/m4-domain/'))\n",
    "\n",
    "for file_name in file_names:\n",
    "    download_metrics_from_output(f\"{dir_path}{file_name}\")"
   ]
  }
 ],
 "metadata": {
  "kernelspec": {
   "display_name": "llm-detect",
   "language": "python",
   "name": "python3"
  },
  "language_info": {
   "codemirror_mode": {
    "name": "ipython",
    "version": 3
   },
   "file_extension": ".py",
   "mimetype": "text/x-python",
   "name": "python",
   "nbconvert_exporter": "python",
   "pygments_lexer": "ipython3",
   "version": "3.11.8"
  }
 },
 "nbformat": 4,
 "nbformat_minor": 2
}
