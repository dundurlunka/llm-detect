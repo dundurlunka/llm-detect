{
 "cells": [
  {
   "cell_type": "code",
   "execution_count": 1,
   "metadata": {},
   "outputs": [],
   "source": [
    "import json\n",
    "from sklearn.metrics import accuracy_score, precision_score, recall_score, f1_score\n",
    "from os import walk, path\n"
   ]
  },
  {
   "cell_type": "code",
   "execution_count": 2,
   "metadata": {},
   "outputs": [],
   "source": [
    "TASK= \"author\""
   ]
  },
  {
   "cell_type": "code",
   "execution_count": 3,
   "metadata": {},
   "outputs": [],
   "source": [
    "def download_metrics_from_output(file_path):\n",
    "    with open(file_path, 'r') as f:\n",
    "        data = json.load(f)\n",
    "    # Initialize an empty dictionary to store the results\n",
    "    metrics = {}\n",
    "\n",
    "    for domain, values in data.items():\n",
    "        y_true = values['y']\n",
    "        y_pred = values['y_hat']\n",
    "\n",
    "        accuracy = accuracy_score(y_true, y_pred)\n",
    "        precision = precision_score(y_true, y_pred, zero_division=0)\n",
    "        recall = recall_score(y_true, y_pred, zero_division=0)\n",
    "        f1 = f1_score(y_true, y_pred, zero_division=0)\n",
    "\n",
    "        metrics[domain] = {\n",
    "            'accuracy': accuracy,\n",
    "            'precision': precision,\n",
    "            'recall': recall,\n",
    "            'f1_score': f1\n",
    "        }\n",
    "\n",
    "    dest_path = f\"../../data/fine_tuned/results/vs_m4_from_m4/{TASK}/{file_path.split('/')[-1]}\"\n",
    "    # Output the metrics dictionary\n",
    "    print(metrics)\n",
    "    with open(dest_path, 'w', encoding='utf-8') as f:\n",
    "        json.dump(metrics, f, ensure_ascii=False, indent=4)"
   ]
  },
  {
   "cell_type": "code",
   "execution_count": 4,
   "metadata": {},
   "outputs": [
    {
     "name": "stdout",
     "output_type": "stream",
     "text": [
      "{'self': {'accuracy': 0.9944196428571429, 'precision': 0.9886321965529886, 'recall': 0.9985185185185185, 'f1_score': 0.9935507646950433}, 'author-human': {'accuracy': 0.991644385026738, 'precision': 0.0, 'recall': 0.0, 'f1_score': 0.0}, 'author-cohere': {'accuracy': 0.5881885593220338, 'precision': 1.0, 'recall': 0.5881885593220338, 'f1_score': 0.7407036851759213}, 'author-davinci': {'accuracy': 0.6241666666666666, 'precision': 1.0, 'recall': 0.6241666666666666, 'f1_score': 0.7685992816829144}, 'author-bloomz': {'accuracy': 0.09516666666666666, 'precision': 1.0, 'recall': 0.09516666666666666, 'f1_score': 0.17379394308324456}, 'author-chatgpt': {'accuracy': 0.8692876344086021, 'precision': 1.0, 'recall': 0.8692876344086021, 'f1_score': 0.930073701240338}}\n",
      "{'self': {'accuracy': 0.9760607798165137, 'precision': 0.963855421686747, 'recall': 0.9879447221405468, 'f1_score': 0.9757514157107594}, 'author-human': {'accuracy': 0.9754344919786097, 'precision': 0.0, 'recall': 0.0, 'f1_score': 0.0}, 'author-davinci': {'accuracy': 0.6355833333333333, 'precision': 1.0, 'recall': 0.6355833333333333, 'f1_score': 0.7771946807968615}, 'author-bloomz': {'accuracy': 0.28275, 'precision': 1.0, 'recall': 0.28275, 'f1_score': 0.4408497368933931}, 'author-chatGPT': {'accuracy': 0.8475311387900356, 'precision': 1.0, 'recall': 0.8475311387900356, 'f1_score': 0.9174742671401914}, 'author-chatgpt': {'accuracy': 0.8951612903225806, 'precision': 1.0, 'recall': 0.8951612903225806, 'f1_score': 0.9446808510638298}}\n",
      "{'self': {'accuracy': 0.9527064732142857, 'precision': 0.9240572171651495, 'recall': 0.9869444444444444, 'f1_score': 0.9544660846205507}, 'author-human': {'accuracy': 0.942346256684492, 'precision': 0.0, 'recall': 0.0, 'f1_score': 0.0}, 'author-cohere': {'accuracy': 0.7296963276836158, 'precision': 1.0, 'recall': 0.7296963276836158, 'f1_score': 0.8437276717362457}, 'author-bloomz': {'accuracy': 0.5709166666666666, 'precision': 1.0, 'recall': 0.5709166666666666, 'f1_score': 0.7268579916184817}, 'author-chatGPT': {'accuracy': 0.9895462633451957, 'precision': 1.0, 'recall': 0.9895462633451957, 'f1_score': 0.9947456679709334}, 'author-chatgpt': {'accuracy': 0.9969758064516129, 'precision': 1.0, 'recall': 0.9969758064516129, 'f1_score': 0.9984856133266027}}\n"
     ]
    }
   ],
   "source": [
    "dir_path, _, file_names = next(walk(f\"../../data/fine_tuned/output/m4-{TASK}/\"))\n",
    "\n",
    "for file_name in file_names:\n",
    "    download_metrics_from_output(f\"{dir_path}{file_name}\")"
   ]
  }
 ],
 "metadata": {
  "kernelspec": {
   "display_name": "llm-detect",
   "language": "python",
   "name": "python3"
  },
  "language_info": {
   "codemirror_mode": {
    "name": "ipython",
    "version": 3
   },
   "file_extension": ".py",
   "mimetype": "text/x-python",
   "name": "python",
   "nbconvert_exporter": "python",
   "pygments_lexer": "ipython3",
   "version": "3.11.8"
  }
 },
 "nbformat": 4,
 "nbformat_minor": 2
}
