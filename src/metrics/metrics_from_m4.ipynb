{
 "cells": [
  {
   "cell_type": "code",
   "execution_count": 17,
   "metadata": {},
   "outputs": [],
   "source": [
    "import json\n",
    "from sklearn.metrics import accuracy_score, precision_score, recall_score, f1_score\n",
    "from os import walk, path\n"
   ]
  },
  {
   "cell_type": "code",
   "execution_count": 20,
   "metadata": {},
   "outputs": [],
   "source": [
    "def download_metrics_from_output(file_path):\n",
    "    with open(file_path, 'r') as f:\n",
    "        data = json.load(f)\n",
    "    # Initialize an empty dictionary to store the results\n",
    "    metrics = {}\n",
    "\n",
    "    for domain, values in data.items():\n",
    "        y_true = values['y']\n",
    "        y_pred = values['y_hat']\n",
    "\n",
    "        accuracy = accuracy_score(y_true, y_pred)\n",
    "        precision = precision_score(y_true, y_pred, zero_division=0)\n",
    "        recall = recall_score(y_true, y_pred, zero_division=0)\n",
    "        f1 = f1_score(y_true, y_pred, zero_division=0)\n",
    "\n",
    "        metrics[domain] = {\n",
    "            'accuracy': accuracy,\n",
    "            'precision': precision,\n",
    "            'recall': recall,\n",
    "            'f1_score': f1\n",
    "        }\n",
    "\n",
    "    dest_path = f\"../../data/fine_tuned/results/vs_m4_from_m4/domain/{file_path.split('/')[-1]}\"\n",
    "    # Output the metrics dictionary\n",
    "    print(metrics)\n",
    "    with open(dest_path, 'w', encoding='utf-8') as f:\n",
    "        json.dump(metrics, f, ensure_ascii=False, indent=4)"
   ]
  },
  {
   "cell_type": "code",
   "execution_count": 21,
   "metadata": {},
   "outputs": [
    {
     "name": "stdout",
     "output_type": "stream",
     "text": [
      "{'self': {'accuracy': 0.9897321428571428, 'precision': 0.9891606448026682, 'recall': 0.9980370162647224, 'f1_score': 0.9935790061418203}, 'domain-wikihow': {'accuracy': 0.7473958333333334, 'precision': 0.8982210557013707, 'recall': 0.7715430861723447, 'f1_score': 0.8300768090553834}, 'domain-wikipedia': {'accuracy': 0.7424964689265536, 'precision': 0.7469000729394603, 'recall': 0.9830793231729269, 'f1_score': 0.848867934303922}, 'domain-arxiv': {'accuracy': 0.8125, 'precision': 0.8130790190735695, 'recall': 0.9946666666666667, 'f1_score': 0.8947526236881559}}\n",
      "{'self': {'accuracy': 0.9953125, 'precision': 0.9983268265476855, 'recall': 0.9958275382475661, 'f1_score': 0.9970756162094416}, 'domain-reddit': {'accuracy': 0.8068910256410257, 'precision': 0.8059661381349099, 'recall': 0.9996666666666667, 'f1_score': 0.8924267222139562}, 'domain-wikipedia': {'accuracy': 0.7410840395480226, 'precision': 0.7400426742532006, 'recall': 0.998919956798272, 'f1_score': 0.8502119401460599}, 'domain-arxiv': {'accuracy': 0.8011485042735043, 'precision': 0.8013360053440214, 'recall': 0.9996666666666667, 'f1_score': 0.889581015943641}}\n"
     ]
    }
   ],
   "source": [
    "dir_path, _, file_names = next(walk('../../data/fine_tuned/output/m4-domain'))\n",
    "\n",
    "for file_name in file_names:\n",
    "    download_metrics_from_output(f\"{dir_path}{file_name}\")"
   ]
  }
 ],
 "metadata": {
  "kernelspec": {
   "display_name": "llm-detect",
   "language": "python",
   "name": "python3"
  },
  "language_info": {
   "codemirror_mode": {
    "name": "ipython",
    "version": 3
   },
   "file_extension": ".py",
   "mimetype": "text/x-python",
   "name": "python",
   "nbconvert_exporter": "python",
   "pygments_lexer": "ipython3",
   "version": "3.11.8"
  }
 },
 "nbformat": 4,
 "nbformat_minor": 2
}
